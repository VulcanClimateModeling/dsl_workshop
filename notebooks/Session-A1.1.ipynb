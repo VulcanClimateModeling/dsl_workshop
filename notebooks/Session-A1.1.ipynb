{
 "cells": [
  {
   "cell_type": "markdown",
   "metadata": {},
   "source": [
    "# Workshop on Domain-Specific Lanugages for Performance-Portable Weather and Climate Models\n",
    "\n",
    "## Session A1.1: Basic Concepts I\n",
    "\n",
    "This notebook will guide you through a step-by-step tutorial of a set of basic GT4Py concepts. Since this notebook is running on a Orion compute node (Intel Skylake, 2.4 GHz, 20 cores, 2 sockets per node) we will focus on Python and CPU backends."
   ]
  },
  {
   "cell_type": "code",
   "execution_count": 1,
   "metadata": {},
   "outputs": [],
   "source": [
    "# standard packages\n",
    "import numpy as np\n",
    "import matplotlib\n",
    "import matplotlib.pyplot as plt\n",
    "matplotlib.rcParams[\"font.size\"] = 12\n",
    "\n",
    "# import GT4Py\n",
    "import gt4py\n",
    "from gt4py import gtscript\n",
    "from gt4py.gtscript import Field, PARALLEL, computation, interval\n",
    "\n",
    "# some useful tools used in this notebook (mostly plotting)\n",
    "from tools import plot_two_ij_slices, print_generated_code"
   ]
  },
  {
   "cell_type": "markdown",
   "metadata": {},
   "source": [
    "### Setup\n",
    "\n",
    "Change these parameters later on a re-run this notebook in order try out different backends and/or domain sizes. For the time being, we will use the numpy backend, a small domain in ij-direction and a single vertical level in order to ease visualization of results."
   ]
  },
  {
   "cell_type": "code",
   "execution_count": 2,
   "metadata": {},
   "outputs": [],
   "source": [
    "nhalo = 3\n",
    "nx, ny, nz = 8, 8, 1\n",
    "backend = \"numpy\""
   ]
  },
  {
   "cell_type": "markdown",
   "metadata": {},
   "source": [
    "### A simple shift-by-one stencil\n",
    "\n",
    "One of the most basic stencil operations is a shift-by-one stencil where an input field is simply copied to an output field.\n",
    "\n",
    "\\begin{equation}\n",
    "a_{i,j,k} = b_{i-1,j,k} \\quad \\forall \\quad i,j,k\n",
    "\\end{equation}\n",
    "\n",
    "GT4Py exposes the domain-specific language (DSL) GTScript to express stencil computations as regular Python functions (see below)."
   ]
  },
  {
   "cell_type": "code",
   "execution_count": 3,
   "metadata": {},
   "outputs": [],
   "source": [
    "@gtscript.stencil(backend=backend)\n",
    "def shift_by_one(in_field: Field[np.float64], out_field: Field[np.float64]):\n",
    "    with computation(PARALLEL), interval(...):\n",
    "        out_field = in_field[-1, 0, 0]"
   ]
  },
  {
   "cell_type": "markdown",
   "metadata": {},
   "source": [
    "Some things to note:\n",
    "* All input parameters must be type-annotated. GTScript offers the type descriptor `Field` for data fields. This descriptor is parametric in the data-type. All basic Python and NumPy data-types are supported.\n",
    "* The function adopts an object-oriented interface: its signature includes both read-only fields (`b`) and fields to be computed (`b`). Scalar arguments can also be passed as keyword arguments (see below).\n",
    "* Any computation must be enclosed in a **computation block**. Computation blocks are defined as one or multiple assignments (or **stages**) wrapped within a `with` statement. The `with` construct is used in combination with two context managers: `computation()` and `interval()`. These specify the vertical iteration order and vertical region of application and will be explained later.\n",
    "* Neighboring points are accessed through the corresponding **offsets**, i.e. the relative displacements with respect to the current point. Offsets are signed integers. The syntax is `[x_offset, y_offset, z_offset]`. So `[0, 0, 0]` indicates the current location `[i, j, k]`, `[1, 0, 0]` stands for the point `[i+1, j, k`], `[0, -2, 1]` for `[i, j-2, k+1]`, and so on.\n",
    "* Note that for loops are abstracted away and computations are defined for a single grid point. Each stage can be thought of as the body of an `ij`-loop. Then stages in the same computation block can be thought of as `ij`-loops enclosed in the same `k`-loop. Loop bounds will be specified when actually calling the stencil (running the function)."
   ]
  },
  {
   "cell_type": "markdown",
   "metadata": {},
   "source": [
    "### Storages\n",
    "\n",
    "Now that we have defined a stencil, we need some storages. GT4Py provides data storages to hold fields which sit on structured grids. Currently only three-dimensional storages are supported.\n",
    "\n",
    "The storages subclass `numpy.ndarray`. (Side-note for Python experts: This will change soon, since inheriting from a `numpy.ndarray` is considered not-so-good practice nowadays. Adhering to [NEP 18](https://numpy.org/neps/nep-0018-array-function-protocol.html), storages will be coded as duck-arrays which implement the `__array_function__` protocol). So storages feature the same high-level API of NumPy arrays and should work in principle with any NumPy function which performs element-wise operations (e.g. `numpy.sin`, `numpy.exp`, etc). \n",
    "\n",
    "The user interface hides as much as possible all low-level and backend-specific details, like the memory layout, strides, padding, etc.. All these aspects are handled internally by GT4Py in a trasparent fashion. Particularly, when using the `gtcuda` backend to run stencil computations on a GPU, GT4Py allocates and handles two buffers: one in CPU memory and one in GPU memory. The two buffers are exposed to the user as they were a single memory address. The synchronization between them is carried out in a *lazy* fashion, thus avoiding useless memory transfers. If the user needs to operate on the storage from the CPU side, then data are automatically copied from the GPU to the CPU **if and only if** the GPU buffer is *dirty*, i.e. if the GPU buffer has changed more recently than its CPU counterpart. Viceversa, when the storage is requested from the GPU side then data are transfered from the CPU to the GPU whenever the CPU buffer is dirty. This ensures that stencil computations are performed on the correct data. \n",
    "\n",
    "The module `gt4py.storage` exposes useful utilities to either allocate a GT4Py storage, or convert a `numpy.ndarray` into a GT4Py storage. When creating a storage, care should be taken to the so-called `default_origin`. This represents the element which is aligned in memory.\n",
    "\n",
    "In the following code, we create two GT4Py storages and initialize both with zeros. A single point close to the middle of the ij-plane in the input array is set to one."
   ]
  },
  {
   "cell_type": "code",
   "execution_count": 4,
   "metadata": {},
   "outputs": [
    {
     "data": {
      "image/png": "[encoded data removed]",
      "text/plain": [
       "<Figure size 864x288 with 4 Axes>"
      ]
     },
     "metadata": {
      "needs_background": "light"
     },
     "output_type": "display_data"
    }
   ],
   "source": [
    "# define input and output storage (we use a halo of nhalo points in ij-direction)\n",
    "shape = (nx + 2*nhalo, ny + 2*nhalo, nz)\n",
    "origin = (nhalo, nhalo, 0)\n",
    "\n",
    "in_field = gt4py.storage.zeros(backend, origin, shape, dtype=np.float64)\n",
    "out_field = in_field.copy()\n",
    "\n",
    "in_field[nx//2 + nhalo, ny//2 + nhalo, 0] = 1.\n",
    "\n",
    "# visualize storages\n",
    "plot_two_ij_slices(in_field, out_field)"
   ]
  },
  {
   "cell_type": "markdown",
   "metadata": {},
   "source": [
    "### Running computations\n",
    "\n",
    "Executing stencil computations is as simple as a function call:"
   ]
  },
  {
   "cell_type": "code",
   "execution_count": 5,
   "metadata": {},
   "outputs": [
    {
     "data": {
      "image/png": "[encoded data removed]",
      "text/plain": [
       "<Figure size 864x288 with 4 Axes>"
      ]
     },
     "metadata": {
      "needs_background": "light"
     },
     "output_type": "display_data"
    }
   ],
   "source": [
    "# run stencil\n",
    "origin = (nhalo, nhalo, 0)\n",
    "domain = (nx, ny, nz)\n",
    "shift_by_one(in_field=in_field, out_field=out_field, origin=origin, domain=domain)\n",
    "\n",
    "# visualize results\n",
    "plot_two_ij_slices(in_field, out_field)"
   ]
  },
  {
   "cell_type": "markdown",
   "metadata": {},
   "source": [
    "The stencil object retains the same signature of its definition function and adds two additional parameters: `origin` and `domain`. The former specifies the first element of the output field `out_field` for which a new value should be computed. In other terms, it represents the origin of the region of application (or **compute domain**) of the stencil. The extent of the region of application is determined by `domain`.\n",
    "\n",
    "The binding between the symbols used within the definition function and the storage buffers happens at invocation time. This implies that the stencil object is not bound to any given grid size. Therefore the same stencil computation can be run on different grids and/or computation domains without any re-compilation."
   ]
  },
  {
   "cell_type": "markdown",
   "metadata": {},
   "source": [
    "<div class=\"alert alert-block alert-info\">\n",
    "    <b> Now it's your turn: </b><br>\n",
    "    (Hint: Make sure that when you modify code you retain the original code by commenting it out so that you undo any of the modifications you do.)\n",
    "    <ol>\n",
    "        <li style=\"margin-bottom: 10px\"> A domain-specific lanugage restricts what a user can do and only a restricted set of operations is legal inside a stencil function. Try inserting <code>a = np.sqrt(b[-1, 0, 0])</code> and recompiling the stencil and see what happens.</li>\n",
    "        <li style=\"margin-bottom: 10px\"> Change the stencil to shift in negative i-direction as well as in positive or negative j-direction and check the results. Try accessing an offet in k-direction and check the error message when running the stencil.</li>\n",
    "        <li style=\"margin-bottom: 10px\"> Initialize the input field with random numbers instead and check that only the compute domain of the output field is computed. </li>\n",
    "        <li style=\"margin-bottom: 10px\"> The compute domain is defined by the <code>origin</code> and <code>domain</code> arguments to a stencil. Extend the compute domain to the full domain (including the halo-points) and rerun the stencil. This leads to an error message. Do you understand why? Try extending the compute domain to the maximum possible. </li>\n",
    "    </ol>\n",
    "</div>"
   ]
  },
  {
   "cell_type": "code",
   "execution_count": 6,
   "metadata": {},
   "outputs": [
    {
     "data": {
      "image/png": "[encoded data removed]",
      "text/plain": [
       "<Figure size 864x288 with 4 Axes>"
      ]
     },
     "metadata": {
      "needs_background": "light"
     },
     "output_type": "display_data"
    },
    {
     "data": {
      "image/png": "[encoded data removed]",
      "text/plain": [
       "<Figure size 864x288 with 4 Axes>"
      ]
     },
     "metadata": {
      "needs_background": "light"
     },
     "output_type": "display_data"
    }
   ],
   "source": [
    "# REMOVE - solution to 3.\n",
    "in_field = gt4py.storage.from_array(\n",
    "    np.random.randn(shape[0], shape[1], nz), backend, origin, shape, dtype=np.float64\n",
    ")\n",
    "shift_by_one(in_field=in_field, out_field=out_field, origin=origin, domain=domain)\n",
    "plot_two_ij_slices(in_field, out_field)\n",
    "\n",
    "# REMOVE - solution to 4.\n",
    "origin = (1, 0, 0)\n",
    "domain = (nx + 2*nhalo - 1, ny + 2*nhalo, nz)\n",
    "shift_by_one(in_field=in_field, out_field=out_field, origin=origin, domain=domain)\n",
    "plot_two_ij_slices(in_field, out_field)"
   ]
  },
  {
   "cell_type": "markdown",
   "metadata": {},
   "source": [
    "### Horizontal Laplacian\n",
    "\n",
    "The horizontal Laplacian is probably on of the simplest \"realistic\" stencils. For example, the `del2_cubed()` subroutine in FV3 (see [here](http://academy.jcsda.org/doxygen-example/dyn__core__adm_8_f90_source.html#l08669)) implements a horizontal Laplacian on the cubed sphere for numerical filtering. For the sake of simplicity, we will assume a regular, Cartesian grid with constant grid spacing $\\Delta x = \\Delta y = 1$ and use simple 2nd-order finite differences.\n",
    "\n",
    "\\begin{eqnarray}\n",
    "\\Delta u && = && \\frac{\\partial^2 u}{\\partial x^2} + \\frac{\\partial^2 u}{\\partial y^2} \\\\[2ex]\n",
    "\\Delta u_{i,j} && \\approx && \\frac{u_{i-1,j} - 2\\,u_{i,j} + u_{i+1,j}}{\\Delta x^2} + \\frac{u_{i,j-1} - 2\\,u_{i,j} + u_{i,j+1}}{\\Delta y^2} \\\\[2ex]\n",
    "&& = && -4\\,u_{i,j} + u_{i-1,j} + u_{i+1,j} + u_{i,j-1} + u_{i,j+1} \\\\[2ex]\n",
    "\\end{eqnarray}\n",
    "\n",
    "This example will be used and expanded upon throughout the workshop to introduce additional DSL concepts. We start by implementing the defintion function. This time we will not use the `@gtscript.stencil` decorator to directly compile the stencil but rather compile it explicitly afterwards."
   ]
  },
  {
   "cell_type": "code",
   "execution_count": 7,
   "metadata": {},
   "outputs": [],
   "source": [
    "def laplacian_def(in_field: Field[np.float64], out_field: Field[np.float64]):\n",
    "    pass # TODO - implement Laplacian stencil using DSL language\n",
    "\n",
    "# REMOVE - solution to 1.\n",
    "def laplacian_def(in_field: Field[np.float64], out_field: Field[np.float64]):\n",
    "    with computation(PARALLEL), interval(...):\n",
    "        out_field = (-4. * in_field +\n",
    "            in_field[1, 0, 0] + in_field[-1, 0, 0] + \n",
    "            in_field[0, 1, 0] + in_field[0, -1, 0])\n",
    "        \n",
    "# REMOVE - solution to 2.\n",
    "def laplacian_def(in_field: Field[np.float64], out_field: Field[np.float64], coeff: np.float64):\n",
    "    with computation(PARALLEL), interval(...):\n",
    "        out_field = coeff * (-4. * in_field +\n",
    "            in_field[1, 0, 0] + in_field[-1, 0, 0] + \n",
    "            in_field[0, 1, 0] + in_field[0, -1, 0])"
   ]
  },
  {
   "cell_type": "markdown",
   "metadata": {},
   "source": [
    "### Compiling a stencil\n",
    "\n",
    "GT4Py can generate high-performance implementations of a stencil starting from its definition function. The GT4Py pipeline relies on so-called **backends** to produce native implementations for different platforms. The `\"debug\"` and `\"numpy\"` backends are suitable for early testing and prototyping purposes.\n",
    "\n",
    "We use the expression **stencil compilation** to indicate the joint procedure which generates (and possibly compiles) the stencil code on-the-fly, creates Python bindings for it and import these bindings in the current scope. In the shift-by-one example above, compilation was done implicitly through the decorator. Here, the stencil compilation is accomplished by the function `gtscript.stencil()`\n",
    "\n",
    "Currently available backend options are:\n",
    "* `\"debug\"`: produces Python code which explicitly iterates over all grid points\n",
    "* `\"numpy\"`: produces Python code which adopts the array programming (i.e. vectorized) syntax using NumPy\n",
    "* `\"gtx86\"`: produces C++ GridTools-based code devised for a generic multi-core x86 CPUs\n",
    "* `\"gtmc\"`: produces C++ GridTools-based code devised specifically for many-core CPUs such as Xeon Phi\n",
    "* `\"gtcuda\"`: produces C++ GridTools-based code devised for NVIDIA GPUs\n",
    "\n",
    "`gtscript.stencil()` returns a callable object (henceforth referred to as **stencil object**) which exposes a high-level entry-point to the generated code.\n",
    "\n",
    "The generated code, binaries and bindings are cached for future usages. If you prefer not to rely on this caching mechanism, you should pass the keyword argument `rebuild=True` to `gtscript.stencil()`."
   ]
  },
  {
   "cell_type": "code",
   "execution_count": 8,
   "metadata": {},
   "outputs": [
    {
     "name": "stdout",
     "output_type": "stream",
     "text": [
      "\u001b[37m#include \"computation.hpp\"\u001b[39;49;00m\n",
      "\n",
      "\u001b[37m#include <gridtools/stencil_composition/stencil_composition.hpp>\u001b[39;49;00m\n",
      "\n",
      "\u001b[37m#include <array>\u001b[39;49;00m\n",
      "\u001b[37m#include <cassert>\u001b[39;49;00m\n",
      "\u001b[37m#include <stdexcept>\u001b[39;49;00m\n",
      "\u001b[37m#include <cmath>\u001b[39;49;00m\n",
      "\n",
      "namespace laplacian_def____gtx86_8f233e99b6_pyext {\n",
      "\n",
      "namespace {\n",
      "\n",
      "// Backend\n",
      "using backend_t = gt::backend::x86;\n",
      "\n",
      "// Axis\n",
      "\u001b[34mstatic\u001b[39;49;00m constexpr gt::uint_t level_offset_limit = \u001b[34m2\u001b[39;49;00m;\n",
      "\n",
      "using axis_t =\n",
      "    gt::axis<\u001b[34m1\u001b[39;49;00m, /* NIntervals */\n",
      "             gt::axis_config::offset_limit<level_offset_limit>>;\n",
      "\n",
      "// These halo sizes are used to determine the sizes of the temporaries\n",
      "\u001b[34mstatic\u001b[39;49;00m constexpr gt::uint_t halo_size_i = \u001b[34m1\u001b[39;49;00m;\n",
      "\u001b[34mstatic\u001b[39;49;00m constexpr gt::uint_t halo_size_j = \u001b[34m1\u001b[39;49;00m;\n",
      "\u001b[34mstatic\u001b[39;49;00m constexpr gt::uint_t halo_size_k = \u001b[34m0\u001b[39;49;00m;\n",
      "\n",
      "// Storage definitions\n",
      "template <\u001b[36mint\u001b[39;49;00m Id>\n",
      "using storage_info_t =\n",
      "    gt::storage_traits<backend_t>::storage_info_t<\n",
      "        Id, \u001b[34m3\u001b[39;49;00m,\n",
      "        gt::halo<\u001b[34m0\u001b[39;49;00m, \u001b[34m0\u001b[39;49;00m, \u001b[34m0\u001b[39;49;00m /* \u001b[35mnot\u001b[39;49;00m used */>>;\n",
      "template<typename T, \u001b[36mint\u001b[39;49;00m Id>\n",
      "using data_store_t =\n",
      "    gt::storage_traits<backend_t>::data_store_t<T, storage_info_t<Id>>;\n",
      "\n",
      "// Placeholder definitions\n",
      "\n",
      "using p_in_field = gt::arg<\u001b[34m0\u001b[39;49;00m, data_store_t<float64_t, \u001b[34m0\u001b[39;49;00m>>;\n",
      "using p_out_field = gt::arg<\u001b[34m1\u001b[39;49;00m, data_store_t<float64_t, \u001b[34m1\u001b[39;49;00m>>;\n",
      "\n",
      "\n",
      "using p_coeff = gt::arg<\u001b[34m2\u001b[39;49;00m, gt::global_parameter<backend_t, float64_t>>;\n",
      "\n",
      "\n",
      "\n",
      "// Constants\n",
      "\n",
      "\n",
      "// Functors\n",
      "\n",
      "struct stage__6_func {\n",
      "    using coeff = gt::in_accessor<\u001b[34m0\u001b[39;49;00m>;\n",
      "    using in_field = gt::in_accessor<\u001b[34m1\u001b[39;49;00m, gt::extent<-\u001b[34m1\u001b[39;49;00m, \u001b[34m1\u001b[39;49;00m, -\u001b[34m1\u001b[39;49;00m, \u001b[34m1\u001b[39;49;00m, \u001b[34m0\u001b[39;49;00m, \u001b[34m0\u001b[39;49;00m>>;\n",
      "    using out_field = gt::inout_accessor<\u001b[34m2\u001b[39;49;00m, gt::extent<\u001b[34m0\u001b[39;49;00m, \u001b[34m0\u001b[39;49;00m, \u001b[34m0\u001b[39;49;00m, \u001b[34m0\u001b[39;49;00m, \u001b[34m0\u001b[39;49;00m, \u001b[34m0\u001b[39;49;00m>>;\n",
      "\n",
      "    using param_list = gt::make_param_list<coeff, in_field, out_field >;\n",
      "\n",
      "    \n",
      "    template <typename Evaluation>\n",
      "    GT_FUNCTION \u001b[34mstatic\u001b[39;49;00m void apply(Evaluation eval,\n",
      "                                  gt::interval<gt::level<\u001b[34m0\u001b[39;49;00m, \u001b[34m1\u001b[39;49;00m, level_offset_limit>,\n",
      "                                               gt::level<\u001b[34m1\u001b[39;49;00m, -\u001b[34m1\u001b[39;49;00m, level_offset_limit>>)\n",
      "    {\n",
      "        eval(out_field()) = eval(coeff()) * (((((float64_t{-\u001b[34m4.0\u001b[39;49;00m} * eval(in_field())) + eval(in_field(\u001b[34m1\u001b[39;49;00m, \u001b[34m0\u001b[39;49;00m, \u001b[34m0\u001b[39;49;00m))) + eval(in_field(-\u001b[34m1\u001b[39;49;00m, \u001b[34m0\u001b[39;49;00m, \u001b[34m0\u001b[39;49;00m))) + eval(in_field(\u001b[34m0\u001b[39;49;00m, \u001b[34m1\u001b[39;49;00m, \u001b[34m0\u001b[39;49;00m))) + eval(in_field(\u001b[34m0\u001b[39;49;00m, -\u001b[34m1\u001b[39;49;00m, \u001b[34m0\u001b[39;49;00m)));\n",
      "    }\n",
      "};\n",
      "\n",
      "\n",
      "// Grids \u001b[35mand\u001b[39;49;00m halos\n",
      "gt::halo_descriptor make_halo_descriptor(gt::uint_t compute_domain_shape) {\n",
      "    \u001b[34mreturn\u001b[39;49;00m {\u001b[34m0\u001b[39;49;00m, \u001b[34m0\u001b[39;49;00m, \u001b[34m0\u001b[39;49;00m, compute_domain_shape - \u001b[34m1\u001b[39;49;00m,\n",
      "            compute_domain_shape};\n",
      "}\n",
      "\n",
      "auto make_grid(\u001b[34mconst\u001b[39;49;00m std::array<gt::uint_t, \u001b[34m3\u001b[39;49;00m>& compute_domain_shape) {\n",
      "    \u001b[34mreturn\u001b[39;49;00m gt::make_grid(make_halo_descriptor(compute_domain_shape[\u001b[34m0\u001b[39;49;00m]),\n",
      "                         make_halo_descriptor(compute_domain_shape[\u001b[34m1\u001b[39;49;00m]),\n",
      "                         axis_t(compute_domain_shape[\u001b[34m2\u001b[39;49;00m]));\n",
      "}\n",
      "template<typename T, \u001b[36mint\u001b[39;49;00m Id>\n",
      "data_store_t<T, Id> make_data_store(\u001b[34mconst\u001b[39;49;00m BufferInfo& bi,\n",
      "                                    \u001b[34mconst\u001b[39;49;00m std::array<gt::uint_t, \u001b[34m3\u001b[39;49;00m>& compute_domain_shape,\n",
      "                                    \u001b[34mconst\u001b[39;49;00m std::array<gt::uint_t, \u001b[34m3\u001b[39;49;00m>& origin) {\n",
      "    \u001b[34mif\u001b[39;49;00m (bi.ndim != \u001b[34m3\u001b[39;49;00m) {\n",
      "        throw std::runtime_error(\u001b[33m\"\u001b[39;49;00m\u001b[33mWrong number of dimensions [\u001b[39;49;00m\u001b[33m\"\u001b[39;49;00m +\n",
      "                                 std::to_string(bi.ndim) +\n",
      "                                 \u001b[33m\"\u001b[39;49;00m\u001b[33m != \u001b[39;49;00m\u001b[33m\"\u001b[39;49;00m + std::to_string(\u001b[34m3\u001b[39;49;00m) + \u001b[33m\"\u001b[39;49;00m\u001b[33m]\u001b[39;49;00m\u001b[33m\"\u001b[39;49;00m);\n",
      "    }\n",
      "\n",
      "    // ptr, dims \u001b[35mand\u001b[39;49;00m strides are \u001b[33m\"\u001b[39;49;00m\u001b[33mouter domain\u001b[39;49;00m\u001b[33m\"\u001b[39;49;00m (i.e., compute domain + halo\n",
      "    // region). The halo region \u001b[34mis\u001b[39;49;00m only defined through \u001b[04m\u001b[91m`\u001b[39;49;00mmake_grid\u001b[04m\u001b[91m`\u001b[39;49;00m (\u001b[35mand\u001b[39;49;00m\n",
      "    // currently, \u001b[35min\u001b[39;49;00m the storage info)\n",
      "    gt::array<gt::uint_t, \u001b[34m3\u001b[39;49;00m> dims{};\n",
      "    gt::array<gt::uint_t, \u001b[34m3\u001b[39;49;00m> strides{};\n",
      "    T* ptr = static_cast<T*>(bi.ptr);\n",
      "    \u001b[34mfor\u001b[39;49;00m (\u001b[36mint\u001b[39;49;00m i = \u001b[34m0\u001b[39;49;00m; i < \u001b[34m3\u001b[39;49;00m; ++i) {\n",
      "        strides[i] = bi.strides[i] / sizeof(T);\n",
      "        ptr += strides[i] * origin[i];\n",
      "        dims[i] = compute_domain_shape[i]+\u001b[34m2\u001b[39;49;00m*origin[i];\n",
      "    }\n",
      "    \u001b[34mreturn\u001b[39;49;00m data_store_t<T, Id>{storage_info_t<Id>{dims, strides}, ptr,\n",
      "                           gt::ownership::external_cpu};\n",
      "}\n",
      "\n",
      "}  // namespace\n",
      "\n",
      "\n",
      "// Run actual computation\n",
      "void run(\u001b[34mconst\u001b[39;49;00m std::array<gt::uint_t, \u001b[34m3\u001b[39;49;00m>& domain,\n",
      "         \u001b[34mconst\u001b[39;49;00m BufferInfo& bi_in_field, \u001b[34mconst\u001b[39;49;00m std::array<gt::uint_t, \u001b[34m3\u001b[39;49;00m>& in_field_origin, \n",
      "         \u001b[34mconst\u001b[39;49;00m BufferInfo& bi_out_field, \u001b[34mconst\u001b[39;49;00m std::array<gt::uint_t, \u001b[34m3\u001b[39;49;00m>& out_field_origin, \n",
      "         float64_t coeff)\n",
      "{\n",
      "    // Initialize data stores from input buffers\n",
      "    auto ds_in_field = make_data_store<float64_t, \u001b[34m0\u001b[39;49;00m>(bi_in_field, domain, in_field_origin);\n",
      "    auto ds_out_field = make_data_store<float64_t, \u001b[34m1\u001b[39;49;00m>(bi_out_field, domain, out_field_origin);\n",
      "\n",
      "    // Run computation \u001b[35mand\u001b[39;49;00m wait \u001b[34mfor\u001b[39;49;00m the synchronization of the output stores\n",
      "    auto gt_computation = gt::make_computation<backend_t>(\n",
      "        make_grid(domain),\n",
      "        p_coeff() = gt::make_global_parameter<float64_t>(coeff),\n",
      "\n",
      "        gt::make_multistage(gt::execute::parallel(),\n",
      "            gt::make_stage_with_extent<stage__6_func, gt::extent<\u001b[34m0\u001b[39;49;00m, \u001b[34m0\u001b[39;49;00m, \u001b[34m0\u001b[39;49;00m, \u001b[34m0\u001b[39;49;00m>>(\n",
      "                p_coeff(), p_in_field(), p_out_field()\n",
      "            )\n",
      "        )\n",
      "    );\n",
      "\n",
      "    gt_computation.run(p_in_field()=ds_in_field, p_out_field()=ds_out_field);\n",
      "        // computation_.sync_bound_data_stores();\n",
      "}\n",
      "\n",
      "}  // namespace laplacian_def____gtx86_8f233e99b6_pyext\n",
      "\n"
     ]
    }
   ],
   "source": [
    "backend = \"numpy\"\n",
    "laplacian = None # TODO - compile stencil\n",
    "\n",
    "# REMOVE - solution to 1.\n",
    "backend = \"gtx86\"\n",
    "laplacian = gtscript.stencil(backend, laplacian_def)\n",
    "\n",
    "print_generated_code(laplacian)"
   ]
  },
  {
   "cell_type": "code",
   "execution_count": 9,
   "metadata": {},
   "outputs": [
    {
     "data": {
      "image/png": "[encoded data removed]",
      "text/plain": [
       "<Figure size 864x288 with 4 Axes>"
      ]
     },
     "metadata": {
      "needs_background": "light"
     },
     "output_type": "display_data"
    }
   ],
   "source": [
    "# define input and output storage (we use a halo of nhalo points in ij-direction)\n",
    "shape = (nx + 2*nhalo, ny + 2*nhalo, nz)\n",
    "origin = (nhalo, nhalo, 0)\n",
    "in_field = gt4py.storage.zeros(backend, origin, shape, dtype=np.float64)\n",
    "out_field = in_field.copy()\n",
    "in_field[nx//2 + nhalo, ny//2 + nhalo, 0] = 1.\n",
    "\n",
    "# apply stencil\n",
    "origin = (nhalo, nhalo, 0)\n",
    "domain = (nx, ny, nz)\n",
    "# TODO - remove coeff below!\n",
    "laplacian(in_field=in_field, out_field=out_field, coeff=0.125, origin=origin, domain=domain)\n",
    "\n",
    "# visualize results\n",
    "plot_two_ij_slices(in_field, out_field)"
   ]
  },
  {
   "cell_type": "markdown",
   "metadata": {},
   "source": [
    "<div class=\"alert alert-block alert-info\">\n",
    "    <b> Now it's your turn: </b><br>\n",
    "    <ol>\n",
    "        <li stype=\"margin-bottom: 10px\"> If you have not already done so, implement the Laplacian stencil definition function above. Insert the required command to compile and run the stencil. Check the result.</li>\n",
    "        <li style=\"margin-bottom: 10px\"> Stencil functions also accept scalar arguments. These have to be keyword arguments. Add a coefficient <code>coeff: np.float64</code> to the end argument list. Separated from the Field arguments using a asterisk <code>... , *, coeff: np.float64</code>. Multiply the result of the discretized Laplacian with the coefficient in the stencil definition function. Try calling the stencil with different values (e.g. <code>coeff=0.</code> or <code>coeff=1.</code> to validate your implementation.</li>\n",
    "        <li style=\"margin-bottom: 10px\"> Recompile the stencil with the <code>\"debug\"</code> and <code>\"gtx86\"</code> backends and check that the result is still the same. Try adding the <code>verbose=True</code> keyword argument to `gtscript.stencil()` command when compiling for the <code>\"gtx86\"</code> backend to see what's going on. The generated code and object files are stored in the <code>.gt_cache</code> directory and can be inspected. For convenience, you can use the helper function <code>print_generated_code(<stencil_object>)</code> to display the generated code.</li>\n",
    "    </ol>\n",
    "</div>"
   ]
  },
  {
   "cell_type": "markdown",
   "metadata": {},
   "source": [
    "### Performance\n",
    "\n",
    "The main goal of using a domain-specific language instead of \"just\" Python is to find a better balance between performance, portability and productivity. Several other Python frameworks exists which translate Python fucntions to optimized machine code at runtime, for example [Cython](https://cython.org), [Numba](https://numba.pydata.org), or [Devito](https://www.devitoproject.org). All of these frameworks make provide a different subset of domain-specific or Python features and make a unique compromise between generality, optimization and speed.\n",
    "\n",
    "In order to make a basic performance comparison, we need to consider a more realistic domain size. We choose a domain size of 192 x 192 horizontal gridpoints and 79 vertical levels. On the dual-socket Skylake nodes of Orion this would correspond to approximately 32 x 32 horizontal gridpoints per core, which seems like a realistic setup for fine-resolution simulations.\n",
    "\n",
    "The `\"gtx86\"` backend uses two-dimensional blocking in the ij-direction using OpenMP threads. "
   ]
  },
  {
   "cell_type": "code",
   "execution_count": 10,
   "metadata": {},
   "outputs": [],
   "source": [
    "ni, nj, nk = 192, 192, 79"
   ]
  },
  {
   "cell_type": "markdown",
   "metadata": {},
   "source": [
    "<div class=\"alert alert-block alert-info\">\n",
    "    <b> Now it's your turn: </b><br>\n",
    "    <ol>\n",
    "        <li stype=\"margin-bottom: 10px\"> Loop over the <code>\"numpy\"</code>, <code>\"gtx86\"</code>, and <code>\"gtmc\"</code> backends. Create two storages with the above sizes (add <code>nhalo</code> halo lines on each side) for the correct backend. Fill the input storage with random values, the output storage with zeros. Compile the Laplacian from above with the correct backend. Use <code>%timeit</code> to time the execution of the Laplacian stencil.</li>\n",
    "        <li stype=\"margin-bottom: 10px\"> When running stencils, they provide some basic runtime information with the <code>exec_info</code> keyword argument. Initialize an empty dictionary <code>exec_info={}</code> and pass it as a keyword argument to the stencil. Inspect the contents <code>exec_info</code> after the stencil call. Can you confirm the time measurements of <code>%timeit</code>? Estimate the overhead of Python for the <code>\"gtx86\"</code> backend.</li>\n",
    "    </ol>\n",
    "</div>"
   ]
  },
  {
   "cell_type": "code",
   "execution_count": 11,
   "metadata": {},
   "outputs": [
    {
     "name": "stdout",
     "output_type": "stream",
     "text": [
      "Running with numpy backend...\n",
      "22.9 ms ± 64.4 µs per loop (mean ± std. dev. of 7 runs, 10 loops each)\n",
      "  call_time = 22.911438019946218 ms\n",
      "  run_time = 22.597393952310085 ms\n",
      "  overhead = 0.31404406763613224 ms\n",
      "\n",
      "Running with gtx86 backend...\n",
      "3.75 ms ± 6.83 µs per loop (mean ± std. dev. of 7 runs, 100 loops each)\n",
      "  call_time = 3.7490620743483305 ms\n",
      "  run_time = 3.4170758444815874 ms\n",
      "  overhead = 0.3319862298667431 ms\n",
      "\n",
      "Running with gtmc backend...\n",
      "3.66 ms ± 6.5 µs per loop (mean ± std. dev. of 7 runs, 100 loops each)\n",
      "  call_time = 3.641730174422264 ms\n",
      "  run_time = 3.308003069832921 ms\n",
      "  overhead = 0.33372710458934307 ms\n",
      "\n"
     ]
    }
   ],
   "source": [
    "# REMOVE - solution 1. and 2.\n",
    "for backend in [\"numpy\", \"gtx86\", \"gtmc\"]:\n",
    "    print(f\"Running with {backend} backend...\")\n",
    "\n",
    "    in_field = gt4py.storage.from_array(\n",
    "        np.random.randn(ni + 2*nhalo, nj + 2*nhalo, nk), backend, (nhalo, nhalo, 0), (ni + 2*nhalo, nj + 2*nhalo, nk), dtype=np.float64\n",
    "    )\n",
    "    out_field = 0. * in_field.copy()\n",
    "\n",
    "    laplacian = gtscript.stencil(backend, laplacian_def)\n",
    "    \n",
    "    fields = {\"in_field\": in_field, \"out_field\": out_field}\n",
    "    scalars = {\"coeff\": 0.125}\n",
    "    exec_info = {}\n",
    "    \n",
    "    %timeit laplacian(**fields, **scalars, origin=(nhalo, nhalo, 0), domain=(ni, nj, nk), exec_info=exec_info)\n",
    "    \n",
    "    call_time = exec_info['call_end_time']-exec_info['call_start_time']\n",
    "    run_time = exec_info['run_end_time']-exec_info['run_start_time']\n",
    "    print(f\"  call_time = {call_time * 1000.} ms\")\n",
    "    print(f\"  run_time = {run_time * 1000.} ms\")\n",
    "    print(f\"  overhead = {(call_time - run_time)*1000.} ms\")\n",
    "    print(\"\")\n"
   ]
  },
  {
   "cell_type": "code",
   "execution_count": null,
   "metadata": {},
   "outputs": [],
   "source": []
  }
 ],
 "metadata": {
  "kernelspec": {
   "display_name": "workshop",
   "language": "python",
   "name": "venv"
  },
  "language_info": {
   "codemirror_mode": {
    "name": "ipython",
    "version": 3
   },
   "file_extension": ".py",
   "mimetype": "text/x-python",
   "name": "python",
   "nbconvert_exporter": "python",
   "pygments_lexer": "ipython3",
   "version": "3.7.5"
  }
 },
 "nbformat": 4,
 "nbformat_minor": 4
}
