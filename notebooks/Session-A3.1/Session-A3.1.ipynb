{
 "cells": [
  {
   "cell_type": "markdown",
   "metadata": {},
   "source": [
    "# SerialBox Tutorial\n",
    "\n",
    "This notebook will walk through a simple example to get you familiar with using the basic features of SerialBox to save data from Fortran and load them into a Python script.\n",
    "\n",
    "Below, the student will write their Fortran code below the \"%%writefile serialBox_tutorial.F90\" line.  This will let the student write out a Fortran file that he/she will be able to compile later."
   ]
  },
  {
   "cell_type": "code",
   "execution_count": 12,
   "metadata": {},
   "outputs": [
    {
     "name": "stdout",
     "output_type": "stream",
     "text": [
      "Overwriting serialBox_tutorial.F90\n"
     ]
    }
   ],
   "source": [
    "%%writefile serialBox_tutorial.F90\n",
    "\n",
    "program serialBox_tutorial\n",
    "\n",
    "    implicit none\n",
    "\n",
    "    integer          :: int0, ii, jj\n",
    "    real             :: real0\n",
    "    double precision :: dp0\n",
    "\n",
    "    integer,          dimension(:), allocatable   :: int_arr0\n",
    "    real,             dimension(:), allocatable   :: real_arr0\n",
    "    double precision, dimension(:,:), allocatable :: dp_arr0\n",
    "\n",
    "    !$ser init directory='./data' prefix='example' unique_id=.true.\n",
    "    !$ser mode write\n",
    "    !$ser on\n",
    "\n",
    "    int0  = 7\n",
    "    real0 = 7.7\n",
    "    dp0   = 7.777\n",
    "\n",
    "    allocate(int_arr0(7))\n",
    "    allocate(real_arr0(7))\n",
    "    allocate(dp_arr0(7,7))\n",
    "\n",
    "    do ii = 1, int0\n",
    "        int_arr0(ii) = ii\n",
    "        real_arr0(ii) = ii + 0.1\n",
    "        !write(*,*) 'int_arr0(', ii, ') = ', int_arr0(ii)\n",
    "        !write(*,*) 'real_arr0(', ii, ') = ', real_arr0(ii)\n",
    "    enddo\n",
    "\n",
    "    do jj = 1, int0\n",
    "        do ii = 1, int0\n",
    "            dp_arr0(ii,jj) = (jj-1) + ii + 0.1\n",
    "            !write(*,*) 'dp_arr0(', ii, ',', jj, ') = ', dp_arr0(ii,jj)\n",
    "        enddo\n",
    "    enddo\n",
    "\n",
    "    !$ser savepoint 'input_data'\n",
    "    !$ser data int0=int0 real0=real0 dp0=dp0 \n",
    "    !$ser data int_arr0=int_arr0 real_arr0=real_arr0 dp_arr0=dp_arr0\n",
    "\n",
    "    !$ser cleanup\n",
    "end program"
   ]
  },
  {
   "cell_type": "markdown",
   "metadata": {},
   "source": [
    "Once the student is able to write their Fortran file, they can run pp_ser.py Python script to write a Fortran file with the appropriate SerialBox calls in the Fortran code.  After that, their code is compiled using gfortran and executed."
   ]
  },
  {
   "cell_type": "code",
   "execution_count": 13,
   "metadata": {},
   "outputs": [
    {
     "name": "stdout",
     "output_type": "stream",
     "text": [
      "Processing file serialBox_tutorial.F90\n",
      " >>>>>>>>>>>>>>>>>><<<<<<<<<<<<<<<<<<\n",
      " >>> WARNING: SERIALIZATION IS ON <<<\n",
      " >>>>>>>>>>>>>>>>>><<<<<<<<<<<<<<<<<<\n"
     ]
    }
   ],
   "source": [
    "%%bash\n",
    "python3 ${SERIALBOX_ROOT}/python/pp_ser/pp_ser.py -s -v --output=s_serialBox_tutorial.F90 serialBox_tutorial.F90\n",
    "gfortran -O3 -cpp -DSERIALIZE \\\n",
    "    -o tutorial_run s_serialBox_tutorial.F90 \\\n",
    "    -I${SERIALBOX_ROOT}/include \\\n",
    "    ${SERIALBOX_ROOT}/lib/libSerialboxFortran.a \\\n",
    "    ${SERIALBOX_ROOT}/lib/libSerialboxC.a \\\n",
    "    ${SERIALBOX_ROOT}/lib/libSerialboxCore.a \\\n",
    "    -lpthread -lstdc++ -lstdc++fs\n",
    "rm -rf ./data\n",
    "./tutorial_run"
   ]
  },
  {
   "cell_type": "markdown",
   "metadata": {},
   "source": [
    "Once the student writes out their data, they can run the following python code to verify whether their data works or not."
   ]
  },
  {
   "cell_type": "code",
   "execution_count": 11,
   "metadata": {},
   "outputs": [
    {
     "name": "stdout",
     "output_type": "stream",
     "text": [
      "Finished running comparison tests!\n"
     ]
    }
   ],
   "source": [
    "#!/usr/bin/env python3\n",
    "\n",
    "import numpy as np\n",
    "import sys\n",
    "import os\n",
    "sys.path.append(os.environ.get('SERIALBOX_ROOT')+ '/python')\n",
    "import serialbox as ser\n",
    "\n",
    "serializer = ser.Serializer(ser.OpenModeKind.Read,'./data', 'example')\n",
    "\n",
    "sp = serializer.get_savepoint('input_data')\n",
    "#savepoints = serializer.savepoint_list()\n",
    "\n",
    "#for sp in savepoints:\n",
    "#print('Running savepoint ', sp[0])\n",
    "int0  = serializer.read('int0',  sp[0])\n",
    "real0 = serializer.read('real0', sp[0])\n",
    "dp0   = serializer.read('dp0',   sp[0])\n",
    "\n",
    "int_arr0  = serializer.read('int_arr0',  sp[0])\n",
    "real_arr0 = serializer.read('real_arr0', sp[0])\n",
    "dp_arr0   = serializer.read('dp_arr0',   sp[0])\n",
    "\n",
    "int0_ref = 7\n",
    "real0_ref = 7.7\n",
    "\n",
    "int_arr0_ref = np.zeros(7)\n",
    "real_arr0_ref = np.zeros(7, dtype='float32')\n",
    "dp_arr0_ref = np.zeros((7,7))\n",
    "\n",
    "for i in range(7):\n",
    "    int_arr0_ref[i] = i + 1\n",
    "    real_arr0_ref[i] = i + 1 + 0.1\n",
    "\n",
    "for j in range(7):\n",
    "    for i in range(7):\n",
    "        dp_arr0_ref[i,j] = j + i+1 + 0.1\n",
    "\n",
    "try:\n",
    "    assert np.allclose(int0_ref, int0), \"int0 does not match!\"\n",
    "    assert np.allclose(real0_ref, real0), \"real0 does not match!\"\n",
    "\n",
    "    assert np.allclose(int_arr0_ref, int_arr0), \"int_arr0 does not match!\"\n",
    "    assert np.allclose(real_arr0_ref, real_arr0), \"real_arr0 does not match!\"\n",
    "    assert np.allclose(dp_arr0_ref, dp_arr0), \"dp_arr0 does not match!\"\n",
    "except AssertionError as msg:\n",
    "    print(msg)\n",
    "    \n",
    "print(\"Finished running comparison tests!\")"
   ]
  },
  {
   "cell_type": "raw",
   "metadata": {},
   "source": []
  },
  {
   "cell_type": "markdown",
   "metadata": {},
   "source": [
    "### Testing python code with serialized inputs and outputs\n",
    "Now try an example with a little more complexity"
   ]
  }
 ],
 "metadata": {
  "kernelspec": {
   "display_name": "Python 3",
   "language": "python",
   "name": "python3"
  },
  "language_info": {
   "codemirror_mode": {
    "name": "ipython",
    "version": 3
   },
   "file_extension": ".py",
   "mimetype": "text/x-python",
   "name": "python",
   "nbconvert_exporter": "python",
   "pygments_lexer": "ipython3",
   "version": "3.7.5"
  }
 },
 "nbformat": 4,
 "nbformat_minor": 4
}
