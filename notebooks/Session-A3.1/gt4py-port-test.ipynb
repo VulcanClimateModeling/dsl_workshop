{
 "cells": [
  {
   "cell_type": "markdown",
   "metadata": {},
   "source": [
    "# Heat Equation Porting Exercise\n",
    "\n",
    "The following exercise will walk through the porting of a 3D heat equation code from Fortran to GT4Py.  The cell below contains a simple 3D heat equation code written in Fortran.  For this part of the exercise, the developer will do the following.\n",
    "\n",
    "* Initialize Serialbox in the Fortran code\n",
    "* Serialize the initial heat data `curr_Heat` and relevant variables to the Python/GT4Py port.\n",
    "* Serialize the output heat data to compare to the Python/GT4Py port\n",
    "\n",
    "After inserting the Serialbox calls, the developer can run the cell to create a source file called `heat.F90`."
   ]
  },
  {
   "cell_type": "code",
   "execution_count": 1,
   "metadata": {},
   "outputs": [
    {
     "name": "stdout",
     "output_type": "stream",
     "text": [
      "Writing heat.F90\n"
     ]
    }
   ],
   "source": [
    "%%writefile heat.F90\n",
    "\n",
    "program heat\n",
    "\n",
    "    implicit none\n",
    "\n",
    "    integer :: ii, jj, kk, N, t_steps, curr_step\n",
    "\n",
    "    real :: scale\n",
    "\n",
    "    real, dimension(:,:,:), allocatable :: curr_Heat, future_Heat\n",
    "\n",
    "    write(*,*) \"Enter the Number of discretization cells N: \"\n",
    "    read(*,*) N\n",
    "    write(*,*) \"Enter number of time steps : \"\n",
    "    read(*,*) t_steps\n",
    "\n",
    "    write(*,*) \"N = \", N\n",
    "    write(*,*) \"Time steps = \", t_steps\n",
    "\n",
    "    ! Note : Currently, the default domain is a cube, so the number of \n",
    "    !        discretization cells in x, y, and z are the same\n",
    "    allocate(curr_Heat(N,N,N), future_Heat(N,N,N))\n",
    "\n",
    "    !***Insert Serialbox calls here for initialization***\n",
    "\n",
    "    curr_Heat   = 0.0\n",
    "    future_Heat = 0.0\n",
    "\n",
    "    scale = 0.1\n",
    "\n",
    "    curr_Heat(2:N-1, 2:N-1, 2:N-1) = 1.0\n",
    "\n",
    "    !***Insert Serialbox calls to create a savepoint to save initial starting data***\n",
    "\n",
    "    do curr_step = 1,t_steps\n",
    "        do kk = 2,N-1\n",
    "            do jj = 2,N-1\n",
    "                do ii = 2,N-1\n",
    "                    future_Heat(ii,jj,kk) = curr_Heat(ii,jj,kk)              &\n",
    "                                        + scale * (curr_Heat(ii-1,jj,kk)   &\n",
    "                                                    -2.0*curr_Heat(ii,jj,kk) &\n",
    "                                                    +curr_Heat(ii+1,jj,kk))  &\n",
    "                                        + scale * (curr_Heat(ii,jj-1,kk)   &\n",
    "                                                    -2.0*curr_Heat(ii,jj,kk) &\n",
    "                                                    +curr_Heat(ii,jj+1,kk))  &\n",
    "                                        + scale * (curr_Heat(ii,jj,kk-1)   &\n",
    "                                                    -2.0*curr_Heat(ii,jj,kk) &\n",
    "                                                    +curr_Heat(ii,jj,kk+1))\n",
    "                enddo\n",
    "            enddo\n",
    "        enddo\n",
    "\n",
    "        curr_Heat = future_Heat\n",
    "\n",
    "    enddo\n",
    "    \n",
    "    !***Insert Serialbox calls to create a savepoint to write finalized data***\n",
    "\n",
    "end program"
   ]
  },
  {
   "cell_type": "markdown",
   "metadata": {},
   "source": [
    "After adding the Serialbox calls, the developer can run the cell below to perform the following:\n",
    "\n",
    "* Call `pp_ser.py` to substitute the Serialbox \"directives\" with Serialbox library calls in the Fortran code and output the result into a new Fortran source file called `s_heat.F90`\n",
    "* Compile `s_heat.F90` and link with the Serialbox libraries into a binary called `HEAT`\n",
    "* Run the `HEAT` binary \n",
    "\n",
    "Note that the code implementation has two inputs (size of the domain in cells and number of time steps) that must be listed on individual lines in the cell below when running the `HEAT` binary.  The developer can try different entries to help with debugging if necessary."
   ]
  },
  {
   "cell_type": "code",
   "execution_count": 3,
   "metadata": {},
   "outputs": [
    {
     "name": "stdout",
     "output_type": "stream",
     "text": [
      "Processing file heat.F90\n",
      " Enter the Number of discretization cells N: \n",
      " Enter number of time steps : \n",
      " N =           40\n",
      " Time steps =           10\n"
     ]
    }
   ],
   "source": [
    "%%bash\n",
    "\n",
    "[ -f HEAT ] && rm HEAT\n",
    "[ -f s_heat.F90 ] && rm s_heat.F90\n",
    "\n",
    "python3 ${SERIALBOX_ROOT}/python/pp_ser/pp_ser.py -s -v --output=s_heat.F90 heat.F90\n",
    "\n",
    "gfortran -O3 -cpp -DSERIALIZE -o HEAT s_heat.F90 \\\n",
    "   -I${SERIALBOX_ROOT}/include \\\n",
    "    ${SERIALBOX_ROOT}/lib/libSerialboxFortran.a \\\n",
    "    ${SERIALBOX_ROOT}/lib/libSerialboxC.a \\\n",
    "    ${SERIALBOX_ROOT}/lib/libSerialboxCore.a \\\n",
    " -lpthread -lstdc++ -lstdc++fs\n",
    "./HEAT\n",
    "40\n",
    "10\n"
   ]
  },
  {
   "cell_type": "markdown",
   "metadata": {},
   "source": [
    "After ensuring that you are able to run the code and successfully serialize the data, you can start to write your Python/GT4Py port of the heat equation code in the cell below.  To compare solutions between the Python and the Fortran, use the `np.allclose()` function.\n",
    "\n",
    "Here are a couple of things to keep in mind.\n",
    "\n",
    "* Python array indices start at 0\n",
    "* While it's not explicitly stated, the heat equation example has an implied boundary condition where the \"surface\" temperatures are set to 0"
   ]
  },
  {
   "cell_type": "code",
   "execution_count": 8,
   "metadata": {},
   "outputs": [
    {
     "name": "stdout",
     "output_type": "stream",
     "text": [
      "Solution is valid!\n"
     ]
    }
   ],
   "source": [
    "import serialbox as ser\n",
    "import numpy as np\n",
    "import gt4py\n",
    "import gt4py.gtscript as gtscript\n",
    "import gt4py.storage as gt_storage\n",
    "\n",
    "\n"
   ]
  },
  {
   "cell_type": "code",
   "execution_count": null,
   "metadata": {},
   "outputs": [],
   "source": []
  }
 ],
 "metadata": {
  "kernelspec": {
   "display_name": "Python 3",
   "language": "python",
   "name": "python3"
  },
  "language_info": {
   "codemirror_mode": {
    "name": "ipython",
    "version": 3
   },
   "file_extension": ".py",
   "mimetype": "text/x-python",
   "name": "python",
   "nbconvert_exporter": "python",
   "pygments_lexer": "ipython3",
   "version": "3.7.5"
  }
 },
 "nbformat": 4,
 "nbformat_minor": 4
}
