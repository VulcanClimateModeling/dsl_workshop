{
 "cells": [
  {
   "cell_type": "markdown",
   "metadata": {},
   "source": [
    "# PE Halo\n",
    "\n",
    "This notebook will exercise your learning of Serialbox and porting from Fortran to Python.\n",
    "\n"
   ]
  },
  {
   "cell_type": "code",
   "execution_count": 24,
   "metadata": {},
   "outputs": [
    {
     "name": "stdout",
     "output_type": "stream",
     "text": [
      "Overwriting pe_halo.F90\n"
     ]
    }
   ],
   "source": [
    "%%writefile pe_halo.F90\n",
    "\n",
    "subroutine compute_pe_halo(is, ie, js, je, isd, ied, jsd, jed, npz, ptop, pe, delp)\n",
    "    integer, intent(in) :: is, ie, js, je, isd, ied, jsd, jed, npz\n",
    "    real, intent(in) :: ptop\n",
    "    real, intent(in), dimension(isd:ied,jsd:jed,npz):: delp\n",
    "    real, intent(inout), dimension(is-1:ie+1,npz+1,js-1:je+1):: pe\n",
    "    integer:: i,j,k\n",
    "\n",
    "    do j=js,je\n",
    "     pe(is-1,1,j) = ptop\n",
    "     pe(ie+1,1,j) = ptop\n",
    "     do k=1,npz\n",
    "        pe(is-1,k+1,j) = pe(is-1,k,j) + delp(is-1,j,k)\n",
    "        pe(ie+1,k+1,j) = pe(ie+1,k,j) + delp(ie+1,j,k)\n",
    "     enddo\n",
    "    enddo\n",
    "    \n",
    "    do i=is-1,ie+1\n",
    "     pe(i,1,js-1) = ptop\n",
    "     pe(i,1,je+1) = ptop\n",
    "     do k=1,npz\n",
    "        pe(i,k+1,js-1) = pe(i,k,js-1) + delp(i,js-1,k)\n",
    "        pe(i,k+1,je+1) = pe(i,k,je+1) + delp(i,je+1,k)\n",
    "     enddo\n",
    "  enddo\n",
    "end subroutine\n",
    "\n",
    "program pe_halo\n",
    "\n",
    "  implicit none\n",
    "    \n",
    "  integer :: is, ie, js, je, isd, ied, jsd, jed, npz\n",
    "  real :: ptop\n",
    "  real, allocatable, dimension(:,:,:) :: delp, pe\n",
    "  !$ser init directory='./data_pe' prefix='port' unique_id=.true.\n",
    "  !$ser mode write\n",
    "  !$ser on\n",
    "  is = 1\n",
    "  ie = 48\n",
    "  js = 1\n",
    "  je = 48\n",
    "  isd = -2\n",
    "  ied = 51\n",
    "  jsd = -2\n",
    "  jed = 51\n",
    "  npz = 79\n",
    "  ptop = 300.0\n",
    "  allocate(delp(isd:ied, jsd:jed, npz))\n",
    "  allocate(pe(is-1:ie+1,npz+1,js-1:je+1))\n",
    "  !$ser savepoint 'pe_halo-in'\n",
    "  !$ser data ptop=ptop pe=pe delp=delp is=is ie=ie js=js je=je isd=isd ied=ied jsd=jsd jed=jed npz=npz\n",
    "  call compute_pe_halo(is, ie, js, je, isd, ied, jsd, jed, npz, ptop, pe, delp)\n",
    "  !$ser savepoint 'pe_halo-out'\n",
    "  !$ser data pe=pe\n",
    "  !$ser cleanup\n",
    "end program"
   ]
  },
  {
   "cell_type": "code",
   "execution_count": 25,
   "metadata": {},
   "outputs": [
    {
     "name": "stdout",
     "output_type": "stream",
     "text": [
      "Processing file pe_halo.F90\n",
      " >>>>>>>>>>>>>>>>>><<<<<<<<<<<<<<<<<<\n",
      " >>> WARNING: SERIALIZATION IS ON <<<\n",
      " >>>>>>>>>>>>>>>>>><<<<<<<<<<<<<<<<<<\n",
      "total 2.5M\n",
      "-rw-r--r-- 1 rgeorge noaa-hpc 1.7K Nov  9 15:28 ArchiveMetaData-port.json\n",
      "-rw-r--r-- 1 rgeorge noaa-hpc  14K Nov  9 15:28 MetaData-port.json\n",
      "-rw-r--r-- 1 rgeorge noaa-hpc 900K Nov  9 15:28 port_delp.dat\n",
      "-rw-r--r-- 1 rgeorge noaa-hpc    4 Nov  9 15:28 port_ie.dat\n",
      "-rw-r--r-- 1 rgeorge noaa-hpc    4 Nov  9 15:28 port_ied.dat\n",
      "-rw-r--r-- 1 rgeorge noaa-hpc    4 Nov  9 15:28 port_is.dat\n",
      "-rw-r--r-- 1 rgeorge noaa-hpc    4 Nov  9 15:28 port_isd.dat\n",
      "-rw-r--r-- 1 rgeorge noaa-hpc    4 Nov  9 15:28 port_je.dat\n",
      "-rw-r--r-- 1 rgeorge noaa-hpc    4 Nov  9 15:28 port_jed.dat\n",
      "-rw-r--r-- 1 rgeorge noaa-hpc    4 Nov  9 15:28 port_js.dat\n",
      "-rw-r--r-- 1 rgeorge noaa-hpc    4 Nov  9 15:28 port_jsd.dat\n",
      "-rw-r--r-- 1 rgeorge noaa-hpc    4 Nov  9 15:28 port_npz.dat\n",
      "-rw-r--r-- 1 rgeorge noaa-hpc 1.6M Nov  9 15:28 port_pe.dat\n",
      "-rw-r--r-- 1 rgeorge noaa-hpc    4 Nov  9 15:28 port_ptop.dat\n"
     ]
    }
   ],
   "source": [
    "%%bash\n",
    "python3 ${SERIALBOX_ROOT}/python/pp_ser/pp_ser.py -s -v --output=s_pe_halo.F90 pe_halo.F90\n",
    "gfortran -O3 -cpp -DSERIALIZE \\\n",
    "    -o serialize_pe_halo s_pe_halo.F90 \\\n",
    "    -I${SERIALBOX_ROOT}/include \\\n",
    "    ${SERIALBOX_ROOT}/lib/libSerialboxFortran.a \\\n",
    "    ${SERIALBOX_ROOT}/lib/libSerialboxC.a \\\n",
    "    ${SERIALBOX_ROOT}/lib/libSerialboxCore.a \\\n",
    "    -lpthread -lstdc++ -lstdc++fs\n",
    "rm -rf ./data_pe\n",
    "./serialize_pe_halo\n",
    "ls -lh data_pe"
   ]
  },
  {
   "cell_type": "markdown",
   "metadata": {},
   "source": [
    "### Python"
   ]
  },
  {
   "cell_type": "code",
   "execution_count": 36,
   "metadata": {},
   "outputs": [
    {
     "ename": "TypeError",
     "evalue": "The type of parameter 'ptop' is '<class 'numpy.ndarray'>' instead of 'float64'",
     "output_type": "error",
     "traceback": [
      "\u001b[0;31m---------------------------------------------------------------------------\u001b[0m",
      "\u001b[0;31mTypeError\u001b[0m                                 Traceback (most recent call last)",
      "\u001b[0;32m<ipython-input-36-7e6d60eb0add>\u001b[0m in \u001b[0;36m<module>\u001b[0;34m\u001b[0m\n\u001b[1;32m     53\u001b[0m delp = gt_storage.from_array(data=delp_overlap,  backend=backend,  dtype=np.float64,\n\u001b[1;32m     54\u001b[0m                             default_origin=origin, shape=storage_shape,)\n\u001b[0;32m---> 55\u001b[0;31m \u001b[0mcompute\u001b[0m\u001b[0;34m(\u001b[0m\u001b[0mpe\u001b[0m\u001b[0;34m,\u001b[0m \u001b[0mdelp\u001b[0m\u001b[0;34m,\u001b[0m \u001b[0mptop\u001b[0m\u001b[0;34m,\u001b[0m \u001b[0mis_\u001b[0m\u001b[0;34m,\u001b[0m \u001b[0mie_\u001b[0m\u001b[0;34m,\u001b[0m \u001b[0mjs_\u001b[0m\u001b[0;34m,\u001b[0m \u001b[0mje_\u001b[0m\u001b[0;34m,\u001b[0m \u001b[0mnpz\u001b[0m\u001b[0;34m)\u001b[0m\u001b[0;34m\u001b[0m\u001b[0;34m\u001b[0m\u001b[0m\n\u001b[0m\u001b[1;32m     56\u001b[0m \u001b[0;31m# Get regression data\u001b[0m\u001b[0;34m\u001b[0m\u001b[0;34m\u001b[0m\u001b[0;34m\u001b[0m\u001b[0m\n\u001b[1;32m     57\u001b[0m \u001b[0msp_out\u001b[0m \u001b[0;34m=\u001b[0m \u001b[0mserializer\u001b[0m\u001b[0;34m.\u001b[0m\u001b[0mget_savepoint\u001b[0m\u001b[0;34m(\u001b[0m\u001b[0;34m'pe_halo-out'\u001b[0m\u001b[0;34m)\u001b[0m\u001b[0;34m\u001b[0m\u001b[0;34m\u001b[0m\u001b[0m\n",
      "\u001b[0;32m<ipython-input-36-7e6d60eb0add>\u001b[0m in \u001b[0;36mcompute\u001b[0;34m(pe, delp, ptop, is_, ie_, js_, je_, npz)\u001b[0m\n\u001b[1;32m     22\u001b[0m \u001b[0;32mdef\u001b[0m \u001b[0mcompute\u001b[0m\u001b[0;34m(\u001b[0m\u001b[0mpe\u001b[0m\u001b[0;34m,\u001b[0m \u001b[0mdelp\u001b[0m\u001b[0;34m,\u001b[0m \u001b[0mptop\u001b[0m\u001b[0;34m,\u001b[0m \u001b[0mis_\u001b[0m\u001b[0;34m,\u001b[0m \u001b[0mie_\u001b[0m\u001b[0;34m,\u001b[0m \u001b[0mjs_\u001b[0m\u001b[0;34m,\u001b[0m \u001b[0mje_\u001b[0m\u001b[0;34m,\u001b[0m \u001b[0mnpz\u001b[0m\u001b[0;34m)\u001b[0m\u001b[0;34m:\u001b[0m\u001b[0;34m\u001b[0m\u001b[0;34m\u001b[0m\u001b[0m\n\u001b[1;32m     23\u001b[0m     \u001b[0medge_domain_x\u001b[0m \u001b[0;34m=\u001b[0m \u001b[0;34m(\u001b[0m\u001b[0;36m1\u001b[0m\u001b[0;34m,\u001b[0m \u001b[0mje_\u001b[0m \u001b[0;34m-\u001b[0m \u001b[0mjs_\u001b[0m \u001b[0;34m+\u001b[0m \u001b[0;36m1\u001b[0m\u001b[0;34m,\u001b[0m \u001b[0mnpz\u001b[0m \u001b[0;34m+\u001b[0m \u001b[0;36m1\u001b[0m\u001b[0;34m)\u001b[0m\u001b[0;34m\u001b[0m\u001b[0;34m\u001b[0m\u001b[0m\n\u001b[0;32m---> 24\u001b[0;31m     \u001b[0medge_pe\u001b[0m\u001b[0;34m(\u001b[0m\u001b[0mpe\u001b[0m\u001b[0;34m,\u001b[0m \u001b[0mdelp\u001b[0m\u001b[0;34m,\u001b[0m \u001b[0mptop\u001b[0m\u001b[0;34m,\u001b[0m \u001b[0morigin\u001b[0m\u001b[0;34m=\u001b[0m\u001b[0;34m(\u001b[0m\u001b[0;36m0\u001b[0m\u001b[0;34m,\u001b[0m \u001b[0;36m1\u001b[0m\u001b[0;34m,\u001b[0m \u001b[0;36m0\u001b[0m\u001b[0;34m)\u001b[0m\u001b[0;34m,\u001b[0m \u001b[0mdomain\u001b[0m\u001b[0;34m=\u001b[0m\u001b[0medge_domain_x\u001b[0m\u001b[0;34m)\u001b[0m\u001b[0;34m\u001b[0m\u001b[0;34m\u001b[0m\u001b[0m\n\u001b[0m\u001b[1;32m     25\u001b[0m     \u001b[0medge_pe\u001b[0m\u001b[0;34m(\u001b[0m\u001b[0mpe\u001b[0m\u001b[0;34m,\u001b[0m \u001b[0mdelp\u001b[0m\u001b[0;34m,\u001b[0m \u001b[0mptop\u001b[0m\u001b[0;34m,\u001b[0m \u001b[0morigin\u001b[0m\u001b[0;34m=\u001b[0m\u001b[0;34m(\u001b[0m\u001b[0mie_\u001b[0m \u001b[0;34m+\u001b[0m \u001b[0;36m1\u001b[0m\u001b[0;34m,\u001b[0m \u001b[0;36m1\u001b[0m\u001b[0;34m,\u001b[0m \u001b[0;36m0\u001b[0m\u001b[0;34m)\u001b[0m\u001b[0;34m,\u001b[0m \u001b[0mdomain\u001b[0m\u001b[0;34m=\u001b[0m\u001b[0medge_domain_x\u001b[0m\u001b[0;34m)\u001b[0m\u001b[0;34m\u001b[0m\u001b[0;34m\u001b[0m\u001b[0m\n\u001b[1;32m     26\u001b[0m     \u001b[0medge_domain_y\u001b[0m \u001b[0;34m=\u001b[0m \u001b[0;34m(\u001b[0m\u001b[0mie_\u001b[0m \u001b[0;34m-\u001b[0m \u001b[0mis_\u001b[0m \u001b[0;34m+\u001b[0m \u001b[0;36m3\u001b[0m\u001b[0;34m,\u001b[0m \u001b[0;36m1\u001b[0m\u001b[0;34m,\u001b[0m \u001b[0mnpz\u001b[0m \u001b[0;34m+\u001b[0m \u001b[0;36m1\u001b[0m\u001b[0;34m)\u001b[0m\u001b[0;34m\u001b[0m\u001b[0;34m\u001b[0m\u001b[0m\n",
      "\u001b[0;32m~/workshop/notebooks/Session-A3.1/.gt_cache/py37_1013/numpy/__main__/edge_pe/m_edge_pe__numpy_2c9b4886a8.py\u001b[0m in \u001b[0;36m__call__\u001b[0;34m(self, pe, delp, ptop, domain, origin, validate_args, exec_info)\u001b[0m\n\u001b[1;32m     98\u001b[0m             \u001b[0morigin\u001b[0m\u001b[0;34m=\u001b[0m\u001b[0morigin\u001b[0m\u001b[0;34m,\u001b[0m\u001b[0;34m\u001b[0m\u001b[0;34m\u001b[0m\u001b[0m\n\u001b[1;32m     99\u001b[0m             \u001b[0mvalidate_args\u001b[0m\u001b[0;34m=\u001b[0m\u001b[0mvalidate_args\u001b[0m\u001b[0;34m,\u001b[0m\u001b[0;34m\u001b[0m\u001b[0;34m\u001b[0m\u001b[0m\n\u001b[0;32m--> 100\u001b[0;31m             \u001b[0mexec_info\u001b[0m\u001b[0;34m=\u001b[0m\u001b[0mexec_info\u001b[0m\u001b[0;34m,\u001b[0m\u001b[0;34m\u001b[0m\u001b[0;34m\u001b[0m\u001b[0m\n\u001b[0m\u001b[1;32m    101\u001b[0m         )\n\u001b[1;32m    102\u001b[0m \u001b[0;34m\u001b[0m\u001b[0m\n",
      "\u001b[0;32m~/workshop/gt4py/src/gt4py/stencil_object.py\u001b[0m in \u001b[0;36m_call_run\u001b[0;34m(self, field_args, parameter_args, domain, origin, validate_args, exec_info)\u001b[0m\n\u001b[1;32m    317\u001b[0m \u001b[0;34m\u001b[0m\u001b[0m\n\u001b[1;32m    318\u001b[0m         \u001b[0;32mif\u001b[0m \u001b[0mvalidate_args\u001b[0m\u001b[0;34m:\u001b[0m\u001b[0;34m\u001b[0m\u001b[0;34m\u001b[0m\u001b[0m\n\u001b[0;32m--> 319\u001b[0;31m             \u001b[0mself\u001b[0m\u001b[0;34m.\u001b[0m\u001b[0m_validate_args\u001b[0m\u001b[0;34m(\u001b[0m\u001b[0mused_field_args\u001b[0m\u001b[0;34m,\u001b[0m \u001b[0mused_param_args\u001b[0m\u001b[0;34m,\u001b[0m \u001b[0mdomain\u001b[0m\u001b[0;34m,\u001b[0m \u001b[0morigin\u001b[0m\u001b[0;34m)\u001b[0m\u001b[0;34m\u001b[0m\u001b[0;34m\u001b[0m\u001b[0m\n\u001b[0m\u001b[1;32m    320\u001b[0m \u001b[0;34m\u001b[0m\u001b[0m\n\u001b[1;32m    321\u001b[0m         self.run(\n",
      "\u001b[0;32m~/workshop/gt4py/src/gt4py/stencil_object.py\u001b[0m in \u001b[0;36m_validate_args\u001b[0;34m(self, used_field_args, used_param_args, domain, origin)\u001b[0m\n\u001b[1;32m    190\u001b[0m             \u001b[0;32mif\u001b[0m \u001b[0;32mnot\u001b[0m \u001b[0mtype\u001b[0m\u001b[0;34m(\u001b[0m\u001b[0mparameter\u001b[0m\u001b[0;34m)\u001b[0m \u001b[0;34m==\u001b[0m \u001b[0mself\u001b[0m\u001b[0;34m.\u001b[0m\u001b[0mparameter_info\u001b[0m\u001b[0;34m[\u001b[0m\u001b[0mname\u001b[0m\u001b[0;34m]\u001b[0m\u001b[0;34m.\u001b[0m\u001b[0mdtype\u001b[0m\u001b[0;34m:\u001b[0m\u001b[0;34m\u001b[0m\u001b[0;34m\u001b[0m\u001b[0m\n\u001b[1;32m    191\u001b[0m                 raise TypeError(\n\u001b[0;32m--> 192\u001b[0;31m                     \u001b[0;34mf\"The type of parameter '{name}' is '{type(parameter)}' instead of '{self.parameter_info[name].dtype}'\"\u001b[0m\u001b[0;34m\u001b[0m\u001b[0;34m\u001b[0m\u001b[0m\n\u001b[0m\u001b[1;32m    193\u001b[0m                 )\n\u001b[1;32m    194\u001b[0m \u001b[0;34m\u001b[0m\u001b[0m\n",
      "\u001b[0;31mTypeError\u001b[0m: The type of parameter 'ptop' is '<class 'numpy.ndarray'>' instead of 'float64'"
     ]
    }
   ],
   "source": [
    "#!/usr/bin/env python3\n",
    "\n",
    "import numpy as np\n",
    "import gt4py.gtscript as gtscript\n",
    "import gt4py.storage as gt_storage\n",
    "import sys\n",
    "import os\n",
    "sys.path.append(os.environ.get('SERIALBOX_ROOT')+ '/python')\n",
    "import serialbox as ser\n",
    "\n",
    "field = gtscript.Field[np.float64]\n",
    "backend=\"numpy\"\n",
    "origin=(0, 0, 0)\n",
    "@gtscript.stencil(backend=backend)\n",
    "def edge_pe(pe: field, delp: field, ptop: float):\n",
    "    with computation(FORWARD):\n",
    "        with interval(0, 1):\n",
    "            pe[0, 0, 0] = ptop\n",
    "        with interval(1, None):\n",
    "            pe[0, 0, 0] = pe[0, 0, -1] + delp[0, 0, -1]\n",
    "\n",
    "def compute(pe, delp, ptop, is_, ie_, js_, je_, npz):\n",
    "    edge_domain_x = (1, je_ - js_ + 1, npz + 1)\n",
    "    edge_pe(pe, delp, ptop, origin=(0, 1, 0), domain=edge_domain_x)\n",
    "    edge_pe(pe, delp, ptop, origin=(ie_ + 1, 1, 0), domain=edge_domain_x)\n",
    "    edge_domain_y = (ie_ - is_ + 3, 1, npz + 1)\n",
    "    edge_pe(pe, delp, ptop, origin=(0, 0, 0), domain=edge_domain_y)\n",
    "    edge_pe(pe, delp, ptop, origin=(0, je + 1, 0), domain=edge_domain_y)\n",
    "\n",
    "serializer = ser.Serializer(ser.OpenModeKind.Read,'./data_pe', 'port')\n",
    "\n",
    "sp_in = serializer.get_savepoint('pe_halo-in')\n",
    "\n",
    "pe = serializer.read('pe',  sp_in[0])\n",
    "delp = serializer.read('delp',  sp_in[0])\n",
    "ptop = serializer.read('ptop',  sp_in[0])\n",
    "fortran2python_offset = 2\n",
    "is_ = int(serializer.read('is',  sp_in[0])) + fortran2python_offset\n",
    "ie_ = int(serializer.read('ie',  sp_in[0])) + fortran2python_offset\n",
    "js_ = int(serializer.read('js',  sp_in[0])) + fortran2python_offset\n",
    "je_ = int(serializer.read('je',  sp_in[0])) + fortran2python_offset\n",
    "isd = int(serializer.read('isd',  sp_in[0])) + fortran2python_offset\n",
    "ied = int(serializer.read('ied',  sp_in[0])) + fortran2python_offset\n",
    "jsd = int(serializer.read('jsd',  sp_in[0])) + fortran2python_offset\n",
    "jed = int(serializer.read('jed',  sp_in[0])) + fortran2python_offset\n",
    "npz = int(serializer.read('npz',  sp_in[0])) \n",
    "pe = np.moveaxis(pe, 1, 2)\n",
    "storage_shape=(ie_ + 1 - (is_ - 1) + 1, je_ + 1 - (js_ - 1) + 1, npz+1)\n",
    "pe =  gt_storage.from_array(data=pe, backend=backend,  dtype=np.float64,\n",
    "                            default_origin=origin, shape=storage_shape)\n",
    "delp_overlap = np.zeros(storage_shape)\n",
    "delp_overlap[:, :, 0:npz] = delp[is_ - 1: ie_ + 2, js_ - 1: je_ + 2,:]\n",
    "delp = gt_storage.from_array(data=delp_overlap,  backend=backend,  dtype=np.float64,\n",
    "                            default_origin=origin, shape=storage_shape,)\n",
    "compute(pe, delp, ptop, is_, ie_, js_, je_, npz)\n",
    "# Get regression data\n",
    "sp_out = serializer.get_savepoint('pe_halo-out')\n",
    "pe_ref = serializer.read('pe',  sp_out[0])\n",
    "# reformat computed value back\n",
    "pe =  np.moveaxis(pe, 2, 1)\n",
    "# compare answers\n",
    "try:\n",
    "    assert np.allclose(pe_ref, pe), \"pe does not match!\"\n",
    "except AssertionError as msg:\n",
    "    print(msg)\n",
    "    \n",
    "print(\"Finished running comparison tests!\")"
   ]
  },
  {
   "cell_type": "code",
   "execution_count": null,
   "metadata": {},
   "outputs": [],
   "source": []
  }
 ],
 "metadata": {
  "kernelspec": {
   "display_name": "workshop",
   "language": "python",
   "name": "venv"
  },
  "language_info": {
   "codemirror_mode": {
    "name": "ipython",
    "version": 3
   },
   "file_extension": ".py",
   "mimetype": "text/x-python",
   "name": "python",
   "nbconvert_exporter": "python",
   "pygments_lexer": "ipython3",
   "version": "3.7.5"
  }
 },
 "nbformat": 4,
 "nbformat_minor": 4
}
