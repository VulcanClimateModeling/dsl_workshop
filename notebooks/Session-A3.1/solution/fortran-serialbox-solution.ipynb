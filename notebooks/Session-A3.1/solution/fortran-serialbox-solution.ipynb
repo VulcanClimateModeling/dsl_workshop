{
 "cells": [
  {
   "cell_type": "markdown",
   "metadata": {},
   "source": [
    "# Serialbox Tutorial\n",
    "\n",
    "This notebook will walk through an example to have developers get familiar with the basic Serialbox features to save data from Fortran and load the data into Python.\n",
    "\n",
    "The developer will write their Fortran code below the `%%writefile serialBox_tutorial.F90` line in the following cell.  After the Fortran code is completed, running this cell will write a Fortran file `serialBox_tutorial.F90` that can later be compiled.\n",
    "\n",
    "The developer will do the following in the Fortran code with Serialbox.\n",
    "\n",
    "* Initialize Serialbox, have the serialized data written to a directory called `./data`, and set the Serialbox file prefix to `example`.\n",
    "* Create a Serialbox savepoint called `input_data` that contains all the serialized data\n",
    "* Create an integer scalar that has a value equal to 7 and write it into a Serialbox variable called `int0`\n",
    "* Create a real scalar that has a value equal to 8.9 and write it into a Serialbox variable called `real0`\n",
    "* Create a 2D double precision array of size (10,11) where the value at the `(i,j)` index is computed as `(j-1) + i + 0.1` when looping through `i` and `j`.  Save the array using a Serialbox variable called `dp_arr0`\n",
    "* Create a Fortran derived data type that contains an integer, a real, and a 2D double precision array that are set to the same values as indicated in the 3 previous bullets (i.e. integer equal to 7, real equal to 8.9, etc.) and serialize the three values.  When serializing the data from the derived data type, write the integer into a Serialbox variable called `ddt_int0`, write the real into a Serialbox variable called `ddt_real0`, and write the 2D double precision array into a variable called `ddt_arr0`.\n",
    "\n",
    "For a helpful reference, see slide 8.\n",
    "Note the API for serialbox:\n",
    "\n",
    "* `!$ser init directory='Location for data files' prefix='Prefix for data files'` - Call to initialize Serialbox\n",
    "\n",
    "* `!$ser savepoint 'SavepointName'` - Create a new ‘savepoint’ to collect data\n",
    "\n",
    "* `!$ser data var_othername=var_fortranname` - Save fields with simple syntax\n",
    "\n",
    "* `!$ser verbatim if x > 0.0 then …` - Execute additional Fortran code when utilizing Serialbox\n",
    "\n",
    "* `!$ser <on/off>` - Turn serializing on or off for different segments of code"
   ]
  },
  {
   "cell_type": "code",
   "execution_count": 12,
   "metadata": {
    "scrolled": true
   },
   "outputs": [
    {
     "name": "stdout",
     "output_type": "stream",
     "text": [
      "Overwriting serialBox_tutorial.F90\n"
     ]
    }
   ],
   "source": [
    "%%writefile serialBox_tutorial.F90\n",
    "\n",
    "module mod0\n",
    "    type der_data_type\n",
    "    \n",
    "        integer :: int0\n",
    "        real    :: real0\n",
    "            \n",
    "        double precision, dimension(:,:), allocatable :: dp_arr0\n",
    "            \n",
    "    end type der_data_type\n",
    "end module mod0\n",
    "\n",
    "program serialBox_tutorial\n",
    "    use mod0\n",
    "    implicit none\n",
    "\n",
    "    integer          :: int0, ii, jj\n",
    "    real             :: real0\n",
    "\n",
    "    real, dimension(:,:), allocatable :: dp_arr0\n",
    "\n",
    "    type(der_data_type) dd_Type\n",
    "            \n",
    "    ! Initialize Serialbox\n",
    "    !$ser init directory='./data' prefix='example' unique_id=.true.\n",
    "    !$ser mode write\n",
    "    !$ser on\n",
    "    \n",
    "    ! Set up the data as indicated in the above cell\n",
    "    int0  = 7\n",
    "    real0 = 8.9\n",
    "\n",
    "    allocate(dp_arr0(10,11))\n",
    "\n",
    "    dd_Type%int0  = 7\n",
    "    dd_Type%real0 = 8.9\n",
    "    allocate(dd_Type%dp_arr0(10,11))\n",
    "    \n",
    "    do jj = 1, 11\n",
    "        do ii = 1, 10\n",
    "            dp_arr0(ii,jj) = (jj-1) + ii + 0.1\n",
    "            dd_Type%dp_arr0(ii,jj) = (jj-1) + ii + 0.1\n",
    "            !write(*,*) 'dp_arr0(', ii, ',', jj, ') = ', dp_arr0(ii,jj)\n",
    "        enddo\n",
    "    enddo\n",
    "    ! Write out the data as indicated in the above cell using Serialbox\n",
    "    !$ser savepoint 'input_data'\n",
    "    !$ser data int0=int0 real0=real0\n",
    "    !$ser data dp_arr0=dp_arr0\n",
    "    !$ser data ddt_int0=dd_Type%int0 ddt_real0=dd_Type%real0 ddt_arr0=dd_Type%dp_arr0\n",
    "    !!$ser cleanup\n",
    "   \n",
    "end program"
   ]
  },
  {
   "cell_type": "markdown",
   "metadata": {},
   "source": [
    "Once the Fortran file is written, the developer can run the cell below which creates a Bash environment to execute the `pp_ser.py ` Python script.  This will create a Fortran file `s_serialBox_tutorial.F90` with the appropriate SerialBox library calls in the Fortran code.  After that, the code is compiled using `gfortran` and executed."
   ]
  },
  {
   "cell_type": "code",
   "execution_count": 13,
   "metadata": {
    "scrolled": false
   },
   "outputs": [
    {
     "name": "stdout",
     "output_type": "stream",
     "text": [
      "Processing file serialBox_tutorial.F90\n",
      " >>>>>>>>>>>>>>>>>><<<<<<<<<<<<<<<<<<\n",
      " >>> WARNING: SERIALIZATION IS ON <<<\n",
      " >>>>>>>>>>>>>>>>>><<<<<<<<<<<<<<<<<<\n"
     ]
    }
   ],
   "source": [
    "%%bash\n",
    "\n",
    "[ -f tutorial_run ] && rm tutorial_run\n",
    "[ -f s_serialBox_tutorial.F90 ] && rm s_serialBox_tutorial.F90\n",
    "\n",
    "python3 ${SERIALBOX_ROOT}/python/pp_ser/pp_ser.py -s -v --output=s_serialBox_tutorial.F90 serialBox_tutorial.F90\n",
    "\n",
    "gfortran -O3 -cpp -DSERIALIZE \\\n",
    "    -o tutorial_run s_serialBox_tutorial.F90 \\\n",
    "    -I${SERIALBOX_ROOT}/include \\\n",
    "    ${SERIALBOX_ROOT}/lib/libSerialboxFortran.a \\\n",
    "    ${SERIALBOX_ROOT}/lib/libSerialboxC.a \\\n",
    "    ${SERIALBOX_ROOT}/lib/libSerialboxCore.a \\\n",
    "    -lpthread -lstdc++ -lstdc++fs \n",
    "./tutorial_run"
   ]
  },
  {
   "cell_type": "markdown",
   "metadata": {},
   "source": [
    "Once the binary executes and writes out the data, the developer can run the following cell containing a Python script to verify whether the data serialized properly or not.  The script assumes that the developer has set up the data exactly as specified in bulleted list above.  If the only message printed is `Finished running comparison tests!`, all the tests have passed!"
   ]
  },
  {
   "cell_type": "code",
   "execution_count": 14,
   "metadata": {},
   "outputs": [
    {
     "name": "stdout",
     "output_type": "stream",
     "text": [
      "Finished running comparison tests!\n"
     ]
    }
   ],
   "source": [
    "#!/usr/bin/env python3\n",
    "\n",
    "import numpy as np\n",
    "import sys\n",
    "import os\n",
    "sys.path.append(os.environ.get('SERIALBOX_ROOT') + '/python')\n",
    "import serialbox as ser\n",
    "\n",
    "serializer = ser.Serializer(ser.OpenModeKind.Read,'./data', 'example')\n",
    "\n",
    "sp = serializer.get_savepoint('input_data')\n",
    "\n",
    "int0  = serializer.read('int0',  sp[0])[0]\n",
    "real0 = serializer.read('real0', sp[0])[0]\n",
    "\n",
    "dp_arr0   = serializer.read('dp_arr0',   sp[0])\n",
    "\n",
    "ddt_int0    = serializer.read('ddt_int0', sp[0])\n",
    "ddt_real0   = serializer.read('ddt_real0', sp[0])\n",
    "ddt_dp_arr0 = serializer.read('ddt_arr0', sp[0])\n",
    "\n",
    "int0_ref = 7\n",
    "real0_ref = np.float32(8.9)\n",
    "\n",
    "dp_arr0_ref = np.zeros((10,11), dtype=np.float32)\n",
    "\n",
    "for j in range(11):\n",
    "    for i in range(10):\n",
    "        dp_arr0_ref[i,j] = j + i+1 + 0.1\n",
    "try:\n",
    "    assert int0_ref == int0, \"int0 does not match!\"\n",
    "    assert real0_ref == real0, \"real0 does not match!\"\n",
    "    assert np.array_equal(dp_arr0_ref, dp_arr0), \"dp_arr0 does not match!\"\n",
    "    assert np.allclose(int0_ref, ddt_int0), \"ddt_int0 does not match!\"\n",
    "    assert np.allclose(real0_ref, ddt_real0), \"ddt_real0 does not match!\"\n",
    "    assert np.allclose(dp_arr0_ref, ddt_dp_arr0), \"ddt_arr0 does not match!\"\n",
    "except AssertionError as msg:\n",
    "    print(msg)\n",
    "print(\"Finished running comparison tests!\")"
   ]
  },
  {
   "cell_type": "markdown",
   "metadata": {},
   "source": [
    "## Optional Exercise 2\n",
    "Often setting a savepoint can result in an excessive amount of data being produced. You may want to be strategic about using when you save data, either by using `ser verbatim if (condition)` around savepoints or using `!$ser on` and `!$ser off` if data volume becomes an issue, or you are not gaining unique tests out of the repetition of data. \n",
    "In this example try to save 'arr' only for n = 1 and n = 50"
   ]
  },
  {
   "cell_type": "code",
   "execution_count": 35,
   "metadata": {
    "scrolled": true
   },
   "outputs": [
    {
     "name": "stdout",
     "output_type": "stream",
     "text": [
      "Overwriting serialBox_tutorial2.F90\n"
     ]
    }
   ],
   "source": [
    "%%writefile serialBox_tutorial2.F90\n",
    "\n",
    "\n",
    "program serialBox_tutorial\n",
    "    use mod0\n",
    "    implicit none\n",
    "\n",
    "    integer          :: ii, jj, kk, n\n",
    "    real             :: real0\n",
    "\n",
    "    double precision, dimension(100,100,100) :: arr\n",
    "\n",
    "    ! Initialize Serialbox\n",
    "    !$ser init directory='./data2' prefix='example2' unique_id=.true.\n",
    "    !$ser mode write\n",
    "    !$ser on\n",
    "    do n=1,100\n",
    "      do kk=1,100\n",
    "        do jj=2,100\n",
    "            do ii=2,100\n",
    "                arr(ii,jj,kk) = arr(ii, jj,kk) + (arr(ii-1,jj,kk) + arr(ii, jj - 1,kk) + 2 * arr(ii, jj,kk)) / (4 * n)\n",
    "            enddo\n",
    "        enddo\n",
    "      enddo\n",
    "    !$ser verbatim if (n == 1 .or. n == 50) then\n",
    "    !$ser savepoint 'loop_data'\n",
    "    !$ser data arr=arr\n",
    "    !$ser verbatim endif\n",
    "    enddo\n",
    "    !$ser cleanup\n",
    "    \n",
    "end program"
   ]
  },
  {
   "cell_type": "code",
   "execution_count": 36,
   "metadata": {
    "scrolled": false
   },
   "outputs": [
    {
     "name": "stdout",
     "output_type": "stream",
     "text": [
      "Processing file serialBox_tutorial2.F90\n",
      "Running\n",
      " >>>>>>>>>>>>>>>>>><<<<<<<<<<<<<<<<<<\n",
      " >>> WARNING: SERIALIZATION IS ON <<<\n",
      " >>>>>>>>>>>>>>>>>><<<<<<<<<<<<<<<<<<\n"
     ]
    }
   ],
   "source": [
    "%%bash\n",
    "\n",
    "[ -f tutorial_run2 ] && rm tutorial_run2\n",
    "[ -f s_serialBox_tutorial2.F90 ] && rm s_serialBox_tutorial2.F90\n",
    "\n",
    "python3 ${SERIALBOX_ROOT}/python/pp_ser/pp_ser.py -s -v --output=s_serialBox_tutorial2.F90 serialBox_tutorial2.F90\n",
    "gfortran -O3 -cpp -DSERIALIZE \\\n",
    "    -o tutorial_run2 s_serialBox_tutorial2.F90 \\\n",
    "    -I${SERIALBOX_ROOT}/include \\\n",
    "    ${SERIALBOX_ROOT}/lib/libSerialboxFortran.a \\\n",
    "    ${SERIALBOX_ROOT}/lib/libSerialboxC.a \\\n",
    "    ${SERIALBOX_ROOT}/lib/libSerialboxCore.a \\\n",
    "    -lpthread -lstdc++ -lstdc++fs \n",
    "if [ -d ./data2 ]; then\n",
    "   rm -r ./data2\n",
    "fi\n",
    "echo \"Running\"\n",
    "./tutorial_run2"
   ]
  },
  {
   "cell_type": "code",
   "execution_count": 7,
   "metadata": {},
   "outputs": [
    {
     "name": "stdout",
     "output_type": "stream",
     "text": [
      "Finished running comparison tests!\n"
     ]
    }
   ],
   "source": [
    "#!/usr/bin/env python3\n",
    "\n",
    "import numpy as np\n",
    "import sys\n",
    "import os\n",
    "sys.path.append(os.environ.get('SERIALBOX_ROOT') + '/python')\n",
    "import serialbox as ser\n",
    "import gt4py.gtscript as gtscript\n",
    "import gt4py.storage as gt_storage\n",
    "\n",
    "@gtscript.stencil(backend=\"numpy\")\n",
    "def update_arr(arr: gtscript.Field[np.float64], n: int):\n",
    "    with computation(PARALLEL), interval(...):\n",
    "        arr = arr + (arr[-1, 0, 0] + arr[0, -1, 0] + 2 * arr) / (4 * n)\n",
    "        \n",
    "\n",
    "serializer = ser.Serializer(ser.OpenModeKind.Read,'./data2', 'example2')\n",
    "saved_arrs = []\n",
    "for savepoint in serializer.savepoint_list():\n",
    "    if savepoint.name == 'loop_data':\n",
    "        saved_arrs.append(serializer.read('arr',   savepoint))\n",
    "shape = saved_arrs[0].shape\n",
    "arr0_ref = np.zeros(shape, dtype=np.float64)\n",
    "for n in range(1, 101):\n",
    "    update_arr(arr0_ref, n, origin=(1, 1, 0), domain=(shape[0] - 1, shape[1] - 1, shape[2]))\n",
    "    if n == 1 or n == 50:\n",
    "      try:\n",
    "          assert np.array_equal(arr0_ref, saved_arrs.pop()), \"dp_arr0 does not match!\"\n",
    "      except AssertionError as msg:\n",
    "        print(msg)\n",
    "\n",
    "\n",
    "print(\"Finished running comparison tests!\")"
   ]
  },
  {
   "cell_type": "code",
   "execution_count": null,
   "metadata": {},
   "outputs": [],
   "source": []
  }
 ],
 "metadata": {
  "kernelspec": {
   "display_name": "workshop",
   "language": "python",
   "name": "venv"
  },
  "language_info": {
   "codemirror_mode": {
    "name": "ipython",
    "version": 3
   },
   "file_extension": ".py",
   "mimetype": "text/x-python",
   "name": "python",
   "nbconvert_exporter": "python",
   "pygments_lexer": "ipython3",
   "version": "3.7.5"
  }
 },
 "nbformat": 4,
 "nbformat_minor": 4
}
