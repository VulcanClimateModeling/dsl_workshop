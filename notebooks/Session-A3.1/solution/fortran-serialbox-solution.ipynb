{
 "cells": [
  {
   "cell_type": "markdown",
   "metadata": {},
   "source": [
    "# Serialbox Tutorial\n",
    "\n",
    "This notebook will walk through an example to have developers get familiar with the basic Serialbox features to save data from Fortran and load the data into Python.\n",
    "\n",
    "The developer will write their Fortran code below the `%%writefile serialBox_tutorial.F90` line in the following cell.  After the Fortran code is completed, running this cell will write a Fortran file `serialBox_tutorial.F90` that can later be compiled.\n",
    "\n",
    "The developer will do the following in the Fortran code with Serialbox.\n",
    "\n",
    "* Initialize Serialbox, have the serialized data written to a directory called `./data`, and set the Serialbox file prefix to `example`.\n",
    "* Create a Serialbox savepoint called `input_data` that contains all the serialized data\n",
    "* Create an integer scalar that has a value equal to 7 and write it into a Serialbox variable called `int0`\n",
    "* Create a real scalar that has a value equal to 8.9 and write it into a Serialbox variable called `real0`\n",
    "* Create a 2D double precision array of size (10,11) where the value at the `(i,j)` index is computed as `(j-1) + i + 0.1` when looping through `i` and `j`.  Save the array using a Serialbox variable called `dp_arr0`\n",
    "\n",
    "For a helpful reference, see slide 8.\n",
    "Note the API for serialbox:\n",
    "\n",
    "* !$ser init directory='Location for data files' prefix='Prefix for data files' - Call to initialize Serialbox\n",
    "\n",
    "* !$ser savepoint 'SavepointName' - Create a new ‘savepoint’ to collect data\n",
    "\n",
    "* !$ser data var_othername=var_fortranname - Save fields with simple syntax\n",
    "\n",
    "* !$ser verbatim if x > 0.0 then … - Execute additional Fortran code when utilizing Serialbox\n",
    "\n",
    "* !$ser <on/off> - Turn serializing on or off for different segments of code"
   ]
  },
  {
   "cell_type": "code",
   "execution_count": 48,
   "metadata": {
    "scrolled": true
   },
   "outputs": [
    {
     "name": "stdout",
     "output_type": "stream",
     "text": [
      "Overwriting serialBox_tutorial.F90\n"
     ]
    }
   ],
   "source": [
    "%%writefile serialBox_tutorial.F90\n",
    "\n",
    "program serialBox_tutorial\n",
    "\n",
    "    implicit none\n",
    "\n",
    "    integer          :: int0, ii, jj\n",
    "    real             :: real0\n",
    "\n",
    "    real, dimension(:,:), allocatable :: dp_arr0\n",
    "\n",
    "    ! Initialize Serialbox\n",
    "    !$ser init directory='./data' prefix='example' unique_id=.true.\n",
    "    !$ser mode write\n",
    "    !$ser on\n",
    "    \n",
    "    ! Set up the data as indicated in the above cell\n",
    "    int0  = 7\n",
    "    real0 = 8.9\n",
    "\n",
    "    allocate(dp_arr0(10,11))\n",
    "\n",
    "    do jj = 1, 11\n",
    "        do ii = 1, 10\n",
    "            dp_arr0(ii,jj) = (jj-1) + ii + 0.1\n",
    "            !write(*,*) 'dp_arr0(', ii, ',', jj, ') = ', dp_arr0(ii,jj)\n",
    "        enddo\n",
    "    enddo\n",
    "    ! Write out the data as indicated in the above cell using Serialbox\n",
    "    !$ser savepoint 'input_data'\n",
    "    !$ser data int0=int0 real0=real0\n",
    "    !$ser data dp_arr0=dp_arr0\n",
    "\n",
    "    !!$ser cleanup\n",
    "   \n",
    "end program"
   ]
  },
  {
   "cell_type": "markdown",
   "metadata": {},
   "source": [
    "Once the Fortran file is written, the developer can run the cell below which creates a Bash environment to execute the `pp_ser.py ` Python script.  This will create a Fortran file `s_serialBox_tutorial.F90` with the appropriate SerialBox library calls in the Fortran code.  After that, the code is compiled using `gfortran` and executed."
   ]
  },
  {
   "cell_type": "code",
   "execution_count": 49,
   "metadata": {
    "scrolled": false
   },
   "outputs": [
    {
     "name": "stdout",
     "output_type": "stream",
     "text": [
      "Processing file serialBox_tutorial.F90\n",
      " >>>>>>>>>>>>>>>>>><<<<<<<<<<<<<<<<<<\n",
      " >>> WARNING: SERIALIZATION IS ON <<<\n",
      " >>>>>>>>>>>>>>>>>><<<<<<<<<<<<<<<<<<\n"
     ]
    }
   ],
   "source": [
    "%%bash\n",
    "\n",
    "[ -f tutorial_run ] && rm tutorial_run\n",
    "[ -f s_serialBox_tutorial.F90 ] && rm s_serialBox_tutorial.F90\n",
    "\n",
    "python3 ${SERIALBOX_ROOT}/python/pp_ser/pp_ser.py -s -v --output=s_serialBox_tutorial.F90 serialBox_tutorial.F90\n",
    "\n",
    "gfortran -O3 -cpp -DSERIALIZE \\\n",
    "    -o tutorial_run s_serialBox_tutorial.F90 \\\n",
    "    -I${SERIALBOX_ROOT}/include \\\n",
    "    ${SERIALBOX_ROOT}/lib/libSerialboxFortran.a \\\n",
    "    ${SERIALBOX_ROOT}/lib/libSerialboxC.a \\\n",
    "    ${SERIALBOX_ROOT}/lib/libSerialboxCore.a \\\n",
    "    -lpthread -lstdc++ -lstdc++fs\n",
    "./tutorial_run"
   ]
  },
  {
   "cell_type": "markdown",
   "metadata": {},
   "source": [
    "Once the binary executes and writes out the data, the developer can run the following cell containing a Python script to verify whether the data serialized properly or not.  The script assumes that the developer has set up the data exactly as specified in bulleted list above.  If the only message printed is `Finished running comparison tests!`, all the tests have passed!"
   ]
  },
  {
   "cell_type": "code",
   "execution_count": 50,
   "metadata": {},
   "outputs": [
    {
     "name": "stdout",
     "output_type": "stream",
     "text": [
      "Finished running comparison tests!\n"
     ]
    }
   ],
   "source": [
    "#!/usr/bin/env python3\n",
    "\n",
    "import numpy as np\n",
    "import sys\n",
    "import os\n",
    "sys.path.append(os.environ.get('SERIALBOX_ROOT') + '/python')\n",
    "import serialbox as ser\n",
    "\n",
    "serializer = ser.Serializer(ser.OpenModeKind.Read,'./data', 'example')\n",
    "\n",
    "sp = serializer.get_savepoint('input_data')\n",
    "\n",
    "int0  = serializer.read('int0',  sp[0])[0]\n",
    "real0 = serializer.read('real0', sp[0])[0]\n",
    "\n",
    "dp_arr0   = serializer.read('dp_arr0',   sp[0])\n",
    "\n",
    "int0_ref = 7\n",
    "real0_ref = np.float32(8.9)\n",
    "\n",
    "dp_arr0_ref = np.zeros((10,11), dtype=np.float32)\n",
    "\n",
    "for j in range(11):\n",
    "    for i in range(10):\n",
    "        dp_arr0_ref[i,j] = j + i+1 + 0.1\n",
    "try:\n",
    "    assert int0_ref == int0, \"int0 does not match!\"\n",
    "    assert real0_ref == real0, \"real0 does not match!\"\n",
    "    assert np.array_equal(dp_arr0_ref, dp_arr0), \"dp_arr0 does not match!\"\n",
    "except AssertionError as msg:\n",
    "    print(msg)\n",
    "print(\"Finished running comparison tests!\")"
   ]
  },
  {
   "cell_type": "markdown",
   "metadata": {},
   "source": [
    "## Optional Exercise 2\n"
   ]
  },
  {
   "cell_type": "code",
   "execution_count": null,
   "metadata": {},
   "outputs": [],
   "source": []
  }
 ],
 "metadata": {
  "kernelspec": {
   "display_name": "Python 3",
   "language": "python",
   "name": "python3"
  },
  "language_info": {
   "codemirror_mode": {
    "name": "ipython",
    "version": 3
   },
   "file_extension": ".py",
   "mimetype": "text/x-python",
   "name": "python",
   "nbconvert_exporter": "python",
   "pygments_lexer": "ipython3",
   "version": "3.7.5"
  }
 },
 "nbformat": 4,
 "nbformat_minor": 4
}
