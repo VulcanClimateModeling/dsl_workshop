{
 "cells": [
  {
   "cell_type": "markdown",
   "metadata": {},
   "source": [
    "# Workshop on Domain-Specific Lanugages for Performance-Portable Weather and Climate Models\n",
    "\n",
    "## Session 2B: Intro to Conditionals and Builtins\n",
    "\n",
    "This notebook is provides an introduction to conditional statements in GT4PY"
   ]
  },
  {
   "cell_type": "code",
   "execution_count": 2,
   "metadata": {},
   "outputs": [],
   "source": [
    "import matplotlib.pyplot as plt\n",
    "import numpy as np\n",
    "\n",
    "import gt4py\n",
    "from gt4py import gtscript"
   ]
  },
  {
   "cell_type": "markdown",
   "metadata": {},
   "source": [
    "## Scalar Conditionals\n",
    "- Conditionals can be specified with a scalar or a field.\n",
    "- Scalar conditionals behave fairly intuitively"
   ]
  },
  {
   "cell_type": "code",
   "execution_count": 20,
   "metadata": {},
   "outputs": [],
   "source": [
    "@gtscript.stencil(backend=\"numpy\")\n",
    "def conditional_stencil(\n",
    "    in_storage: gtscript.Field[float], out_storage: gtscript.Field[float], c: float\n",
    "):\n",
    "\n",
    "    with computation(PARALLEL), interval(...):\n",
    "        if c > 0.:\n",
    "            out_storage = (\n",
    "                in_storage[0, 0, 0] + in_storage[1, 0, 0]\n",
    "            )\n",
    "        else:\n",
    "            out_storage = in_storage[-1, 0, 0] + in_storage[0, 0, 0] + in_storage[1, 0, 0]"
   ]
  },
  {
   "cell_type": "code",
   "execution_count": 27,
   "metadata": {
    "tags": []
   },
   "outputs": [
    {
     "name": "stdout",
     "output_type": "stream",
     "text": [
      "Initial Condition\n"
     ]
    },
    {
     "data": {
      "image/png": "[encoded data removed]",
      "text/plain": [
       "<Figure size 432x288 with 1 Axes>"
      ]
     },
     "metadata": {
      "needs_background": "light"
     },
     "output_type": "display_data"
    },
    {
     "name": "stdout",
     "output_type": "stream",
     "text": [
      "Output with c > 0\n"
     ]
    },
    {
     "data": {
      "image/png": "[encoded data removed]",
      "text/plain": [
       "<Figure size 432x288 with 1 Axes>"
      ]
     },
     "metadata": {
      "needs_background": "light"
     },
     "output_type": "display_data"
    },
    {
     "name": "stdout",
     "output_type": "stream",
     "text": [
      "Output with c <= 0\n"
     ]
    },
    {
     "data": {
      "image/png": "[encoded data removed]",
      "text/plain": [
       "<Figure size 432x288 with 1 Axes>"
      ]
     },
     "metadata": {
      "needs_background": "light"
     },
     "output_type": "display_data"
    }
   ],
   "source": [
    "# Setting up the domain\n",
    "nx = 100\n",
    "halo = 3\n",
    "shape = (nx+2*halo, nx+2*halo, 1)\n",
    "\n",
    "# and the storages\n",
    "in_storage = gt4py.storage.zeros(\n",
    "    shape=shape,\n",
    "    default_origin=(0, 0, 0),\n",
    "    dtype=float,\n",
    "    backend=\"numpy\",\n",
    ")\n",
    "in_storage.data[halo + nx // 3 : halo +  2 * nx  // 3 : 2, halo + nx // 3 : halo + 2 * nx // 3, :] = 2\n",
    "# in_storage.data[halo + nx // 3 + 1 : halo + 2 * nx // 3 :2, halo + nx // 3 : halo + 2 * nx // 3, :] = -1\n",
    "out_storage = gt4py.storage.zeros(\n",
    "    shape=shape,\n",
    "    default_origin=(0, 0, 0),\n",
    "    dtype=float,\n",
    "    backend=\"numpy\",\n",
    ")\n",
    "\n",
    "# running the computataion\n",
    "print(\"Initial Condition\")\n",
    "plt.imshow(in_storage.data[:,:,0])\n",
    "plt.show()\n",
    "\n",
    "conditional_stencil(in_storage, out_storage, 1.0, origin=(halo-1, halo-1, 0), domain=(nx+1, nx+1, 1))\n",
    "\n",
    "print(\"Output with c > 0\")\n",
    "plt.imshow(out_storage.data[:,:,0])\n",
    "plt.show()\n",
    "\n",
    "conditional_stencil(in_storage, out_storage, -1.0, origin=(halo-1, halo-1, 0), domain=(nx+1, nx+1, 1))\n",
    "\n",
    "print(\"Output with c <= 0\")\n",
    "plt.imshow(out_storage.data[:,:,0])\n",
    "plt.show()"
   ]
  },
  {
   "cell_type": "markdown",
   "metadata": {},
   "source": [
    "## Fields conditionals\n",
    "- Field conditionals use a mask to check branching\n",
    "- This allows some fun referential tech"
   ]
  },
  {
   "cell_type": "code",
   "execution_count": 34,
   "metadata": {
    "tags": []
   },
   "outputs": [
    {
     "name": "stdout",
     "output_type": "stream",
     "text": [
      "Initial Condition\n"
     ]
    },
    {
     "data": {
      "image/png": "[encoded data removed]",
      "text/plain": [
       "<Figure size 432x288 with 1 Axes>"
      ]
     },
     "metadata": {
      "needs_background": "light"
     },
     "output_type": "display_data"
    },
    {
     "name": "stdout",
     "output_type": "stream",
     "text": [
      "[0. 0. 0. 0. 0. 0. 0. 0. 0. 0. 0. 0. 0. 0. 0. 0. 0. 0. 0. 0. 0. 0. 0. 0.\n",
      " 0. 0. 0. 0. 0. 0. 0. 0. 0. 0. 0. 0. 1. 0. 1. 0. 1. 0. 1. 0. 1. 0. 1. 0.\n",
      " 1. 0. 1. 0. 1. 0. 1. 0. 1. 0. 1. 0. 1. 0. 1. 0. 1. 0. 1. 0. 1. 0. 0. 0.\n",
      " 0. 0. 0. 0. 0. 0. 0. 0. 0. 0. 0. 0. 0. 0. 0. 0. 0. 0. 0. 0. 0. 0. 0. 0.\n",
      " 0. 0. 0. 0. 0. 0. 0. 0. 0. 0.]\n",
      "Output\n"
     ]
    },
    {
     "data": {
      "image/png": "[encoded data removed]",
      "text/plain": [
       "<Figure size 432x288 with 1 Axes>"
      ]
     },
     "metadata": {
      "needs_background": "light"
     },
     "output_type": "display_data"
    },
    {
     "name": "stdout",
     "output_type": "stream",
     "text": [
      "[ 0.  0.  0.  0.  0.  0.  0.  0.  0.  0.  0.  0.  0.  0.  0.  0.  0.  0.\n",
      "  0.  0.  0.  0.  0.  0.  0.  0.  0.  0.  0.  0.  0.  0.  0.  0.  0.  1.\n",
      "  1. 10.  1. 10.  1. 10.  1. 10.  1. 10.  1. 10.  1. 10.  1. 10.  1. 10.\n",
      "  1. 10.  1. 10.  1. 10.  1. 10.  1. 10.  1. 10.  1. 10.  1. 10.  0.  0.\n",
      "  0.  0.  0.  0.  0.  0.  0.  0.  0.  0.  0.  0.  0.  0.  0.  0.  0.  0.\n",
      "  0.  0.  0.  0.  0.  0.  0.  0.  0.  0.  0.  0.  0.  0.  0.  0.]\n"
     ]
    }
   ],
   "source": [
    "@gtscript.stencil(backend=\"numpy\")\n",
    "def field_conditional_stencil(\n",
    "    in_storage: gtscript.Field[float], out_storage: gtscript.Field[float]\n",
    "):\n",
    "\n",
    "    with computation(PARALLEL), interval(...):\n",
    "        if in_storage[-1, 0, 0] > 0.:\n",
    "            out_storage = 10\n",
    "        else:\n",
    "            out_storage = in_storage[0, 0, 0] + in_storage[1, 0, 0]\n",
    "\n",
    "# Setting up the domain\n",
    "nx = 100\n",
    "halo = 3\n",
    "shape = (nx+2*halo, nx+2*halo, 1)\n",
    "\n",
    "# and the storages\n",
    "in_storage = gt4py.storage.zeros(\n",
    "    shape=shape,\n",
    "    default_origin=(0, 0, 0),\n",
    "    dtype=float,\n",
    "    backend=\"numpy\",\n",
    ")\n",
    "in_storage.data[halo + nx // 3 : halo +  2 * nx  // 3 : 2, halo + nx // 3 : halo + 2 * nx // 3, :] = 1\n",
    "# in_storage.data[halo + nx // 3 + 1 : halo + 2 * nx // 3 :2, halo + nx // 3 : halo + 2 * nx // 3, :] = -1\n",
    "out_storage = gt4py.storage.zeros(\n",
    "    shape=shape,\n",
    "    default_origin=(0, 0, 0),\n",
    "    dtype=float,\n",
    "    backend=\"numpy\",\n",
    ")\n",
    "\n",
    "# running the computataion\n",
    "print(\"Initial Condition\")\n",
    "plt.imshow(in_storage.data[:,:,0])\n",
    "plt.show()\n",
    "print(in_storage.data[:,45,0])\n",
    "\n",
    "field_conditional_stencil(in_storage, out_storage, origin=(halo-1, halo-1, 0), domain=(nx+1, nx+1, 1))\n",
    "\n",
    "print(\"Output\")\n",
    "plt.imshow(out_storage.data[:,:,0])\n",
    "plt.show()\n",
    "print(out_storage.data[:,45,0])"
   ]
  },
  {
   "cell_type": "markdown",
   "metadata": {},
   "source": [
    "## Example Application ##\n",
    "Adding a flux limiter to the diffusion stencils:"
   ]
  },
  {
   "cell_type": "code",
   "execution_count": 35,
   "metadata": {},
   "outputs": [
    {
     "name": "stdout",
     "output_type": "stream",
     "text": [
      "Initial Condition\n"
     ]
    },
    {
     "data": {
      "image/png": "[encoded data removed]",
      "text/plain": [
       "<Figure size 432x288 with 1 Axes>"
      ]
     },
     "metadata": {
      "needs_background": "light"
     },
     "output_type": "display_data"
    },
    {
     "name": "stdout",
     "output_type": "stream",
     "text": [
      "Output\n"
     ]
    },
    {
     "data": {
      "image/png": "[encoded data removed]",
      "text/plain": [
       "<Figure size 432x288 with 1 Axes>"
      ]
     },
     "metadata": {
      "needs_background": "light"
     },
     "output_type": "display_data"
    }
   ],
   "source": [
    "@gtscript.stencil(backend=\"numpy\")\n",
    "def flux_limit_stencil(\n",
    "    in_storage: gtscript.Field[float], out_storage: gtscript.Field[float], alpha: float\n",
    "):\n",
    "\n",
    "    with computation(PARALLEL), interval(...):\n",
    "        lap = (\n",
    "            -4.0 * in_storage[0, 0, 0]\n",
    "            + in_storage[1, 0, 0]\n",
    "            + in_storage[-1, 0, 0]\n",
    "            + in_storage[0, 1, 0]\n",
    "            + in_storage[0, -1, 0]\n",
    "        )\n",
    "        \n",
    "        x_flux = lap[1, 0, 0] - lap[0, 0, 0]\n",
    "        y_flux = lap[0, 1, 0] - lap[0, 0, 0]\n",
    "        x_flux = 0. if (x_flux[0, 0, 0] * (in_storage[1, 0, 0] - in_storage[0, 0, 0]) > 0.) else x_flux\n",
    "        y_flux = 0. if (y_flux[0, 0, 0] * (in_storage[0, 1, 0] - in_storage[0, 0, 0]) > 0.) else y_flux\n",
    "        \n",
    "        out_storage = in_storage - alpha * (x_flux[0, 0, 0] - x_flux[-1, 0, 0] + y_flux[0, 0, 0] - y_flux[0, -1, 0])\n",
    "        \n",
    "\n",
    "nx = 100\n",
    "halo = 3\n",
    "shape = (nx + 2 * halo, nx + 2 * halo, 1)\n",
    "in_storage = gt4py.storage.zeros(\n",
    "    shape=shape,\n",
    "    default_origin=(0, 0, 0),\n",
    "    dtype=float,\n",
    "    backend=\"numpy\",\n",
    ")\n",
    "in_storage.data[halo + nx // 3 : halo + 2 * nx // 3, halo + nx // 3 : halo + 2 * nx // 3, :] = 1\n",
    "out_storage = gt4py.storage.zeros(\n",
    "    shape=shape,\n",
    "    default_origin=(0, 0, 0),\n",
    "    dtype=float,\n",
    "    backend=\"numpy\",\n",
    ")\n",
    "\n",
    "print(\"Initial Condition\")\n",
    "plt.imshow(in_storage.data[:, :, 0])\n",
    "plt.show()\n",
    "\n",
    "alpha = 1.0 / 32.0\n",
    "for i in range(500):\n",
    "    flux_limit_stencil(\n",
    "        in_storage, out_storage, alpha, origin=(halo, halo, 0), domain=(nx, nx, 1)\n",
    "    )\n",
    "    in_storage.data[:] = out_storage.data[:]\n",
    "\n",
    "print(\"Output\")\n",
    "plt.imshow(out_storage.data[:, :, 0])\n",
    "plt.show()"
   ]
  },
  {
   "cell_type": "markdown",
   "metadata": {},
   "source": [
    "## Example 2\n",
    "Filling in negative values in a field"
   ]
  },
  {
   "cell_type": "code",
   "execution_count": 27,
   "metadata": {
    "tags": []
   },
   "outputs": [
    {
     "name": "stdout",
     "output_type": "stream",
     "text": [
      "Initial Condition\n"
     ]
    },
    {
     "data": {
      "image/png": "[encoded data removed]",
      "text/plain": [
       "<Figure size 432x288 with 1 Axes>"
      ]
     },
     "metadata": {
      "needs_background": "light"
     },
     "output_type": "display_data"
    },
    {
     "name": "stdout",
     "output_type": "stream",
     "text": [
      "[ 0.  0.  0.  0.  0.  0.  0.  0.  0.  0.  0.  0.  0.  0.  0.  0.  0.  0.\n",
      "  0.  0.  0.  0.  0.  0.  0.  0.  0.  0.  0.  0.  0.  0.  0.  0.  0.  0.\n",
      " -1.  3. -1.  3. -1.  3. -1.  3. -1.  3. -1.  3. -1.  3. -1.  3. -1.  3.\n",
      " -1.  3. -1.  3. -1.  3. -1.  3. -1.  3. -1.  3. -1.  3. -1.  3.  0.  0.\n",
      "  0.  0.  0.  0.  0.  0.  0.  0.  0.  0.  0.  0.  0.  0.  0.  0.  0.  0.\n",
      "  0.  0.  0.  0.  0.  0.  0.  0.  0.  0.  0.  0.  0.  0.  0.  0.  0.] 0.10096951698838326\n",
      "Output\n"
     ]
    },
    {
     "data": {
      "image/png": "[encoded data removed]",
      "text/plain": [
       "<Figure size 432x288 with 1 Axes>"
      ]
     },
     "metadata": {
      "needs_background": "light"
     },
     "output_type": "display_data"
    },
    {
     "name": "stdout",
     "output_type": "stream",
     "text": [
      "[0. 0. 0. 0. 0. 0. 0. 0. 0. 0. 0. 0. 0. 0. 0. 0. 0. 0. 0. 0. 0. 0. 0. 0.\n",
      " 0. 0. 0. 0. 0. 0. 0. 0. 0. 0. 0. 0. 0. 2. 0. 2. 0. 2. 0. 2. 0. 2. 0. 2.\n",
      " 0. 2. 0. 2. 0. 2. 0. 2. 0. 2. 0. 2. 0. 2. 0. 2. 0. 2. 0. 2. 0. 3. 0. 0.\n",
      " 0. 0. 0. 0. 0. 0. 0. 0. 0. 0. 0. 0. 0. 0. 0. 0. 0. 0. 0. 0. 0. 0. 0. 0.\n",
      " 0. 0. 0. 0. 0. 0. 0. 0. 0. 0. 0.] 0.10393920866451219\n"
     ]
    }
   ],
   "source": [
    "@gtscript.stencil(backend=\"numpy\")\n",
    "def flux_limit_stencil(\n",
    "    in_storage: gtscript.Field[float], out_storage: gtscript.Field[float], alpha: float\n",
    "):\n",
    "\n",
    "    with computation(PARALLEL), interval(...):\n",
    "        lap = (\n",
    "            -4.0 * in_storage[0, 0, 0]\n",
    "            + in_storage[1, 0, 0]\n",
    "            + in_storage[-1, 0, 0]\n",
    "            + in_storage[0, 1, 0]\n",
    "            + in_storage[0, -1, 0]\n",
    "        )\n",
    "        \n",
    "        x_flux = lap[1, 0, 0] - lap[0, 0, 0]\n",
    "        y_flux = lap[0, 1, 0] - lap[0, 0, 0]\n",
    "        x_flux = 0. if (x_flux[0, 0, 0] * (in_storage[1, 0, 0] - in_storage[0, 0, 0]) > 0.) else x_flux\n",
    "        y_flux = 0. if (y_flux[0, 0, 0] * (in_storage[0, 1, 0] - in_storage[0, 0, 0]) > 0.) else y_flux\n",
    "        \n",
    "        out_storage = in_storage - alpha * (x_flux[0, 0, 0] - x_flux[-1, 0, 0] + y_flux[0, 0, 0] - y_flux[0, -1, 0])\n",
    "\n",
    "@gtscript.stencil(backend=\"numpy\")\n",
    "def fill_horizontal(\n",
    "    in_storage: gtscript.Field[float], out_storage: gtscript.Field[float]\n",
    "):\n",
    "    with computation(PARALLEL), interval(...):\n",
    "        fix_forward = 0.\n",
    "        fix_backward = 0.\n",
    "        if in_storage[0, 0, 0] < 0:\n",
    "            if in_storage[-1, 0, 0] > 0.:\n",
    "                fix_forward = min(abs(in_storage[0, 0, 0]), in_storage[-1, 0, 0])\n",
    "                in_storage[0, 0, 0] = in_storage[0, 0, 0] + fix_forward[0, 0, 0]\n",
    "                \n",
    "        if fix_forward[1, 0, 0] != 0:\n",
    "            in_storage[0, 0, 0] = in_storage[0, 0, 0] - fix_forward[1, 0, 0]\n",
    "        \n",
    "        if in_storage[0, 0, 0] < 0:\n",
    "            if in_storage[1, 0, 0] >= 0.:\n",
    "                fix_backward = min(abs(in_storage[0, 0, 0]), in_storage[1, 0, 0])\n",
    "                in_storage[0, 0, 0] = in_storage[0, 0, 0] + fix_backward[0, 0, 0]\n",
    "                \n",
    "        if fix_backward[1, 0, 0] != 0:\n",
    "            in_storage[0, 0, 0] = in_storage[0, 0, 0] - fix_backward[-1, 0, 0]\n",
    "                \n",
    "@gtscript.stencil(backend=\"numpy\")\n",
    "def fill_vertical(\n",
    "    in_storage: gtscript.Field[float], out_storage: gtscript.Field[float],\n",
    "):\n",
    "    with computation(FORWARD), interval(0,1):\n",
    "        if in_storage[0, 0 0] < 0.0:\n",
    "            fix_previous[0, 0, 0] = min(abs(in_storage[0, 0, 0]), in_storage[0, 0, 1])\n",
    "            in_storage[0, 0, 0] = in_storage[0, 0, 0] + fix_previous[0, 0, 0]\n",
    "    with computation(FORWARD), interval(1,-1):\n",
    "        if fix_previous[0, 0, -1] != 0.:\n",
    "            in_storage[0, 0, 0] = in_storage[0, 0, 0] - fix_previous[0, 0, -1]\n",
    "        if in_storage[0, 0, 0] < 0.:\n",
    "            fix_previous[0, 0, 0] = min(abs(in_storage[0, 0, 0]), in_storage[0, 0, 1])\n",
    "            in_storage[0, 0, 0] = in_storage[0, 0, 0] + fix_previous[0, 0, 0]\n",
    "    with computation(FORWARD), interval(-1,None):\n",
    "        if fix_previous[0, 0, -1] != 0.:\n",
    "            in_storage[0, 0, 0] = in_storage[0, 0, 0] - fix_previous[0, 0, -1]\n",
    "    \n",
    "\n",
    "nx = 101\n",
    "halo = 3\n",
    "alpha = 1.0 / 32.0\n",
    "shape = (nx + 2 * halo, nx + 2 * halo, 1)\n",
    "in_storage = gt4py.storage.zeros(\n",
    "    shape=shape,\n",
    "    default_origin=(0, 0, 0),\n",
    "    dtype=float,\n",
    "    backend=\"numpy\",\n",
    ")\n",
    "fix_previous = gt4py.storage.zeros(\n",
    "    shape=shape,\n",
    "    default_origin=(0, 0, 0),\n",
    "    dtype=float,\n",
    "    backend=\"numpy\",\n",
    ")\n",
    "in_storage.data[halo + nx // 3 + 1 : halo + 2 * nx // 3 :2, halo + nx // 3 : halo + 2 * nx // 3, :] = 3\n",
    "in_storage.data[halo + nx // 3 : halo + 2 * nx // 3 :2, halo + nx // 3 : halo + 2 * nx // 3, :] = -1\n",
    "out_storage = gt4py.storage.zeros(\n",
    "    shape=shape,\n",
    "    default_origin=(0, 0, 0),\n",
    "    dtype=float,\n",
    "    backend=\"numpy\",\n",
    ")\n",
    "\n",
    "print(\"Initial Condition\")\n",
    "plt.imshow(in_storage.data[:, :, 0])\n",
    "plt.show()\n",
    "print(in_storage.data[:,45,0], np.mean(in_storage.data))\n",
    "\n",
    "# for i in range(500):\n",
    "#     flux_limit_stencil(in_storage, out_storage, alpha, origin=(halo, halo, 0), domain=(nx, nx, 1))\n",
    "\n",
    "fill_horizontal(in_storage, out_storage, origin=(halo, halo, 0), domain=(nx, nx, 1))\n",
    "    \n",
    "print(\"Output\")\n",
    "plt.imshow(in_storage.data[:, :, 0])\n",
    "plt.show()\n",
    "print(in_storage.data[:,45,0], np.mean(in_storage.data))"
   ]
  }
 ],
 "metadata": {
  "kernelspec": {
   "display_name": "Python 3",
   "language": "python",
   "name": "python3"
  },
  "language_info": {
   "codemirror_mode": {
    "name": "ipython",
    "version": 3
   },
   "file_extension": ".py",
   "mimetype": "text/x-python",
   "name": "python",
   "nbconvert_exporter": "python",
   "pygments_lexer": "ipython3",
   "version": "3.8.2"
  }
 },
 "nbformat": 4,
 "nbformat_minor": 4
}
