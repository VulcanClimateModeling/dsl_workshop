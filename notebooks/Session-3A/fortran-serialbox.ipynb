{
 "cells": [
  {
   "cell_type": "markdown",
   "metadata": {},
   "source": [
    "# Workshop on Domain-Specific Lanugages for Performance-Portable Weather and Climate Models\n",
    "\n",
    "## Session A3: Serializing from Fortran with Serialbox\n",
    "\n",
    "This notebook will walk through an example to get familiar with the basic Serialbox features to save data from Fortran and load the data into Python.\n",
    "\n",
    "### Inserting `!$ser` Directives\n",
    "\n",
    "Take a look at the simple Fortran code below. The cell magic `%%writefile serialBox_tutorial.F90` will cause the contents of the cell to be written to an actual file on disk when the cell is executed.\n",
    "\n",
    "When working through the example, feel free to refer back to the slides of the presentation. As a quick reference, here is a summary of the most important high-level API features of Serialbox:\n",
    "\n",
    "* `!$ser init directory=<path> prefix=<string>` - Initialize Serialbox\n",
    "    * `unique_id=.true.` will add a unique identifier to each savepoint, useful when data collisions are likely\n",
    "    * `mpi_rank=<rank>` will make sure that each MPI rank will write to a different file\n",
    "\n",
    "* `!$ser savepoint \"<string>\"` - Create a savepoint to which data is associated\n",
    "\n",
    "* `!$ser data <name>=<variable>` - Save a Fortran scalar or array <variable> to name <name>\n",
    "\n",
    "* `!$ser verbatim <code>` - Execute code only if -DSERIALIZE is set\n",
    "\n",
    "* `!$ser <on/off>` - Turn serialization on/off. Subsequent `!$ser data` statements are ignored (or not)\n",
    "\n",
    "* `!$ser mode write` - Activate serialization mode (`read` would indicate de-serialization)\n",
    "\n",
    "* `!$ser cleanup` - Shut down Serialbox"
   ]
  },
  {
   "cell_type": "markdown",
   "metadata": {},
   "source": [
    "<div class=\"alert alert-block alert-info\">\n",
    "    <b> Now it's your turn: </b><br>\n",
    "    (Hint: Make sure that when you modify code you retain the original code by commenting it out so that you undo any of the modifications you do.)\n",
    "    <ol>\n",
    "        <li style=\"margin-bottom: 10px\">Initialize Serialbox, have the serialized data written to a directory called <code>./data</code>, and set the Serialbox file prefix to <code>example</code>.</li>\n",
    "        <li style=\"margin-bottom: 10px\">Create a Serialbox savepoint called <code>input_data</code> that contains all the serialized data.</li>\n",
    "        <li style=\"margin-bottom: 10px\">Create an integer scalar that has a value equal to <code>7</code> and serialize it with the name <code>int0</code>.</li>\n",
    "        <li style=\"margin-bottom: 10px\">Create a real scalar that has a value equal to <code>8.9</code> and serialize it with the name <code>real0</code>.</li>\n",
    "        <li style=\"margin-bottom: 10px\">Create a 2D double precision array of size (10,11) where the value at the <code>(i,j)</code> index is computed as <code>(j-1) + i + 0.1</code> when looping through <code>i</code> and <code>j</code>. Save the array using a Serialbox variable called <code>dp_arr0</code>.</li>\n",
    "        <li style=\"margin-bottom: 10px\">Create a Fortran derived data type that contains an integer, a real, and a 2D double precision array that are set to the same values as indicated in the 3 previous bullets (i.e. integer equal to <code>7</code>, real equal to <code>8.9</code>, etc.) and serialize the three values.  When serializing the data from the derived data type, write the integer into a Serialbox variable called <code>ddt_int0</code>, write the real into a Serialbox variable called <code>ddt_real0</code>, and write the 2D double precision array into a variable called <code>ddt_arr0</code>.</li>\n",
    "    </ol>\n",
    "</div>"
   ]
  },
  {
   "cell_type": "code",
   "execution_count": 1,
   "metadata": {
    "scrolled": true
   },
   "outputs": [
    {
     "name": "stdout",
     "output_type": "stream",
     "text": [
      "Writing serialBox_tutorial.F90\n"
     ]
    }
   ],
   "source": [
    "%%writefile serialBox_tutorial.F90\n",
    "\n",
    "module mod0\n",
    "    implicit none\n",
    "\n",
    "    type der_data_type\n",
    "        integer :: int_dd\n",
    "        real    :: real_dd\n",
    "        double precision, dimension(:,:), allocatable :: dp_arr_dd     \n",
    "    end type der_data_type\n",
    "\n",
    "end module mod0\n",
    "\n",
    "program serialBox_tutorial\n",
    "    use mod0\n",
    "    implicit none\n",
    "\n",
    "    integer          :: int0, ii, jj\n",
    "    real             :: real0\n",
    "\n",
    "    double precision, dimension(:,:), allocatable :: dp_arr0\n",
    "\n",
    "    type(der_data_type) dd_Type\n",
    "            \n",
    "    ! Initialize Serialbox   \n",
    "    ! Set up the data as indicated in the above cell\n",
    "    ! Serialize the data as indicated in the above cell using Serialbox\n",
    "   \n",
    "end program"
   ]
  },
  {
   "cell_type": "markdown",
   "metadata": {},
   "source": [
    "### Generating Serialized Data\n",
    "\n",
    "Once the Fortran file is written, we need to run the pre-processor provided by Serialbox `pp_ser.py` to generate the Fortran code which contains the low-level Serialbox API calls. In the example below, we generate a Fortran file `s_serialBox_tutorial.F90`. After that, the code is compiled using a Fortran compiler (e.g., `gfortran`) and executed to generated the serialized data."
   ]
  },
  {
   "cell_type": "code",
   "execution_count": null,
   "metadata": {},
   "outputs": [],
   "source": [
    "%%bash\n",
    "\n",
    "# remove old stuff\n",
    "[ -f tutorial_run ] && rm tutorial_run\n",
    "[ -f s_serialBox_tutorial.F90 ] && rm s_serialBox_tutorial.F90\n",
    "rm -rf ./data\n",
    "\n",
    "# run the Serialbox directives pre-processor\n",
    "python3 ${SERIALBOX_ROOT}/python/pp_ser/pp_ser.py -s -v --output=s_serialBox_tutorial.F90 serialBox_tutorial.F90\n",
    "pygmentize s_serialBox_tutorial.F90\n",
    "\n",
    "# compile generated source file\n",
    "gfortran -O3 -cpp -DSERIALIZE \\\n",
    "    -o tutorial_run s_serialBox_tutorial.F90 \\\n",
    "    -I${SERIALBOX_ROOT}/include \\\n",
    "    ${SERIALBOX_ROOT}/lib/libSerialboxFortran.a \\\n",
    "    ${SERIALBOX_ROOT}/lib/libSerialboxC.a \\\n",
    "    ${SERIALBOX_ROOT}/lib/libSerialboxCore.a \\\n",
    "    -lpthread -lstdc++ -lstdc++fs\n",
    "\n",
    "# run executable and generate serialization data\n",
    "./tutorial_run"
   ]
  },
  {
   "cell_type": "markdown",
   "metadata": {},
   "source": [
    "### Reading Serialized Data and Writing a Python Unit-Test\n",
    "\n",
    "Once the binary executes and writes out the data, the developer can run the following cell containing a Python script to verify whether the data serialized properly or not.  The script assumes that the developer has set up the data exactly as specified in bulleted list above.  If the only message printed is `All tests ran successfully!`, all the tests have passed!"
   ]
  },
  {
   "cell_type": "code",
   "execution_count": 4,
   "metadata": {},
   "outputs": [
    {
     "name": "stdout",
     "output_type": "stream",
     "text": [
      "All tests passed successfully!\n"
     ]
    }
   ],
   "source": [
    "#!/usr/bin/env python3\n",
    "\n",
    "import numpy as np\n",
    "import sys\n",
    "import os\n",
    "sys.path.append(os.environ.get('SERIALBOX_ROOT') + '/python')\n",
    "import serialbox as ser\n",
    "\n",
    "serializer = ser.Serializer(ser.OpenModeKind.Read,'./data', 'example')\n",
    "\n",
    "sp = serializer.get_savepoint('input_data')\n",
    "\n",
    "int0  = serializer.read('int0',  sp[0])[0]\n",
    "real0 = serializer.read('real0', sp[0])[0]\n",
    "\n",
    "dp_arr0   = serializer.read('dp_arr0',   sp[0])\n",
    "\n",
    "ddt_int0    = serializer.read('ddt_int0', sp[0])\n",
    "ddt_real0   = serializer.read('ddt_real0', sp[0])\n",
    "ddt_dp_arr0 = serializer.read('ddt_arr0', sp[0])\n",
    "\n",
    "int0_ref = 7\n",
    "real0_ref = np.float32(8.9)\n",
    "\n",
    "dp_arr0_ref = np.zeros((10,11), dtype=np.float32)\n",
    "\n",
    "for j in range(11):\n",
    "    for i in range(10):\n",
    "        dp_arr0_ref[i,j] = j + i+1 + 0.1\n",
    "\n",
    "try:\n",
    "    assert int0_ref == int0, \"int0 does not match!\"\n",
    "    assert real0_ref == real0, \"real0 does not match!\"\n",
    "    assert np.array_equal(dp_arr0_ref, dp_arr0), \"dp_arr0 does not match!\"\n",
    "    assert np.allclose(int0_ref, ddt_int0), \"ddt_int0 does not match!\"\n",
    "    assert np.allclose(real0_ref, ddt_real0), \"ddt_real0 does not match!\"\n",
    "    assert np.allclose(dp_arr0_ref, ddt_dp_arr0), \"ddt_arr0 does not match!\"\n",
    "except AssertionError as msg:\n",
    "    print(msg)\n",
    "\n",
    "print(\"All tests passed successfully!\")"
   ]
  },
  {
   "cell_type": "markdown",
   "metadata": {},
   "source": [
    "## Moving Forward (Optional)\n",
    "\n",
    "Often setting a savepoint can result in an excessive amount of data being produced. You may want to be strategic about using when you save data, either by using `!$ser verbatim if (condition)` around savepoints or using `!$ser on` and `!$ser off` if data volume becomes an issue, or you are not gaining unique tests out of the repetition of data. \n",
    "\n",
    "* Initialize Serialbox, have the serialized data written to a directory called `./data2`, and set the Serialbox file prefix to `example2`.\n",
    "* Create a Serialbox savepoint called loop_data that contains the variable `arr` data and index `n`\n",
    "* Save `arr` only for n = 1 and n = 50 by using the `!ser verbatim if ...` statement. Either save `n` as well, or change the python comparison code to not rely on it.\n",
    "* Note the 'ser init' statement can include `unique_id=.true.`. This allows you to save the same variable multiple times.    "
   ]
  },
  {
   "cell_type": "code",
   "execution_count": 6,
   "metadata": {
    "scrolled": true
   },
   "outputs": [
    {
     "name": "stdout",
     "output_type": "stream",
     "text": [
      "Writing serialBox_tutorial2.F90\n"
     ]
    }
   ],
   "source": [
    "%%writefile serialBox_tutorial2.F90\n",
    "\n",
    "subroutine compute_arr(arr, n)\n",
    "    double precision, dimension(100,100,100), intent(INOUT) :: arr\n",
    "    integer, intent(IN) :: n\n",
    "    integer          :: ii, jj, kk\n",
    "    do kk=1,100\n",
    "        do jj=2,100\n",
    "            do ii=2,100\n",
    "                arr(ii,jj,kk) = arr(ii, jj,kk) + (arr(ii-1,jj,kk) + arr(ii, jj - 1,kk) + 2 * arr(ii, jj,kk)) / (4 * n)\n",
    "            enddo\n",
    "        enddo\n",
    "    enddo\n",
    "    ! Add serialization statements\n",
    "    !$ser verbatim if (n == 1 .or. n == 50) then\n",
    "    !$ser savepoint 'loop_data'\n",
    "    !$ser data arr=arr n=n\n",
    "    !$ser verbatim endif\n",
    "end subroutine \n",
    "\n",
    "program serialBox_tutorial\n",
    "    use mod0\n",
    "    implicit none\n",
    "\n",
    "    integer          :: n\n",
    "    double precision, dimension(100,100,100) :: arr\n",
    "\n",
    "    ! Initialize Serialbox\n",
    "    !$ser init directory='./data2' prefix='example2' unique_id=.true.\n",
    "    !$ser mode write\n",
    "    !$ser on\n",
    "    do n=1,100\n",
    "       call compute_arr(arr, n)\n",
    "    enddo\n",
    "    !$ser cleanup\n",
    "    \n",
    "end program"
   ]
  },
  {
   "cell_type": "code",
   "execution_count": null,
   "metadata": {
    "scrolled": false
   },
   "outputs": [],
   "source": [
    "%%bash\n",
    "\n",
    "[ -f tutorial_run2 ] && rm tutorial_run2\n",
    "[ -f s_serialBox_tutorial2.F90 ] && rm s_serialBox_tutorial2.F90\n",
    "\n",
    "python3 ${SERIALBOX_ROOT}/python/pp_ser/pp_ser.py -s -v --output=s_serialBox_tutorial2.F90 serialBox_tutorial2.F90\n",
    "cat s_serialBox_tutorial2.F90\n",
    "gfortran -O3 -cpp -DSERIALIZE \\\n",
    "    -o tutorial_run2 s_serialBox_tutorial2.F90 \\\n",
    "    -I${SERIALBOX_ROOT}/include \\\n",
    "    ${SERIALBOX_ROOT}/lib/libSerialboxFortran.a \\\n",
    "    ${SERIALBOX_ROOT}/lib/libSerialboxC.a \\\n",
    "    ${SERIALBOX_ROOT}/lib/libSerialboxCore.a \\\n",
    "    -lpthread -lstdc++ -lstdc++fs \n",
    "rm -rf ./data2\n",
    "./tutorial_run2"
   ]
  },
  {
   "cell_type": "code",
   "execution_count": null,
   "metadata": {},
   "outputs": [],
   "source": [
    "#!/usr/bin/env python3\n",
    "\n",
    "import numpy as np\n",
    "import sys\n",
    "import os\n",
    "sys.path.append(os.environ.get('SERIALBOX_ROOT') + '/python')\n",
    "import serialbox as ser\n",
    "import gt4py.gtscript as gtscript\n",
    "import gt4py.storage as gt_storage\n",
    "backend=\"numpy\"\n",
    "@gtscript.stencil(backend=backend)\n",
    "def update_arr(arr: gtscript.Field[np.float64], n: int):\n",
    "    with computation(PARALLEL), interval(...):\n",
    "        arr = arr + (arr[-1, 0, 0] + arr[0, -1, 0] + 2 * arr) / (4 * n)\n",
    "\n",
    "data_path = './data2'        \n",
    "if not os.path.isdir(data_path):\n",
    "    raise Exception('Data directory does not exist', data_path)\n",
    "serializer = ser.Serializer(ser.OpenModeKind.Read, data_path, 'example2')\n",
    "saved_arrs = {}\n",
    "for savepoint in serializer.savepoint_list():\n",
    "    if savepoint.name == 'loop_data':\n",
    "        n = serializer.read('n',   savepoint)[0]\n",
    "        saved_arrs[n] = serializer.read('arr',   savepoint)\n",
    "shape = saved_arrs[1].shape\n",
    "\n",
    "arr0_ref =gt_storage.from_array(data=np.zeros(shape, dtype=np.float64), backend=backend, \n",
    "                                dtype=np.float64,default_origin=(0, 0, 0), shape=shape)\n",
    "for n in range(1, 101):\n",
    "    update_arr(arr0_ref, n, origin=(1, 1, 0), domain=(shape[0] - 1, shape[1] - 1, shape[2]))\n",
    "    if n == 1 or n == 50:\n",
    "      try:\n",
    "          print('Checking n =', n)\n",
    "          assert np.array_equal(arr0_ref, saved_arrs[n]), 'arr0 does not match!'\n",
    "      except AssertionError as msg:\n",
    "        print(msg)\n",
    "\n",
    "\n",
    "print(\"Finished running comparison tests!\")"
   ]
  },
  {
   "cell_type": "code",
   "execution_count": null,
   "metadata": {},
   "outputs": [],
   "source": []
  }
 ],
 "metadata": {
  "kernelspec": {
   "display_name": "Python 3",
   "language": "python",
   "name": "python3"
  },
  "language_info": {
   "codemirror_mode": {
    "name": "ipython",
    "version": 3
   },
   "file_extension": ".py",
   "mimetype": "text/x-python",
   "name": "python",
   "nbconvert_exporter": "python",
   "pygments_lexer": "ipython3",
   "version": "3.8.5"
  }
 },
 "nbformat": 4,
 "nbformat_minor": 4
}
