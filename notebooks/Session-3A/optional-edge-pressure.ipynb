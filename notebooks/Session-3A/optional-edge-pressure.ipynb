{
 "cells": [
  {
   "cell_type": "markdown",
   "metadata": {},
   "source": [
    "# Edge Pressure Optional Port\n",
    "\n",
    "This notebook will exercise your learning of Serialbox and porting from Fortran to Python.\n",
    "\n",
    "<div class=\"alert alert-block alert-info\">\n",
    "    <b> Now it's your turn: </b><br>\n",
    "    (Hint: Make sure that when you modify code you retain the original code by commenting it out so that you undo any of the modifications you do.)\n",
    "    <ol>\n",
    "       Add serialization statements before and after the call to the <code>compute_edge_pressure</code> subroutine, write a Python/GT4py version, and validate your answer. Note, you may consider, but don't have to, use 'regions.'\n",
    "            </ol>\n",
    "</div>\n"
   ]
  },
  {
   "cell_type": "markdown",
   "metadata": {},
   "source": [
    "## Fortran to port "
   ]
  },
  {
   "cell_type": "code",
   "execution_count": null,
   "metadata": {},
   "outputs": [],
   "source": [
    "%%writefile edge_pressure.F90\n",
    "\n",
    "subroutine compute_edge_pressure(is, ie, js, je, isd, ied, jsd, jed, npz, ptop, pe, delp)\n",
    "    integer, intent(in) :: is, ie, js, je, isd, ied, jsd, jed, npz\n",
    "    double precision, intent(in) :: ptop\n",
    "    double precision, intent(in), dimension(isd:ied,jsd:jed,npz):: delp\n",
    "    double precision, intent(inout), dimension(is-1:ie+1,npz+1,js-1:je+1):: pe\n",
    "    integer:: i,j,k\n",
    "\n",
    "    do j=js,je\n",
    "     pe(is-1,1,j) = ptop\n",
    "     pe(ie+1,1,j) = ptop\n",
    "     do k=1,npz\n",
    "        pe(is-1,k+1,j) = pe(is-1,k,j) + delp(is-1,j,k)\n",
    "        pe(ie+1,k+1,j) = pe(ie+1,k,j) + delp(ie+1,j,k)\n",
    "     enddo\n",
    "    enddo\n",
    "    \n",
    "    do i=is-1,ie+1\n",
    "     pe(i,1,js-1) = ptop\n",
    "     pe(i,1,je+1) = ptop\n",
    "     do k=1,npz\n",
    "        pe(i,k+1,js-1) = pe(i,k,js-1) + delp(i,js-1,k)\n",
    "        pe(i,k+1,je+1) = pe(i,k,je+1) + delp(i,je+1,k)\n",
    "     enddo\n",
    "  enddo\n",
    "end subroutine\n",
    "\n",
    "program edge_pressure\n",
    "\n",
    "  implicit none\n",
    "    \n",
    "  integer :: is, ie, js, je, isd, ied, jsd, jed, npz\n",
    "  double precision :: ptop\n",
    "  double precision, allocatable, dimension(:,:,:) :: delp, pe\n",
    "  \n",
    "  ! Initialize Serialbox and serialize the data you deem important for you to port this code\n",
    "  ! to Python/GT4Py\n",
    "\n",
    "  is = 1\n",
    "  ie = 48\n",
    "  js = 1\n",
    "  je = 48\n",
    "  isd = -2\n",
    "  ied = 51\n",
    "  jsd = -2\n",
    "  jed = 51\n",
    "  npz = 79\n",
    "  ptop = 300.0\n",
    "  allocate(delp(isd:ied, jsd:jed, npz))\n",
    "  allocate(pe(is-1:ie+1,npz+1,js-1:je+1))\n",
    "  call compute_edge_pressure(is, ie, js, je, isd, ied, jsd, jed, npz, ptop, pe, delp)\n",
    "end program"
   ]
  },
  {
   "cell_type": "markdown",
   "metadata": {},
   "source": [
    "Run the following cell to compile and run the above Fortran code"
   ]
  },
  {
   "cell_type": "code",
   "execution_count": null,
   "metadata": {},
   "outputs": [],
   "source": [
    "%%bash\n",
    "\n",
    "[ -f serialize_edge_pressure ] && rm serialize_edge_pressure\n",
    "[ -f s_edge_pressure.F90 ] && rm s_edge_pressure.F90\n",
    "\n",
    "python3 ${SERIALBOX_ROOT}/python/pp_ser/pp_ser.py -s -v --output=s_edge_pressure.F90 edge_pressure.F90\n",
    "gfortran -O3 -cpp -DSERIALIZE \\\n",
    "    -o serialize_edge_pressure s_edge_pressure.F90 \\\n",
    "    -I${SERIALBOX_ROOT}/include \\\n",
    "    ${SERIALBOX_ROOT}/lib/libSerialboxFortran.a \\\n",
    "    ${SERIALBOX_ROOT}/lib/libSerialboxC.a \\\n",
    "    ${SERIALBOX_ROOT}/lib/libSerialboxCore.a \\\n",
    "    -lpthread -lstdc++ -lstdc++fs\n",
    "rm -rf ./data_pe\n",
    "./serialize_edge_pressure"
   ]
  },
  {
   "cell_type": "markdown",
   "metadata": {},
   "source": [
    "## Python Implementation\n"
   ]
  },
  {
   "cell_type": "code",
   "execution_count": null,
   "metadata": {},
   "outputs": [],
   "source": [
    "#!/usr/bin/env python3\n",
    "\n",
    "import numpy as np\n",
    "import gt4py.gtscript as gtscript\n",
    "import gt4py.storage as gt_storage\n",
    "import sys\n",
    "import os\n",
    "sys.path.append(os.environ.get('SERIALBOX_ROOT')+ '/python')\n",
    "import serialbox as ser\n",
    "\n",
    "# TODO: define stencils\n",
    "\n",
    "# TODO: read serialized data\n",
    "\n",
    "# TODO: compute edge pressure \n",
    "\n",
    "# TODO: compare output fields to serialized data outputs"
   ]
  }
 ],
 "metadata": {
  "kernelspec": {
   "display_name": "workshop",
   "language": "python",
   "name": "venv"
  },
  "language_info": {
   "codemirror_mode": {
    "name": "ipython",
    "version": 3
   },
   "file_extension": ".py",
   "mimetype": "text/x-python",
   "name": "python",
   "nbconvert_exporter": "python",
   "pygments_lexer": "ipython3",
   "version": "3.7.5"
  }
 },
 "nbformat": 4,
 "nbformat_minor": 4
}
