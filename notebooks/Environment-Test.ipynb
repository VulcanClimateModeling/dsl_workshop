{
 "metadata": {
  "language_info": {
   "codemirror_mode": {
    "name": "ipython",
    "version": 3
   },
   "file_extension": ".py",
   "mimetype": "text/x-python",
   "name": "python",
   "nbconvert_exporter": "python",
   "pygments_lexer": "ipython3",
   "version": "3.7.3-final"
  },
  "orig_nbformat": 2,
  "kernelspec": {
   "name": "local-venv",
   "display_name": "local-venv"
  }
 },
 "nbformat": 4,
 "nbformat_minor": 2,
 "cells": [
  {
   "source": [
    "## GT4Py checks"
   ],
   "cell_type": "markdown",
   "metadata": {}
  },
  {
   "cell_type": "code",
   "execution_count": null,
   "metadata": {},
   "outputs": [],
   "source": [
    "import gt4py\n",
    "from gt4py import gtscript"
   ]
  },
  {
   "cell_type": "code",
   "execution_count": null,
   "metadata": {},
   "outputs": [],
   "source": [
    "@gtscript.stencil(backend=\"numpy\")\n",
    "def copy_stencil(in_storage: gtscript.Field[float], out_storage: gtscript.Field[float]):\n",
    "    with computation(FORWARD):\n",
    "        with interval(...):\n",
    "            out_storage = in_storage"
   ]
  },
  {
   "cell_type": "code",
   "execution_count": null,
   "metadata": {},
   "outputs": [],
   "source": [
    "shape = (1, 10, 10)\n",
    "in_storage = gt4py.storage.ones(\n",
    "    shape=shape, default_origin=(0, 0, 0), dtype=float, backend=\"numpy\"\n",
    ")\n",
    "in_storage.data[:, 2:7, :] = 2\n",
    "out_storage = gt4py.storage.zeros(\n",
    "    shape=shape, default_origin=(0, 0, 0), dtype=float, backend=\"numpy\"\n",
    ")\n",
    "copy_stencil(\n",
    "    in_storage, out_storage,origin=(0, 1, 1), domain=(1, 8, 8)\n",
    ")\n",
    "print(out_storage)"
   ]
  },
  {
   "cell_type": "code",
   "execution_count": null,
   "metadata": {},
   "outputs": [],
   "source": [
    "@gtscript.stencil(backend=\"gtx86\")\n",
    "def copy_stencil_x86(in_storage: gtscript.Field[float], out_storage: gtscript.Field[float]):\n",
    "    with computation(FORWARD):\n",
    "        with interval(...):\n",
    "            out_storage = in_storage\n"
   ]
  },
  {
   "cell_type": "code",
   "execution_count": null,
   "metadata": {},
   "outputs": [],
   "source": [
    "shape = (1, 10, 10)\n",
    "in_storage_x86 = gt4py.storage.ones(\n",
    "    shape=shape, default_origin=(0, 0, 0), dtype=float, backend=\"gtx86\"\n",
    ")\n",
    "in_storage_x86.data[:, 2:7, :] = 3\n",
    "out_storage_x86 = gt4py.storage.zeros(\n",
    "    shape=shape, default_origin=(0, 0, 0), dtype=float, backend=\"gtx86\"\n",
    ")\n",
    "copy_stencil_x86(\n",
    "    in_storage_x86, out_storage_x86, origin=(0, 1, 1), domain=(1, 8, 8)\n",
    ")\n",
    "print(out_storage)"
   ]
  },
  {
   "source": [
    "## MPI & Ipyparallel checks"
   ],
   "cell_type": "markdown",
   "metadata": {}
  },
  {
   "cell_type": "code",
   "execution_count": null,
   "metadata": {},
   "outputs": [],
   "source": [
    "%%bash\n",
    "source $HOME/venv/bin/activate\n",
    "which ipcluster\n",
    "ipcluster start -n 4 --daemonize \n",
    "# --controller=mpi seems to bug out"
   ]
  },
  {
   "cell_type": "code",
   "execution_count": null,
   "metadata": {},
   "outputs": [],
   "source": [
    "import ipyparallel as ipp\n",
    "rc = ipp.Client()\n",
    "ids = rc.ids\n",
    "print(ids)\n",
    "%autopx"
   ]
  },
  {
   "cell_type": "code",
   "execution_count": null,
   "metadata": {},
   "outputs": [],
   "source": [
    "print(\"hi\")"
   ]
  },
  {
   "cell_type": "code",
   "execution_count": null,
   "metadata": {},
   "outputs": [],
   "source": [
    "from mpi4py import MPI\n",
    "\n",
    "print(MPI.COMM_WORLD.Get_rank())"
   ]
  }
 ]
}