{
 "cells": [
  {
   "cell_type": "markdown",
   "metadata": {},
   "source": [
    "# Quantity"
   ]
  },
  {
   "cell_type": "markdown",
   "metadata": {},
   "source": [
    "## Getting Started"
   ]
  },
  {
   "cell_type": "markdown",
   "metadata": {},
   "source": [
    "Before we start, let's import the symbols we're going to use from `fv3gfs.util`, as well as `numpy` and `gt4py` to allocate data."
   ]
  },
  {
   "cell_type": "code",
   "execution_count": 3,
   "metadata": {},
   "outputs": [],
   "source": [
    "from fv3gfs.util import Quantity, X_DIM, Y_DIM, Z_DIM, X_INTERFACE_DIM, Y_INTERFACE_DIM, Z_INTERFACE_DIM\n",
    "import numpy as np\n",
    "import gt4py"
   ]
  },
  {
   "cell_type": "markdown",
   "metadata": {},
   "source": [
    "## A Quick Look"
   ]
  },
  {
   "cell_type": "markdown",
   "metadata": {},
   "source": [
    "Let's check out some of the features we just went over in slides. We're going to initialize a quantity a couple different ways, check out how the `quantity.storage` and `quantity.data` attributes relate to each other, and do a couple indexing operations."
   ]
  },
  {
   "cell_type": "markdown",
   "metadata": {},
   "source": [
    "### Initialization"
   ]
  },
  {
   "cell_type": "markdown",
   "metadata": {},
   "source": [
    "First, we'll show how you can create a Quantity using a numpy array. The initialization routine has three required arguments (data, dims, and units), and three optional arguments (origin, extent, and gt4py_backend)."
   ]
  },
  {
   "cell_type": "code",
   "execution_count": 4,
   "metadata": {},
   "outputs": [
    {
     "name": "stdout",
     "output_type": "stream",
     "text": [
      "Help on function __init__ in module fv3gfs.util.quantity:\n",
      "\n",
      "__init__(self, data, dims: Sequence[str], units: str, origin: Sequence[int] = None, extent: Sequence[int] = None, gt4py_backend: Union[str, NoneType] = None)\n",
      "    Initialize a Quantity.\n",
      "    \n",
      "    Args:\n",
      "        data: ndarray-like object containing the underlying data\n",
      "        dims: dimension names for each axis\n",
      "        units: units of the quantity\n",
      "        origin: first point in data within the computational domain\n",
      "        extent: number of points along each axis within the computational domain\n",
      "        gt4py_backend: backend to use for gt4py storages, if not given this will\n",
      "            be derived from a Storage if given as the data argument, otherwise the\n",
      "            storage attribute is disabled and will raise an exception\n",
      "\n"
     ]
    }
   ],
   "source": [
    "help(Quantity.__init__)"
   ]
  },
  {
   "cell_type": "markdown",
   "metadata": {},
   "source": [
    "This cell shows that you can create a quantity without specifying `gt4py_backend`, but if you do you won't be able to access its `.storage` attribute. In this workshop, be sure to supply a backend."
   ]
  },
  {
   "cell_type": "code",
   "execution_count": 5,
   "metadata": {},
   "outputs": [
    {
     "ename": "TypeError",
     "evalue": "Quantity was initialized with a non-storage type and no gt4py backend was given",
     "output_type": "error",
     "traceback": [
      "\u001b[0;31m---------------------------------------------------------------------------\u001b[0m",
      "\u001b[0;31mTypeError\u001b[0m                                 Traceback (most recent call last)",
      "\u001b[0;32m<ipython-input-5-5a32e39374d3>\u001b[0m in \u001b[0;36m<module>\u001b[0;34m\u001b[0m\n\u001b[1;32m      9\u001b[0m )\n\u001b[1;32m     10\u001b[0m \u001b[0;34m\u001b[0m\u001b[0m\n\u001b[0;32m---> 11\u001b[0;31m \u001b[0mprint\u001b[0m\u001b[0;34m(\u001b[0m\u001b[0mquantity\u001b[0m\u001b[0;34m.\u001b[0m\u001b[0mstorage\u001b[0m\u001b[0;34m)\u001b[0m  \u001b[0;31m# this line will trigger a TypeError\u001b[0m\u001b[0;34m\u001b[0m\u001b[0;34m\u001b[0m\u001b[0m\n\u001b[0m",
      "\u001b[0;32m~/python/fv3gfs-util/fv3gfs/util/quantity.py\u001b[0m in \u001b[0;36mstorage\u001b[0;34m(self)\u001b[0m\n\u001b[1;32m    368\u001b[0m         \u001b[0;32melif\u001b[0m \u001b[0mself\u001b[0m\u001b[0;34m.\u001b[0m\u001b[0m_storage\u001b[0m \u001b[0;32mis\u001b[0m \u001b[0;32mNone\u001b[0m \u001b[0;32mand\u001b[0m \u001b[0mself\u001b[0m\u001b[0;34m.\u001b[0m\u001b[0mgt4py_backend\u001b[0m \u001b[0;32mis\u001b[0m \u001b[0;32mNone\u001b[0m\u001b[0;34m:\u001b[0m\u001b[0;34m\u001b[0m\u001b[0;34m\u001b[0m\u001b[0m\n\u001b[1;32m    369\u001b[0m             raise TypeError(\n\u001b[0;32m--> 370\u001b[0;31m                 \u001b[0;34m\"Quantity was initialized with a non-storage type and \"\u001b[0m\u001b[0;34m\u001b[0m\u001b[0;34m\u001b[0m\u001b[0m\n\u001b[0m\u001b[1;32m    371\u001b[0m                 \u001b[0;34m\"no gt4py backend was given\"\u001b[0m\u001b[0;34m\u001b[0m\u001b[0;34m\u001b[0m\u001b[0m\n\u001b[1;32m    372\u001b[0m             )\n",
      "\u001b[0;31mTypeError\u001b[0m: Quantity was initialized with a non-storage type and no gt4py backend was given"
     ]
    }
   ],
   "source": [
    "array = np.zeros([6, 6])\n",
    "quantity = Quantity(\n",
    "    array,\n",
    "    origin=(1, 1),\n",
    "    extent=(4, 4),\n",
    "    dims=[X_DIM, Y_DIM],\n",
    "    units=\"degK\"\n",
    "    # we're not passing in gt4py_backend\n",
    ")\n",
    "\n",
    "print(quantity.storage)  # this line will trigger a TypeError"
   ]
  },
  {
   "cell_type": "markdown",
   "metadata": {},
   "source": [
    "You will also notice we imported some symbols for dimension types. When you initialize a quantity, you must use those symbols in the `dims` if you plan to use other dimensionally-aware features of `fv3gfs.util`. For example, the halo updates use those particular values to determine the orientation of the array when copying halo regions."
   ]
  },
  {
   "cell_type": "markdown",
   "metadata": {},
   "source": [
    "To access a storage, you need to give a `gt4py_backend` when you initialize the Quantity. For CPU, you likely want to use \"numpy\", \"gtx86\", or \"gtmc\". For GPU, you want to use \"gtcuda\"."
   ]
  },
  {
   "cell_type": "markdown",
   "metadata": {},
   "source": [
    "Also a quick note that `units` is a required input. Technically you can insert an empty string `\"\"` for units and the code wil run. If you're going to do this instead of inserting unit information, we suggest at least using `\"unknown\"` or a similar string, since an empty string is a unit (unitless).\n",
    "\n",
    "Keep in mind when deciding whether to write units that for less time than you need to take a sip of your morning coffee, you could save a grad student (or your future self) weeks of debugging their code."
   ]
  },
  {
   "cell_type": "markdown",
   "metadata": {},
   "source": [
    "### Indexing and view"
   ]
  },
  {
   "cell_type": "markdown",
   "metadata": {},
   "source": [
    "Now that we can create a Quantity, we can use it for indexing. You should be able to write indexing code which is aware of the locations of the compute domain edges without writing down those locations, because the Quantity already knows them.\n",
    "\n",
    "A very common operation is to retrieve the entire compute domain with no halos. Quantity provides a convenient way to interact with and index on the compute domain for an array which contains halos."
   ]
  },
  {
   "cell_type": "code",
   "execution_count": 8,
   "metadata": {},
   "outputs": [
    {
     "name": "stdout",
     "output_type": "stream",
     "text": [
      "[[ 0.  1.  2.  3.]\n",
      " [ 4.  5.  6.  7.]\n",
      " [ 8.  9. 10. 11.]\n",
      " [12. 13. 14. 15.]]\n",
      "<class 'fv3gfs.util.quantity.BoundedArrayView'>\n",
      "<class 'numpy.ndarray'>\n"
     ]
    }
   ],
   "source": [
    "quantity.view[:] = np.arange(16).reshape([4, 4])\n",
    "print(quantity.view[:])\n",
    "print(type(quantity.view))\n",
    "print(type(quantity.view[:]))"
   ]
  },
  {
   "cell_type": "markdown",
   "metadata": {},
   "source": [
    "Note that `view` itself is not a numpy array. It is a custom object which provides indexing operations, and indexing returns a numpy array."
   ]
  },
  {
   "cell_type": "markdown",
   "metadata": {},
   "source": [
    "If we look at the entire array, we can see the halos are left untouched."
   ]
  },
  {
   "cell_type": "code",
   "execution_count": 11,
   "metadata": {},
   "outputs": [
    {
     "name": "stdout",
     "output_type": "stream",
     "text": [
      "[[ 0.  0.  0.  0.  0.  0.]\n",
      " [ 0.  0.  1.  2.  3.  0.]\n",
      " [ 0.  4.  5.  6.  7.  0.]\n",
      " [ 0.  8.  9. 10. 11.  0.]\n",
      " [ 0. 12. 13. 14. 15.  0.]\n",
      " [ 0.  0.  0.  0.  0.  0.]]\n"
     ]
    }
   ],
   "source": [
    "print(quantity.data)"
   ]
  },
  {
   "cell_type": "markdown",
   "metadata": {},
   "source": [
    "You can also modify the compute domain by modifying an index or slice of view. In the cell below, set the compute domain values to 1."
   ]
  },
  {
   "cell_type": "code",
   "execution_count": 7,
   "metadata": {},
   "outputs": [
    {
     "name": "stdout",
     "output_type": "stream",
     "text": [
      "[[0. 0. 0. 0. 0. 0.]\n",
      " [0. 0. 0. 0. 0. 0.]\n",
      " [0. 0. 0. 0. 0. 0.]\n",
      " [0. 0. 0. 0. 0. 0.]\n",
      " [0. 0. 0. 0. 0. 0.]\n",
      " [0. 0. 0. 0. 0. 0.]]\n"
     ]
    }
   ],
   "source": [
    "quantity.data[:] = 0.\n",
    "\n",
    "# Exercise: set the compute domain values to 1.\n",
    "\n",
    "\n",
    "print(quantity.data)\n",
    "# expected:\n",
    "#[[0. 0. 0. 0. 0. 0.]\n",
    "# [0. 1. 1. 1. 1. 0.]\n",
    "# [0. 1. 1. 1. 1. 0.]\n",
    "# [0. 1. 1. 1. 1. 0.]\n",
    "# [0. 1. 1. 1. 1. 0.]\n",
    "# [0. 0. 0. 0. 0. 0.]]"
   ]
  },
  {
   "cell_type": "markdown",
   "metadata": {},
   "source": [
    "Providing indices in `view` has fairly complex behavior, to deal with the complexities of having halos. If you need to get more \"normal\" indexing, you can first create a numpy array with `view[:]`, and then provide indexing on the \"normal\" numpy array. For example, -1 does not behave the same as for a numpy array or list, because you may actually want to index into the halo instead of wrapping around to the other edge of the compute domain:"
   ]
  },
  {
   "cell_type": "code",
   "execution_count": 9,
   "metadata": {},
   "outputs": [
    {
     "name": "stdout",
     "output_type": "stream",
     "text": [
      "[[0. 0.]\n",
      " [0. 0.]]\n"
     ]
    }
   ],
   "source": [
    "# gives the second through second-last points on each axis\n",
    "print(quantity.view[:][1:-1, 1:-1])"
   ]
  },
  {
   "cell_type": "code",
   "execution_count": 10,
   "metadata": {},
   "outputs": [
    {
     "name": "stdout",
     "output_type": "stream",
     "text": [
      "[]\n"
     ]
    }
   ],
   "source": [
    "# -1 is treated as the halo point before the origin\n",
    "# since end is before start, gives an empty view\n",
    "print(quantity.view[1:-1, 1:-1])  "
   ]
  },
  {
   "cell_type": "markdown",
   "metadata": {},
   "source": [
    "The exact behavior of `quantity.view` and its attributes (explored further in \"moving forward\") is evolving as we use it more and collect feedback on its use cases. If you have feedback or use cases you'd like to bring to our attention, please contact us about it!"
   ]
  },
  {
   "cell_type": "code",
   "execution_count": 11,
   "metadata": {
    "scrolled": true
   },
   "outputs": [
    {
     "name": "stdout",
     "output_type": "stream",
     "text": [
      "Help on BoundedArrayView in module fv3gfs.util.quantity object:\n",
      "\n",
      "class BoundedArrayView(builtins.object)\n",
      " |  BoundedArrayView(array, dims, origin, extent)\n",
      " |  \n",
      " |  A container of objects which provide indexing relative to corners and edges\n",
      " |  of the computational domain for convenience.\n",
      " |  \n",
      " |  Default start and end indices for all dimensions are modified to be the\n",
      " |  start and end of the compute domain. When using edge and corner attributes, it is\n",
      " |  recommended to explicitly write start and end offsets to avoid confusion.\n",
      " |  \n",
      " |  Indexing on the object itself (view[:]) is offset by the origin, and default\n",
      " |  start and end indices are modified to be the start and end of the compute domain.\n",
      " |  \n",
      " |  For corner attributes e.g. `northwest`, modified indexing is done for the two\n",
      " |  axes according to the edges which make up the corner. In other words, indexing\n",
      " |  is offset relative to the intersection of the two edges which make the corner.\n",
      " |  \n",
      " |  For `interior`, start indices of the horizontal dimensions are relative to the\n",
      " |  origin, and end indices are relative to the origin + extent. For example,\n",
      " |  view.interior[0:0, 0:0, :] would retrieve the entire compute domain for an x/y/z\n",
      " |  array, while view.interior[-1:1, -1:1, :] would also include one halo point.\n",
      " |  \n",
      " |  Methods defined here:\n",
      " |  \n",
      " |  __getitem__(self, index)\n",
      " |  \n",
      " |  __init__(self, array, dims, origin, extent)\n",
      " |      Initialize self.  See help(type(self)) for accurate signature.\n",
      " |  \n",
      " |  __setitem__(self, index, value)\n",
      " |  \n",
      " |  ----------------------------------------------------------------------\n",
      " |  Data descriptors defined here:\n",
      " |  \n",
      " |  __dict__\n",
      " |      dictionary for instance variables (if defined)\n",
      " |  \n",
      " |  __weakref__\n",
      " |      list of weak references to the object (if defined)\n",
      " |  \n",
      " |  extent\n",
      " |      the shape of the computational domain\n",
      " |  \n",
      " |  interior\n",
      " |  \n",
      " |  northeast\n",
      " |  \n",
      " |  northwest\n",
      " |  \n",
      " |  origin\n",
      " |      the start of the computational domain\n",
      " |  \n",
      " |  southeast\n",
      " |  \n",
      " |  southwest\n",
      "\n",
      "None\n"
     ]
    }
   ],
   "source": [
    "print(help(quantity.view))"
   ]
  },
  {
   "cell_type": "markdown",
   "metadata": {},
   "source": [
    "### Storage integration"
   ]
  },
  {
   "cell_type": "markdown",
   "metadata": {},
   "source": [
    "Quantity has integration both to initialize a Quantity from a GT4py storage object, and to retrieve a storage from the Quantity. The ndarray attribute `quantity.data` shares the same memory as the storage attribute `quantity.storage`, so that modifying one will modify both without performing a copy."
   ]
  },
  {
   "cell_type": "markdown",
   "metadata": {},
   "source": [
    "This first cell shows how a Quantity can be used to initialize a storage."
   ]
  },
  {
   "cell_type": "code",
   "execution_count": 12,
   "metadata": {},
   "outputs": [
    {
     "name": "stdout",
     "output_type": "stream",
     "text": [
      "[[0. 0. 0. 0. 0. 0.]\n",
      " [0. 0. 0. 0. 0. 0.]\n",
      " [0. 0. 0. 0. 0. 0.]\n",
      " [0. 0. 0. 0. 0. 0.]\n",
      " [0. 0. 0. 0. 0. 0.]\n",
      " [0. 0. 0. 0. 0. 0.]]\n"
     ]
    }
   ],
   "source": [
    "array = np.zeros([6, 6])\n",
    "quantity = Quantity(\n",
    "    array,\n",
    "    origin=(1, 1),\n",
    "    extent=(4, 4),\n",
    "    dims=[X_DIM, Y_DIM],\n",
    "    units=\"degK\",\n",
    "    gt4py_backend=\"numpy\",\n",
    ")\n",
    "print(quantity.storage)"
   ]
  },
  {
   "cell_type": "markdown",
   "metadata": {},
   "source": [
    "The `data` attribute and view slices provide a numpy (or if using a GPU storage, cupy) array for the underlying data. Modifying any of these will modify all three."
   ]
  },
  {
   "cell_type": "code",
   "execution_count": 13,
   "metadata": {
    "scrolled": true
   },
   "outputs": [
    {
     "name": "stdout",
     "output_type": "stream",
     "text": [
      "<class 'gt4py.storage.storage.CPUStorage'>\n",
      "<class 'numpy.ndarray'>\n"
     ]
    }
   ],
   "source": [
    "print(type(quantity.storage))\n",
    "print(type(quantity.data))"
   ]
  },
  {
   "cell_type": "code",
   "execution_count": 14,
   "metadata": {
    "scrolled": false
   },
   "outputs": [
    {
     "name": "stdout",
     "output_type": "stream",
     "text": [
      "[[1. 0. 0. 0. 0. 0.]\n",
      " [0. 2. 0. 0. 0. 0.]\n",
      " [0. 0. 0. 0. 0. 0.]\n",
      " [0. 0. 0. 0. 0. 0.]\n",
      " [0. 0. 0. 0. 3. 0.]\n",
      " [0. 0. 0. 0. 0. 0.]]\n",
      "[[2. 0. 0. 0.]\n",
      " [0. 0. 0. 0.]\n",
      " [0. 0. 0. 0.]\n",
      " [0. 0. 0. 3.]]\n"
     ]
    }
   ],
   "source": [
    "quantity.storage[0, 0] = 1\n",
    "quantity.storage[1, 1] = 2\n",
    "quantity.storage[4, 4] = 3\n",
    "print(quantity.data)\n",
    "print(quantity.view[:])"
   ]
  },
  {
   "cell_type": "markdown",
   "metadata": {},
   "source": [
    "## Moving Forward"
   ]
  },
  {
   "cell_type": "markdown",
   "metadata": {},
   "source": [
    "Let's go into some more detail about `quantity.view` and its attributes. When you use these view objects, you should think of the start and end indices as being offset from some reference index. This means that a negative index refers to a location before the reference, and not necessarily to the end of the array.\n",
    "\n",
    "For one attribute (`quantity.view.interior`), the reference is different for the start and end indices.\n",
    "\n",
    "The behavior of these views may seem non-intuitive if you are familiar with numpy array indexing. For simple analysis code running in the compute domain, you will not need these view attributes. Keep in mind that the use case for these views is to access either halo or compute data near corners and edges of the compute domain, and that the two \"weird\" behaviors (negatives and the behavior of 0:0 for `quantity.view.interior`) are designed for that use case."
   ]
  },
  {
   "cell_type": "markdown",
   "metadata": {},
   "source": [
    "Let's start by creating a quantity with increasing values, so we can tell what regions we're viewing. We'll also use a quantity with two halo points."
   ]
  },
  {
   "cell_type": "code",
   "execution_count": 13,
   "metadata": {},
   "outputs": [
    {
     "name": "stdout",
     "output_type": "stream",
     "text": [
      "[[ 0  1  2  3  4  5  6]\n",
      " [ 7  8  9 10 11 12 13]\n",
      " [14 15 16 17 18 19 20]\n",
      " [21 22 23 24 25 26 27]\n",
      " [28 29 30 31 32 33 34]\n",
      " [35 36 37 38 39 40 41]\n",
      " [42 43 44 45 46 47 48]]\n"
     ]
    }
   ],
   "source": [
    "# set quantity.data to sequential values so we can see what region we're viewing\n",
    "array = np.zeros([7, 7])\n",
    "quantity = Quantity(\n",
    "    np.arange(49).reshape([7, 7]),\n",
    "    origin=(2, 2),\n",
    "    extent=(3, 3),\n",
    "    dims=[X_DIM, Y_DIM],\n",
    "    units=\"degK\",\n",
    "    gt4py_backend=\"numpy\",\n",
    ")\n",
    "print(quantity.storage)"
   ]
  },
  {
   "cell_type": "code",
   "execution_count": 15,
   "metadata": {},
   "outputs": [
    {
     "ename": "TypeError",
     "evalue": "object of type 'slice' has no len()",
     "output_type": "error",
     "traceback": [
      "\u001b[0;31m---------------------------------------------------------------------------\u001b[0m",
      "\u001b[0;31mTypeError\u001b[0m                                 Traceback (most recent call last)",
      "\u001b[0;32m<ipython-input-15-31f748d9c844>\u001b[0m in \u001b[0;36m<module>\u001b[0;34m\u001b[0m\n\u001b[0;32m----> 1\u001b[0;31m \u001b[0mquantity\u001b[0m\u001b[0;34m.\u001b[0m\u001b[0mview\u001b[0m\u001b[0;34m.\u001b[0m\u001b[0msouthwest\u001b[0m\u001b[0;34m[\u001b[0m\u001b[0;34m:\u001b[0m\u001b[0;34m]\u001b[0m\u001b[0;34m\u001b[0m\u001b[0;34m\u001b[0m\u001b[0m\n\u001b[0m",
      "\u001b[0;32m~/python/fv3gfs-util/fv3gfs/util/quantity.py\u001b[0m in \u001b[0;36m__getitem__\u001b[0;34m(self, index)\u001b[0m\n\u001b[1;32m     72\u001b[0m                 \u001b[0;32mreturn\u001b[0m \u001b[0mself\u001b[0m\u001b[0;34m.\u001b[0m\u001b[0m_data\u001b[0m  \u001b[0;31m# array[()] does not return an ndarray\u001b[0m\u001b[0;34m\u001b[0m\u001b[0;34m\u001b[0m\u001b[0m\n\u001b[1;32m     73\u001b[0m         \u001b[0;32melse\u001b[0m\u001b[0;34m:\u001b[0m\u001b[0;34m\u001b[0m\u001b[0;34m\u001b[0m\u001b[0m\n\u001b[0;32m---> 74\u001b[0;31m             \u001b[0;32mreturn\u001b[0m \u001b[0mself\u001b[0m\u001b[0;34m.\u001b[0m\u001b[0m_data\u001b[0m\u001b[0;34m[\u001b[0m\u001b[0mself\u001b[0m\u001b[0;34m.\u001b[0m\u001b[0m_get_array_index\u001b[0m\u001b[0;34m(\u001b[0m\u001b[0mindex\u001b[0m\u001b[0;34m)\u001b[0m\u001b[0;34m]\u001b[0m\u001b[0;34m\u001b[0m\u001b[0;34m\u001b[0m\u001b[0m\n\u001b[0m\u001b[1;32m     75\u001b[0m \u001b[0;34m\u001b[0m\u001b[0m\n\u001b[1;32m     76\u001b[0m     \u001b[0;32mdef\u001b[0m \u001b[0m__setitem__\u001b[0m\u001b[0;34m(\u001b[0m\u001b[0mself\u001b[0m\u001b[0;34m,\u001b[0m \u001b[0mindex\u001b[0m\u001b[0;34m,\u001b[0m \u001b[0mvalue\u001b[0m\u001b[0;34m)\u001b[0m\u001b[0;34m:\u001b[0m\u001b[0;34m\u001b[0m\u001b[0;34m\u001b[0m\u001b[0m\n",
      "\u001b[0;32m~/python/fv3gfs-util/fv3gfs/util/quantity.py\u001b[0m in \u001b[0;36m_get_array_index\u001b[0;34m(self, index)\u001b[0m\n\u001b[1;32m     78\u001b[0m \u001b[0;34m\u001b[0m\u001b[0m\n\u001b[1;32m     79\u001b[0m     \u001b[0;32mdef\u001b[0m \u001b[0m_get_array_index\u001b[0m\u001b[0;34m(\u001b[0m\u001b[0mself\u001b[0m\u001b[0;34m,\u001b[0m \u001b[0mindex\u001b[0m\u001b[0;34m)\u001b[0m\u001b[0;34m:\u001b[0m\u001b[0;34m\u001b[0m\u001b[0;34m\u001b[0m\u001b[0m\n\u001b[0;32m---> 80\u001b[0;31m         \u001b[0;32mif\u001b[0m \u001b[0mlen\u001b[0m\u001b[0;34m(\u001b[0m\u001b[0mindex\u001b[0m\u001b[0;34m)\u001b[0m \u001b[0;34m>\u001b[0m \u001b[0mlen\u001b[0m\u001b[0;34m(\u001b[0m\u001b[0mself\u001b[0m\u001b[0;34m.\u001b[0m\u001b[0m_dims\u001b[0m\u001b[0;34m)\u001b[0m\u001b[0;34m:\u001b[0m\u001b[0;34m\u001b[0m\u001b[0;34m\u001b[0m\u001b[0m\n\u001b[0m\u001b[1;32m     81\u001b[0m             raise IndexError(\n\u001b[1;32m     82\u001b[0m                 \u001b[0;34mf\"{len(index)} is too many indices for a \"\u001b[0m\u001b[0;34m\u001b[0m\u001b[0;34m\u001b[0m\u001b[0m\n",
      "\u001b[0;31mTypeError\u001b[0m: object of type 'slice' has no len()"
     ]
    }
   ],
   "source": [
    "quantity.view.southwest[:]"
   ]
  },
  {
   "cell_type": "markdown",
   "metadata": {},
   "source": [
    "The closest thing to what we've already seen is `quantity.view.southwest`. This one is actually identical to `quantity.view`, and is provided for completeness."
   ]
  },
  {
   "cell_type": "code",
   "execution_count": 14,
   "metadata": {},
   "outputs": [
    {
     "name": "stdout",
     "output_type": "stream",
     "text": [
      "[[16 17]\n",
      " [23 24]]\n",
      "[[16 17]\n",
      " [23 24]]\n"
     ]
    }
   ],
   "source": [
    "print(quantity.view.southwest[:2, :2])\n",
    "print(quantity.view[:2, :2])"
   ]
  },
  {
   "cell_type": "markdown",
   "metadata": {},
   "source": [
    "Other corners are useful for accessing data in the neighborhood of those corners. For example, this will access the compute data immediately next to the northeast corner:"
   ]
  },
  {
   "cell_type": "code",
   "execution_count": 86,
   "metadata": {},
   "outputs": [
    {
     "data": {
      "text/plain": [
       "array([[21, 22],\n",
       "       [27, 28]])"
      ]
     },
     "execution_count": 86,
     "metadata": {},
     "output_type": "execute_result"
    }
   ],
   "source": [
    "quantity.view.northeast[-2:, -2:]"
   ]
  },
  {
   "cell_type": "markdown",
   "metadata": {},
   "source": [
    "while the following will access the halo data next to the northeast corner:"
   ]
  },
  {
   "cell_type": "code",
   "execution_count": 95,
   "metadata": {},
   "outputs": [
    {
     "data": {
      "text/plain": [
       "array([[40, 41],\n",
       "       [47, 48]])"
      ]
     },
     "execution_count": 95,
     "metadata": {},
     "output_type": "execute_result"
    }
   ],
   "source": [
    "# 0 and 2 are both offsets from the northeast corner\n",
    "quantity.view.northeast[0:2, 0:2]"
   ]
  },
  {
   "cell_type": "markdown",
   "metadata": {},
   "source": [
    "Exercise: use `quantity.view.southeast` to print the halo points on the east edge."
   ]
  },
  {
   "cell_type": "code",
   "execution_count": 96,
   "metadata": {},
   "outputs": [
    {
     "ename": "SyntaxError",
     "evalue": "invalid syntax (<ipython-input-96-4cbd891a6068>, line 1)",
     "output_type": "error",
     "traceback": [
      "\u001b[0;36m  File \u001b[0;32m\"<ipython-input-96-4cbd891a6068>\"\u001b[0;36m, line \u001b[0;32m1\u001b[0m\n\u001b[0;31m    print(quantity.view.southeast[???])\u001b[0m\n\u001b[0m                                  ^\u001b[0m\n\u001b[0;31mSyntaxError\u001b[0m\u001b[0;31m:\u001b[0m invalid syntax\n"
     ]
    }
   ],
   "source": [
    "print(quantity.view.southeast[???])"
   ]
  },
  {
   "cell_type": "markdown",
   "metadata": {},
   "source": [
    "`quantity.view.interior` may appear awkward, when you see what it returns for this slice:"
   ]
  },
  {
   "cell_type": "code",
   "execution_count": 97,
   "metadata": {},
   "outputs": [
    {
     "name": "stdout",
     "output_type": "stream",
     "text": [
      "[[16 17 18]\n",
      " [23 24 25]\n",
      " [30 31 32]]\n"
     ]
    }
   ],
   "source": [
    "print(quantity.view.interior[0:0, 0:0])"
   ]
  },
  {
   "cell_type": "markdown",
   "metadata": {},
   "source": [
    "The use case for `quantity.view.interior` is to make small modifications on the boundaries that mark the compute domain (called \"interior\" because compute is an overloaded term).\n",
    "\n",
    "Exercise: Below, use `quantity.view.interior` to print the quantity including the first ring of halo points but excluding the second ring. The output should look identical to the `data` operation below:"
   ]
  },
  {
   "cell_type": "code",
   "execution_count": 101,
   "metadata": {},
   "outputs": [
    {
     "ename": "SyntaxError",
     "evalue": "invalid syntax (<ipython-input-101-53879e157e89>, line 1)",
     "output_type": "error",
     "traceback": [
      "\u001b[0;36m  File \u001b[0;32m\"<ipython-input-101-53879e157e89>\"\u001b[0;36m, line \u001b[0;32m1\u001b[0m\n\u001b[0;31m    print(quantity.view.interior[???])\u001b[0m\n\u001b[0m                                 ^\u001b[0m\n\u001b[0;31mSyntaxError\u001b[0m\u001b[0;31m:\u001b[0m invalid syntax\n"
     ]
    }
   ],
   "source": [
    "print(quantity.view.interior[???])"
   ]
  },
  {
   "cell_type": "code",
   "execution_count": 102,
   "metadata": {},
   "outputs": [
    {
     "name": "stdout",
     "output_type": "stream",
     "text": [
      "[[ 8  9 10 11 12]\n",
      " [15 16 17 18 19]\n",
      " [22 23 24 25 26]\n",
      " [29 30 31 32 33]\n",
      " [36 37 38 39 40]]\n"
     ]
    }
   ],
   "source": [
    "print(quantity.data[\n",
    "    quantity.origin[0] - 1:quantity.origin[0] + quantity.extent[0] + 1,\n",
    "    quantity.origin[1] - 1:quantity.origin[1] + quantity.extent[1] + 1\n",
    "])"
   ]
  },
  {
   "cell_type": "markdown",
   "metadata": {},
   "source": [
    "You can see from this example that the amount of boilerplate needed to use `quantity.data` is pretty high, if you don't want your code to break when the size of the domain or halo changes. Once you know what `quantity.view.interior` is doing, it's much easier to read and write than `quantity.data`."
   ]
  },
  {
   "cell_type": "markdown",
   "metadata": {},
   "source": [
    "The help routine can give useful information about the attributes and methods available on an object. We encourage you to check out the documentation if you need to remember the name or purpose of a method or attribute."
   ]
  },
  {
   "cell_type": "code",
   "execution_count": 36,
   "metadata": {
    "scrolled": true
   },
   "outputs": [
    {
     "name": "stdout",
     "output_type": "stream",
     "text": [
      "Help on class Quantity in module fv3gfs.util.quantity:\n",
      "\n",
      "class Quantity(builtins.object)\n",
      " |  Quantity(data, dims: Sequence[str], units: str, origin: Sequence[int] = None, extent: Sequence[int] = None, gt4py_backend: Union[str, NoneType] = None)\n",
      " |  \n",
      " |  Data container for physical quantities.\n",
      " |  \n",
      " |  Methods defined here:\n",
      " |  \n",
      " |  __init__(self, data, dims: Sequence[str], units: str, origin: Sequence[int] = None, extent: Sequence[int] = None, gt4py_backend: Union[str, NoneType] = None)\n",
      " |      Initialize a Quantity.\n",
      " |      \n",
      " |      Args:\n",
      " |          data: ndarray-like object containing the underlying data\n",
      " |          dims: dimension names for each axis\n",
      " |          units: units of the quantity\n",
      " |          origin: first point in data within the computational domain\n",
      " |          extent: number of points along each axis within the computational domain\n",
      " |          gt4py_backend: backend to use for gt4py storages, if not given this will\n",
      " |              be derived from a Storage if given as the data argument, otherwise the\n",
      " |              storage attribute is disabled and will raise an exception\n",
      " |  \n",
      " |  __repr__(self)\n",
      " |      Return repr(self).\n",
      " |  \n",
      " |  sel(self, **kwargs: Union[slice, int]) -> numpy.ndarray\n",
      " |      Convenience method to perform indexing on `view` using dimension names\n",
      " |      without knowing dimension order.\n",
      " |      \n",
      " |      Args:\n",
      " |          **kwargs: slice/index to retrieve for a given dimension name\n",
      " |      \n",
      " |      Returns:\n",
      " |          view_selection: an ndarray-like selection of the given indices\n",
      " |              on `self.view`\n",
      " |  \n",
      " |  transpose(self, target_dims: Sequence[Union[str, Iterable[str]]]) -> 'Quantity'\n",
      " |      Change the dimension order of this Quantity.\n",
      " |      \n",
      " |      If you know you are working with cell-centered variables, you can do:\n",
      " |      \n",
      " |      >>> from fv3gfs.util import X_DIM, Y_DIM, Z_DIM\n",
      " |      >>> transposed_quantity = quantity.transpose([X_DIM, Y_DIM, Z_DIM])\n",
      " |      \n",
      " |      To support re-ordering without checking whether quantities are on\n",
      " |      cell centers or interfaces, the API supports giving a list of dimension names\n",
      " |      for dimensions. For example, to re-order to X-Y-Z dimensions regardless of the\n",
      " |      grid the variable is on, one could do:\n",
      " |      \n",
      " |      >>> from fv3gfs.util import X_DIMS, Y_DIMS, Z_DIMS\n",
      " |      >>> transposed_quantity = quantity.transpose([X_DIMS, Y_DIMS, Z_DIMS])\n",
      " |      \n",
      " |      Args:\n",
      " |          target_dims: a list of output dimensions. Instead of a single dimension\n",
      " |              name, an iterable of dimensions can be used instead for any entries.\n",
      " |              For example, you may want to use fv3gfs.util.X_DIMS to place an\n",
      " |              x-dimension without knowing whether it is on cell centers or interfaces.\n",
      " |      \n",
      " |      Returns:\n",
      " |          transposed: Quantity with the requested output dimension order\n",
      " |      \n",
      " |      Raises:\n",
      " |          ValueError: if any of the target dimensions do not exist on this Quantity,\n",
      " |              or if this Quantity contains multiple values from an iterable entry\n",
      " |  \n",
      " |  ----------------------------------------------------------------------\n",
      " |  Class methods defined here:\n",
      " |  \n",
      " |  from_data_array(data_array: xarray.core.dataarray.DataArray, origin: Sequence[int] = None, extent: Sequence[int] = None, gt4py_backend: Union[str, NoneType] = None) -> 'Quantity' from builtins.type\n",
      " |      Initialize a Quantity from an xarray.DataArray.\n",
      " |      \n",
      " |      Args:\n",
      " |          data_array\n",
      " |          origin: first point in data within the computational domain\n",
      " |          extent: number of points along each axis within the computational domain\n",
      " |          gt4py_backend: backend to use for gt4py storages, if not given this will\n",
      " |              be derived from a Storage if given as the data argument, otherwise the\n",
      " |              storage attribute is disabled and will raise an exception\n",
      " |  \n",
      " |  ----------------------------------------------------------------------\n",
      " |  Data descriptors defined here:\n",
      " |  \n",
      " |  __dict__\n",
      " |      dictionary for instance variables (if defined)\n",
      " |  \n",
      " |  __weakref__\n",
      " |      list of weak references to the object (if defined)\n",
      " |  \n",
      " |  attrs\n",
      " |  \n",
      " |  data\n",
      " |      the underlying array of data\n",
      " |  \n",
      " |  data_array\n",
      " |  \n",
      " |  dims\n",
      " |      names of each dimension\n",
      " |  \n",
      " |  extent\n",
      " |      the shape of the computational domain\n",
      " |  \n",
      " |  gt4py_backend\n",
      " |  \n",
      " |  metadata\n",
      " |  \n",
      " |  np\n",
      " |  \n",
      " |  origin\n",
      " |      the start of the computational domain\n",
      " |  \n",
      " |  storage\n",
      " |      A gt4py storage representing the data in this Quantity.\n",
      " |      \n",
      " |      Will raise TypeError if the gt4py backend was not specified when initializing\n",
      " |      this object, either by providing a Storage for data or explicitly specifying\n",
      " |      a backend.\n",
      " |  \n",
      " |  units\n",
      " |      units of the quantity\n",
      " |  \n",
      " |  values\n",
      " |  \n",
      " |  view\n",
      " |      a view into the computational domain of the underlying data\n",
      "\n"
     ]
    }
   ],
   "source": [
    "help(Quantity)"
   ]
  },
  {
   "cell_type": "code",
   "execution_count": 38,
   "metadata": {
    "scrolled": true
   },
   "outputs": [
    {
     "name": "stdout",
     "output_type": "stream",
     "text": [
      "Help on BoundedArrayView in module fv3gfs.util.quantity object:\n",
      "\n",
      "class BoundedArrayView(builtins.object)\n",
      " |  BoundedArrayView(array, dims, origin, extent)\n",
      " |  \n",
      " |  A container of objects which provide indexing relative to corners and edges\n",
      " |  of the computational domain for convenience.\n",
      " |  \n",
      " |  Default start and end indices for all dimensions are modified to be the\n",
      " |  start and end of the compute domain. When using edge and corner attributes, it is\n",
      " |  recommended to explicitly write start and end offsets to avoid confusion.\n",
      " |  \n",
      " |  Indexing on the object itself (view[:]) is offset by the origin, and default\n",
      " |  start and end indices are modified to be the start and end of the compute domain.\n",
      " |  \n",
      " |  For corner attributes e.g. `northwest`, modified indexing is done for the two\n",
      " |  axes according to the edges which make up the corner. In other words, indexing\n",
      " |  is offset relative to the intersection of the two edges which make the corner.\n",
      " |  \n",
      " |  For `interior`, start indices of the horizontal dimensions are relative to the\n",
      " |  origin, and end indices are relative to the origin + extent. For example,\n",
      " |  view.interior[0:0, 0:0, :] would retrieve the entire compute domain for an x/y/z\n",
      " |  array, while view.interior[-1:1, -1:1, :] would also include one halo point.\n",
      " |  \n",
      " |  Methods defined here:\n",
      " |  \n",
      " |  __getitem__(self, index)\n",
      " |  \n",
      " |  __init__(self, array, dims, origin, extent)\n",
      " |      Initialize self.  See help(type(self)) for accurate signature.\n",
      " |  \n",
      " |  __setitem__(self, index, value)\n",
      " |  \n",
      " |  ----------------------------------------------------------------------\n",
      " |  Data descriptors defined here:\n",
      " |  \n",
      " |  __dict__\n",
      " |      dictionary for instance variables (if defined)\n",
      " |  \n",
      " |  __weakref__\n",
      " |      list of weak references to the object (if defined)\n",
      " |  \n",
      " |  extent\n",
      " |      the shape of the computational domain\n",
      " |  \n",
      " |  interior\n",
      " |  \n",
      " |  northeast\n",
      " |  \n",
      " |  northwest\n",
      " |  \n",
      " |  origin\n",
      " |      the start of the computational domain\n",
      " |  \n",
      " |  southeast\n",
      " |  \n",
      " |  southwest\n",
      "\n"
     ]
    }
   ],
   "source": [
    "help(quantity.view)"
   ]
  }
 ],
 "metadata": {
  "kernelspec": {
   "display_name": "workshop",
   "language": "python",
   "name": "venv"
  },
  "language_info": {
   "codemirror_mode": {
    "name": "ipython",
    "version": 3
   },
   "file_extension": ".py",
   "mimetype": "text/x-python",
   "name": "python",
   "nbconvert_exporter": "python",
   "pygments_lexer": "ipython3",
   "version": "3.7.3"
  }
 },
 "nbformat": 4,
 "nbformat_minor": 2
}
