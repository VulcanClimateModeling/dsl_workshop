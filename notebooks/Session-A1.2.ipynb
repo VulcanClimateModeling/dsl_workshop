{
 "cells": [
  {
   "cell_type": "markdown",
   "metadata": {},
   "source": [
    "# Workshop on Domain-Specific Lanugages for Performance-Portable Weather and Climate Models\n",
    "\n",
    "## Session A1.2: Basic Concepts II\n",
    "\n",
    "This notebook will introduce additional GT4Py concepts, such as the execution model, stage extents and temporaries. We will also take a closer look at the different backends and performance."
   ]
  },
  {
   "cell_type": "code",
   "execution_count": 2,
   "metadata": {},
   "outputs": [],
   "source": [
    "# standard packages\n",
    "from pprint import pprint\n",
    "import numpy as np\n",
    "import matplotlib\n",
    "import matplotlib.pyplot as plt\n",
    "matplotlib.rcParams[\"font.size\"] = 12\n",
    "\n",
    "# import GT4Py\n",
    "import gt4py\n",
    "from gt4py import gtscript\n",
    "from gt4py.gtscript import Field, PARALLEL, computation, interval\n",
    "\n",
    "# some useful tools used in this notebook (mostly plotting)\n",
    "from tools import plot_two_ij_slices"
   ]
  },
  {
   "cell_type": "markdown",
   "metadata": {},
   "source": [
    "## Execution model\n",
    "\n",
    "The iteration domain in GT4Py is a 3-dimensional domain: `I` and `J` axes live on the horizontal spatial plane, and axis `K` represents the vertical spatial dimension. Computations on the horizontal plane are always executed in parallel and thus `I` and `J` are called parallel axes, while computations on `K` are executed sequentially or in parallel.\n",
    "\n",
    "A `gtscript.stencil` is composed of one or more computation. Each computation defines an iteration policy (PARALLEL, FORWARD, BACKWARD) and is itself composed of one or more non-overlapping vertical interval specifications, each one of them representing a vertical loop over the `K` axis with the iteration policy of the computation. Intervals are specified in their order of execution with each interval containing one or more statements. We will look into execution policies in the `K` axis more in the next session.\n",
    "\n",
    "The effect of a GTScript stencil program is as if statements are executed as follows:\n",
    "1. Computations are executed sequentially in the order they appear in the code,\n",
    "2. Vertical intervals are executed sequentially in the order defined by the iteration policy of the computation\n",
    "3. Every vertical interval is executed as a sequential for-loop over the K-range following the order defined by the iteration policy,\n",
    "4. For every assignment inside the interval, first, the right hand side is evaluated in a parallel for-loop over the horizontal dimension(s), then, the resulting horizontal slice is assigned to the left hand side.\n",
    "5. For if-else statements, the condition is evaluated first, then the if and else bodies are evaluated with the same rule as above. Some restrictions apply to offset reads, see Conditionals.\n",
    "\n",
    "We will look into if-else conditionals in a later session. You can refer back to these rules during the workshop."
   ]
  },
  {
   "cell_type": "markdown",
   "metadata": {},
   "source": [
    "<div class=\"alert alert-block alert-info\">\n",
    "    <b> Now it's your turn: </b><br>\n",
    "    <ol>\n",
    "        <li style=\"margin-bottom: 10px\"> Some clever problem to explain the execution model.</li>\n",
    "        <li style=\"margin-bottom: 10px\"> Some other clever problem to explain the execution model.</li>\n",
    "    </ol>\n",
    "</div>"
   ]
  },
  {
   "cell_type": "code",
   "execution_count": 3,
   "metadata": {},
   "outputs": [
    {
     "data": {
      "image/png": "[encoded data removed]",
      "text/plain": [
       "<Figure size 864x288 with 4 Axes>"
      ]
     },
     "metadata": {
      "needs_background": "light"
     },
     "output_type": "display_data"
    }
   ],
   "source": [
    "# REMOVE - Solution\n",
    "nhalo = 3\n",
    "nx, ny, nz = 8, 8, 1\n",
    "backend = \"gtx86\"\n",
    "\n",
    "origin = (nhalo, nhalo, 0)\n",
    "domain = (nx, ny, nz)\n",
    "shape = (nx + 2*nhalo, ny + 2*nhalo, nz)\n",
    "\n",
    "@gtscript.stencil(backend=backend)\n",
    "def shift_by_one(a: Field[np.float64]):\n",
    "    with computation(PARALLEL), interval(...):\n",
    "        a = a[1, 0, 0]\n",
    "        \n",
    "# create some storages\n",
    "in_field = gt4py.storage.from_array(np.random.randn(shape[0], shape[1], shape[2]), backend, origin, shape, dtype=np.float64)\n",
    "out_field = in_field.copy()\n",
    "\n",
    "# run stencil\n",
    "shift_by_one(a=out_field, origin=origin, domain=domain)\n",
    "\n",
    "# visualize results\n",
    "plot_two_ij_slices(in_field, out_field)"
   ]
  },
  {
   "cell_type": "markdown",
   "metadata": {},
   "source": [
    "## Stencil Program\n",
    "\n",
    "The previous notebook introduced the horizontal Laplacian as an example stencil. A Laplacian is sometimes used as a numerical filter, but has the downside of not being very scale selective. Because of this, some models choose to implement higher order filters (e.g. [Xue 2000, Monthly Weather Review](http://twister.ou.edu/papers/Xue2000Diffusion.pdf)).\n",
    "\n",
    "\\begin{eqnarray}\n",
    "\\frac{\\partial \\phi}{\\partial t} = S + (-1)^{n/2+1} \\alpha_n \\nabla^n \\phi \\\\\n",
    "\\end{eqnarray}\n",
    "\n",
    "where $S$ represents all other processes, $n$ is the order of the filter, and $\\alpha_n$ is the filter constant. Let's assume $S=0$ and take a closer look at the 2nd-order filter (n=2)\n",
    "\n",
    "\\begin{eqnarray}\n",
    "\\frac{\\partial \\phi}{\\partial t} & = & + \\alpha_2 \\nabla^2 \\phi \\\\\n",
    "& = & + \\alpha_2 \\Delta \\phi \\\\[2ex]\n",
    "\\end{eqnarray}\n",
    "\n",
    "and the 4th-order filter (n=4)\n",
    "\n",
    "\\begin{eqnarray}\n",
    "\\frac{\\partial \\phi}{\\partial t} & = & - \\alpha_4 \\nabla^4 \\phi \\\\\n",
    "& = & - \\alpha_4 \\Delta \\left( \\Delta \\phi \\right) \\\\\n",
    "\\end{eqnarray}\n",
    "\n",
    "where $\\alpha_2$ and $\\alpha_4$ are the diffusion coefficients. This corresponds to a double application of a simple horizontal Laplacian where we choose the coefficient correspondingly. So we can potentially re-use the stencil we have already coded in the previous session, which is reproduced below for convenience, but using a different initialization of the input field."
   ]
  },
  {
   "cell_type": "code",
   "execution_count": 5,
   "metadata": {},
   "outputs": [
    {
     "data": {
      "image/png": "[encoded data removed]",
      "text/plain": [
       "<Figure size 864x288 with 4 Axes>"
      ]
     },
     "metadata": {
      "needs_background": "light"
     },
     "output_type": "display_data"
    }
   ],
   "source": [
    "# setup\n",
    "nhalo = 3\n",
    "nx, ny, nz = 8, 8, 1\n",
    "backend = \"numpy\"\n",
    "\n",
    "# stencils\n",
    "@gtscript.stencil(backend=backend)\n",
    "def laplacian(in_field: Field[np.float64], out_field: Field[np.float64]):\n",
    "    with computation(PARALLEL), interval(...):\n",
    "        out_field = (-4. * in_field +\n",
    "            in_field[1, 0, 0] + in_field[-1, 0, 0] + \n",
    "            in_field[0, 1, 0] + in_field[0, -1, 0])\n",
    "        \n",
    "# define storages\n",
    "origin = (nhalo, nhalo, 0)\n",
    "shape = (nx + 2*nhalo, ny + 2*nhalo, nz)\n",
    "in_field = gt4py.storage.zeros(backend, origin, shape, dtype=np.float64)\n",
    "for k in range(nz):\n",
    "    for j in range(nhalo, ny + nhalo):\n",
    "        for i in range(nhalo, nx + nhalo):\n",
    "            in_field[i, j, k] = (i + j + k) % 4        \n",
    "out_field = gt4py.storage.zeros(backend, origin, shape, dtype=np.float64)\n",
    "\n",
    "# apply stencil\n",
    "laplacian(in_field=in_field, out_field=out_field, origin=(nhalo, nhalo, 0), domain=(nx, ny, nz))\n",
    "\n",
    "# visualize results\n",
    "plot_two_ij_slices(in_field, out_field)"
   ]
  },
  {
   "cell_type": "markdown",
   "metadata": {},
   "source": [
    "<div class=\"alert alert-block alert-info\">\n",
    "    <b> Now it's your turn: </b><br>\n",
    "    We are going to extend the above program to a full stencil program applying multiple iterations of the 4th-order numerical diffusion filter to an input field using an Euler forward step.\n",
    "    <ol>\n",
    "        <li style=\"margin-bottom: 10px\"> Implement a second stencil <code>euler_forward(in_field, out_field, alpha)</code> which computes the time update $\\mathrm{out\\_field} = \\mathrm{in\\_field} + \\alpha \\,\\, \\mathrm{out\\_field}$.</li>\n",
    "        <li style=\"margin-bottom: 10px\"> Implement a timeloop which does 20 iterations of calling <code>laplacian(in_field, out_field)</code>, <code>euler_step(in_field, out_field, alpha)</code> and a finally does a timeswap using <code>in_field[:] = out_field[:]</code> at the end of each iteration.</li>\n",
    "        <li style=\"margin-bottom: 10px\"> Run the program and check your results by visually inspection. Note that if $\\alpha_2 > 1/8$ you filter will be unstable.</li>\n",
    "        <li style=\"margin-bottom: 10px\"> Imlement a 4th-order filter by calling the <code>laplacian</code> stencil twice. It is easiest to create an additional storage <code>tmp_field</code> to carry the intermediate result from the first invocation to the second. Make sure you adapt the <code>origin</code> and <code>domain</code> for the first invocation of <code>laplacian</code> to compute on an extended domain. Also, don't forget to flip the sign in front of the diffusion coefficient in <code>euler_step</code>.</li>\n",
    "        <li style=\"margin-bottom: 10px\"> Run you program and check your results by visually inspection. Note that if $\\alpha_4 > 1/32$ you filter will be unstable.</li>\n",
    "    </ol>\n",
    "</div>"
   ]
  },
  {
   "cell_type": "code",
   "execution_count": 35,
   "metadata": {},
   "outputs": [
    {
     "data": {
      "image/png": "[encoded data removed]",
      "text/plain": [
       "<Figure size 864x288 with 4 Axes>"
      ]
     },
     "metadata": {
      "needs_background": "light"
     },
     "output_type": "display_data"
    }
   ],
   "source": [
    "# REMOVE - Solution\n",
    "\n",
    "# setup\n",
    "nhalo = 3\n",
    "nx, ny, nz = 8, 8, 1\n",
    "backend = \"numpy\"\n",
    "\n",
    "# stencils\n",
    "@gtscript.stencil(backend=backend)\n",
    "def laplacian(in_field: Field[np.float64], out_field: Field[np.float64]):\n",
    "    with computation(PARALLEL), interval(...):\n",
    "        out_field = (-4. * in_field +\n",
    "            in_field[1, 0, 0] + in_field[-1, 0, 0] + \n",
    "            in_field[0, 1, 0] + in_field[0, -1, 0])\n",
    "        \n",
    "@gtscript.stencil(backend=backend)\n",
    "def euler_step(in_field: Field[np.float64], out_field: Field[np.float64], *, alpha: np.float64):\n",
    "    with computation(PARALLEL), interval(...):\n",
    "        out_field = in_field - alpha * out_field\n",
    "        \n",
    "# define storages\n",
    "origin = (nhalo, nhalo, 0)\n",
    "shape = (nx + 2*nhalo, ny + 2*nhalo, nz)\n",
    "in_field = gt4py.storage.zeros(backend, origin, shape, dtype=np.float64)\n",
    "for k in range(nz):\n",
    "    for j in range(nhalo, ny + nhalo):\n",
    "        for i in range(nhalo, nx + nhalo):\n",
    "            in_field[i, j, k] = (i + j + k) % 4        \n",
    "orig_field = in_field.copy()\n",
    "out_field = gt4py.storage.zeros(backend, origin, shape, dtype=np.float64)\n",
    "tmp_field = out_field.copy()\n",
    "\n",
    "# apply stencil\n",
    "alpha = 1./32.\n",
    "for n in range(20):\n",
    "    laplacian(in_field=in_field, out_field=tmp_field, origin=(nhalo-1, nhalo-1, 0), domain=(nx+2, ny+2, nz))\n",
    "    laplacian(in_field=tmp_field, out_field=out_field, origin=(nhalo, nhalo, 0), domain=(nx, ny, nz))\n",
    "    euler_step(in_field=in_field, out_field=out_field, alpha=alpha, origin=(nhalo, nhalo, 0), domain=(nx, ny, nz))\n",
    "    in_field[:] = out_field[:]\n",
    "\n",
    "\n",
    "# visualize results\n",
    "plot_two_ij_slices(orig_field, out_field)"
   ]
  },
  {
   "cell_type": "markdown",
   "metadata": {},
   "source": [
    "## Stages and Stage Extents\n",
    "\n",
    "TODO: Write introduction to stages and stage extents here.<br>\n",
    "- statement after statement, horizontal is fine\n",
    "- \"magic\" extension to what is consumed"
   ]
  },
  {
   "cell_type": "markdown",
   "metadata": {},
   "source": [
    "<div class=\"alert alert-block alert-info\">\n",
    "    <b> Now it's your turn: </b><br>\n",
    "    <ol>\n",
    "        <li style=\"margin-bottom: 10px\"> Copy the above program into a cell below. Replace the two stencils <code>laplacian</code> and <code>euler_step</code> with a single stencil <code>numerical_filter(in_field, tmp_field, out_field, alpha)</code> which implements the two laplacians as well as the Euler forward integration as individual stages.</li>\n",
    "        <li style=\"margin-bottom: 10px\"> Check your results against the reference above.</li>\n",
    "    </ol>\n",
    "</div>\n",
    "\n",
    "TODO: find out why result below does not match result above!!!"
   ]
  },
  {
   "cell_type": "code",
   "execution_count": 11,
   "metadata": {
    "tags": []
   },
   "outputs": [
    {
     "data": {
      "image/png": "[encoded data removed]",
      "text/plain": [
       "<Figure size 864x288 with 4 Axes>"
      ]
     },
     "metadata": {
      "needs_background": "light"
     },
     "output_type": "display_data"
    }
   ],
   "source": [
    "# REMOVE - Solution\n",
    "\n",
    "# setup\n",
    "nhalo = 3\n",
    "nx, ny, nz = 8, 8, 1\n",
    "backend = \"numpy\"\n",
    "\n",
    "# stencils\n",
    "@gtscript.stencil(backend=backend)\n",
    "def numerical_filter(in_field: Field[np.float64], tmp_field: Field[np.float64], out_field: Field[np.float64], *, alpha: np.float64):\n",
    "    with computation(PARALLEL), interval(...):\n",
    "        tmp_field = (-4. * in_field +\n",
    "            in_field[1, 0, 0] + in_field[-1, 0, 0] + \n",
    "            in_field[0, 1, 0] + in_field[0, -1, 0])\n",
    "        out_field = (-4. * tmp_field +\n",
    "            tmp_field[1, 0, 0] + tmp_field[-1, 0, 0] + \n",
    "            tmp_field[0, 1, 0] + tmp_field[0, -1, 0])\n",
    "        out_field = in_field - alpha * out_field\n",
    "        \n",
    "# define storages\n",
    "origin = (nhalo, nhalo, 0)\n",
    "shape = (nx + 2*nhalo, ny + 2*nhalo, nz)\n",
    "in_field = gt4py.storage.zeros(backend, origin, shape, dtype=np.float64)\n",
    "for k in range(nz):\n",
    "    for j in range(nhalo, ny + nhalo):\n",
    "        for i in range(nhalo, nx + nhalo):\n",
    "            in_field[i, j, k] = (i + j + k) % 4        \n",
    "orig_field = in_field.copy()\n",
    "out_field = gt4py.storage.zeros(backend, origin, shape, dtype=np.float64)\n",
    "tmp_field = out_field.copy()\n",
    "\n",
    "# apply stencil\n",
    "alpha = 1./32.\n",
    "for n in range(20):\n",
    "    numerical_filter(in_field=in_field, tmp_field=tmp_field, out_field=out_field, alpha=alpha, origin=(nhalo-1, nhalo-1, 0), domain=(nx+2, ny+2, nz))\n",
    "    in_field[:] = out_field[:]\n",
    "\n",
    "# visualize results\n",
    "plot_two_ij_slices(orig_field, out_field)"
   ]
  },
  {
   "cell_type": "markdown",
   "metadata": {},
   "source": [
    "## Temporaries\n",
    "\n",
    "TODO: Write introduction to temporaries here.<br>\n",
    "- They can be fields, they can be local variables\n",
    "- use as see fit"
   ]
  },
  {
   "cell_type": "markdown",
   "metadata": {},
   "source": [
    "<div class=\"alert alert-block alert-info\">\n",
    "    <b> Now it's your turn: </b><br>\n",
    "    <ol>\n",
    "        <li style=\"margin-bottom: 10px\"> Replace the storage <code>tmp_field</code> with a temporary of the same name. Concretely, remove <code>tmp_field</code> from the argument list of the <code>numerical_filter</code> stencil and remove the code which allocated a storage for <code>tmp_field</code>.</li>\n",
    "        <li style=\"margin-bottom: 10px\"> Check your results against the reference above.</li>\n",
    "    </ol>\n",
    "</div>"
   ]
  },
  {
   "cell_type": "code",
   "execution_count": 12,
   "metadata": {
    "tags": []
   },
   "outputs": [
    {
     "data": {
      "image/png": "[encoded data removed]",
      "text/plain": [
       "<Figure size 864x288 with 4 Axes>"
      ]
     },
     "metadata": {
      "needs_background": "light"
     },
     "output_type": "display_data"
    }
   ],
   "source": [
    "# REMOVE - Solution\n",
    "\n",
    "# setup\n",
    "nhalo = 3\n",
    "nx, ny, nz = 8, 8, 1\n",
    "backend = \"numpy\"\n",
    "\n",
    "# stencils\n",
    "@gtscript.stencil(backend=backend)\n",
    "def numerical_filter(in_field: Field[np.float64], out_field: Field[np.float64], *, alpha: np.float64):\n",
    "    with computation(PARALLEL), interval(...):\n",
    "        tmp_field = (-4. * in_field +\n",
    "            in_field[1, 0, 0] + in_field[-1, 0, 0] + \n",
    "            in_field[0, 1, 0] + in_field[0, -1, 0])\n",
    "        out_field = (-4. * tmp_field +\n",
    "            tmp_field[1, 0, 0] + tmp_field[-1, 0, 0] + \n",
    "            tmp_field[0, 1, 0] + tmp_field[0, -1, 0])\n",
    "        out_field = in_field - alpha * out_field\n",
    "        \n",
    "# define storages\n",
    "origin = (nhalo, nhalo, 0)\n",
    "shape = (nx + 2*nhalo, ny + 2*nhalo, nz)\n",
    "in_field = gt4py.storage.zeros(backend, origin, shape, dtype=np.float64)\n",
    "for k in range(nz):\n",
    "    for j in range(nhalo, ny + nhalo):\n",
    "        for i in range(nhalo, nx + nhalo):\n",
    "            in_field[i, j, k] = (i + j + k) % 4        \n",
    "orig_field = in_field.copy()\n",
    "out_field = gt4py.storage.zeros(backend, origin, shape, dtype=np.float64)\n",
    "\n",
    "# apply stencil\n",
    "alpha = 1./32.\n",
    "for n in range(20):\n",
    "    numerical_filter(in_field=in_field, out_field=out_field, alpha=alpha, origin=(nhalo-1, nhalo-1, 0), domain=(nx+2, ny+2, nz))\n",
    "    in_field[:] = out_field[:]\n",
    "\n",
    "# visualize results\n",
    "plot_two_ij_slices(orig_field, out_field)"
   ]
  },
  {
   "cell_type": "markdown",
   "metadata": {},
   "source": [
    "## Intro to backends\n",
    "\n",
    "TODO: adapt the code below to the code above. <br>\n",
    "TODO: discuss with Oli & Eddie to coordinate content before working more on this section. <br>\n",
    "\n",
    "why"
   ]
  },
  {
   "cell_type": "code",
   "execution_count": 9,
   "metadata": {},
   "outputs": [],
   "source": [
    "import timeit\n",
    "\n",
    "iterations = np.arange(1,6)"
   ]
  },
  {
   "cell_type": "code",
   "execution_count": 10,
   "metadata": {},
   "outputs": [],
   "source": [
    "@gtscript.stencil(backend=\"numpy\")\n",
    "def diffusion_stencil(in_storage: gtscript.Field[float], out_storage: gtscript.Field[float]):\n",
    "    with computation(PARALLEL), interval(...):\n",
    "        alpha = 1.0 / 32.0\n",
    "        tmp_storage = (\n",
    "            -4.0 * in_storage[0, 0, 0]\n",
    "            + in_storage[1, 0, 0]\n",
    "            + in_storage[-1, 0, 0]\n",
    "            + in_storage[0, 1, 0]\n",
    "            + in_storage[0, -1, 0]\n",
    "        )\n",
    "        out_storage = (\n",
    "            -4.0 * tmp_storage[0, 0, 0]\n",
    "            + tmp_storage[1, 0, 0]\n",
    "            + tmp_storage[-1, 0, 0]\n",
    "            + tmp_storage[0, 1, 0]\n",
    "            + tmp_storage[0, -1, 0]\n",
    "        )\n",
    "        out_storage = in_storage[0, 0, 0] - alpha * out_storage[0, 0, 0]\n",
    "        in_storage = out_storage\n"
   ]
  },
  {
   "cell_type": "code",
   "execution_count": 11,
   "metadata": {},
   "outputs": [],
   "source": [
    "def run_numpy_experiment(size):\n",
    "    nx = 100*size\n",
    "    halo = 3\n",
    "    shape = (nx + 2 * halo, nx + 2 * halo, 1)\n",
    "    in_storage = gt4py.storage.zeros(\n",
    "        shape=shape,\n",
    "        default_origin=(0, 0, 0),\n",
    "        dtype=float,\n",
    "        backend=\"numpy\",\n",
    "    )\n",
    "    in_storage.data[halo + nx // 3 : halo + 2 * nx // 3, halo + nx // 3 : halo + 2 * nx // 3, :] = 1\n",
    "    out_storage = gt4py.storage.zeros(\n",
    "        shape=shape,\n",
    "        default_origin=(0, 0, 0),\n",
    "        dtype=float,\n",
    "        backend=\"numpy\",\n",
    "    )\n",
    "\n",
    "    tic = timeit.default_timer()\n",
    "    for i in range(500):\n",
    "        diffusion_stencil(in_storage, out_storage, origin=(halo, halo, 0), domain=(nx, nx, 1))\n",
    "    toc = timeit.default_timer()\n",
    "    return toc - tic\n",
    "    "
   ]
  },
  {
   "cell_type": "markdown",
   "metadata": {},
   "source": [
    "collect numpy numbers"
   ]
  },
  {
   "cell_type": "code",
   "execution_count": 12,
   "metadata": {},
   "outputs": [],
   "source": [
    "numpy_values = np.zeros(5)\n",
    "\n",
    "for j in range(5):\n",
    "    numpy_values[j] = run_numpy_experiment(iterations[j])\n",
    "\n"
   ]
  },
  {
   "cell_type": "markdown",
   "metadata": {},
   "source": [
    "same for gtx86"
   ]
  },
  {
   "cell_type": "code",
   "execution_count": 13,
   "metadata": {},
   "outputs": [],
   "source": [
    "@gtscript.stencil(backend=\"gtx86\")\n",
    "def diffusion_stencil_x86(in_storage: gtscript.Field[float], out_storage: gtscript.Field[float]):\n",
    "    with computation(PARALLEL), interval(...):\n",
    "        alpha = 1.0 / 32.0\n",
    "        tmp_storage = (\n",
    "            -4.0 * in_storage[0, 0, 0]\n",
    "            + in_storage[1, 0, 0]\n",
    "            + in_storage[-1, 0, 0]\n",
    "            + in_storage[0, 1, 0]\n",
    "            + in_storage[0, -1, 0]\n",
    "        )\n",
    "        out_storage = (\n",
    "            -4.0 * tmp_storage[0, 0, 0]\n",
    "            + tmp_storage[1, 0, 0]\n",
    "            + tmp_storage[-1, 0, 0]\n",
    "            + tmp_storage[0, 1, 0]\n",
    "            + tmp_storage[0, -1, 0]\n",
    "        )\n",
    "        out_storage = in_storage[0, 0, 0] - alpha * out_storage[0, 0, 0]\n",
    "        in_storage = out_storage"
   ]
  },
  {
   "cell_type": "code",
   "execution_count": 14,
   "metadata": {},
   "outputs": [],
   "source": [
    "def run_gtx86_experiment(size):\n",
    "    gtx86_values = np.zeros(5)\n",
    "    nx = 100\n",
    "    halo = 3\n",
    "    shape = (nx + 2 * halo, nx + 2 * halo, 1)\n",
    "    in_storage_x86 = gt4py.storage.zeros(\n",
    "        shape=shape,\n",
    "        default_origin=(0, 0, 0),\n",
    "        dtype=float,\n",
    "        backend=\"gtx86\",\n",
    "    )\n",
    "    in_storage_x86.data[halo + nx // 3 : halo + 2 * nx // 3, halo + nx // 3 : halo + 2 * nx // 3, :] = 1\n",
    "    out_storage_x86 = gt4py.storage.zeros(\n",
    "        shape=shape,\n",
    "        default_origin=(0, 0, 0),\n",
    "        dtype=float,\n",
    "        backend=\"gtx86\",\n",
    "    )\n",
    "    tic = timeit.default_timer()\n",
    "    for i in range(500):\n",
    "        diffusion_stencil_x86(in_storage_x86, out_storage_x86, origin=(halo, halo, 0), domain=(nx, nx, 1))\n",
    "    toc = timeit.default_timer()\n",
    "    return toc - tic"
   ]
  },
  {
   "cell_type": "code",
   "execution_count": 15,
   "metadata": {},
   "outputs": [],
   "source": [
    "gtx86_values = np.zeros(5)\n",
    "for j in range(5):\n",
    "    gtx86_values[j] = run_gtx86_experiment(iterations[j])"
   ]
  },
  {
   "cell_type": "code",
   "execution_count": 16,
   "metadata": {},
   "outputs": [
    {
     "data": {
      "image/png": "[encoded data removed]",
      "text/plain": [
       "<Figure size 432x288 with 1 Axes>"
      ]
     },
     "metadata": {
      "needs_background": "light"
     },
     "output_type": "display_data"
    }
   ],
   "source": [
    "plt.plot(iterations, numpy_values, \".\", label=\"numpy\")\n",
    "plt.plot(iterations, gtx86_values, \".\", label=\"gtx86\")\n",
    "\n",
    "\n",
    "plt.title(\"Strong Scaling\")\n",
    "plt.legend()\n",
    "plt.xlabel(\"domain size\")\n",
    "plt.ylabel(\"execution time\")\n",
    "\n",
    "plt.show()"
   ]
  },
  {
   "cell_type": "code",
   "execution_count": null,
   "metadata": {},
   "outputs": [],
   "source": []
  }
 ],
 "metadata": {
  "kernelspec": {
   "display_name": "workshop",
   "language": "python",
   "name": "venv"
  },
  "language_info": {
   "codemirror_mode": {
    "name": "ipython",
    "version": 3
   },
   "file_extension": ".py",
   "mimetype": "text/x-python",
   "name": "python",
   "nbconvert_exporter": "python",
   "pygments_lexer": "ipython3",
   "version": "3.7.5"
  }
 },
 "nbformat": 4,
 "nbformat_minor": 4
}
