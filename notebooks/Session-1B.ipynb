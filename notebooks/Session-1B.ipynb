{
 "cells": [
  {
   "cell_type": "markdown",
   "metadata": {},
   "source": [
    "# Workshop on Domain-Specific Lanugages for Performance-Portable Weather and Climate Models\n",
    "\n",
    "## Session 1B: More Basic Concepts\n",
    "\n",
    "This notebook begins by revisiting the laplacian example from the previous session, this time demonstrating how easily code implemented with GT4Py can be run on an NVIDIA GPU\n",
    "\n",
    "We first import the necessary packages as before."
   ]
  },
  {
   "cell_type": "code",
   "execution_count": 1,
   "metadata": {},
   "outputs": [],
   "source": [
    "import matplotlib.pyplot as plt\n",
    "import numpy as np\n",
    "\n",
    "import gt4py\n",
    "import gt4py.storage as gt_storage\n",
    "from gt4py import gtscript\n",
    "from gt4py.gtscript import Field"
   ]
  },
  {
   "cell_type": "markdown",
   "metadata": {},
   "source": [
    "### Define the 2D Laplacian stencil:"
   ]
  },
  {
   "cell_type": "code",
   "execution_count": 2,
   "metadata": {},
   "outputs": [],
   "source": [
    "def laplacian_def(in_field: Field[np.float], out_field: Field[np.float], *, coeff: np.float):\n",
    "    with computation(PARALLEL), interval(...):\n",
    "        out_field = coeff * (-4. * in_field +\n",
    "            in_field[1, 0, 0] + in_field[-1, 0, 0] + \n",
    "            in_field[0, 1, 0] + in_field[0, -1, 0])"
   ]
  },
  {
   "cell_type": "markdown",
   "metadata": {},
   "source": [
    "### Domain Specification\n",
    "\n",
    "Specify the initial domain sizes: (*n<sub>i</sub>*, *n<sub>j</sub>*, *n<sub>k</sub>*), the number of halo lines in *x* and *y*, *n<sub>halo</sub>*, and the number of times to run each backend, *n<sub>runs</sub>*."
   ]
  },
  {
   "cell_type": "code",
   "execution_count": 3,
   "metadata": {},
   "outputs": [],
   "source": [
    "ni, nj, nk = 24, 24, 80\n",
    "nhalo = 3\n",
    "nruns = 5"
   ]
  },
  {
   "cell_type": "markdown",
   "metadata": {},
   "source": [
    "### Generate Scalability Data\n",
    "\n",
    "Here we define the `origin`, `domain`, data `shape`, and `backends`. The `gtx86` backend is replaced with `gtcuda` to generate CUDA code. The inner loop executes the stencil `nruns` times for each backend, with the horizontal domain size doubled at each iteration to generate scalability timings."
   ]
  },
  {
   "cell_type": "code",
   "execution_count": 7,
   "metadata": {},
   "outputs": [
    {
     "name": "stdout",
     "output_type": "stream",
     "text": [
      "Running with numpy backend (0)...\n",
      "Running with numpy backend (1)...\n",
      "Running with numpy backend (2)...\n",
      "Running with numpy backend (3)...\n",
      "Running with numpy backend (4)...\n",
      "Running with gtmc backend (0)...\n",
      "Running with gtmc backend (1)...\n",
      "Running with gtmc backend (2)...\n",
      "Running with gtmc backend (3)...\n",
      "Running with gtmc backend (4)...\n",
      "Running with gtcuda backend (0)...\n",
      "Running with gtcuda backend (1)...\n",
      "Running with gtcuda backend (2)...\n",
      "Running with gtcuda backend (3)...\n",
      "Running with gtcuda backend (4)...\n"
     ]
    }
   ],
   "source": [
    "origin = (nhalo, nhalo, 0)\n",
    "backends = [\"numpy\", \"gtmc\", \"gtcuda\"]\n",
    "\n",
    "timings = dict()\n",
    "sizes = dict()\n",
    "\n",
    "for backend in backends:\n",
    "    ni = nj = 24\n",
    "    sizes[backend] = []\n",
    "    timings[backend] = []    \n",
    "\n",
    "    for n in range(0, nruns):\n",
    "        print(f\"Running with {backend} backend ({n})...\")\n",
    "        \n",
    "        domain = (ni, nj, nk)\n",
    "        shape = (ni + 2 * nhalo, nj + 2 * nhalo, nk)\n",
    "        \n",
    "        rand_data = np.random.randn(*shape)        \n",
    "        in_field = gt_storage.from_array(rand_data, backend, origin, shape, dtype=np.float64)        \n",
    "        out_field = gt_storage.zeros(backend, origin, shape, np.float64)        \n",
    "        exec_info = {}\n",
    "\n",
    "        laplacian = gtscript.stencil(backend, laplacian_def)\n",
    "        laplacian(in_field, out_field, coeff=0.125, origin=origin, domain=domain, exec_info=exec_info)  # , validate_args=False)\n",
    "        \n",
    "        call_time = (exec_info['call_end_time'] - exec_info['call_start_time']) * 1000.\n",
    "        run_time = (exec_info['run_end_time'] - exec_info['run_start_time']) * 1000.        \n",
    "        \n",
    "        timings[backend].append(run_time)\n",
    "        sizes[backend].append(ni)\n",
    "\n",
    "        ni *= 2\n",
    "        nj = ni"
   ]
  },
  {
   "cell_type": "markdown",
   "metadata": {},
   "source": [
    "### Plot the Performance\n",
    "\n",
    "The generated timing data can be visualized using `matplotlib`. The *y*-axis is in log scale to highlight the performance improvement from `numpy` to an optimized CPU backend (`gtmc`), and finally to optimized GPU code (`gtcuda`)."
   ]
  },
  {
   "cell_type": "code",
   "execution_count": 10,
   "metadata": {},
   "outputs": [
    {
     "data": {
      "image/png": "[encoded data removed]",
      "text/plain": [
       "<Figure size 432x288 with 1 Axes>"
      ]
     },
     "metadata": {
      "needs_background": "light"
     },
     "output_type": "display_data"
    }
   ],
   "source": [
    "for backend in backends:\n",
    "    plt.plot(sizes[backend], timings[backend], \"-o\", label=backend)\n",
    "\n",
    "plt.title(\"Backend Scaling\")\n",
    "plt.grid(color=\"gray\", linestyle='-')\n",
    "plt.legend()\n",
    "plt.xlabel(\"domain size\")\n",
    "plt.ylabel(\"execution time (ms)\")\n",
    "plt.yscale(\"log\")\n",
    "\n",
    "plt.show()"
   ]
  },
  {
   "cell_type": "markdown",
   "metadata": {},
   "source": [
    "### Inspect the Generated Code\n",
    "\n"
   ]
  },
  {
   "cell_type": "markdown",
   "metadata": {},
   "source": [
    "<div class=\"alert alert-block alert-info\">\n",
    "    <b> Now it's your turn: </b><br>\n",
    "    (Hint: Make sure that when you modify code you retain the original code by commenting it out so that you undo any of the modifications you do.)\n",
    "    <ol>\n",
    "        <li style=\"margin-bottom: 10px\">Extend the `laplacian` stencil to be a laplacian(laplacian(*)) by introducing a temporary field.</li>\n",
    "        <li style=\"margin-bottom: 10px\">Replace the redundant code with `gtscript.function`.</li>\n",
    "        <li style=\"margin-bottom: 10px\">Replace the redundant code with `gtscript.function`.</li>\n",
    "    </ol>\n",
    "</div>"
   ]
  },
  {
   "cell_type": "code",
   "execution_count": 14,
   "metadata": {},
   "outputs": [],
   "source": [
    "# SOLUTION 1:\n",
    "@gtscript.stencil(backend=\"numpy\")\n",
    "def diffusion_def1(in_field: Field[np.float], out_field: Field[np.float], *, coeff: np.float):\n",
    "    with computation(PARALLEL), interval(...):\n",
    "        tmp_field = coeff * (-4. * in_field +\n",
    "            in_field[1, 0, 0] + in_field[-1, 0, 0] + \n",
    "            in_field[0, 1, 0] + in_field[0, -1, 0])\n",
    "        out_field = coeff * (-4. * tmp_field +\n",
    "            tmp_field[1, 0, 0] + tmp_field[-1, 0, 0] + \n",
    "            tmp_field[0, 1, 0] + tmp_field[0, -1, 0])"
   ]
  },
  {
   "cell_type": "code",
   "execution_count": 15,
   "metadata": {},
   "outputs": [],
   "source": [
    "# SOLUTION 2:\n",
    "@gtscript.function\n",
    "def laplacian(in_field: Field[np.float], coeff: np.float):\n",
    "    return coeff * (-4. * in_field +\n",
    "           in_field[1, 0, 0] + in_field[-1, 0, 0] + \n",
    "           in_field[0, 1, 0] + in_field[0, -1, 0])\n",
    "\n",
    "@gtscript.stencil(backend=\"numpy\")\n",
    "def diffusion_def2(in_field: Field[np.float], out_field: Field[np.float], *, coeff: np.float):\n",
    "    with computation(PARALLEL), interval(...):\n",
    "        tmp_field = laplacian(in_field, coeff)\n",
    "        out_field = laplacian(tmp_field, coeff)"
   ]
  },
  {
   "cell_type": "code",
   "execution_count": 6,
   "metadata": {},
   "outputs": [
    {
     "data": {
      "text/plain": [
       "CPUStorage([[[            0,             1,             1,\n",
       "                          2,             3,             5,\n",
       "                          8,            13,            21,\n",
       "                         34,            55,            89,\n",
       "                        144,           233,           377,\n",
       "                        610,           987,          1597,\n",
       "                       2584,          4181,          6765,\n",
       "                      10946,         17711,         28657,\n",
       "                      46368,         75025,        121393,\n",
       "                     196418,        317811,        514229,\n",
       "                     832040,       1346269,       2178309,\n",
       "                    3524578,       5702887,       9227465,\n",
       "                   14930352,      24157817,      39088169,\n",
       "                   63245986,     102334155,     165580141,\n",
       "                  267914296,     433494437,     701408733,\n",
       "                 1134903170,    1836311903,    2971215073,\n",
       "                 4807526976,    7778742049,   12586269025,\n",
       "                20365011074,   32951280099,   53316291173,\n",
       "                86267571272,  139583862445,  225851433717,\n",
       "               365435296162,  591286729879,  956722026041,\n",
       "              1548008755920, 2504730781961, 4052739537881,\n",
       "              6557470319842]]])"
      ]
     },
     "execution_count": 6,
     "metadata": {},
     "output_type": "execute_result"
    }
   ],
   "source": [
    "itype = np.int\n",
    "IntFieldK = Field[itype, gtscript.K]\n",
    "backend = \"numpy\"\n",
    "\n",
    "\n",
    "@gtscript.stencil(backend=backend)\n",
    "def fibonacci(fib: IntFieldK):    \n",
    "    with computation(FORWARD), interval(2, None):\n",
    "        fib = fib[0, 0, -2] + fib[0, 0, -1]\n",
    "        \n",
    "\n",
    "fib_field = gt_storage.zeros(backend, (0, 0, 0), (1, 1, 64), itype)\n",
    "fib_field[0, 0, 1] = 1    # base case...\n",
    "\n",
    "fibonacci(fib_field, origin=(0, 0, 0), domain=(1, 1, 64), validate_args=False)\n",
    "fib_field"
   ]
  },
  {
   "cell_type": "code",
   "execution_count": 7,
   "metadata": {},
   "outputs": [
    {
     "data": {
      "text/plain": [
       "CPUStorage([[  0.        ,   0.        ,   0.        , ...,   0.        ,\n",
       "               0.        ,   0.        ],\n",
       "            [ 53.85414303,  29.09751766, -22.41123126, ..., -13.89984242,\n",
       "              36.27115105,  53.09461552],\n",
       "            [ 58.19503532,  31.44291177, -24.21767985, ..., -15.02023382,\n",
       "              39.1947731 ,  57.37428638],\n",
       "            ...,\n",
       "            [-61.83153728, -33.40772217,  25.73099864, ...,  15.95882092,\n",
       "             -41.64398322, -60.95950124],\n",
       "            [-47.30756459, -25.56038623,  19.68689335, ...,  12.21015981,\n",
       "             -31.86198358, -46.64036621],\n",
       "            [ 10.71076482,   5.78705093,  -4.4572509 , ...,  -2.76446592,\n",
       "               7.21377682,  10.55970642]])"
      ]
     },
     "execution_count": 7,
     "metadata": {},
     "output_type": "execute_result"
    }
   ],
   "source": [
    "backend = \"gtmc\"\n",
    "dtype = np.float64\n",
    "Field3D = Field[dtype]\n",
    "Field2D = Field[dtype, gtscript.IJ]\n",
    "\n",
    "\n",
    "@gtscript.stencil(backend=backend)\n",
    "def parallel_sum(nums: Field3D, sums: Field2D):\n",
    "    with computation(PARALLEL), interval(...):\n",
    "        sums += nums\n",
    "        \n",
    "\n",
    "in_data = np.fromfunction(lambda i, j, k: np.sin(i) * np.cos(j), (64, 64, 64), dtype=dtype)\n",
    "nums = gt_storage.from_array(in_data, backend, (0, 0, 0), (64, 64, 64), dtype=dtype)  \n",
    "sums = gt_storage.zeros(backend, (0, 0, 0), (64, 64, 1), dtype)\n",
    "\n",
    "parallel_sum(nums, sums, origin=(0, 0, 0), domain=(64, 64, 64), validate_args=False)\n",
    "\n",
    "sums[:, :, 0]"
   ]
  },
  {
   "cell_type": "code",
   "execution_count": 8,
   "metadata": {},
   "outputs": [
    {
     "data": {
      "text/plain": [
       "CPUStorage([[ 0,  0,  0, ...,  0,  0,  0],\n",
       "            [64, 64,  0, ...,  0, 64, 64],\n",
       "            [64, 64,  0, ...,  0, 64, 64],\n",
       "            ...,\n",
       "            [ 0,  0, 64, ..., 64,  0,  0],\n",
       "            [ 0,  0, 64, ..., 64,  0,  0],\n",
       "            [64, 64,  0, ...,  0, 64, 64]], dtype=int32)"
      ]
     },
     "execution_count": 8,
     "metadata": {},
     "output_type": "execute_result"
    }
   ],
   "source": [
    "backend = \"gtmc\"\n",
    "dtype = np.float64\n",
    "itype = np.int32\n",
    "Field3D = Field[dtype]\n",
    "IntField2D = Field[itype, gtscript.IJ]\n",
    "\n",
    "\n",
    "@gtscript.stencil(backend=backend)\n",
    "def parallel_count(nums: Field3D, counts: IntField2D):\n",
    "    with computation(PARALLEL), interval(...):\n",
    "        if nums > 0.0:\n",
    "            counts += 1\n",
    "        \n",
    "\n",
    "in_data = np.fromfunction(lambda i, j, k: np.sin(i) * np.cos(j), (64, 64, 64), dtype=dtype)\n",
    "nums = gt_storage.from_array(in_data, backend, (0, 0, 0), (64, 64, 64), dtype=dtype)  \n",
    "counts = gt_storage.zeros(backend, (0, 0, 0), (64, 64, 1), itype)\n",
    "\n",
    "parallel_count(nums, counts, origin=(0, 0, 0), domain=(64, 64, 64), validate_args=False)\n",
    "\n",
    "counts[:, :, 0]"
   ]
  },
  {
   "cell_type": "code",
   "execution_count": 9,
   "metadata": {},
   "outputs": [
    {
     "data": {
      "text/plain": [
       "CPUStorage([ 0.32382328, -0.16016521,  0.16984354, ..., -0.26456895,\n",
       "            -0.33954019, -1.05020013])"
      ]
     },
     "execution_count": 9,
     "metadata": {},
     "output_type": "execute_result"
    }
   ],
   "source": [
    "backend = \"numpy\"\n",
    "dtype = np.float64\n",
    "Field3D = Field[dtype]\n",
    "N = 1024\n",
    "\n",
    "@gtscript.stencil(backend=backend)\n",
    "def tridiag_mv_mul(a: Field3D, b: Field3D, c: Field3D, d: Field3D, x: Field3D):\n",
    "    with computation(PARALLEL):\n",
    "        with interval(0, 1):\n",
    "            d = b * x + c * x[0, 0, 1]\n",
    "        with interval(1, -1):\n",
    "            d = a * x[0, 0, -1] + b * x + c * x[0, 0, 1]\n",
    "        with interval(-1, None):\n",
    "            d = a * x[0, 0, -1] + b * x\n",
    "\n",
    "@gtscript.stencil(backend=backend)        \n",
    "def tridiag_solve(a: Field3D, b: Field3D, c: Field3D, d: Field3D, x: Field3D):\n",
    "    with computation(FORWARD):\n",
    "        with interval(1, None):\n",
    "            w = a / b[0, 0, -1]\n",
    "            b -= w * c[0, 0, -1]\n",
    "            d -= w * d[0, 0, -1]\n",
    "    with computation(BACKWARD):\n",
    "        with interval(-1, None):\n",
    "            x = d / b\n",
    "        with interval(0, -1):\n",
    "            x = (d - c * x[0, 0, 1]) / b\n",
    "\n",
    "\n",
    "origin = (0, 0, 0)\n",
    "shape = (1, 1, N)\n",
    "a = gt_storage.from_array(np.random.randn(*shape), backend, origin, dtype=dtype)\n",
    "b = gt_storage.from_array(np.random.randn(*shape), backend, origin, dtype=dtype)\n",
    "c = gt_storage.from_array(np.random.randn(*shape), backend, origin, dtype=dtype)\n",
    "x0 = gt_storage.from_array(np.random.randn(*shape), backend, origin, dtype=dtype)\n",
    "d = gt_storage.zeros(backend, origin, shape, dtype=dtype)\n",
    "x1 = gt_storage.zeros(backend, origin, shape, dtype=dtype)\n",
    "\n",
    "tridiag_mv_mul(a, b, c, d, x0)\n",
    "tridiag_solve(a, b, c, d, x1)\n",
    "assert np.allclose(x0, x1)\n",
    "x1[0, 0, :]"
   ]
  },
  {
   "cell_type": "code",
   "execution_count": null,
   "metadata": {},
   "outputs": [],
   "source": []
  },
  {
   "cell_type": "code",
   "execution_count": null,
   "metadata": {},
   "outputs": [],
   "source": []
  }
 ],
 "metadata": {
  "kernelspec": {
   "display_name": "Python 3",
   "language": "python",
   "name": "python3"
  },
  "language_info": {
   "codemirror_mode": {
    "name": "ipython",
    "version": 3
   },
   "file_extension": ".py",
   "mimetype": "text/x-python",
   "name": "python",
   "nbconvert_exporter": "python",
   "pygments_lexer": "ipython3",
   "version": "3.7.6"
  }
 },
 "nbformat": 4,
 "nbformat_minor": 4
}
