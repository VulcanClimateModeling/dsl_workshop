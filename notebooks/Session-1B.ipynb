{
 "cells": [
  {
   "cell_type": "markdown",
   "metadata": {},
   "source": [
    "# Workshop on Domain-Specific Lanugages for Performance-Portable Weather and Climate Models\n",
    "\n",
    "## Session 1B: More Basic Concepts\n",
    "\n",
    "This notebook begins by revisiting the laplacian example from the previous session, only this time with a GPU!"
   ]
  },
  {
   "cell_type": "code",
   "execution_count": 1,
   "metadata": {},
   "outputs": [],
   "source": [
    "import matplotlib.pyplot as plt\n",
    "import numpy as np\n",
    "import timeit\n",
    "\n",
    "try:\n",
    "    import cupy as cp\n",
    "except ImportError:\n",
    "    cp = None\n",
    "\n",
    "import gt4py\n",
    "import gt4py.storage as gt_storage\n",
    "from gt4py import gtscript\n",
    "from gt4py.gtscript import Field"
   ]
  },
  {
   "cell_type": "code",
   "execution_count": 2,
   "metadata": {},
   "outputs": [],
   "source": [
    "def laplacian_def(in_field: Field[np.float64], out_field: Field[np.float64], *, coeff: float):\n",
    "    with computation(PARALLEL), interval(...):\n",
    "        out_field = coeff * (-4. * in_field +\n",
    "            in_field[1, 0, 0] + in_field[-1, 0, 0] + \n",
    "            in_field[0, 1, 0] + in_field[0, -1, 0])"
   ]
  },
  {
   "cell_type": "code",
   "execution_count": 3,
   "metadata": {},
   "outputs": [],
   "source": [
    "ni, nj, nk = 24, 24, 79\n",
    "nhalo = 3\n",
    "nruns = 5"
   ]
  },
  {
   "cell_type": "code",
   "execution_count": 4,
   "metadata": {},
   "outputs": [
    {
     "name": "stdout",
     "output_type": "stream",
     "text": [
      "Running with numpy backend (0)...\n",
      "  call_time = 1.2494299990066793 ms\n",
      "  run_time = 1.0051190001831856 ms\n",
      "  overhead = 0.24431099882349372 ms\n",
      "\n",
      "Running with numpy backend (1)...\n",
      "  call_time = 1.4611089991376502 ms\n",
      "  run_time = 1.2917000003653811 ms\n",
      "  overhead = 0.16940899877226911 ms\n",
      "\n",
      "Running with numpy backend (2)...\n",
      "  call_time = 7.298630000150297 ms\n",
      "  run_time = 7.075652998537407 ms\n",
      "  overhead = 0.22297700161288958 ms\n",
      "\n",
      "Running with numpy backend (3)...\n",
      "  call_time = 28.73416300099052 ms\n",
      "  run_time = 28.456420001020888 ms\n",
      "  overhead = 0.27774299996963236 ms\n",
      "\n",
      "Running with numpy backend (4)...\n",
      "  call_time = 118.6473540001316 ms\n",
      "  run_time = 118.36103700079548 ms\n",
      "  overhead = 0.28631699933612254 ms\n",
      "\n",
      "Running with gtmc backend (0)...\n",
      "  call_time = 2.8527230006147875 ms\n",
      "  run_time = 2.6499609994061757 ms\n",
      "  overhead = 0.20276200120861176 ms\n",
      "\n",
      "Running with gtmc backend (1)...\n",
      "  call_time = 0.3414210004848428 ms\n",
      "  run_time = 0.13617500007967465 ms\n",
      "  overhead = 0.20524600040516816 ms\n",
      "\n",
      "Running with gtmc backend (2)...\n",
      "  call_time = 1.3131239993526833 ms\n",
      "  run_time = 0.33221299963770434 ms\n",
      "  overhead = 0.980910999714979 ms\n",
      "\n",
      "Running with gtmc backend (3)...\n",
      "  call_time = 2.6091799991263542 ms\n",
      "  run_time = 1.321733998338459 ms\n",
      "  overhead = 1.2874460007878952 ms\n",
      "\n",
      "Running with gtmc backend (4)...\n",
      "  call_time = 7.10402000004251 ms\n",
      "  run_time = 4.994426999473944 ms\n",
      "  overhead = 2.109593000568566 ms\n",
      "\n",
      "Running with gtcuda backend (0)...\n",
      "  call_time = 0.6127079996076645 ms\n",
      "  run_time = 0.07469799857062753 ms\n",
      "  overhead = 0.538010001037037 ms\n",
      "\n",
      "Running with gtcuda backend (1)...\n",
      "  call_time = 0.7721340007265098 ms\n",
      "  run_time = 0.09957700058293995 ms\n",
      "  overhead = 0.6725570001435699 ms\n",
      "\n",
      "Running with gtcuda backend (2)...\n",
      "  call_time = 1.8075589996442432 ms\n",
      "  run_time = 0.1642280003579799 ms\n",
      "  overhead = 1.6433309992862632 ms\n",
      "\n",
      "Running with gtcuda backend (3)...\n",
      "  call_time = 5.303505999108893 ms\n",
      "  run_time = 0.4147100007685367 ms\n",
      "  overhead = 4.888795998340356 ms\n",
      "\n",
      "Running with gtcuda backend (4)...\n",
      "  call_time = 18.296393000127864 ms\n",
      "  run_time = 1.3688999988517025 ms\n",
      "  overhead = 16.92749300127616 ms\n",
      "\n"
     ]
    }
   ],
   "source": [
    "backends = [\"numpy\", \"gtmc\", \"gtcuda\"]\n",
    "timings = dict()\n",
    "sizes = dict()\n",
    "\n",
    "for backend in backends:\n",
    "    ni = nj = 24\n",
    "    sizes[backend] = []\n",
    "    timings[backend] = []    \n",
    "\n",
    "    for n in range(0, nruns):\n",
    "        print(f\"Running with {backend} backend ({n})...\")\n",
    "\n",
    "        origin = (nhalo, nhalo, 0)\n",
    "        shape = (ni + 2*nhalo, nj + 2*nhalo, nk)\n",
    "        rand_data = np.random.randn(*shape)\n",
    "        in_field = gt_storage.from_array(rand_data, backend, origin, shape, dtype=np.float64)        \n",
    "        out_field = gt_storage.zeros(backend, origin, shape, np.float64)        \n",
    "\n",
    "        laplacian = gtscript.stencil(backend, laplacian_def)  # , rebuild=False)\n",
    "        \n",
    "        fields = {\"in_field\": in_field, \"out_field\": out_field}\n",
    "        scalars = {\"coeff\": 0.125}\n",
    "        exec_info = {}\n",
    "        \n",
    "        laplacian(**fields, **scalars, origin=origin, domain=(ni, nj, nk), exec_info=exec_info, validate_args=False)\n",
    "        \n",
    "        call_time = (exec_info['call_end_time']-exec_info['call_start_time']) * 1000.\n",
    "        run_time = (exec_info['run_end_time']-exec_info['run_start_time']) * 1000.        \n",
    "        timings[backend].append(run_time)\n",
    "        sizes[backend].append(ni)\n",
    "\n",
    "        ni *= 2\n",
    "        nj = ni\n",
    "\n",
    "        print(f\"  call_time = {call_time} ms\")\n",
    "        print(f\"  run_time = {run_time} ms\")\n",
    "        print(f\"  overhead = {(call_time - run_time)} ms\")\n",
    "        print(\"\")\n"
   ]
  },
  {
   "cell_type": "code",
   "execution_count": 5,
   "metadata": {},
   "outputs": [
    {
     "data": {
      "image/png": "[encoded data removed]",
      "text/plain": [
       "<Figure size 432x288 with 1 Axes>"
      ]
     },
     "metadata": {
      "needs_background": "light"
     },
     "output_type": "display_data"
    }
   ],
   "source": [
    "for backend in backends:\n",
    "    plt.plot(sizes[backend], timings[backend], \"-o\", label=backend)\n",
    "\n",
    "plt.title(\"Backend Scaling\")\n",
    "plt.grid(color=\"gray\", linestyle='-')\n",
    "plt.legend()\n",
    "plt.xlabel(\"domain size\")\n",
    "plt.ylabel(\"execution time (ms)\")\n",
    "plt.yscale(\"log\")\n",
    "\n",
    "plt.show()"
   ]
  },
  {
   "cell_type": "code",
   "execution_count": 25,
   "metadata": {},
   "outputs": [],
   "source": [
    "FloatField = Field[np.float64]\n",
    "FloatFieldIJ = Field[np.float64, gtscript.IJ]\n",
    "IntFieldIJ = Field[np.int64, gtscript.IJ]\n",
    "\n",
    "@gtscript.stencil(backend=\"numpy\")\n",
    "def counts_and_sums(\n",
    "    q: FloatField,\n",
    "    dp: FloatField,\n",
    "    dm: FloatField,    \n",
    "    zfix: IntFieldIJ,    \n",
    "    zsum: FloatFieldIJ,    \n",
    "):\n",
    "    with computation(PARALLEL), interval(...):\n",
    "        zfix = 0\n",
    "        zsum = 0.0\n",
    "    with computation(FORWARD), interval(1, -1):\n",
    "        if (q < 0.0) and (q[0, 0, -1] > 0.0):\n",
    "            zfix += 1\n",
    "            q += (q[0, 0, -1] * dp[0, 0, -1]) / dp\n",
    "        dm = q * dp        \n",
    "    with computation(FORWARD), interval(1, None):\n",
    "        zsum += dm\n",
    "        if zfix > 0:\n",
    "            q = zsum * dm / dp if zsum * dm / dp > 0.0 else 0.0"
   ]
  },
  {
   "cell_type": "code",
   "execution_count": 38,
   "metadata": {},
   "outputs": [
    {
     "data": {
      "text/plain": [
       "CPUStorage([[[            0,             1,             1,\n",
       "                          2,             3,             5,\n",
       "                          8,            13,            21,\n",
       "                         34,            55,            89,\n",
       "                        144,           233,           377,\n",
       "                        610,           987,          1597,\n",
       "                       2584,          4181,          6765,\n",
       "                      10946,         17711,         28657,\n",
       "                      46368,         75025,        121393,\n",
       "                     196418,        317811,        514229,\n",
       "                     832040,       1346269,       2178309,\n",
       "                    3524578,       5702887,       9227465,\n",
       "                   14930352,      24157817,      39088169,\n",
       "                   63245986,     102334155,     165580141,\n",
       "                  267914296,     433494437,     701408733,\n",
       "                 1134903170,    1836311903,    2971215073,\n",
       "                 4807526976,    7778742049,   12586269025,\n",
       "                20365011074,   32951280099,   53316291173,\n",
       "                86267571272,  139583862445,  225851433717,\n",
       "               365435296162,  591286729879,  956722026041,\n",
       "              1548008755920, 2504730781961, 4052739537881,\n",
       "              6557470319842]]])"
      ]
     },
     "execution_count": 38,
     "metadata": {},
     "output_type": "execute_result"
    }
   ],
   "source": [
    "itype = np.int\n",
    "IntFieldK = Field[itype, gtscript.K]\n",
    "backend = \"numpy\"\n",
    "\n",
    "\n",
    "@gtscript.stencil(backend=backend)\n",
    "def fibonacci(fib: IntFieldK):    \n",
    "    with computation(FORWARD), interval(2, None):\n",
    "        fib = fib[0, 0, -2] + fib[0, 0, -1]\n",
    "        \n",
    "\n",
    "fib_field = gt_storage.zeros(backend, (0, 0, 0), (1, 1, 64), itype)\n",
    "fib_field[0, 0, 1] = 1    # base case...\n",
    "\n",
    "fibonacci(fib_field, origin=(0, 0, 0), domain=(1, 1, 64), validate_args=False)\n",
    "fib_field"
   ]
  },
  {
   "cell_type": "code",
   "execution_count": 75,
   "metadata": {},
   "outputs": [
    {
     "data": {
      "text/plain": [
       "CPUStorage([[  0.        ,   0.        ,   0.        , ...,   0.        ,\n",
       "               0.        ,   0.        ],\n",
       "            [ 53.85414303,  29.09751766, -22.41123126, ..., -13.89984242,\n",
       "              36.27115105,  53.09461552],\n",
       "            [ 58.19503532,  31.44291177, -24.21767985, ..., -15.02023382,\n",
       "              39.1947731 ,  57.37428638],\n",
       "            ...,\n",
       "            [-61.83153728, -33.40772217,  25.73099864, ...,  15.95882092,\n",
       "             -41.64398322, -60.95950124],\n",
       "            [-47.30756459, -25.56038623,  19.68689335, ...,  12.21015981,\n",
       "             -31.86198358, -46.64036621],\n",
       "            [ 10.71076482,   5.78705093,  -4.4572509 , ...,  -2.76446592,\n",
       "               7.21377682,  10.55970642]])"
      ]
     },
     "execution_count": 75,
     "metadata": {},
     "output_type": "execute_result"
    }
   ],
   "source": [
    "backend = \"gtmc\"\n",
    "dtype = np.float64\n",
    "Field3D = Field[dtype]\n",
    "Field2D = Field[dtype, gtscript.IJ]\n",
    "\n",
    "\n",
    "@gtscript.stencil(backend=backend)\n",
    "def parallel_sum(nums: Field3D, sums: Field2D):\n",
    "    with computation(PARALLEL), interval(...):\n",
    "        sums += nums\n",
    "        \n",
    "\n",
    "in_data = np.fromfunction(lambda i, j, k: np.sin(i) * np.cos(j), (64, 64, 64), dtype=dtype)\n",
    "nums = gt_storage.from_array(in_data, backend, (0, 0, 0), (64, 64, 64), dtype=dtype)  \n",
    "sums = gt_storage.zeros(backend, (0, 0, 0), (64, 64, 1), dtype)\n",
    "\n",
    "parallel_sum(nums, sums, origin=(0, 0, 0), domain=(64, 64, 64), validate_args=False)\n",
    "\n",
    "sums[:, :, 0]"
   ]
  },
  {
   "cell_type": "code",
   "execution_count": 95,
   "metadata": {},
   "outputs": [
    {
     "data": {
      "text/plain": [
       "CPUStorage([[ 0,  0,  0, ...,  0,  0,  0],\n",
       "            [64, 64,  0, ...,  0, 64, 64],\n",
       "            [64, 64,  0, ...,  0, 64, 64],\n",
       "            ...,\n",
       "            [ 0,  0, 64, ..., 64,  0,  0],\n",
       "            [ 0,  0, 64, ..., 64,  0,  0],\n",
       "            [64, 64,  0, ...,  0, 64, 64]], dtype=int32)"
      ]
     },
     "execution_count": 95,
     "metadata": {},
     "output_type": "execute_result"
    }
   ],
   "source": [
    "backend = \"gtmc\"\n",
    "dtype = np.float64\n",
    "itype = np.int32\n",
    "Field3D = Field[dtype]\n",
    "IntField2D = Field[itype, gtscript.IJ]\n",
    "\n",
    "\n",
    "@gtscript.stencil(backend=backend)\n",
    "def parallel_count(nums: Field3D, counts: IntField2D):\n",
    "    with computation(PARALLEL), interval(...):\n",
    "        if nums > 0.0:\n",
    "            counts += 1\n",
    "        \n",
    "\n",
    "in_data = np.fromfunction(lambda i, j, k: np.sin(i) * np.cos(j), (64, 64, 64), dtype=dtype)\n",
    "nums = gt_storage.from_array(in_data, backend, (0, 0, 0), (64, 64, 64), dtype=dtype)  \n",
    "counts = gt_storage.zeros(backend, (0, 0, 0), (64, 64, 1), itype)\n",
    "\n",
    "parallel_count(nums, counts, origin=(0, 0, 0), domain=(64, 64, 64), validate_args=False)\n",
    "\n",
    "counts[:, :, 0]"
   ]
  },
  {
   "cell_type": "code",
   "execution_count": 140,
   "metadata": {},
   "outputs": [
    {
     "data": {
      "text/plain": [
       "CPUStorage([-0.676337  ,  1.01069665,  0.1619976 , ...,  0.57317459,\n",
       "            -1.05411054, -0.1779109 ])"
      ]
     },
     "execution_count": 140,
     "metadata": {},
     "output_type": "execute_result"
    }
   ],
   "source": [
    "backend = \"numpy\"\n",
    "dtype = np.float64\n",
    "Field3D = Field[dtype]\n",
    "N = 1024\n",
    "\n",
    "@gtscript.stencil(backend=backend)\n",
    "def tridiag_mv_mul(a: Field3D, b: Field3D, c: Field3D, d: Field3D, x: Field3D):\n",
    "    with computation(PARALLEL):\n",
    "        with interval(0, 1):\n",
    "            d = b * x + c * x[0, 0, 1]\n",
    "        with interval(1, -1):\n",
    "            d = a * x[0, 0, -1] + b * x + c * x[0, 0, 1]\n",
    "        with interval(-1, None):\n",
    "            d = a * x[0, 0, -1] + b * x\n",
    "\n",
    "@gtscript.stencil(backend=backend)        \n",
    "def tridiag_solve(a: Field3D, b: Field3D, c: Field3D, d: Field3D, x: Field3D):\n",
    "    with computation(FORWARD):\n",
    "        with interval(1, None):\n",
    "            w = a / b[0, 0, -1]\n",
    "            b -= w * c[0, 0, -1]\n",
    "            d -= w * d[0, 0, -1]\n",
    "    with computation(BACKWARD):\n",
    "        with interval(-1, None):\n",
    "            x = d / b\n",
    "        with interval(0, -1):\n",
    "            x = (d - c * x[0, 0, 1]) / b\n",
    "\n",
    "\n",
    "origin = (0, 0, 0)\n",
    "shape = (1, 1, N)\n",
    "a = gt_storage.from_array(np.random.randn(*shape), backend, origin, dtype=dtype)\n",
    "b = gt_storage.from_array(np.random.randn(*shape), backend, origin, dtype=dtype)\n",
    "c = gt_storage.from_array(np.random.randn(*shape), backend, origin, dtype=dtype)\n",
    "x0 = gt_storage.from_array(np.random.randn(*shape), backend, origin, dtype=dtype)\n",
    "d = gt_storage.zeros(backend, origin, shape, dtype=dtype)\n",
    "x1 = gt_storage.zeros(backend, origin, shape, dtype=dtype)\n",
    "\n",
    "tridiag_mv_mul(a, b, c, d, x0)\n",
    "tridiag_solve(a, b, c, d, x1)\n",
    "assert np.allclose(x0, x1)\n",
    "x1[0, 0, :]"
   ]
  },
  {
   "cell_type": "code",
   "execution_count": null,
   "metadata": {},
   "outputs": [],
   "source": []
  },
  {
   "cell_type": "code",
   "execution_count": null,
   "metadata": {},
   "outputs": [],
   "source": []
  }
 ],
 "metadata": {
  "kernelspec": {
   "display_name": "Python 3",
   "language": "python",
   "name": "python3"
  },
  "language_info": {
   "codemirror_mode": {
    "name": "ipython",
    "version": 3
   },
   "file_extension": ".py",
   "mimetype": "text/x-python",
   "name": "python",
   "nbconvert_exporter": "python",
   "pygments_lexer": "ipython3",
   "version": "3.7.6"
  }
 },
 "nbformat": 4,
 "nbformat_minor": 4
}
