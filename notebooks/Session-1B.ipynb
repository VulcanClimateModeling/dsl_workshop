{
 "cells": [
  {
   "cell_type": "markdown",
   "metadata": {},
   "source": [
    "# Workshop on Domain-Specific Lanugages for Performance-Portable Weather and Climate Models\n",
    "\n",
    "## Session 1B: Basic Concepts III\n",
    "\n",
    "This notebook begins by revisiting the Lap(Lap()) example from the previous session, this time demonstrating how easily code implemented with GT4Py can be run on an NVIDIA GPU. Note that some parts will not work on Orion, since the Orion system does not have any GPUs.\n",
    "\n",
    "We first import the necessary packages as before."
   ]
  },
  {
   "cell_type": "code",
   "execution_count": 1,
   "metadata": {},
   "outputs": [],
   "source": [
    "import matplotlib.pyplot as plt\n",
    "import numpy as np\n",
    "\n",
    "import gt4py\n",
    "import gt4py.storage as gt_storage\n",
    "from gt4py import gtscript\n",
    "from gt4py.gtscript import Field \n",
    "\n",
    "from tools import plot_two_ij_slices"
   ]
  },
  {
   "cell_type": "markdown",
   "metadata": {},
   "source": [
    "### Define the 2D Laplacian stencil:"
   ]
  },
  {
   "cell_type": "code",
   "execution_count": 2,
   "metadata": {},
   "outputs": [],
   "source": [
    "def laplacian_def(in_field: Field[np.float], out_field: Field[np.float], *, coeff: np.float):\n",
    "    with computation(PARALLEL), interval(...):\n",
    "        out_field = coeff * (-4. * in_field +\n",
    "            in_field[1, 0, 0] + in_field[-1, 0, 0] + \n",
    "            in_field[0, 1, 0] + in_field[0, -1, 0])"
   ]
  },
  {
   "cell_type": "markdown",
   "metadata": {},
   "source": [
    "### Domain Specification\n",
    "\n",
    "Specify the initial domain sizes: (*n<sub>i</sub>*, *n<sub>j</sub>*, *n<sub>k</sub>*), the number of halo lines in *x* and *y*, *n<sub>halo</sub>*, and the number of times to run each backend, *n<sub>runs</sub>*."
   ]
  },
  {
   "cell_type": "code",
   "execution_count": 3,
   "metadata": {},
   "outputs": [],
   "source": [
    "ni, nj, nk = 24, 24, 80\n",
    "nhalo = 3\n",
    "nruns = 5"
   ]
  },
  {
   "cell_type": "markdown",
   "metadata": {},
   "source": [
    "### Generate Scalability Data\n",
    "\n",
    "Here we define the `origin`, `domain`, data `shape`, and `backends`. The `gtx86` backend is replaced with `gtcuda` to generate CUDA code. The inner loop executes the stencil `nruns` times for each backend, with the horizontal domain size doubled at each iteration to generate scalability timings."
   ]
  },
  {
   "cell_type": "code",
   "execution_count": 4,
   "metadata": {},
   "outputs": [
    {
     "name": "stdout",
     "output_type": "stream",
     "text": [
      "Running with numpy backend (0)...\n",
      "Running with numpy backend (1)...\n",
      "Running with numpy backend (2)...\n",
      "Running with numpy backend (3)...\n",
      "Running with numpy backend (4)...\n",
      "Running with gtmc backend (0)...\n",
      "Running with gtmc backend (1)...\n",
      "Running with gtmc backend (2)...\n",
      "Running with gtmc backend (3)...\n",
      "Running with gtmc backend (4)...\n",
      "Running with gtcuda backend (0)...\n"
     ]
    },
    {
     "ename": "NameError",
     "evalue": "name 'cp' is not defined",
     "output_type": "error",
     "traceback": [
      "\u001b[0;31m---------------------------------------------------------------------------\u001b[0m",
      "\u001b[0;31mNameError\u001b[0m                                 Traceback (most recent call last)",
      "\u001b[0;32m<ipython-input-4-1f93c0feb7ef>\u001b[0m in \u001b[0;36m<module>\u001b[0;34m\u001b[0m\n\u001b[1;32m     17\u001b[0m \u001b[0;34m\u001b[0m\u001b[0m\n\u001b[1;32m     18\u001b[0m         \u001b[0mrand_data\u001b[0m \u001b[0;34m=\u001b[0m \u001b[0mnp\u001b[0m\u001b[0;34m.\u001b[0m\u001b[0mrandom\u001b[0m\u001b[0;34m.\u001b[0m\u001b[0mrandn\u001b[0m\u001b[0;34m(\u001b[0m\u001b[0;34m*\u001b[0m\u001b[0mshape\u001b[0m\u001b[0;34m)\u001b[0m\u001b[0;34m\u001b[0m\u001b[0;34m\u001b[0m\u001b[0m\n\u001b[0;32m---> 19\u001b[0;31m         \u001b[0min_field\u001b[0m \u001b[0;34m=\u001b[0m \u001b[0mgt_storage\u001b[0m\u001b[0;34m.\u001b[0m\u001b[0mfrom_array\u001b[0m\u001b[0;34m(\u001b[0m\u001b[0mrand_data\u001b[0m\u001b[0;34m,\u001b[0m \u001b[0mbackend\u001b[0m\u001b[0;34m,\u001b[0m \u001b[0morigin\u001b[0m\u001b[0;34m,\u001b[0m \u001b[0mshape\u001b[0m\u001b[0;34m,\u001b[0m \u001b[0mdtype\u001b[0m\u001b[0;34m=\u001b[0m\u001b[0mnp\u001b[0m\u001b[0;34m.\u001b[0m\u001b[0mfloat64\u001b[0m\u001b[0;34m)\u001b[0m\u001b[0;34m\u001b[0m\u001b[0;34m\u001b[0m\u001b[0m\n\u001b[0m\u001b[1;32m     20\u001b[0m         \u001b[0mout_field\u001b[0m \u001b[0;34m=\u001b[0m \u001b[0mgt_storage\u001b[0m\u001b[0;34m.\u001b[0m\u001b[0mzeros\u001b[0m\u001b[0;34m(\u001b[0m\u001b[0mbackend\u001b[0m\u001b[0;34m,\u001b[0m \u001b[0morigin\u001b[0m\u001b[0;34m,\u001b[0m \u001b[0mshape\u001b[0m\u001b[0;34m,\u001b[0m \u001b[0mnp\u001b[0m\u001b[0;34m.\u001b[0m\u001b[0mfloat64\u001b[0m\u001b[0;34m)\u001b[0m\u001b[0;34m\u001b[0m\u001b[0;34m\u001b[0m\u001b[0m\n\u001b[1;32m     21\u001b[0m         \u001b[0mexec_info\u001b[0m \u001b[0;34m=\u001b[0m \u001b[0;34m{\u001b[0m\u001b[0;34m}\u001b[0m\u001b[0;34m\u001b[0m\u001b[0;34m\u001b[0m\u001b[0m\n",
      "\u001b[0;32m~/install/gt4py/src/gt4py/storage/storage.py\u001b[0m in \u001b[0;36mfrom_array\u001b[0;34m(data, backend, default_origin, shape, dtype, mask, managed_memory)\u001b[0m\n\u001b[1;32m     83\u001b[0m         \u001b[0mdefault_origin\u001b[0m\u001b[0;34m=\u001b[0m\u001b[0mdefault_origin\u001b[0m\u001b[0;34m,\u001b[0m\u001b[0;34m\u001b[0m\u001b[0;34m\u001b[0m\u001b[0m\n\u001b[1;32m     84\u001b[0m         \u001b[0mmask\u001b[0m\u001b[0;34m=\u001b[0m\u001b[0mmask\u001b[0m\u001b[0;34m,\u001b[0m\u001b[0;34m\u001b[0m\u001b[0;34m\u001b[0m\u001b[0m\n\u001b[0;32m---> 85\u001b[0;31m         \u001b[0mmanaged_memory\u001b[0m\u001b[0;34m=\u001b[0m\u001b[0mmanaged_memory\u001b[0m\u001b[0;34m,\u001b[0m\u001b[0;34m\u001b[0m\u001b[0;34m\u001b[0m\u001b[0m\n\u001b[0m\u001b[1;32m     86\u001b[0m     )\n\u001b[1;32m     87\u001b[0m     \u001b[0;32mif\u001b[0m \u001b[0mis_cupy_array\u001b[0m\u001b[0;34m:\u001b[0m\u001b[0;34m\u001b[0m\u001b[0;34m\u001b[0m\u001b[0m\n",
      "\u001b[0;32m~/install/gt4py/src/gt4py/storage/storage.py\u001b[0m in \u001b[0;36mempty\u001b[0;34m(backend, default_origin, shape, dtype, mask, managed_memory)\u001b[0m\n\u001b[1;32m     38\u001b[0m \u001b[0;34m\u001b[0m\u001b[0m\n\u001b[1;32m     39\u001b[0m     return storage_t(\n\u001b[0;32m---> 40\u001b[0;31m         \u001b[0mshape\u001b[0m\u001b[0;34m=\u001b[0m\u001b[0mshape\u001b[0m\u001b[0;34m,\u001b[0m \u001b[0mdtype\u001b[0m\u001b[0;34m=\u001b[0m\u001b[0mdtype\u001b[0m\u001b[0;34m,\u001b[0m \u001b[0mbackend\u001b[0m\u001b[0;34m=\u001b[0m\u001b[0mbackend\u001b[0m\u001b[0;34m,\u001b[0m \u001b[0mdefault_origin\u001b[0m\u001b[0;34m=\u001b[0m\u001b[0mdefault_origin\u001b[0m\u001b[0;34m,\u001b[0m \u001b[0mmask\u001b[0m\u001b[0;34m=\u001b[0m\u001b[0mmask\u001b[0m\u001b[0;34m\u001b[0m\u001b[0;34m\u001b[0m\u001b[0m\n\u001b[0m\u001b[1;32m     41\u001b[0m     )\n\u001b[1;32m     42\u001b[0m \u001b[0;34m\u001b[0m\u001b[0m\n",
      "\u001b[0;32m~/install/gt4py/src/gt4py/storage/storage.py\u001b[0m in \u001b[0;36m__new__\u001b[0;34m(cls, shape, dtype, backend, default_origin, mask)\u001b[0m\n\u001b[1;32m    142\u001b[0m \u001b[0;34m\u001b[0m\u001b[0m\n\u001b[1;32m    143\u001b[0m         obj = cls._construct(\n\u001b[0;32m--> 144\u001b[0;31m             \u001b[0mbackend\u001b[0m\u001b[0;34m,\u001b[0m \u001b[0mnp\u001b[0m\u001b[0;34m.\u001b[0m\u001b[0mdtype\u001b[0m\u001b[0;34m(\u001b[0m\u001b[0mdtype\u001b[0m\u001b[0;34m)\u001b[0m\u001b[0;34m,\u001b[0m \u001b[0mdefault_origin\u001b[0m\u001b[0;34m,\u001b[0m \u001b[0mshape\u001b[0m\u001b[0;34m,\u001b[0m \u001b[0malignment\u001b[0m\u001b[0;34m,\u001b[0m \u001b[0mlayout_map\u001b[0m\u001b[0;34m\u001b[0m\u001b[0;34m\u001b[0m\u001b[0m\n\u001b[0m\u001b[1;32m    145\u001b[0m         )\n\u001b[1;32m    146\u001b[0m         \u001b[0mobj\u001b[0m\u001b[0;34m.\u001b[0m\u001b[0m_backend\u001b[0m \u001b[0;34m=\u001b[0m \u001b[0mbackend\u001b[0m\u001b[0;34m\u001b[0m\u001b[0;34m\u001b[0m\u001b[0m\n",
      "\u001b[0;32m~/install/gt4py/src/gt4py/storage/storage.py\u001b[0m in \u001b[0;36m_construct\u001b[0;34m(cls, backend, dtype, default_origin, shape, alignment, layout_map)\u001b[0m\n\u001b[1;32m    391\u001b[0m             \u001b[0mdevice_field\u001b[0m\u001b[0;34m,\u001b[0m\u001b[0;34m\u001b[0m\u001b[0;34m\u001b[0m\u001b[0m\n\u001b[1;32m    392\u001b[0m         \u001b[0;34m)\u001b[0m \u001b[0;34m=\u001b[0m \u001b[0mstorage_utils\u001b[0m\u001b[0;34m.\u001b[0m\u001b[0mallocate_gpu_unmanaged\u001b[0m\u001b[0;34m(\u001b[0m\u001b[0;34m\u001b[0m\u001b[0;34m\u001b[0m\u001b[0m\n\u001b[0;32m--> 393\u001b[0;31m             \u001b[0mdefault_origin\u001b[0m\u001b[0;34m,\u001b[0m \u001b[0mshape\u001b[0m\u001b[0;34m,\u001b[0m \u001b[0mlayout_map\u001b[0m\u001b[0;34m,\u001b[0m \u001b[0mdtype\u001b[0m\u001b[0;34m,\u001b[0m \u001b[0malignment\u001b[0m \u001b[0;34m*\u001b[0m \u001b[0mdtype\u001b[0m\u001b[0;34m.\u001b[0m\u001b[0mitemsize\u001b[0m\u001b[0;34m\u001b[0m\u001b[0;34m\u001b[0m\u001b[0m\n\u001b[0m\u001b[1;32m    394\u001b[0m         )\n\u001b[1;32m    395\u001b[0m         \u001b[0mobj\u001b[0m \u001b[0;34m=\u001b[0m \u001b[0mfield\u001b[0m\u001b[0;34m.\u001b[0m\u001b[0mview\u001b[0m\u001b[0;34m(\u001b[0m\u001b[0m_ViewableNdarray\u001b[0m\u001b[0;34m)\u001b[0m\u001b[0;34m\u001b[0m\u001b[0;34m\u001b[0m\u001b[0m\n",
      "\u001b[0;32m~/install/gt4py/src/gt4py/storage/utils.py\u001b[0m in \u001b[0;36mallocate_gpu_unmanaged\u001b[0;34m(default_origin, shape, layout_map, dtype, alignment_bytes)\u001b[0m\n\u001b[1;32m    169\u001b[0m     \u001b[0mbuffer_size\u001b[0m \u001b[0;34m=\u001b[0m \u001b[0mpadded_size\u001b[0m \u001b[0;34m+\u001b[0m \u001b[0mitems_per_alignment\u001b[0m \u001b[0;34m-\u001b[0m \u001b[0;36m1\u001b[0m\u001b[0;34m\u001b[0m\u001b[0;34m\u001b[0m\u001b[0m\n\u001b[1;32m    170\u001b[0m \u001b[0;34m\u001b[0m\u001b[0m\n\u001b[0;32m--> 171\u001b[0;31m     \u001b[0mptr\u001b[0m \u001b[0;34m=\u001b[0m \u001b[0mcp\u001b[0m\u001b[0;34m.\u001b[0m\u001b[0mcuda\u001b[0m\u001b[0;34m.\u001b[0m\u001b[0malloc_pinned_memory\u001b[0m\u001b[0;34m(\u001b[0m\u001b[0mbuffer_size\u001b[0m \u001b[0;34m*\u001b[0m \u001b[0mitemsize\u001b[0m\u001b[0;34m)\u001b[0m\u001b[0;34m\u001b[0m\u001b[0;34m\u001b[0m\u001b[0m\n\u001b[0m\u001b[1;32m    172\u001b[0m     \u001b[0mraw_buffer\u001b[0m \u001b[0;34m=\u001b[0m \u001b[0mnp\u001b[0m\u001b[0;34m.\u001b[0m\u001b[0mfrombuffer\u001b[0m\u001b[0;34m(\u001b[0m\u001b[0mptr\u001b[0m\u001b[0;34m,\u001b[0m \u001b[0mdtype\u001b[0m\u001b[0;34m,\u001b[0m \u001b[0mbuffer_size\u001b[0m\u001b[0;34m)\u001b[0m\u001b[0;34m\u001b[0m\u001b[0;34m\u001b[0m\u001b[0m\n\u001b[1;32m    173\u001b[0m     \u001b[0mdevice_raw_buffer\u001b[0m \u001b[0;34m=\u001b[0m \u001b[0mcp\u001b[0m\u001b[0;34m.\u001b[0m\u001b[0mempty\u001b[0m\u001b[0;34m(\u001b[0m\u001b[0;34m(\u001b[0m\u001b[0mbuffer_size\u001b[0m\u001b[0;34m,\u001b[0m\u001b[0;34m)\u001b[0m\u001b[0;34m,\u001b[0m \u001b[0mdtype\u001b[0m\u001b[0;34m=\u001b[0m\u001b[0mdtype\u001b[0m\u001b[0;34m)\u001b[0m\u001b[0;34m\u001b[0m\u001b[0;34m\u001b[0m\u001b[0m\n",
      "\u001b[0;31mNameError\u001b[0m: name 'cp' is not defined"
     ]
    }
   ],
   "source": [
    "origin = (nhalo, nhalo, 0)\n",
    "backends = [\"numpy\", \"gtmc\", \"gtcuda\"]\n",
    "\n",
    "timings = dict()\n",
    "sizes = dict()\n",
    "\n",
    "for backend in backends:\n",
    "    ni = nj = 24\n",
    "    sizes[backend] = []\n",
    "    timings[backend] = []    \n",
    "\n",
    "    for n in range(0, nruns):\n",
    "        print(f\"Running with {backend} backend ({n})...\")\n",
    "        \n",
    "        domain = (ni, nj, nk)\n",
    "        shape = (ni + 2 * nhalo, nj + 2 * nhalo, nk)\n",
    "        \n",
    "        rand_data = np.random.randn(*shape)        \n",
    "        in_field = gt_storage.from_array(rand_data, backend, origin, shape, dtype=np.float64)        \n",
    "        out_field = gt_storage.zeros(backend, origin, shape, np.float64)        \n",
    "        exec_info = {}\n",
    "\n",
    "        laplacian = gtscript.stencil(backend, laplacian_def)\n",
    "        laplacian(in_field, out_field, coeff=0.125, origin=origin, domain=domain, exec_info=exec_info)  # , validate_args=False)\n",
    "        \n",
    "        call_time = (exec_info['call_end_time'] - exec_info['call_start_time']) * 1000.\n",
    "        run_time = (exec_info['run_end_time'] - exec_info['run_start_time']) * 1000.        \n",
    "        \n",
    "        timings[backend].append(run_time)\n",
    "        sizes[backend].append(ni)\n",
    "\n",
    "        ni *= 2\n",
    "        nj = ni"
   ]
  },
  {
   "cell_type": "markdown",
   "metadata": {},
   "source": [
    "### Plot the Performance\n",
    "\n",
    "The generated timing data can be visualized using `matplotlib`. The *y*-axis is in log scale to highlight the performance improvement from `numpy` to an optimized CPU backend (`gtmc`), and finally to optimized GPU code (`gtcuda`)."
   ]
  },
  {
   "cell_type": "code",
   "execution_count": 5,
   "metadata": {},
   "outputs": [
    {
     "data": {
      "image/png": "[encoded data removed]",
      "text/plain": [
       "<Figure size 432x288 with 1 Axes>"
      ]
     },
     "metadata": {
      "needs_background": "light"
     },
     "output_type": "display_data"
    }
   ],
   "source": [
    "for backend in backends:\n",
    "    plt.plot(sizes[backend], timings[backend], \"-o\", label=backend)\n",
    "\n",
    "plt.title(\"Backend Scaling\")\n",
    "plt.grid(color=\"gray\", linestyle='-')\n",
    "plt.legend()\n",
    "plt.xlabel(\"domain size\")\n",
    "plt.ylabel(\"execution time (ms)\")\n",
    "plt.yscale(\"log\")\n",
    "\n",
    "plt.show()"
   ]
  },
  {
   "cell_type": "markdown",
   "metadata": {},
   "source": [
    "### Inspect the Generated Code\n",
    "\n",
    "Clearly the selected backend can have a significant impact on the performance of the generated code (the target hardware helps too). You may have noticed that stencils run faster the second or third time they are executed. This is because `gt4py` maintains a cache of generated and compiled code in a directory called `.gt_cache`.\n",
    "\n",
    "We can open a terminal in Jupyter to explore the generated code. The directory format is:<br />\n",
    "<tt>.gt_cache/py{python_version}/{backend}/{package}/{stencil_name}/m_{stencil_name}_{backend}_{hash}.py</tt>\n",
    "\n",
    "GT4Py includes a `debug` backend that generates highly readable (if inefficient) Python code from the stencil. We can use the `gtscript.stencil` decorator on the stencil below to quickly generate code for different backends.\n",
    "\n",
    "For example, the generated code for the `debug` backend would be located here:\n",
    "<tt>/home/eddied/workshop/notebooks/.gt_cache/py37_1013/debug/__main__/laplacian_def/m_laplacian_def__debug_65d8271266</tt>\n",
    "\n",
    "<b>Note</b>: The hash is a unique identifier computed from the contents of the stencil. That means if the stencil changes, so will the hash value."
   ]
  },
  {
   "cell_type": "code",
   "execution_count": 6,
   "metadata": {},
   "outputs": [],
   "source": [
    "@gtscript.stencil(\"debug\")\n",
    "def laplacian_def(in_field: Field[np.float], out_field: Field[np.float], *, coeff: np.float):\n",
    "    with computation(PARALLEL), interval(...):\n",
    "        out_field = coeff * (-4. * in_field +\n",
    "            in_field[1, 0, 0] + in_field[-1, 0, 0] + \n",
    "            in_field[0, 1, 0] + in_field[0, -1, 0])"
   ]
  },
  {
   "cell_type": "code",
   "execution_count": 7,
   "metadata": {},
   "outputs": [
    {
     "name": "stdout",
     "output_type": "stream",
     "text": [
      "\u001b[34mimport\u001b[39;49;00m \u001b[04m\u001b[36mtime\u001b[39;49;00m\r\n",
      "\r\n",
      "\u001b[34mimport\u001b[39;49;00m \u001b[04m\u001b[36mnumpy\u001b[39;49;00m \u001b[34mas\u001b[39;49;00m \u001b[04m\u001b[36mnp\u001b[39;49;00m\r\n",
      "\u001b[34mfrom\u001b[39;49;00m \u001b[04m\u001b[36mnumpy\u001b[39;49;00m \u001b[34mimport\u001b[39;49;00m dtype\r\n",
      "\r\n",
      "\u001b[34mimport\u001b[39;49;00m \u001b[04m\u001b[36mmath\u001b[39;49;00m\r\n",
      "\r\n",
      "\r\n",
      "\u001b[34mfrom\u001b[39;49;00m \u001b[04m\u001b[36mgt4py\u001b[39;49;00m\u001b[04m\u001b[36m.\u001b[39;49;00m\u001b[04m\u001b[36mstencil_object\u001b[39;49;00m \u001b[34mimport\u001b[39;49;00m AccessKind, Boundary, DomainInfo, FieldInfo, ParameterInfo, StencilObject\r\n",
      "\r\n",
      "\r\n",
      "\u001b[34mclass\u001b[39;49;00m \u001b[04m\u001b[32m_Accessor\u001b[39;49;00m:\r\n",
      "    \u001b[34mdef\u001b[39;49;00m \u001b[32m__init__\u001b[39;49;00m(\u001b[36mself\u001b[39;49;00m, array, origin):\r\n",
      "        \u001b[36mself\u001b[39;49;00m.array = array\r\n",
      "        \u001b[36mself\u001b[39;49;00m.origin = origin\r\n",
      "\r\n",
      "    \u001b[34mdef\u001b[39;49;00m \u001b[32m_shift\u001b[39;49;00m(\u001b[36mself\u001b[39;49;00m, index):\r\n",
      "        \u001b[34mreturn\u001b[39;49;00m \u001b[36mtuple\u001b[39;49;00m(i + offset \u001b[34mfor\u001b[39;49;00m i, offset \u001b[35min\u001b[39;49;00m \u001b[36mzip\u001b[39;49;00m(index, \u001b[36mself\u001b[39;49;00m.origin))\r\n",
      "\r\n",
      "    \u001b[34mdef\u001b[39;49;00m \u001b[32m__getitem__\u001b[39;49;00m(\u001b[36mself\u001b[39;49;00m, index):\r\n",
      "        \u001b[34mreturn\u001b[39;49;00m \u001b[36mself\u001b[39;49;00m.array[\u001b[36mself\u001b[39;49;00m._shift(index)]\r\n",
      "\r\n",
      "    \u001b[34mdef\u001b[39;49;00m \u001b[32m__setitem__\u001b[39;49;00m(\u001b[36mself\u001b[39;49;00m, index, value):\r\n",
      "        \u001b[36mself\u001b[39;49;00m.array[\u001b[36mself\u001b[39;49;00m._shift(index)] = value\r\n",
      "\r\n",
      "\r\n",
      "\u001b[34mclass\u001b[39;49;00m \u001b[04m\u001b[32mlaplacian_def____debug_65d8271266\u001b[39;49;00m(StencilObject):\r\n",
      "    \u001b[33m\"\"\"\u001b[39;49;00m\r\n",
      "\u001b[33m\u001b[39;49;00m\r\n",
      "\u001b[33m\u001b[39;49;00m\r\n",
      "\u001b[33m    Default Parameters\u001b[39;49;00m\r\n",
      "\u001b[33m    ------------------\u001b[39;49;00m\r\n",
      "\u001b[33m    domain : `Sequence` of `int`, optional\u001b[39;49;00m\r\n",
      "\u001b[33m        Shape of the computation domain. If `None`, it will be used the\u001b[39;49;00m\r\n",
      "\u001b[33m        largest feasible domain according to the provided input fields\u001b[39;49;00m\r\n",
      "\u001b[33m        and origin values (`None` by default).\u001b[39;49;00m\r\n",
      "\u001b[33m\u001b[39;49;00m\r\n",
      "\u001b[33m    origin :  `[int * ndims]` or `{'field_name': [int * ndims]}`, optional\u001b[39;49;00m\r\n",
      "\u001b[33m        If a single offset is passed, it will be used for all fields.\u001b[39;49;00m\r\n",
      "\u001b[33m        If a `dict` is passed, there could be an entry for each field.\u001b[39;49;00m\r\n",
      "\u001b[33m        A special key *'_all_'* will represent the value to be used for all\u001b[39;49;00m\r\n",
      "\u001b[33m        the fields not explicitly defined. If `None` is passed or it is\u001b[39;49;00m\r\n",
      "\u001b[33m        not possible to assign a value to some field according to the\u001b[39;49;00m\r\n",
      "\u001b[33m        previous rule, the value will be inferred from the global boundaries\u001b[39;49;00m\r\n",
      "\u001b[33m        of the field. Note that the function checks if the origin values\u001b[39;49;00m\r\n",
      "\u001b[33m        are at least equal to the `global_border` attribute of that field,\u001b[39;49;00m\r\n",
      "\u001b[33m        so a 0-based origin will only be acceptable for fields with\u001b[39;49;00m\r\n",
      "\u001b[33m        a 0-area support region.\u001b[39;49;00m\r\n",
      "\u001b[33m\u001b[39;49;00m\r\n",
      "\u001b[33m    exec_info : `dict`, optional\u001b[39;49;00m\r\n",
      "\u001b[33m        Dictionary used to store information about the stencil execution.\u001b[39;49;00m\r\n",
      "\u001b[33m        (`None` by default).\u001b[39;49;00m\r\n",
      "\u001b[33m    \"\"\"\u001b[39;49;00m\r\n",
      "\r\n",
      "    _gt_backend_ = \u001b[33m\"\u001b[39;49;00m\u001b[33mdebug\u001b[39;49;00m\u001b[33m\"\u001b[39;49;00m\r\n",
      "\r\n",
      "    _gt_source_ = {}\r\n",
      "\r\n",
      "    _gt_domain_info_ = DomainInfo(parallel_axes=(\u001b[33m\"\u001b[39;49;00m\u001b[33mI\u001b[39;49;00m\u001b[33m\"\u001b[39;49;00m, \u001b[33m\"\u001b[39;49;00m\u001b[33mJ\u001b[39;49;00m\u001b[33m\"\u001b[39;49;00m), sequential_axis=\u001b[33m\"\u001b[39;49;00m\u001b[33mK\u001b[39;49;00m\u001b[33m\"\u001b[39;49;00m, ndims=\u001b[34m3\u001b[39;49;00m)\r\n",
      "\r\n",
      "    _gt_field_info_ = {\r\n",
      "        \u001b[33m\"\u001b[39;49;00m\u001b[33min_field\u001b[39;49;00m\u001b[33m\"\u001b[39;49;00m: FieldInfo(\r\n",
      "            access=AccessKind.READ_ONLY, boundary=Boundary(((\u001b[34m1\u001b[39;49;00m, \u001b[34m1\u001b[39;49;00m), (\u001b[34m1\u001b[39;49;00m, \u001b[34m1\u001b[39;49;00m), (\u001b[34m0\u001b[39;49;00m, \u001b[34m0\u001b[39;49;00m))), dtype=dtype(\u001b[33m\"\u001b[39;49;00m\u001b[33mfloat64\u001b[39;49;00m\u001b[33m\"\u001b[39;49;00m)\r\n",
      "        ),\r\n",
      "        \u001b[33m\"\u001b[39;49;00m\u001b[33mout_field\u001b[39;49;00m\u001b[33m\"\u001b[39;49;00m: FieldInfo(\r\n",
      "            access=AccessKind.READ_WRITE, boundary=Boundary(((\u001b[34m0\u001b[39;49;00m, \u001b[34m0\u001b[39;49;00m), (\u001b[34m0\u001b[39;49;00m, \u001b[34m0\u001b[39;49;00m), (\u001b[34m0\u001b[39;49;00m, \u001b[34m0\u001b[39;49;00m))), dtype=dtype(\u001b[33m\"\u001b[39;49;00m\u001b[33mfloat64\u001b[39;49;00m\u001b[33m\"\u001b[39;49;00m)\r\n",
      "        ),\r\n",
      "    }\r\n",
      "\r\n",
      "    _gt_parameter_info_ = {\u001b[33m\"\u001b[39;49;00m\u001b[33mcoeff\u001b[39;49;00m\u001b[33m\"\u001b[39;49;00m: ParameterInfo(dtype=dtype(\u001b[33m\"\u001b[39;49;00m\u001b[33mfloat64\u001b[39;49;00m\u001b[33m\"\u001b[39;49;00m))}\r\n",
      "\r\n",
      "    _gt_constants_ = {}\r\n",
      "\r\n",
      "    _gt_options_ = {\r\n",
      "        \u001b[33m\"\u001b[39;49;00m\u001b[33mname\u001b[39;49;00m\u001b[33m\"\u001b[39;49;00m: \u001b[33m\"\u001b[39;49;00m\u001b[33mlaplacian_def\u001b[39;49;00m\u001b[33m\"\u001b[39;49;00m,\r\n",
      "        \u001b[33m\"\u001b[39;49;00m\u001b[33mmodule\u001b[39;49;00m\u001b[33m\"\u001b[39;49;00m: \u001b[33m\"\u001b[39;49;00m\u001b[33m__main__\u001b[39;49;00m\u001b[33m\"\u001b[39;49;00m,\r\n",
      "        \u001b[33m\"\u001b[39;49;00m\u001b[33mbackend_opts\u001b[39;49;00m\u001b[33m\"\u001b[39;49;00m: {},\r\n",
      "        \u001b[33m\"\u001b[39;49;00m\u001b[33mrebuild\u001b[39;49;00m\u001b[33m\"\u001b[39;49;00m: \u001b[34mFalse\u001b[39;49;00m,\r\n",
      "        \u001b[33m\"\u001b[39;49;00m\u001b[33m_impl_opts\u001b[39;49;00m\u001b[33m\"\u001b[39;49;00m: {},\r\n",
      "    }\r\n",
      "\r\n",
      "    \u001b[90m@property\u001b[39;49;00m\r\n",
      "    \u001b[34mdef\u001b[39;49;00m \u001b[32mbackend\u001b[39;49;00m(\u001b[36mself\u001b[39;49;00m):\r\n",
      "        \u001b[34mreturn\u001b[39;49;00m \u001b[36mtype\u001b[39;49;00m(\u001b[36mself\u001b[39;49;00m)._gt_backend_\r\n",
      "\r\n",
      "    \u001b[90m@property\u001b[39;49;00m\r\n",
      "    \u001b[34mdef\u001b[39;49;00m \u001b[32msource\u001b[39;49;00m(\u001b[36mself\u001b[39;49;00m):\r\n",
      "        \u001b[34mreturn\u001b[39;49;00m \u001b[36mtype\u001b[39;49;00m(\u001b[36mself\u001b[39;49;00m)._gt_source_\r\n",
      "\r\n",
      "    \u001b[90m@property\u001b[39;49;00m\r\n",
      "    \u001b[34mdef\u001b[39;49;00m \u001b[32mdomain_info\u001b[39;49;00m(\u001b[36mself\u001b[39;49;00m):\r\n",
      "        \u001b[34mreturn\u001b[39;49;00m \u001b[36mtype\u001b[39;49;00m(\u001b[36mself\u001b[39;49;00m)._gt_domain_info_\r\n",
      "\r\n",
      "    \u001b[90m@property\u001b[39;49;00m\r\n",
      "    \u001b[34mdef\u001b[39;49;00m \u001b[32mfield_info\u001b[39;49;00m(\u001b[36mself\u001b[39;49;00m) -> \u001b[36mdict\u001b[39;49;00m:\r\n",
      "        \u001b[34mreturn\u001b[39;49;00m \u001b[36mtype\u001b[39;49;00m(\u001b[36mself\u001b[39;49;00m)._gt_field_info_\r\n",
      "\r\n",
      "    \u001b[90m@property\u001b[39;49;00m\r\n",
      "    \u001b[34mdef\u001b[39;49;00m \u001b[32mparameter_info\u001b[39;49;00m(\u001b[36mself\u001b[39;49;00m) -> \u001b[36mdict\u001b[39;49;00m:\r\n",
      "        \u001b[34mreturn\u001b[39;49;00m \u001b[36mtype\u001b[39;49;00m(\u001b[36mself\u001b[39;49;00m)._gt_parameter_info_\r\n",
      "\r\n",
      "    \u001b[90m@property\u001b[39;49;00m\r\n",
      "    \u001b[34mdef\u001b[39;49;00m \u001b[32mconstants\u001b[39;49;00m(\u001b[36mself\u001b[39;49;00m) -> \u001b[36mdict\u001b[39;49;00m:\r\n",
      "        \u001b[34mreturn\u001b[39;49;00m \u001b[36mtype\u001b[39;49;00m(\u001b[36mself\u001b[39;49;00m)._gt_constants_\r\n",
      "\r\n",
      "    \u001b[90m@property\u001b[39;49;00m\r\n",
      "    \u001b[34mdef\u001b[39;49;00m \u001b[32moptions\u001b[39;49;00m(\u001b[36mself\u001b[39;49;00m) -> \u001b[36mdict\u001b[39;49;00m:\r\n",
      "        \u001b[34mreturn\u001b[39;49;00m \u001b[36mtype\u001b[39;49;00m(\u001b[36mself\u001b[39;49;00m)._gt_options_\r\n",
      "\r\n",
      "    \u001b[34mdef\u001b[39;49;00m \u001b[32m__call__\u001b[39;49;00m(\u001b[36mself\u001b[39;49;00m, in_field, out_field, *, coeff, domain=\u001b[34mNone\u001b[39;49;00m, origin=\u001b[34mNone\u001b[39;49;00m, validate_args=\u001b[34mTrue\u001b[39;49;00m, exec_info=\u001b[34mNone\u001b[39;49;00m):\r\n",
      "        \u001b[34mif\u001b[39;49;00m exec_info \u001b[35mis\u001b[39;49;00m \u001b[35mnot\u001b[39;49;00m \u001b[34mNone\u001b[39;49;00m:\r\n",
      "            exec_info[\u001b[33m\"\u001b[39;49;00m\u001b[33mcall_start_time\u001b[39;49;00m\u001b[33m\"\u001b[39;49;00m] = time.perf_counter()\r\n",
      "        field_args = \u001b[36mdict\u001b[39;49;00m(in_field=in_field, out_field=out_field)\r\n",
      "        parameter_args = \u001b[36mdict\u001b[39;49;00m(coeff=coeff)\r\n",
      "        \u001b[37m# assert that all required values have been provided\u001b[39;49;00m\r\n",
      "\r\n",
      "        \u001b[36mself\u001b[39;49;00m._call_run(\r\n",
      "            field_args=field_args,\r\n",
      "            parameter_args=parameter_args,\r\n",
      "            domain=domain,\r\n",
      "            origin=origin,\r\n",
      "            validate_args=validate_args,\r\n",
      "            exec_info=exec_info,\r\n",
      "        )\r\n",
      "\r\n",
      "        \u001b[34mif\u001b[39;49;00m exec_info \u001b[35mis\u001b[39;49;00m \u001b[35mnot\u001b[39;49;00m \u001b[34mNone\u001b[39;49;00m:\r\n",
      "            exec_info[\u001b[33m\"\u001b[39;49;00m\u001b[33mcall_end_time\u001b[39;49;00m\u001b[33m\"\u001b[39;49;00m] = time.perf_counter()\r\n",
      "\r\n",
      "    \u001b[34mdef\u001b[39;49;00m \u001b[32mrun\u001b[39;49;00m(\u001b[36mself\u001b[39;49;00m, _domain_, _origin_, exec_info, *, in_field, out_field, coeff):\r\n",
      "        \u001b[34mif\u001b[39;49;00m exec_info \u001b[35mis\u001b[39;49;00m \u001b[35mnot\u001b[39;49;00m \u001b[34mNone\u001b[39;49;00m:\r\n",
      "            exec_info[\u001b[33m\"\u001b[39;49;00m\u001b[33mdomain\u001b[39;49;00m\u001b[33m\"\u001b[39;49;00m] = _domain_\r\n",
      "            exec_info[\u001b[33m\"\u001b[39;49;00m\u001b[33morigin\u001b[39;49;00m\u001b[33m\"\u001b[39;49;00m] = _origin_\r\n",
      "            exec_info[\u001b[33m\"\u001b[39;49;00m\u001b[33mrun_start_time\u001b[39;49;00m\u001b[33m\"\u001b[39;49;00m] = time.perf_counter()\r\n",
      "\r\n",
      "        \u001b[37m# Accessors for origin-based indexing\u001b[39;49;00m\r\n",
      "        in_field_at = _Accessor(in_field, _origin_[\u001b[33m\"\u001b[39;49;00m\u001b[33min_field\u001b[39;49;00m\u001b[33m\"\u001b[39;49;00m])\r\n",
      "        out_field_at = _Accessor(out_field, _origin_[\u001b[33m\"\u001b[39;49;00m\u001b[33mout_field\u001b[39;49;00m\u001b[33m\"\u001b[39;49;00m])\r\n",
      "\r\n",
      "        \u001b[37m# K splitters\u001b[39;49;00m\r\n",
      "        _splitters_ = [\u001b[34m0\u001b[39;49;00m, _domain_[\u001b[34m2\u001b[39;49;00m]]\r\n",
      "        \u001b[37m# Computations\u001b[39;49;00m\r\n",
      "        \u001b[37m# stage__6:\u001b[39;49;00m\r\n",
      "        \u001b[34mfor\u001b[39;49;00m K \u001b[35min\u001b[39;49;00m \u001b[36mrange\u001b[39;49;00m(\u001b[34m0\u001b[39;49;00m, _domain_[\u001b[34m2\u001b[39;49;00m]):\r\n",
      "            \u001b[34mfor\u001b[39;49;00m I \u001b[35min\u001b[39;49;00m \u001b[36mrange\u001b[39;49;00m(_domain_[\u001b[34m0\u001b[39;49;00m]):\r\n",
      "                \u001b[34mfor\u001b[39;49;00m J \u001b[35min\u001b[39;49;00m \u001b[36mrange\u001b[39;49;00m(_domain_[\u001b[34m1\u001b[39;49;00m]):\r\n",
      "                    out_field_at[I + \u001b[34m0\u001b[39;49;00m, J + \u001b[34m0\u001b[39;49;00m, K + \u001b[34m0\u001b[39;49;00m] = coeff * (\r\n",
      "                        (\r\n",
      "                            (\r\n",
      "                                ((-\u001b[34m4.0\u001b[39;49;00m * in_field_at[I + \u001b[34m0\u001b[39;49;00m, J + \u001b[34m0\u001b[39;49;00m, K + \u001b[34m0\u001b[39;49;00m]) + in_field_at[I + \u001b[34m1\u001b[39;49;00m, J + \u001b[34m0\u001b[39;49;00m, K + \u001b[34m0\u001b[39;49;00m])\r\n",
      "                                + in_field_at[I - \u001b[34m1\u001b[39;49;00m, J + \u001b[34m0\u001b[39;49;00m, K + \u001b[34m0\u001b[39;49;00m]\r\n",
      "                            )\r\n",
      "                            + in_field_at[I + \u001b[34m0\u001b[39;49;00m, J + \u001b[34m1\u001b[39;49;00m, K + \u001b[34m0\u001b[39;49;00m]\r\n",
      "                        )\r\n",
      "                        + in_field_at[I + \u001b[34m0\u001b[39;49;00m, J - \u001b[34m1\u001b[39;49;00m, K + \u001b[34m0\u001b[39;49;00m]\r\n",
      "                    )\r\n",
      "\r\n",
      "        \u001b[34mif\u001b[39;49;00m exec_info \u001b[35mis\u001b[39;49;00m \u001b[35mnot\u001b[39;49;00m \u001b[34mNone\u001b[39;49;00m:\r\n",
      "            exec_info[\u001b[33m\"\u001b[39;49;00m\u001b[33mrun_end_time\u001b[39;49;00m\u001b[33m\"\u001b[39;49;00m] = time.perf_counter()\r\n"
     ]
    }
   ],
   "source": [
    "!pygmentize ~/workshop/notebooks/.gt_cache/py37_1013/debug/__main__/laplacian_def/m_laplacian_def__debug_65d8271266.py"
   ]
  },
  {
   "cell_type": "markdown",
   "metadata": {},
   "source": [
    "<div class=\"alert alert-block alert-info\">\n",
    "    <b> Now it's your turn: </b><br>\n",
    "    (Hint: Make sure that when you modify code you retain the original code by commenting it out so that you undo any of the modifications you do.)\n",
    "    <ol>\n",
    "        <li style=\"margin-bottom: 10px\">Extend the <code>laplacian</code> stencil to be a laplacian(laplacian(*)) by introducing a temporary field.</li>\n",
    "        <li style=\"margin-bottom: 10px\">Replace the redundant code with <code>gtscript.function</code>.</li>\n",
    "        <li style=\"margin-bottom: 10px\">Open the <code>.gt_cache</code> directory and inspect the generated code.</li>\n",
    "    </ol>\n",
    "</div>"
   ]
  },
  {
   "cell_type": "code",
   "execution_count": 97,
   "metadata": {},
   "outputs": [],
   "source": [
    "# SOLUTION 1:\n",
    "@gtscript.stencil(backend=\"numpy\")\n",
    "def diffusion_def1(in_field: Field[np.float], out_field: Field[np.float], *, coeff: np.float):\n",
    "    with computation(PARALLEL), interval(...):\n",
    "        tmp_field = coeff * (-4. * in_field +\n",
    "            in_field[1, 0, 0] + in_field[-1, 0, 0] + \n",
    "            in_field[0, 1, 0] + in_field[0, -1, 0])\n",
    "        out_field = coeff * (-4. * tmp_field +\n",
    "            tmp_field[1, 0, 0] + tmp_field[-1, 0, 0] + \n",
    "            tmp_field[0, 1, 0] + tmp_field[0, -1, 0])"
   ]
  },
  {
   "cell_type": "code",
   "execution_count": 98,
   "metadata": {},
   "outputs": [],
   "source": [
    "# SOLUTION 2:\n",
    "@gtscript.function\n",
    "def laplacian(in_field: Field[np.float], coeff: np.float):\n",
    "    return coeff * (-4. * in_field +\n",
    "           in_field[1, 0, 0] + in_field[-1, 0, 0] + \n",
    "           in_field[0, 1, 0] + in_field[0, -1, 0])\n",
    "\n",
    "@gtscript.stencil(backend=\"numpy\")\n",
    "def diffusion_def2(in_field: Field[np.float], out_field: Field[np.float], *, coeff: np.float):\n",
    "    with computation(PARALLEL), interval(...):\n",
    "        tmp_field = laplacian(in_field, coeff)\n",
    "        out_field = laplacian(tmp_field, coeff)"
   ]
  },
  {
   "cell_type": "markdown",
   "metadata": {},
   "source": [
    "### Forward and Backward Loops\n",
    "\n",
    "__TODO__: Add more wording about tridiagonal solvers!\n",
    "\n",
    "![Tridiagonal Matrix](https://wikimedia.org/api/rest_v1/media/math/render/svg/66abee37b2bc74f82fb79e7e1f0b5475be9f9632)\n"
   ]
  },
  {
   "cell_type": "code",
   "execution_count": 99,
   "metadata": {},
   "outputs": [
    {
     "data": {
      "image/png": "[encoded data removed]",
      "text/plain": [
       "<Figure size 864x288 with 4 Axes>"
      ]
     },
     "metadata": {
      "needs_background": "light"
     },
     "output_type": "display_data"
    }
   ],
   "source": [
    "backend = \"numpy\"\n",
    "dtype = np.float64\n",
    "Field3D = Field[dtype]\n",
    "N = 1024\n",
    "\n",
    "@gtscript.stencil(backend=backend)\n",
    "def tridiag_mv_mul(a: Field3D, b: Field3D, c: Field3D, d: Field3D, x: Field3D):\n",
    "    with computation(PARALLEL):\n",
    "        with interval(0, 1):\n",
    "            d = b * x + c * x[0, 0, 1]\n",
    "        with interval(1, -1):\n",
    "            d = a * x[0, 0, -1] + b * x + c * x[0, 0, 1]\n",
    "        with interval(-1, None):\n",
    "            d = a * x[0, 0, -1] + b * x\n",
    "\n",
    "@gtscript.stencil(backend=backend)        \n",
    "def tridiag_solve(a: Field3D, b: Field3D, c: Field3D, d: Field3D, x: Field3D):\n",
    "    with computation(FORWARD):\n",
    "        with interval(1, None):\n",
    "            w = a / b[0, 0, -1]\n",
    "            b -= w * c[0, 0, -1]\n",
    "            d -= w * d[0, 0, -1]\n",
    "    with computation(BACKWARD):\n",
    "        with interval(-1, None):\n",
    "            x = d / b\n",
    "        with interval(0, -1):\n",
    "            x = (d - c * x[0, 0, 1]) / b\n",
    "\n",
    "\n",
    "origin = (0, 0, 0)\n",
    "shape = (1, 1, N)\n",
    "a = gt_storage.from_array(np.random.randn(*shape), backend, origin, dtype=dtype)\n",
    "b = gt_storage.from_array(np.random.randn(*shape), backend, origin, dtype=dtype)\n",
    "c = gt_storage.from_array(np.random.randn(*shape), backend, origin, dtype=dtype)\n",
    "x0 = gt_storage.from_array(np.random.randn(*shape), backend, origin, dtype=dtype)\n",
    "d = gt_storage.zeros(backend, origin, shape, dtype=dtype)\n",
    "x1 = gt_storage.zeros(backend, origin, shape, dtype=dtype)\n",
    "\n",
    "tridiag_mv_mul(a, b, c, d, x0)\n",
    "tridiag_solve(a, b, c, d, x1)\n",
    "\n",
    "plot_two_ij_slices(x0, x1)"
   ]
  },
  {
   "cell_type": "markdown",
   "metadata": {},
   "source": [
    "<div class=\"alert alert-block alert-info\">\n",
    "    <b> Now it's your turn: </b><br>\n",
    "    <ol>\n",
    "        <li style=\"margin-bottom: 10px\">Implement the Fibonacci sequence in GT4Py using a <tt>FORWARD</tt> loop.</li>\n",
    "        <li style=\"margin-bottom: 10px\">Change the loop order from <tt>FORWARD</tt> to <tt>BACKWARD</tt> and compare the results.</li>\n",
    "        <li style=\"margin-bottom: 10px\">Try again with the <tt>PARALLEL</tt> (default) loop order. What has changed? </li>\n",
    "        <li style=\"margin-bottom: 10px\">Create a parallel sum stencil </li>\n",
    "    </ol>\n",
    "</div>"
   ]
  },
  {
   "cell_type": "code",
   "execution_count": 100,
   "metadata": {},
   "outputs": [
    {
     "data": {
      "image/png": "[encoded data removed]",
      "text/plain": [
       "<Figure size 864x288 with 4 Axes>"
      ]
     },
     "metadata": {
      "needs_background": "light"
     },
     "output_type": "display_data"
    }
   ],
   "source": [
    "# SOLUTION 1\n",
    "backend = \"numpy\"\n",
    "dtype = np.float\n",
    "FieldK = Field[dtype, gtscript.K]\n",
    "N = 64\n",
    "\n",
    "@gtscript.stencil(backend=backend)\n",
    "def fibonacci(fib: FieldK):\n",
    "    with computation(FORWARD):\n",
    "        with interval(1, 2):\n",
    "            fib = 1.    # base case...\n",
    "        with interval(2, None):\n",
    "            fib = fib[0, 0, -2] + fib[0, 0, -1]\n",
    "        \n",
    "\n",
    "fib_gt = gt_storage.zeros(backend, (0, 0, 0), (1, 1, N), dtype)\n",
    "fibonacci(fib_gt, origin=(0, 0, 0), domain=(1, 1, N))\n",
    "\n",
    "n = np.arange(0, N)\n",
    "sqrt5 = np.sqrt(5.)\n",
    "phi = (1. + sqrt5) / 2.\n",
    "fib_data = np.rint((phi ** n - (-1. / phi) ** n) / sqrt5)\n",
    "fib_np = gt_storage.from_array(fib_data, backend, (0, 0, 0), (1, 1, N), dtype=dtype)\n",
    "\n",
    "plot_two_ij_slices(fib_np, fib_gt)"
   ]
  },
  {
   "cell_type": "markdown",
   "metadata": {},
   "source": [
    "### Parallel Sum\n",
    "\n",
    "Implement a parallel sum stencil that sums all of the *k*-values for a 3D field into a single *i*-*j* plane represented by a 2D field.\n",
    "\n",
    "__Must use a <tt>GridTools</tt> backend!__"
   ]
  },
  {
   "cell_type": "code",
   "execution_count": 101,
   "metadata": {},
   "outputs": [
    {
     "data": {
      "image/png": "[encoded data removed]",
      "text/plain": [
       "<Figure size 864x288 with 4 Axes>"
      ]
     },
     "metadata": {
      "needs_background": "light"
     },
     "output_type": "display_data"
    }
   ],
   "source": [
    "# SOLUTION 2\n",
    "backend = \"gtmc\"\n",
    "dtype = np.float64\n",
    "Field3D = Field[dtype]\n",
    "Field2D = Field[dtype, gtscript.IJ]\n",
    "N = 64\n",
    "\n",
    "@gtscript.stencil(backend=backend)\n",
    "def parallel_sum(nums: Field3D, sums: Field2D):\n",
    "    with computation(PARALLEL), interval(...):\n",
    "        sums += nums\n",
    "\n",
    "# GT4Py version...\n",
    "in_data = np.fromfunction(lambda i, j, k: np.sin(i) * np.cos(j), (N, N, N), dtype=dtype)\n",
    "nums = gt_storage.from_array(in_data, backend, (0, 0, 0), (N, N, N), dtype=dtype)  \n",
    "sums_gt = gt_storage.zeros(backend, (0, 0, 0), (N, N, 1), dtype)\n",
    "\n",
    "parallel_sum(nums, sums_gt, origin=(0, 0, 0), domain=(N, N, N), validate_args=False)\n",
    "\n",
    "# NumPy version...\n",
    "sums_np = gt_storage.zeros(backend, (0, 0, 0), (N, N, 1), dtype=dtype)\n",
    "sums_np[:, :, 0] = np.sum(nums, 2)\n",
    "\n",
    "plot_two_ij_slices(sums_np, sums_gt)"
   ]
  },
  {
   "cell_type": "markdown",
   "metadata": {},
   "source": [
    "### Parallel Count\n",
    "\n",
    "Probably remove this example is it includes control flow, which will not be covered until Day 2..."
   ]
  },
  {
   "cell_type": "code",
   "execution_count": 102,
   "metadata": {},
   "outputs": [
    {
     "data": {
      "text/plain": [
       "CPUStorage([[ 0,  0,  0, ...,  0,  0,  0],\n",
       "            [64, 64,  0, ...,  0, 64, 64],\n",
       "            [64, 64,  0, ...,  0, 64, 64],\n",
       "            ...,\n",
       "            [ 0,  0, 64, ..., 64,  0,  0],\n",
       "            [ 0,  0, 64, ..., 64,  0,  0],\n",
       "            [64, 64,  0, ...,  0, 64, 64]], dtype=int32)"
      ]
     },
     "execution_count": 102,
     "metadata": {},
     "output_type": "execute_result"
    }
   ],
   "source": [
    "backend = \"gtmc\"\n",
    "dtype = np.float64\n",
    "itype = np.int32\n",
    "Field3D = Field[dtype]\n",
    "IntField2D = Field[itype, gtscript.IJ]\n",
    "\n",
    "\n",
    "@gtscript.stencil(backend=backend)\n",
    "def parallel_count(nums: Field3D, counts: IntField2D):\n",
    "    with computation(PARALLEL), interval(...):\n",
    "        if nums > 0.0:\n",
    "            counts += 1\n",
    "        \n",
    "\n",
    "in_data = np.fromfunction(lambda i, j, k: np.sin(i) * np.cos(j), (64, 64, 64), dtype=dtype)\n",
    "nums = gt_storage.from_array(in_data, backend, (0, 0, 0), (64, 64, 64), dtype=dtype)  \n",
    "counts = gt_storage.zeros(backend, (0, 0, 0), (64, 64, 1), itype)\n",
    "\n",
    "parallel_count(nums, counts, origin=(0, 0, 0), domain=(64, 64, 64), validate_args=False)\n",
    "\n",
    "counts[:, :, 0]"
   ]
  }
 ],
 "metadata": {
  "kernelspec": {
   "display_name": "workshop",
   "language": "python",
   "name": "venv"
  },
  "language_info": {
   "codemirror_mode": {
    "name": "ipython",
    "version": 3
   },
   "file_extension": ".py",
   "mimetype": "text/x-python",
   "name": "python",
   "nbconvert_exporter": "python",
   "pygments_lexer": "ipython3",
   "version": "3.7.5"
  }
 },
 "nbformat": 4,
 "nbformat_minor": 4
}
