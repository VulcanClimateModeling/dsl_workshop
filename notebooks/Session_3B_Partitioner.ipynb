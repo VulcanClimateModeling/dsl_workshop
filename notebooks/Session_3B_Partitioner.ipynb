{
 "cells": [
  {
   "cell_type": "markdown",
   "metadata": {},
   "source": [
    "# Partitioner"
   ]
  },
  {
   "cell_type": "markdown",
   "metadata": {},
   "source": [
    "## Getting Started"
   ]
  },
  {
   "cell_type": "markdown",
   "metadata": {},
   "source": [
    "Before we start, let's import the symbols we're going to use from `fv3gfs.util`."
   ]
  },
  {
   "cell_type": "code",
   "execution_count": 3,
   "metadata": {},
   "outputs": [],
   "source": [
    "from fv3gfs.util import TilePartitioner, CubedSpherePartitioner"
   ]
  },
  {
   "cell_type": "markdown",
   "metadata": {},
   "source": [
    "Then we'll initialize a partitioner for a 2-by-2 tile layout. The default TilePartitioner gives an equal amount of data to each rank, and currently only supports square rank layouts (e.g. (1, 1) or (2, 2) but not (1, 2)).\n",
    "\n",
    "The TilePartitioner is created separately from the CubedSpherePartitioner, to allow swapping out different classes for different tile partitioning schemes. For example, you may want less data to be given to processors near a tile boundary if they need to perform more special edge-case processing."
   ]
  },
  {
   "cell_type": "code",
   "execution_count": 8,
   "metadata": {},
   "outputs": [],
   "source": [
    "layout = (2, 2)\n",
    "partitioner = CubedSpherePartitioner(\n",
    "    TilePartitioner((2, 2))\n",
    ")"
   ]
  },
  {
   "cell_type": "markdown",
   "metadata": {},
   "source": [
    "## A Quick Look"
   ]
  },
  {
   "cell_type": "markdown",
   "metadata": {},
   "source": [
    "In the slides we asked given a rank and direction, how can you tell what rank is over in that direction, and what the relative rotation is of the two ranks?\n",
    "\n",
    "In the image on the slide, what rank is west of rank 0? As a number of clockwise rotations, what is the rotation of that rank with respect to rank 0 (based on the red axes printed on the cube)?"
   ]
  },
  {
   "cell_type": "markdown",
   "metadata": {},
   "source": [
    "<img src=\"files/images/cube.png\">"
   ]
  },
  {
   "cell_type": "raw",
   "metadata": {},
   "source": [
    "type out your answer here"
   ]
  },
  {
   "cell_type": "markdown",
   "metadata": {},
   "source": [
    "Now we're going to answer the same question using `fv3gfs.util`. First let's import the boundary types available."
   ]
  },
  {
   "cell_type": "code",
   "execution_count": 14,
   "metadata": {},
   "outputs": [],
   "source": [
    "from fv3gfs.util import NORTH, SOUTH, WEST, EAST, NORTHEAST, NORTHWEST, SOUTHEAST, SOUTHWEST"
   ]
  },
  {
   "cell_type": "markdown",
   "metadata": {},
   "source": [
    "These values should always be used as imports and not hard-coded. Note that currently, these directions are integers. This may change to a Python Enum in the future."
   ]
  },
  {
   "cell_type": "code",
   "execution_count": 16,
   "metadata": {},
   "outputs": [
    {
     "name": "stdout",
     "output_type": "stream",
     "text": [
      "3\n"
     ]
    }
   ],
   "source": [
    "print(SOUTH)"
   ]
  },
  {
   "cell_type": "markdown",
   "metadata": {},
   "source": [
    "Next let's check out the method we're going to use."
   ]
  },
  {
   "cell_type": "code",
   "execution_count": 15,
   "metadata": {},
   "outputs": [
    {
     "name": "stdout",
     "output_type": "stream",
     "text": [
      "Help on method boundary in module fv3gfs.util.partitioner:\n",
      "\n",
      "boundary(boundary_type: int, rank: int) -> Union[fv3gfs.util.boundary.SimpleBoundary, NoneType] method of fv3gfs.util.partitioner.CubedSpherePartitioner instance\n",
      "    Returns a boundary of the requested type for a given rank, or None.\n",
      "    \n",
      "    On tile corners, the boundary across that corner does not exist.\n",
      "    \n",
      "    Args:\n",
      "        boundary_type: the type of boundary\n",
      "        rank: the processor rank\n",
      "    \n",
      "    Returns:\n",
      "        boundary\n",
      "\n"
     ]
    }
   ],
   "source": [
    "help(partitioner.boundary)"
   ]
  },
  {
   "cell_type": "markdown",
   "metadata": {},
   "source": [
    "You should have everything you need now to answer the same questions using code, without a physical cube. In the image on the slide, what rank is west of rank 0? As a number of clockwise rotations, what is the rotation of that rank with respect to rank 0 (based on the red axes printed on the cube)?"
   ]
  },
  {
   "cell_type": "code",
   "execution_count": null,
   "metadata": {},
   "outputs": [],
   "source": []
  },
  {
   "cell_type": "markdown",
   "metadata": {},
   "source": [
    "## Moving Forward"
   ]
  },
  {
   "cell_type": "markdown",
   "metadata": {},
   "source": [
    "If you have time, we encourage you to check out some other boundaries. What does the partitioner say is `SOUTHWEST` of rank 0? What about `NORTHEAST`? How about for other ranks?"
   ]
  },
  {
   "cell_type": "code",
   "execution_count": null,
   "metadata": {},
   "outputs": [],
   "source": []
  },
  {
   "cell_type": "markdown",
   "metadata": {},
   "source": [
    "The help routine can give useful information about the attributes and methods available on an object. We encourage you to check out the documentation if you need to remember the name or purpose of a method or attribute."
   ]
  },
  {
   "cell_type": "code",
   "execution_count": 13,
   "metadata": {
    "scrolled": true
   },
   "outputs": [
    {
     "name": "stdout",
     "output_type": "stream",
     "text": [
      "Help on class CubedSpherePartitioner in module fv3gfs.util.partitioner:\n",
      "\n",
      "class CubedSpherePartitioner(builtins.object)\n",
      " |  CubedSpherePartitioner(tile: fv3gfs.util.partitioner.TilePartitioner)\n",
      " |  \n",
      " |  Methods defined here:\n",
      " |  \n",
      " |  __init__(self, tile: fv3gfs.util.partitioner.TilePartitioner)\n",
      " |      Create an object for fv3gfs cubed-sphere domain decomposition.\n",
      " |      \n",
      " |      Args:\n",
      " |          tile: partitioner for the cube faces\n",
      " |  \n",
      " |  boundary(self, boundary_type: int, rank: int) -> Union[fv3gfs.util.boundary.SimpleBoundary, NoneType]\n",
      " |      Returns a boundary of the requested type for a given rank, or None.\n",
      " |      \n",
      " |      On tile corners, the boundary across that corner does not exist.\n",
      " |      \n",
      " |      Args:\n",
      " |          boundary_type: the type of boundary\n",
      " |          rank: the processor rank\n",
      " |      \n",
      " |      Returns:\n",
      " |          boundary\n",
      " |  \n",
      " |  tile_index(self, rank: int) -> int\n",
      " |      Returns the tile index of a given rank\n",
      " |  \n",
      " |  tile_root_rank(self, rank: int) -> int\n",
      " |      Returns the lowest rank on the same tile as a given rank.\n",
      " |  \n",
      " |  ----------------------------------------------------------------------\n",
      " |  Class methods defined here:\n",
      " |  \n",
      " |  from_namelist(namelist) from builtins.type\n",
      " |      Initialize a CubedSpherePartitioner from a Fortran namelist.\n",
      " |      \n",
      " |      Args:\n",
      " |          namelist (dict): the Fortran namelist\n",
      " |  \n",
      " |  ----------------------------------------------------------------------\n",
      " |  Data descriptors defined here:\n",
      " |  \n",
      " |  __dict__\n",
      " |      dictionary for instance variables (if defined)\n",
      " |  \n",
      " |  __weakref__\n",
      " |      list of weak references to the object (if defined)\n",
      " |  \n",
      " |  layout\n",
      " |  \n",
      " |  total_ranks\n",
      " |      the number of ranks on the cubed sphere\n",
      "\n"
     ]
    }
   ],
   "source": [
    "help(CubedSpherePartitioner)"
   ]
  },
  {
   "cell_type": "code",
   "execution_count": 12,
   "metadata": {
    "scrolled": true
   },
   "outputs": [
    {
     "name": "stdout",
     "output_type": "stream",
     "text": [
      "Help on class TilePartitioner in module fv3gfs.util.partitioner:\n",
      "\n",
      "class TilePartitioner(builtins.object)\n",
      " |  TilePartitioner(layout: Tuple[int, int])\n",
      " |  \n",
      " |  Methods defined here:\n",
      " |  \n",
      " |  __init__(self, layout: Tuple[int, int])\n",
      " |      Create an object for fv3gfs tile decomposition.\n",
      " |  \n",
      " |  boundary(self, boundary_type: int, rank: int) -> Union[fv3gfs.util.boundary.SimpleBoundary, NoneType]\n",
      " |      Returns a boundary of the requested type for a given rank.\n",
      " |      \n",
      " |      Target ranks will be on the same tile as the given rank, wrapping around as\n",
      " |      in a doubly-periodic boundary condition.\n",
      " |      \n",
      " |      Args:\n",
      " |          boundary_type: the type of boundary\n",
      " |          rank: the processor rank\n",
      " |      \n",
      " |      Returns:\n",
      " |          boundary\n",
      " |  \n",
      " |  fliplr_rank(self, rank: int) -> int\n",
      " |  \n",
      " |  on_tile_bottom(self, rank: int) -> bool\n",
      " |  \n",
      " |  on_tile_left(self, rank: int) -> bool\n",
      " |  \n",
      " |  on_tile_right(self, rank: int) -> bool\n",
      " |  \n",
      " |  on_tile_top(self, rank: int) -> bool\n",
      " |  \n",
      " |  rotate_rank(self, rank: int, n_clockwise_rotations: int) -> int\n",
      " |  \n",
      " |  subtile_extent(self, tile_metadata: fv3gfs.util.quantity.QuantityMetadata) -> Tuple[int, ...]\n",
      " |      Return the shape of a single rank representation for the given dimensions.\n",
      " |  \n",
      " |  subtile_index(self, rank: int) -> Tuple[int, int]\n",
      " |      Return the (y, x) subtile position of a given rank as an integer number of subtiles.\n",
      " |  \n",
      " |  subtile_slice(self, rank: int, tile_dims: Iterable[str], tile_extent: Iterable[int], overlap: bool = False) -> Tuple[slice, slice]\n",
      " |      Return the subtile slice of a given rank on an array.\n",
      " |      \n",
      " |      Args:\n",
      " |          rank: the rank of the process\n",
      " |          tile_metadata: the metadata for a quantity on a tile\n",
      " |          overlap (optional): if True, for interface variables include the part\n",
      " |              of the array shared by adjacent ranks in both ranks. If False, ensure\n",
      " |              only one of those ranks (the greater rank) is assigned the overlapping\n",
      " |              section. Default is False.\n",
      " |      \n",
      " |      Returns:\n",
      " |          y_range: the y range of the array on the tile\n",
      " |          x_range: the x range of the array on the tile\n",
      " |  \n",
      " |  tile_extent(self, rank_metadata: fv3gfs.util.quantity.QuantityMetadata) -> Tuple[int, ...]\n",
      " |      Return the shape of a full tile representation for the given dimensions.\n",
      " |      \n",
      " |      Args:\n",
      " |          metadata: quantity metadata\n",
      " |      \n",
      " |      Returns:\n",
      " |          extent: shape of full tile representation\n",
      " |  \n",
      " |  ----------------------------------------------------------------------\n",
      " |  Class methods defined here:\n",
      " |  \n",
      " |  from_namelist(namelist) from builtins.type\n",
      " |      Initialize a TilePartitioner from a Fortran namelist.\n",
      " |      \n",
      " |      Args:\n",
      " |          namelist (dict): the Fortran namelist\n",
      " |  \n",
      " |  ----------------------------------------------------------------------\n",
      " |  Data descriptors defined here:\n",
      " |  \n",
      " |  __dict__\n",
      " |      dictionary for instance variables (if defined)\n",
      " |  \n",
      " |  __weakref__\n",
      " |      list of weak references to the object (if defined)\n",
      " |  \n",
      " |  total_ranks\n",
      "\n"
     ]
    }
   ],
   "source": [
    "help(TilePartitioner)"
   ]
  },
  {
   "cell_type": "code",
   "execution_count": null,
   "metadata": {},
   "outputs": [],
   "source": []
  }
 ],
 "metadata": {
  "kernelspec": {
   "display_name": "workshop",
   "language": "python",
   "name": "venv"
  },
  "language_info": {
   "codemirror_mode": {
    "name": "ipython",
    "version": 3
   },
   "file_extension": ".py",
   "mimetype": "text/x-python",
   "name": "python",
   "nbconvert_exporter": "python",
   "pygments_lexer": "ipython3",
   "version": "3.7.3"
  }
 },
 "nbformat": 4,
 "nbformat_minor": 2
}
