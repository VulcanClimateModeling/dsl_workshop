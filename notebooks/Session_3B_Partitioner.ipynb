{
 "cells": [
  {
   "cell_type": "markdown",
   "metadata": {},
   "source": [
    "# Partitioner"
   ]
  },
  {
   "cell_type": "markdown",
   "metadata": {},
   "source": [
    "## Getting Started"
   ]
  },
  {
   "cell_type": "markdown",
   "metadata": {},
   "source": [
    "Before we start, let's import the symbols we're going to use from `fv3gfs.util`."
   ]
  },
  {
   "cell_type": "code",
   "execution_count": null,
   "metadata": {},
   "outputs": [],
   "source": [
    "from fv3gfs.util import TilePartitioner, CubedSpherePartitioner"
   ]
  },
  {
   "cell_type": "markdown",
   "metadata": {},
   "source": [
    "Then we'll initialize a partitioner for a 2-by-2 tile layout. The default TilePartitioner gives an equal amount of data to each rank, and currently only supports square rank layouts (e.g. (1, 1) or (2, 2) but not (1, 2)).\n",
    "\n",
    "The TilePartitioner is created separately from the CubedSpherePartitioner, to allow swapping out different classes for different tile partitioning schemes. For example, you may want less data to be given to processors near a tile boundary if they need to perform more special edge-case processing."
   ]
  },
  {
   "cell_type": "code",
   "execution_count": null,
   "metadata": {},
   "outputs": [],
   "source": [
    "layout = (2, 2)\n",
    "partitioner = CubedSpherePartitioner(\n",
    "    TilePartitioner(layout)\n",
    ")"
   ]
  },
  {
   "cell_type": "markdown",
   "metadata": {},
   "source": [
    "## A Quick Look"
   ]
  },
  {
   "cell_type": "markdown",
   "metadata": {},
   "source": [
    "In the slides we asked given a rank and direction, how can you tell what rank is over in that direction, and what the relative rotation is of the two ranks?"
   ]
  },
  {
   "cell_type": "markdown",
   "metadata": {},
   "source": [
    "<img src=\"files/images/cube.png\">"
   ]
  },
  {
   "cell_type": "markdown",
   "metadata": {},
   "source": [
    "In the image above, what rank is west of rank 0? As a number of clockwise rotations, what is the rotation of that rank with respect to rank 0 (based on the red axes printed on the cube)?"
   ]
  },
  {
   "cell_type": "raw",
   "metadata": {},
   "source": [
    "type out your answer here"
   ]
  },
  {
   "cell_type": "markdown",
   "metadata": {},
   "source": [
    "Now we're going to answer the same question using `fv3gfs.util`. First let's import the boundary types available."
   ]
  },
  {
   "cell_type": "code",
   "execution_count": null,
   "metadata": {},
   "outputs": [],
   "source": [
    "from fv3gfs.util import NORTH, SOUTH, WEST, EAST, NORTHEAST, NORTHWEST, SOUTHEAST, SOUTHWEST"
   ]
  },
  {
   "cell_type": "markdown",
   "metadata": {},
   "source": [
    "These values should always be used as imports and not hard-coded. Note that currently, these directions are integers. This may change to a Python Enum in the future."
   ]
  },
  {
   "cell_type": "code",
   "execution_count": null,
   "metadata": {},
   "outputs": [],
   "source": [
    "print(SOUTH)"
   ]
  },
  {
   "cell_type": "markdown",
   "metadata": {},
   "source": [
    "Next let's check out the method we're going to use."
   ]
  },
  {
   "cell_type": "code",
   "execution_count": null,
   "metadata": {},
   "outputs": [],
   "source": [
    "help(partitioner.boundary)"
   ]
  },
  {
   "cell_type": "markdown",
   "metadata": {},
   "source": [
    "You should have everything you need now to answer the same questions using code, without a physical cube. In the image on the slide, what rank is west of rank 0? As a number of clockwise rotations, what is the rotation of that rank with respect to rank 0 (based on the red axes printed on the cube)?"
   ]
  },
  {
   "cell_type": "code",
   "execution_count": null,
   "metadata": {},
   "outputs": [],
   "source": [
    "# Solution\n",
    "print(partitioner.boundary(WEST, rank=0))"
   ]
  },
  {
   "cell_type": "markdown",
   "metadata": {},
   "source": [
    "## Moving Forward"
   ]
  },
  {
   "cell_type": "markdown",
   "metadata": {},
   "source": [
    "If you have time, we encourage you to check out some other boundaries. What does the partitioner say is `SOUTHWEST` of rank 0? What about `NORTHEAST`? How about for other ranks? Make sure to use `print`."
   ]
  },
  {
   "cell_type": "code",
   "execution_count": null,
   "metadata": {},
   "outputs": [],
   "source": [
    "# Solution\n",
    "print(partitioner.boundary(SOUTHWEST, rank=0))\n",
    "print(partitioner.boundary(NORTHEAST, rank=0))\n",
    "print(partitioner.boundary(NORTH, rank=3))"
   ]
  },
  {
   "cell_type": "markdown",
   "metadata": {},
   "source": [
    "In this notebook we skipped over TilePartitioner and went straight into CubedSpherePartitioner. Initialize a TilePartitioner with a (2, 2) layout and see what it says is WEST of rank 0. Is it what you expect?"
   ]
  },
  {
   "cell_type": "code",
   "execution_count": null,
   "metadata": {},
   "outputs": [],
   "source": [
    "# Solution\n",
    "tile = TilePartitioner((2, 2))\n",
    "print(tile.boundary(WEST, rank=0))"
   ]
  },
  {
   "cell_type": "markdown",
   "metadata": {},
   "source": [
    "The help routine can give useful information about the attributes and methods available on an object. We encourage you to check out the documentation if you need to remember the name or purpose of a method or attribute. If you have time, try out some more methods and attributes of TilePartitioner and CubedSpherePartitioner below."
   ]
  },
  {
   "cell_type": "code",
   "execution_count": null,
   "metadata": {
    "scrolled": true
   },
   "outputs": [],
   "source": [
    "help(CubedSpherePartitioner)"
   ]
  },
  {
   "cell_type": "code",
   "execution_count": null,
   "metadata": {
    "scrolled": true
   },
   "outputs": [],
   "source": [
    "help(TilePartitioner)"
   ]
  },
  {
   "cell_type": "code",
   "execution_count": null,
   "metadata": {},
   "outputs": [],
   "source": []
  }
 ],
 "metadata": {
  "kernelspec": {
   "display_name": "workshop",
   "language": "python",
   "name": "venv"
  },
  "language_info": {
   "codemirror_mode": {
    "name": "ipython",
    "version": 3
   },
   "file_extension": ".py",
   "mimetype": "text/x-python",
   "name": "python",
   "nbconvert_exporter": "python",
   "pygments_lexer": "ipython3",
   "version": "3.7.3"
  }
 },
 "nbformat": 4,
 "nbformat_minor": 2
}
