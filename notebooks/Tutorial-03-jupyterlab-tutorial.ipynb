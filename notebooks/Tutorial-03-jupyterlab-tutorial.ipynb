{
 "cells": [
  {
   "cell_type": "markdown",
   "metadata": {
    "slideshow": {
     "slide_type": "slide"
    }
   },
   "source": [
    "# The JupyterLab Interface\n",
    "\n",
    "*Credits: This notebook has been inspired from a similar notebook from Tim Robinson (CSCS).*\n",
    "\n",
    "For more in-depth documentation for JupyterLab take a look at the [JupyterLab Documentation](https://jupyterlab.readthedocs.io/). This tutorial covers the basics that are required to survive the High Performance Computing for Weather and Climate Course. \n",
    "\n",
    "JupyterLab is a web-based user interface that allows you to work with documents and activities such as Jupyter Notebooks, text editors, terminals, and custom components.\n",
    "\n",
    "The interface consists of: \n",
    "- **Main work area** with tabs of documents and activities\n",
    "- **Collapsible left sidebar**\n",
    "- **Menu bar**\n",
    "\n",
    "![JupyterLab interface](images/jupyterlab_interface.png)"
   ]
  },
  {
   "cell_type": "markdown",
   "metadata": {
    "slideshow": {
     "slide_type": "slide"
    }
   },
   "source": [
    "## Main work area\n",
    "Arrange documents (notebooks, text files) and activities (terminals, consoles) into panels that can be resized or subdivided.\n",
    "\n",
    "The active tab is marked with a thin blue top border."
   ]
  },
  {
   "cell_type": "markdown",
   "metadata": {},
   "source": [
    "## Left sidebar\n",
    "Contains commonly used tabs:\n",
    "- File browser\n",
    "- List of running terminals and kernels\n",
    "- Command palette\n",
    "- Notebook cell tools inspector\n",
    "- List of open tabs\n",
    "\n",
    "JupyterLab extensions can add additional tabs to the left sidebar\n",
    "- Dask dashboard"
   ]
  },
  {
   "cell_type": "markdown",
   "metadata": {
    "slideshow": {
     "slide_type": "fragment"
    }
   },
   "source": [
    "## Menu bar\n",
    "\n",
    "Top level menus that expose actions along with their keyboard shortcuts\n",
    "- File: actions related to files and directory\n",
    "- Edit: actions related to editing documents \n",
    "- View: actions to alter the appearance of JupyterLab\n",
    "- Run: actions for running code in notebooks and consoles\n",
    "- Kernel: actions for managing kernels (processes for running code)\n",
    "- Tabs: List of open documents / activities\n",
    "- Settings: common setting and advanced settings editor\n",
    "- Help: List of links for help on JupyterLab and kernels "
   ]
  },
  {
   "cell_type": "markdown",
   "metadata": {},
   "source": [
    "## Video introduction to JupyterLab"
   ]
  },
  {
   "cell_type": "code",
   "execution_count": null,
   "metadata": {},
   "outputs": [],
   "source": [
    "from IPython.display import YouTubeVideo\n",
    "YouTubeVideo('A5YyoCKxEOU')"
   ]
  },
  {
   "cell_type": "markdown",
   "metadata": {},
   "source": [
    "## Workspaces\n",
    "JupyterLab sessions reside in a **workspace**. The workspace holds information on the files that are open, and the layout of the activities, tabs etc. If you refresh the page the workspace is restored.\n",
    "\n",
    "The default workspace does not have a name. It resides at the primary `/lab` URL.\n",
    "\n",
    "If you open JupyterLab in another browser tab it will create a clone of the workspace with a new URL. You cannot have the same workspace open in multiple browser tabs (or different browsers)"
   ]
  },
  {
   "cell_type": "markdown",
   "metadata": {},
   "source": [
    "## Tabs and Single-Document Mode\n",
    "You can focus on a single document without closing all tabs in the main work area. Single-Document Mode is found in the View menu."
   ]
  },
  {
   "cell_type": "markdown",
   "metadata": {},
   "source": [
    "## Context Menus\n",
    "Individual context menus exist for documents, text files, consoles etc. Right-click on the element to bring up its context menu.\n",
    "\n",
    "The web browser's native context menu can be accessed by holding down `shift` when right-clicking."
   ]
  },
  {
   "cell_type": "markdown",
   "metadata": {},
   "source": [
    "## Working with files\n",
    "### Opening files\n",
    "- Double-click on the filename,\n",
    "or\n",
    "- Right-click to open with..., or\n",
    "- Drag it across to the main work area\n",
    "\n",
    "Single files can be opened simultaneously in multiple editors or viewers."
   ]
  },
  {
   "cell_type": "markdown",
   "metadata": {},
   "source": [
    "### Accessing the scratch filesystem\n",
    "\n",
    "The file system can be navigated by double-clicking on the folder names. \n",
    "\n",
    "<div class=\"alert alert-block alert-info\">\n",
    "<b>Note:</b> You can not go up the directory tree from \\$HOME (/users/username), so to access \\$SCRATCH (/scratch/snx3000/username) you must create a symbolic link. The line below is only meaningful if you are executing this notebook from jupyter.cscs.ch (and not from Binder, for example).\n",
    "</div>"
   ]
  },
  {
   "cell_type": "code",
   "execution_count": null,
   "metadata": {},
   "outputs": [],
   "source": [
    "!ln -s $SCRATCH $HOME/scratch"
   ]
  },
  {
   "cell_type": "markdown",
   "metadata": {},
   "source": [
    "The scratch folder will appear automatically in the file browser after a few seconds."
   ]
  },
  {
   "cell_type": "markdown",
   "metadata": {},
   "source": [
    "### Creating new files\n",
    "- Click the `+` button, or\n",
    "- File -> New\n",
    "\n",
    "Rename the file by right-clicking on its name in the file browser and selecting Rename, or right-clicking on its tab header.\n",
    "### Downloading files to your local machine\n",
    "Right-click the file name in the file browser and select Download."
   ]
  },
  {
   "cell_type": "markdown",
   "metadata": {},
   "source": [
    "## Terminals\n",
    "\n",
    "JupyterLab terminals provide support for system shells on Mac/Linux and PowerShell on Windows. The terminal runs where the Jupyter server is running, i.e. the compute node.\n",
    "\n",
    "Try opening a terminal using the + button and clicking on Terminal or by using the File -> New -> Terminal menu. The terminal can be useful for manually launching commands.\n",
    "\n",
    "Closing a terminal will leave it running. You can reopen it with the Running Terminals and Kernels tab on the Sidebar. \n",
    "\n",
    "### Copy and paste from terminal\n",
    "\n",
    "- For MacOS `Cmd C` and `Cmd V` should work\n",
    "- For Windows Powershell `Ctrl Insert` and `Shift Insert` should work\n",
    "- For native browser copy and paste hold `Shift` and right click to bring up the context menu\n",
    "- For non MacOS, `Ctrl C` (if text is selected) and `Ctrl V` should work"
   ]
  },
  {
   "cell_type": "markdown",
   "metadata": {},
   "source": [
    "## Command Palette\n",
    "All actions are processed through a centralised command system. The command palette in the left sidebar provides a keyboard-driven way to search for and run JupyterLab commands. \n",
    "\n",
    "It is accessed with `Command/Ctrl Shift C`"
   ]
  }
 ],
 "metadata": {
  "kernelspec": {
   "display_name": "Python 3",
   "language": "python",
   "name": "python3"
  },
  "language_info": {
   "codemirror_mode": {
    "name": "ipython",
    "version": 3
   },
   "file_extension": ".py",
   "mimetype": "text/x-python",
   "name": "python",
   "nbconvert_exporter": "python",
   "pygments_lexer": "ipython3",
   "version": "3.7.7"
  }
 },
 "nbformat": 4,
 "nbformat_minor": 4
}
