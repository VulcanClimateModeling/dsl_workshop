{
 "cells": [
  {
   "cell_type": "markdown",
   "metadata": {},
   "source": [
    "# Workshop on Domain-Specific Lanugages for Performance-Portable Weather and Climate Models\n",
    "\n",
    "## Session 2A: Intro to Conditionals and Builtins\n",
    "\n",
    "This notebook is provides an introduction to conditional statements in GT4PY"
   ]
  },
  {
   "cell_type": "code",
   "execution_count": null,
   "metadata": {},
   "outputs": [],
   "source": [
    "import matplotlib.pyplot as plt\n",
    "import numpy as np\n",
    "from copy import deepcopy\n",
    "\n",
    "import gt4py\n",
    "from gt4py import gtscript\n",
    "from tools import plot_two_ij_slices"
   ]
  },
  {
   "cell_type": "code",
   "execution_count": null,
   "metadata": {},
   "outputs": [],
   "source": [
    "# Setting up the domain\n",
    "nx = 100\n",
    "halo = 3\n",
    "shape = (nx+2*halo, nx+2*halo, 1)\n",
    "\n",
    "# and the storages\n",
    "in_storage = gt4py.storage.zeros(\n",
    "    shape=shape,\n",
    "    default_origin=(0, 0, 0),\n",
    "    dtype=float,\n",
    "    backend=\"numpy\",\n",
    ")\n",
    "\n",
    "out_storage = gt4py.storage.zeros(\n",
    "    shape=shape,\n",
    "    default_origin=(0, 0, 0),\n",
    "    dtype=float,\n",
    "    backend=\"numpy\",\n",
    ")"
   ]
  },
  {
   "cell_type": "markdown",
   "metadata": {},
   "source": [
    "## Scalar Conditionals\n",
    "- Conditionals can be specified with a scalar or a field.\n",
    "- Scalar conditionals behave fairly intuitively and are applied across a field"
   ]
  },
  {
   "cell_type": "code",
   "execution_count": null,
   "metadata": {},
   "outputs": [],
   "source": [
    "@gtscript.stencil(backend=\"numpy\")\n",
    "def conditional_stencil(\n",
    "    in_storage: gtscript.Field[float], out_storage: gtscript.Field[float], c: float\n",
    "):\n",
    "\n",
    "    with computation(PARALLEL), interval(...):\n",
    "        if c > 0.:\n",
    "            out_storage = (\n",
    "                in_storage[0, 0, 0] + in_storage[1, 0, 0]\n",
    "            )\n",
    "        else:\n",
    "            out_storage = 0"
   ]
  },
  {
   "cell_type": "markdown",
   "metadata": {},
   "source": [
    "if we pass c=1 in our stencil call, we'll execute along one branch"
   ]
  },
  {
   "cell_type": "code",
   "execution_count": null,
   "metadata": {
    "tags": []
   },
   "outputs": [],
   "source": [
    "in_storage.data[halo + nx // 3 : halo +  2 * nx  // 3 : 2, halo + nx // 3 : halo + 2 * nx // 3, :] = 2\n",
    "\n",
    "conditional_stencil(in_storage, out_storage, 1.0, origin=(halo-1, halo-1, 0), domain=(nx+1, nx+1, 1))\n",
    "\n",
    "print(\"c > 0\")\n",
    "plot_two_ij_slices(in_storage, out_storage)"
   ]
  },
  {
   "cell_type": "markdown",
   "metadata": {},
   "source": [
    "And if we instead pass -1 we get:"
   ]
  },
  {
   "cell_type": "code",
   "execution_count": null,
   "metadata": {},
   "outputs": [],
   "source": [
    "conditional_stencil(in_storage, out_storage, -1.0, origin=(halo-1, halo-1, 0), domain=(nx+1, nx+1, 1))\n",
    "\n",
    "plot_two_ij_slices(in_storage, out_storage)"
   ]
  },
  {
   "cell_type": "markdown",
   "metadata": {},
   "source": [
    "## Field conditionals\n",
    "Fields can also be used in conditional statements\n",
    "- This allows different points to be in different branches"
   ]
  },
  {
   "cell_type": "code",
   "execution_count": null,
   "metadata": {
    "tags": []
   },
   "outputs": [],
   "source": [
    "@gtscript.stencil(backend=\"numpy\")\n",
    "def field_conditional_stencil(\n",
    "    in_storage: gtscript.Field[float], out_storage: gtscript.Field[float], filter_storage: gtscript.Field[float]\n",
    "):\n",
    "    with computation(PARALLEL), interval(...):\n",
    "        if filter_storage[-1, 0, 0] > 0.:\n",
    "            out_storage = 0\n",
    "        else:\n",
    "            out_storage = in_storage[0, 0, 0]\n",
    "\n",
    "\n",
    "# and the storages\n",
    "filter_storage = gt4py.storage.zeros(\n",
    "    shape=shape,\n",
    "    default_origin=(0, 0, 0),\n",
    "    dtype=float,\n",
    "    backend=\"numpy\",\n",
    ")\n",
    "filter_storage.data[halo + nx // 3 : halo +  2 * nx  // 3 : 2, halo + nx // 3 : halo + 2 * nx // 3, :] = 1\n",
    "filter_storage.data[halo + nx // 3 + 1 : halo + 2 * nx // 3 :2, halo + nx // 3 : halo + 2 * nx // 3, :] = -1\n",
    "filter_storage.data[halo + nx // 3 : halo + 2 * nx // 3, halo + nx // 3 : halo + 2 * nx // 3 : 2, :] *= -1\n",
    "\n",
    "in_storage = gt4py.storage.zeros(\n",
    "    shape=shape,\n",
    "    default_origin=(0, 0, 0),\n",
    "    dtype=float,\n",
    "    backend=\"numpy\",\n",
    ")\n",
    "for i in range(nx//3):\n",
    "    in_storage.data[halo + nx // 3 + i, halo + nx // 3 : halo + 2 * nx // 3, :] = i+1\n",
    "\n",
    "\n",
    "\n",
    "# running the computataion\n",
    "\n",
    "print(\"Conditional Filter\")\n",
    "plt.imshow(filter_storage.data[:,:,0])\n",
    "plt.show()\n",
    "\n",
    "field_conditional_stencil(in_storage, out_storage, filter_storage, origin=(halo-1, halo-1, 0), domain=(nx+1, nx+1, 1))\n",
    "\n",
    "plot_two_ij_slices(in_storage, out_storage)"
   ]
  },
  {
   "cell_type": "markdown",
   "metadata": {},
   "source": [
    "## More on Field Conditionals\n",
    "- Field conditionals use a mask to check branching\n",
    "- This allows some fun referential code"
   ]
  },
  {
   "cell_type": "code",
   "execution_count": null,
   "metadata": {},
   "outputs": [],
   "source": [
    "@gtscript.stencil(backend=\"numpy\")\n",
    "def field_conditional_stencil(\n",
    "    in_storage: gtscript.Field[float], out_storage: gtscript.Field[float]\n",
    "):\n",
    "\n",
    "    with computation(PARALLEL), interval(...):\n",
    "        if in_storage[-1, 0, 0] > 0.:\n",
    "            out_storage = 3\n",
    "        else:\n",
    "            out_storage = in_storage[0, 0, 0] + in_storage[1, 0, 0]\n",
    "\n",
    "\n",
    "in_storage = gt4py.storage.zeros(\n",
    "    shape=shape,\n",
    "    default_origin=(0, 0, 0),\n",
    "    dtype=float,\n",
    "    backend=\"numpy\",\n",
    ")\n",
    "in_storage.data[halo + nx // 3 : halo +  2 * nx  // 3 : 2, halo + nx // 3 : halo + 2 * nx // 3, :] = 1\n",
    "\n",
    "\n",
    "\n",
    "print(in_storage.data[:,45,0])\n",
    "\n",
    "field_conditional_stencil(in_storage, out_storage, origin=(halo-1, halo-1, 0), domain=(nx+1, nx+1, 1))\n",
    "plot_two_ij_slices(in_storage, out_storage)\n",
    "\n",
    "print(out_storage.data[:,45,0])"
   ]
  },
  {
   "cell_type": "markdown",
   "metadata": {},
   "source": [
    "<div class=\"alert alert-block alert-info\">\n",
    "    <b> Now it's your turn: </b><br>\n",
    "    (Hint: Make sure that when you modify code you retain the original code by commenting it out so that you undo any of the modifications you do.)\n",
    "    <ol>\n",
    "        <li style=\"margin-bottom: 10px\">Use conditionals to add a simple flux limiter <code>x_flux = min(0, sign(x_flux, delta_x))</code> to the <code>diffusion</code> stencil below. Python does not have an equivalent to Fortran's <code>sign</code>, so you can either define your own as a separate function or write the equivalent code in the stencil.</li>\n",
    "        <li style=\"margin-bottom: 10px\">Open the <code>.gt_cache</code> directory and inspect the generated code.</li>\n",
    "    </ol>\n",
    "</div>"
   ]
  },
  {
   "cell_type": "code",
   "execution_count": null,
   "metadata": {},
   "outputs": [],
   "source": [
    "# Solution 1\n",
    "@gtscript.stencil(backend=\"numpy\")\n",
    "def diffusion(\n",
    "    in_storage: gtscript.Field[float], out_storage: gtscript.Field[float], alpha: float\n",
    "):\n",
    "\n",
    "    with computation(PARALLEL), interval(...):\n",
    "        lap = (\n",
    "            -4.0 * in_storage[0, 0, 0]\n",
    "            + in_storage[1, 0, 0]\n",
    "            + in_storage[-1, 0, 0]\n",
    "            + in_storage[0, 1, 0]\n",
    "            + in_storage[0, -1, 0]\n",
    "        )\n",
    "        \n",
    "        x_flux = lap[1, 0, 0] - lap[0, 0, 0]\n",
    "        y_flux = lap[0, 1, 0] - lap[0, 0, 0]\n",
    "        \n",
    "        out_storage = in_storage - alpha * (x_flux[0, 0, 0] - x_flux[-1, 0, 0] + y_flux[0, 0, 0] - y_flux[0, -1, 0])\n",
    "        \n",
    "alpha = 1./32.\n",
    "in_storage.data[halo + nx // 3 : halo +  2 * nx  // 3, halo + nx // 3 : halo + 2 * nx // 3, :] = 1\n",
    "\n",
    "for i in range(500):\n",
    "    if i==0:\n",
    "        diffusion(in_storage, out_storage, alpha, origin=(halo-1, halo-1, 0), domain=(nx+1, nx+1, 1))\n",
    "    else:\n",
    "        diffusion(out_storage, out_storage, alpha, origin=(halo-1, halo-1, 0), domain=(nx+1, nx+1, 1))\n",
    "plot_two_ij_slices(in_storage, out_storage)"
   ]
  },
  {
   "cell_type": "markdown",
   "metadata": {},
   "source": [
    "## Externals and Inlining Conditionals\n",
    "Any stencil arguments are either fields or parameters and are read at runtime. Anything else, however, is an external and treated as a compile-time constant. Externals are and set when the stencil is decorated with `gtscript.stencil`, and the compiled code will have the value substituted. \n",
    "<div class=\"alert alert-block alert-info\">\n",
    "    <b> Now it's your turn: </b><br>\n",
    "    <ol>\n",
    "        Open the <code>.gt_cache</code> directory and inspect the <code>example_external_stencil</code> stencil generated by this:\n",
    "    </ol>\n",
    "</div>"
   ]
  },
  {
   "cell_type": "code",
   "execution_count": null,
   "metadata": {},
   "outputs": [],
   "source": [
    "EXT = 5.\n",
    "@gtscript.stencil(backend=\"numpy\")\n",
    "def example_external_stencil(\n",
    "    in_storage: gtscript.Field[float], out_storage: gtscript.Field[float]\n",
    "):\n",
    "    with computation(PARALLEL), interval(...):\n",
    "        if EXT > 0.:\n",
    "            out_storage = (\n",
    "                in_storage[0, 0, 0] + in_storage[1, 0, 0]\n",
    "            )\n",
    "        else:\n",
    "            out_storage = 0.0\n",
    "\n",
    "in_storage = gt4py.storage.zeros(\n",
    "    shape=shape,\n",
    "    default_origin=(0, 0, 0),\n",
    "    dtype=float,\n",
    "    backend=\"numpy\",\n",
    ")\n",
    "            \n",
    "out_storage = gt4py.storage.zeros(\n",
    "    shape=shape,\n",
    "    default_origin=(0, 0, 0),\n",
    "    dtype=float,\n",
    "    backend=\"numpy\",\n",
    ")\n",
    "\n",
    "example_external_stencil(in_storage, out_storage, origin=(halo-1, halo-1, 0), domain=(nx+1, nx+1, 1))"
   ]
  },
  {
   "cell_type": "markdown",
   "metadata": {},
   "source": [
    "Notably, the compiled stencil contains `__condition_1 = 5.0 > 0.0` and `__condition_1` is then evaluated in subsequent if-statements. To avoid this, you can use `__INLINED` to have the compiler evaluate the conditional and only generate the relevant branch of code.\n",
    "<div class=\"alert alert-block alert-info\">\n",
    "    <b> Now it's your turn: </b><br>\n",
    "    <ol>\n",
    "        Compare the last stencil in <code>.gt_cache</code> to the <code>inlined_conditional_stencil</code> stencil generated here:\n",
    "    </ol>\n",
    "</div>"
   ]
  },
  {
   "cell_type": "code",
   "execution_count": null,
   "metadata": {},
   "outputs": [],
   "source": [
    "EXT = 5.\n",
    "\n",
    "@gtscript.stencil(backend=\"numpy\")\n",
    "def inlined_conditional_stencil(\n",
    "    in_storage: gtscript.Field[float], out_storage: gtscript.Field[float]\n",
    "):\n",
    "    with computation(PARALLEL), interval(...):\n",
    "        if __INLINED(EXT > 0.):\n",
    "            out_storage = (\n",
    "                in_storage[0, 0, 0] + in_storage[1, 0, 0]\n",
    "            )\n",
    "        else:\n",
    "            out_storage = 0.0\n",
    "            \n",
    "in_storage.data[halo + nx // 3 : halo +  2 * nx  // 3 : 2, halo + nx // 3 : halo + 2 * nx // 3, :] = 2\n",
    "out_storage = gt4py.storage.zeros(\n",
    "    shape=shape,\n",
    "    default_origin=(0, 0, 0),\n",
    "    dtype=float,\n",
    "    backend=\"numpy\",\n",
    ")\n",
    "\n",
    "print(\"EXT = {0}\".format(EXT))\n",
    "\n",
    "inlined_conditional_stencil(in_storage, out_storage, origin=(halo-1, halo-1, 0), domain=(nx+1, nx+1, 1))\n",
    "\n",
    "plot_two_ij_slices(in_storage, out_storage)"
   ]
  },
  {
   "cell_type": "markdown",
   "metadata": {},
   "source": [
    "Now there is no conditional check in the cached stencil. \n",
    "\n",
    "But what happens if we change `EXT` and try to rerun?"
   ]
  },
  {
   "cell_type": "code",
   "execution_count": null,
   "metadata": {},
   "outputs": [],
   "source": [
    "#can we switch branches?\n",
    "EXT = -1.0\n",
    "\n",
    "print(\"EXT = {0}\".format(EXT))\n",
    "\n",
    "inlined_conditional_stencil(in_storage, out_storage, origin=(halo-1, halo-1, 0), domain=(nx+1, nx+1, 1))\n",
    "plot_two_ij_slices(in_storage, out_storage)"
   ]
  },
  {
   "cell_type": "markdown",
   "metadata": {},
   "source": [
    "We're still evaluating as though `EXT>0`. Externals are read at compile-time, and the value is frozen when the stencil decorator is invoked. Since `EXT` was set to 5 when we called `@gtscript.stencil`, that's what's in the generated code, and any subsequent calls to `inlined_conditional_stencil` will use that value. To change the behavior you would have to re-decorate `inlined_conditional_stencil` after changing `EXT`. This is easiest done if you explicitly invoke the decorator:"
   ]
  },
  {
   "cell_type": "code",
   "execution_count": null,
   "metadata": {},
   "outputs": [],
   "source": [
    "def inlined_conditional_function(\n",
    "    in_storage: gtscript.Field[float], out_storage: gtscript.Field[float]\n",
    "):\n",
    "    with computation(PARALLEL), interval(...):\n",
    "        if __INLINED(EXT > 0.):\n",
    "            out_storage = (\n",
    "                in_storage[0, 0, 0] + in_storage[1, 0, 0]\n",
    "            )\n",
    "        else:\n",
    "            out_storage = 0.0\n",
    "            \n",
    "in_storage.data[halo + nx // 3 : halo +  2 * nx  // 3 : 2, halo + nx // 3 : halo + 2 * nx // 3, :] = 2\n",
    "out_storage = gt4py.storage.zeros(\n",
    "    shape=shape,\n",
    "    default_origin=(0, 0, 0),\n",
    "    dtype=float,\n",
    "    backend=\"numpy\",\n",
    ")\n",
    "\n",
    "\n",
    "EXT = -1.0\n",
    "print(\"EXT = {0}\".format(EXT))\n",
    "\n",
    "stencil_call = gtscript.stencil(definition=inlined_conditional_function, backend=\"numpy\")\n",
    "stencil_call(in_storage, out_storage, origin=(halo-1, halo-1, 0), domain=(nx+1, nx+1, 1))\n",
    "\n",
    "plot_two_ij_slices(in_storage, out_storage)"
   ]
  },
  {
   "cell_type": "markdown",
   "metadata": {},
   "source": [
    "Now if we want to change `EXT` in the generated stencil we can redefine `stencil_call` after changing the value for `EXT`:"
   ]
  },
  {
   "cell_type": "code",
   "execution_count": null,
   "metadata": {},
   "outputs": [],
   "source": [
    "EXT = 1.0\n",
    "print(\"EXT = {0}\".format(EXT))\n",
    "\n",
    "stencil_call = gtscript.stencil(definition=inlined_conditional_function, backend=\"numpy\")\n",
    "stencil_call(in_storage, out_storage, origin=(halo-1, halo-1, 0), domain=(nx+1, nx+1, 1))\n",
    "\n",
    "plot_two_ij_slices(in_storage, out_storage)"
   ]
  },
  {
   "cell_type": "markdown",
   "metadata": {},
   "source": [
    "You can also use a dictionary to pass externals through the decorator explicitly. To do this, set the `externals` argument in `gtscript.stencil()` to a dictionary mapping the external names to their values, and import those externals insode teh stencil function. \n",
    "\n",
    "This can be useful if you want to change names inside the stencil, for example:"
   ]
  },
  {
   "cell_type": "code",
   "execution_count": null,
   "metadata": {},
   "outputs": [],
   "source": [
    "def inlined_conditional_stencil(\n",
    "    in_storage: gtscript.Field[float], out_storage: gtscript.Field[float]\n",
    "):\n",
    "    from __externals__ import EXT2\n",
    "    with computation(PARALLEL), interval(...):\n",
    "        if __INLINED(EXT2 > 0.):\n",
    "            out_storage = (\n",
    "                in_storage[0, 0, 0] + in_storage[1, 0, 0]\n",
    "            )\n",
    "        else:\n",
    "            out_storage = 0.0\n",
    "            \n",
    "in_storage.data[halo + nx // 3 : halo +  2 * nx  // 3 : 2, halo + nx // 3 : halo + 2 * nx // 3, :] = 2\n",
    "\n",
    "# running the computataion\n",
    "\n",
    "my_value = 1.0\n",
    "my_other_value = -1.0\n",
    "\n",
    "stencil_call = gtscript.stencil(definition=inlined_conditional_stencil, backend=\"numpy\", externals={\"EXT2\":my_value})\n",
    "stencil_call(in_storage, out_storage, origin=(halo-1, halo-1, 0), domain=(nx+1, nx+1, 1))\n",
    "\n",
    "plot_two_ij_slices(in_storage, out_storage)"
   ]
  },
  {
   "cell_type": "code",
   "execution_count": null,
   "metadata": {},
   "outputs": [],
   "source": [
    "stencil_call = gtscript.stencil(definition=inlined_conditional_stencil, backend=\"numpy\", externals={\"EXT2\":my_other_value})\n",
    "stencil_call(in_storage, out_storage, origin=(halo-1, halo-1, 0), domain=(nx+1, nx+1, 1))\n",
    "\n",
    "plot_two_ij_slices(in_storage, out_storage)"
   ]
  },
  {
   "cell_type": "markdown",
   "metadata": {},
   "source": [
    "### Why Inline?\n",
    "it's faster!"
   ]
  },
  {
   "cell_type": "code",
   "execution_count": null,
   "metadata": {},
   "outputs": [],
   "source": [
    "C = 1.0\n",
    "\n",
    "@gtscript.stencil(backend=\"numpy\")\n",
    "def inlined_conditional_stencil(\n",
    "    in_storage: gtscript.Field[float], out_storage: gtscript.Field[float]\n",
    "):\n",
    "    with computation(PARALLEL), interval(...):\n",
    "        if __INLINED(C > 0.):\n",
    "            out_storage = (\n",
    "                in_storage[0, 0, 0] + in_storage[1, 0, 0]\n",
    "            )\n",
    "        else:\n",
    "            out_storage = 0.0\n",
    "\n",
    "@gtscript.stencil(backend=\"numpy\")\n",
    "def conditional_stencil(\n",
    "    in_storage: gtscript.Field[float], out_storage: gtscript.Field[float], c: float\n",
    "):\n",
    "\n",
    "    with computation(PARALLEL), interval(...):\n",
    "        if c > 0.:\n",
    "            out_storage = (\n",
    "                in_storage[0, 0, 0] + in_storage[1, 0, 0]\n",
    "            )\n",
    "        else:\n",
    "            out_storage = 0\n",
    "\n",
    "# Setting up the domain\n",
    "nx = 100\n",
    "halo = 3\n",
    "shape = (nx+2*halo, nx+2*halo, 1)\n",
    "\n",
    "# and the storages\n",
    "in_storage = gt4py.storage.zeros(\n",
    "    shape=shape,\n",
    "    default_origin=(0, 0, 0),\n",
    "    dtype=float,\n",
    "    backend=\"numpy\",\n",
    ")\n",
    "in_storage.data[halo + nx // 3 : halo +  2 * nx  // 3 : 2, halo + nx // 3 : halo + 2 * nx // 3, :] = 2\n",
    "out_storage = gt4py.storage.zeros(\n",
    "    shape=shape,\n",
    "    default_origin=(0, 0, 0),\n",
    "    dtype=float,\n",
    "    backend=\"numpy\",\n",
    ")\n",
    "            \n",
    "\n",
    "#Timing the regular stencil:\n",
    "print(\"Runtime conditional:\")\n",
    "fields = {\"in_storage\": in_storage, \"out_storage\": out_storage}\n",
    "scalars = {\"c\": 1.0}\n",
    "exec_info = {}\n",
    "\n",
    "%timeit conditional_stencil(**fields, **scalars, origin=(halo-1, halo-1, 0), domain=(nx+1, nx+1, 1), exec_info=exec_info)\n",
    "\n",
    "call_time = exec_info['call_end_time']-exec_info['call_start_time']\n",
    "run_time = exec_info['run_end_time']-exec_info['run_start_time']\n",
    "print(f\"  call_time = {call_time * 1000.} ms\")\n",
    "print(f\"  run_time = {run_time * 1000.} ms\")\n",
    "print(f\"  overhead = {(call_time - run_time)*1000.} ms\")\n",
    "print(\"\")\n",
    "\n",
    "#And the inlined version:\n",
    "print(\"Inlined conditional:\")\n",
    "exec_info = {}\n",
    "\n",
    "%timeit inlined_conditional_stencil(**fields, origin=(halo-1, halo-1, 0), domain=(nx+1, nx+1, 1), exec_info=exec_info)\n",
    "\n",
    "call_time = exec_info['call_end_time']-exec_info['call_start_time']\n",
    "run_time = exec_info['run_end_time']-exec_info['run_start_time']\n",
    "print(f\"  call_time = {call_time * 1000.} ms\")\n",
    "print(f\"  run_time = {run_time * 1000.} ms\")\n",
    "print(f\"  overhead = {(call_time - run_time)*1000.} ms\")\n",
    "print(\"\")"
   ]
  },
  {
   "cell_type": "markdown",
   "metadata": {},
   "source": [
    "You can skip the control flow at run-time because only one branch of the conditional is being generated by the compiler\n",
    "\n",
    "You can also use externals for code re-use:"
   ]
  },
  {
   "cell_type": "code",
   "execution_count": null,
   "metadata": {},
   "outputs": [],
   "source": [
    "def avg(a: gtscript.Field[float], b: gtscript.Field[float]):\n",
    "    from __externals__ import OFFSET\n",
    "    with computation(PARALLEL), interval(...):\n",
    "        b = 0.5 * (a + a[OFFSET, 0, 0])\n",
    "\n",
    "in_storage.data[halo + nx // 3 : halo + 2 * nx // 3, halo + nx // 3 : halo + 2 * nx // 3, :] = 3\n",
    "in_storage.data[halo + nx // 3 : halo + 2 * nx // 3 :2, halo + nx // 3 : halo + 2 * nx // 3, :] = -1\n",
    "\n",
    "stencil_call_1 = gtscript.stencil(\n",
    "    definition = avg,\n",
    "    externals = {\"OFFSET\": 1},\n",
    "    backend = \"numpy\"\n",
    ")\n",
    "\n",
    "\n",
    "stencil_call_1(in_storage, out_storage, origin=(halo-1, halo-1, 0), domain=(nx+1, nx+1, 1))\n",
    "\n",
    "plot_two_ij_slices(in_storage, out_storage)"
   ]
  },
  {
   "cell_type": "markdown",
   "metadata": {},
   "source": [
    "<div class=\"alert alert-block alert-info\">\n",
    "    <b> Now it's your turn: </b><br>\n",
    "    <ol>\n",
    "        <li style=\"margin-bottom: 10px\">Write a <code>fill_horizontal</code> stencil function to fill sparse, small negative values in the input fields using neighboring values along the i-direction. Does your solution work if the first or last value is negative?</li>\n",
    "        <li style=\"margin-bottom: 10px\">Starting from <code>fill_horizontal</code>, write a <code>fill_horizontal_direction</code> stencil function that can fill along the i or j directions based on a run-time conditional.\n",
    "        <li style=\"margin-bottom: 10px\">Adapt the <code>fill_horizontal_direction</code> stencil function into <code>fill_horizontal_inlined</code> so that the direction is specified at compiletime\n",
    "        <li style=\"margin-bottom: 10px\">Open the <code>.gt_cache</code> directory and inspect the generated code.</li>\n",
    "    </ol>\n",
    "</div>"
   ]
  },
  {
   "cell_type": "code",
   "execution_count": null,
   "metadata": {
    "tags": []
   },
   "outputs": [],
   "source": [
    "# Solution 1\n",
    "@gtscript.stencil(backend=\"numpy\")\n",
    "def fill_horizontal(\n",
    "    in_storage: gtscript.Field[float]\n",
    "):\n",
    "    with computation(PARALLEL), interval(...):\n",
    "        in_storage = in_storage\n",
    "\n",
    "\n",
    "in_storage_1 = gt4py.storage.zeros(\n",
    "    shape=shape,\n",
    "    default_origin=(0, 0, 0),\n",
    "    dtype=float,\n",
    "    backend=\"numpy\",\n",
    ")\n",
    "in_storage_1.data[halo + nx // 3 : halo + 2 * nx // 3, halo + nx // 3 : halo + 2 * nx // 3, :] = 3\n",
    "in_storage_1.data[halo + nx // 3 : halo + 2 * nx // 3 :2, halo + nx // 3 : halo + 2 * nx // 3, :] = -1\n",
    "\n",
    "in_copy = deepcopy(in_storage_1)\n",
    "\n",
    "print(in_storage_1.data[:,45,0], np.mean(in_storage_1.data))\n",
    "\n",
    "fill_horizontal(in_copy, origin=(halo, halo, 0), domain=(nx, nx, 1))\n",
    "    \n",
    "print(in_copy.data[:,45,0], np.mean(in_copy.data))\n",
    "\n",
    "plot_two_ij_slices(in_storage_1, in_copy)"
   ]
  },
  {
   "cell_type": "code",
   "execution_count": null,
   "metadata": {},
   "outputs": [],
   "source": [
    "# Solution 2            \n",
    "@gtscript.stencil(backend=\"numpy\")\n",
    "def fill_horizontal_direction(\n",
    "    in_storage: gtscript.Field[float], fill_direction: int\n",
    "):\n",
    "    with computation(PARALLEL), interval(...):\n",
    "        in_storage = in_storage\n",
    "\n",
    "in_storage_2 = gt4py.storage.zeros(\n",
    "    shape=shape,\n",
    "    default_origin=(0, 0, 0),\n",
    "    dtype=float,\n",
    "    backend=\"numpy\",\n",
    ")\n",
    "\n",
    "in_storage_2.data[halo + nx // 3 : halo + 2 * nx // 3, halo + nx // 3 : halo + 2 * nx // 3, :] = 3\n",
    "in_storage_2.data[halo + nx // 3 : halo + 2 * nx // 3, halo + nx // 3 : halo + 2 * nx // 3 : 2, :] = -1\n",
    "\n",
    "in_copy = deepcopy(in_storage_2)\n",
    "\n",
    "print(in_storage_2.data[45,:,0], np.mean(in_storage_2.data))\n",
    "\n",
    "fill_horizontal_direction(in_copy, -1, origin=(halo, halo, 0), domain=(nx, nx, 1))\n",
    "    \n",
    "print(in_copy.data[45,:,0], np.mean(in_copy.data))\n",
    "\n",
    "plot_two_ij_slices(in_storage_2, in_copy)"
   ]
  },
  {
   "cell_type": "code",
   "execution_count": null,
   "metadata": {},
   "outputs": [],
   "source": [
    "# Solution 3\n",
    "DIR = -1\n",
    "@gtscript.stencil(backend=\"numpy\")\n",
    "def fill_horizontal_inlined(\n",
    "    in_storage: gtscript.Field[float]\n",
    "):\n",
    "    with computation(PARALLEL), interval(...):\n",
    "        in_storage = in_storage\n",
    "\n",
    "\n",
    "in_copy = deepcopy(in_storage_2)\n",
    "\n",
    "print(in_storage_2.data[45,:,0], np.mean(in_storage_2.data))\n",
    "\n",
    "fill_horizontal_inlined(in_copy, origin=(halo, halo, 0), domain=(nx, nx, 1))\n",
    "    \n",
    "print(in_copy.data[45,:,0], np.mean(in_copy.data))\n",
    "\n",
    "plot_two_ij_slices(in_storage_2, in_copy)"
   ]
  },
  {
   "cell_type": "code",
   "execution_count": null,
   "metadata": {},
   "outputs": [],
   "source": [
    "def avg(a: gtscript.Field[float], b: gtscript.Field[float]):\n",
    "    from __externals__ import OFFSET\n",
    "    with computation(PARALLEL), interval(...):\n",
    "        a = 0.5 * (b + b[OFFSET, 0, 0])\n",
    "\n",
    "stencil_call_1 = gtscript.stencil(\n",
    "    definition = avg,\n",
    "    externals = {\"OFFSET\": 2},\n",
    "    backend = \"numpy\"\n",
    ")\n",
    "\n",
    "in_storage_1 = gt4py.storage.zeros(\n",
    "    shape=shape,\n",
    "    default_origin=(0, 0, 0),\n",
    "    dtype=float,\n",
    "    backend=\"numpy\",\n",
    ")\n",
    "in_storage_1.data[halo + nx // 3 : halo + 2 * nx // 3, halo + nx // 3 : halo + 2 * nx // 3, :] = 3\n",
    "in_storage_1.data[halo + nx // 3 : halo + 2 * nx // 3 :2, halo + nx // 3 : halo + 2 * nx // 3, :] = -1\n",
    "\n",
    "out_storage = gt4py.storage.zeros(\n",
    "    shape=shape,\n",
    "    default_origin=(0, 0, 0),\n",
    "    dtype=float,\n",
    "    backend=\"numpy\",\n",
    ")\n",
    "\n",
    "stencil_call_1(out_storage, in_storage_1, origin=(halo-1, halo-1, 0), domain=(nx+1, nx+1, 1))\n",
    "\n",
    "plot_two_ij_slices(in_storage_1, out_storage)"
   ]
  },
  {
   "cell_type": "code",
   "execution_count": null,
   "metadata": {},
   "outputs": [],
   "source": []
  }
 ],
 "metadata": {
  "kernelspec": {
   "display_name": "Python 3",
   "language": "python",
   "name": "python3"
  },
  "language_info": {
   "codemirror_mode": {
    "name": "ipython",
    "version": 3
   },
   "file_extension": ".py",
   "mimetype": "text/x-python",
   "name": "python",
   "nbconvert_exporter": "python",
   "pygments_lexer": "ipython3",
   "version": "3.8.2"
  }
 },
 "nbformat": 4,
 "nbformat_minor": 4
}
