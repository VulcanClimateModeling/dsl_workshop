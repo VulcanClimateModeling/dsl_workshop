{
 "cells": [
  {
   "cell_type": "markdown",
   "metadata": {},
   "source": [
    "# Workshop on Domain-Specific Lanugages for Performance-Portable Weather and Climate Models\n",
    "\n",
    "## Session 2A: Advanced Concepts I\n",
    "\n",
    "This notebook is provides an introduction to conditional statements, math functions as well externals in GT4PY."
   ]
  },
  {
   "cell_type": "code",
   "execution_count": null,
   "metadata": {},
   "outputs": [],
   "source": [
    "# standard packages\n",
    "import matplotlib.pyplot as plt\n",
    "import numpy as np\n",
    "\n",
    "# import GT4Py\n",
    "import gt4py\n",
    "from gt4py import gtscript\n",
    "\n",
    "# some useful tools used in this notebook (mostly plotting)\n",
    "from tools import plot_two_ij_slices, plot_three_ij_slices, print_generated_code"
   ]
  },
  {
   "cell_type": "markdown",
   "metadata": {},
   "source": [
    "### Setup\n",
    "\n",
    "Setup size of computational domain `(nx, ny, 1)` and the width of the halo region `nhalo`. We use a single vertical level here for simplicity and ease of visualization of inputs and outputs.\n",
    "\n",
    "Create two storages we can use as input and output fields for stencils."
   ]
  },
  {
   "cell_type": "code",
   "execution_count": null,
   "metadata": {},
   "outputs": [],
   "source": [
    "# Setting up the domain\n",
    "nx = ny = 32\n",
    "nhalo = 3\n",
    "shape = (nx + 2*nhalo, ny + 2*nhalo, 1)\n",
    "\n",
    "# and the storages\n",
    "in_field = gt4py.storage.zeros(\n",
    "    shape=shape,\n",
    "    default_origin=(0, 0, 0),\n",
    "    dtype=float,\n",
    "    backend=\"numpy\",\n",
    ")\n",
    "\n",
    "out_field = in_field.copy()\n",
    "\n",
    "filter_field = in_field.copy()"
   ]
  },
  {
   "cell_type": "markdown",
   "metadata": {},
   "source": [
    "We'll also define a couple of convenience functions that we'll use frequently below."
   ]
  },
  {
   "cell_type": "code",
   "execution_count": null,
   "metadata": {},
   "outputs": [],
   "source": [
    "def set_box_to_value(field, value=1.):\n",
    "    field[:] = 0.\n",
    "    field[nhalo + nx // 4 : nhalo +  3 * nx  // 4, nhalo + ny // 4 : nhalo + 3 * ny // 4, :] = value\n",
    "    \n",
    "def set_box_to_stripe_pattern(field, value=1.):\n",
    "    field[:] = 0.\n",
    "    field[nhalo + nx // 4 : nhalo +  3 * nx  // 4 : 2, nhalo + ny // 4 : nhalo + 3 * ny // 4, :] = value\n",
    "    \n",
    "def set_box_to_checkerboard_pattern(field, value=1.):\n",
    "    field[:] = 0.\n",
    "    field[nhalo + nx // 4 : nhalo +  3 * nx  // 4 : 2, nhalo + ny // 4 : nhalo + 3 * ny // 4, :] = value\n",
    "    field[nhalo + nx // 4 + 1 : nhalo + 3 * nx // 4 : 2, nhalo + ny // 4 : nhalo + 3 * ny // 4, :] = -value\n",
    "    field[nhalo + nx // 4 : nhalo + 3 * nx // 4, nhalo + ny // 4 : nhalo + 3 * ny // 4 : 2, :] *= -1.\n",
    "    \n",
    "def set_box_to_gradient(field):\n",
    "    field[:] = 0.\n",
    "    for i in range(nx // 2):\n",
    "        field[nhalo + nx // 4 + i, nhalo + ny // 4 : nhalo + 3 * ny // 4, :] = i + 1\n",
    "        \n",
    "def set_bonus_box1(field):\n",
    "    field[:] = 0.\n",
    "    field[nhalo + nx // 3 : nhalo + 2 * nx // 3, nhalo + ny // 3 : nhalo + 2 * ny // 3, :] = 3.\n",
    "    field[nhalo + nx // 3 : nhalo + 2 * nx // 3 : 2, nhalo + ny // 3 : nhalo + 2 * ny // 3, :] = -1.\n",
    "    \n",
    "def set_bonus_box2(field):\n",
    "    field[:] = 0.\n",
    "    field[nhalo + nx // 3 : nhalo + 2 * nx // 3, nhalo + ny // 3 : nhalo + 2 * ny // 3, :] = 3\n",
    "    field[nhalo + nx // 3 : nhalo + 2 * nx // 3, nhalo + ny // 3 : nhalo + 2 * ny // 3 : 2, :] = -1"
   ]
  },
  {
   "cell_type": "markdown",
   "metadata": {},
   "source": [
    "## Scalar Conditionals\n",
    "\n",
    "Conditionals can be specified using a scalar or a field. The most common use case in a typical atmospheric code probably are conditionals on scalars, for example for selecting the order of an interpolation or checking whether the timestep is positive or negative during initialization. Scalar conditionals in GT4Py behave fairly intuitively."
   ]
  },
  {
   "cell_type": "code",
   "execution_count": null,
   "metadata": {},
   "outputs": [],
   "source": [
    "@gtscript.stencil(backend=\"numpy\")\n",
    "def conditional_stencil(in_field: gtscript.Field[float], out_field: gtscript.Field[float], c: float):\n",
    "    with computation(PARALLEL), interval(...):\n",
    "        if c > 0.:\n",
    "            out_field = in_field + in_field[1, 0, 0]\n",
    "        else:\n",
    "            out_field = in_field - in_field[1, 0, 0]"
   ]
  },
  {
   "cell_type": "markdown",
   "metadata": {},
   "source": [
    "We initialize the input storage with a stripe pattern (alternating vertical lines of value 2. and 0.) in an inner square region. If we pass `c = 1.` in our stencil call, we'll execute along one branch for all gridpoints."
   ]
  },
  {
   "cell_type": "code",
   "execution_count": null,
   "metadata": {
    "tags": []
   },
   "outputs": [],
   "source": [
    "set_box_to_stripe_pattern(in_field, value=2.)\n",
    "conditional_stencil(in_field, out_field, 1.0, origin=(nhalo-1, nhalo-1, 0), domain=(nx+1, ny+1, 1))\n",
    "plot_two_ij_slices(in_field, out_field)"
   ]
  },
  {
   "cell_type": "markdown",
   "metadata": {},
   "source": [
    "Alternatively, if we pass `c = -1.` the resulting field is computed using the `else` branch."
   ]
  },
  {
   "cell_type": "code",
   "execution_count": null,
   "metadata": {},
   "outputs": [],
   "source": [
    "conditional_stencil(in_field, out_field, -1., origin=(nhalo-1, nhalo-1, 0), domain=(nx+1, ny+1, 1))\n",
    "plot_two_ij_slices(in_field, out_field)"
   ]
  },
  {
   "cell_type": "markdown",
   "metadata": {},
   "source": [
    "<div class=\"alert alert-block alert-info\">\n",
    "    <b> Now it's your turn: </b><br>\n",
    "    (Hint: Make sure that when you modify code you retain the original code by commenting it out so that you can undo any of the modifications you do.)\n",
    "    <ol>\n",
    "        <li style=\"margin-bottom: 10px\"> Replace the condition with a ternary if-clause and validate that the result is the same.</li>\n",
    "        <li style=\"margin-bottom: 10px\"> Conditionals can also be used in <code>gtscript.functions</code>. Define a function which does the same operations and call the function from the stencil.</li>\n",
    "    </ol>\n",
    "</div>"
   ]
  },
  {
   "cell_type": "code",
   "execution_count": null,
   "metadata": {},
   "outputs": [],
   "source": [
    "#TODO: add your code here"
   ]
  },
  {
   "cell_type": "markdown",
   "metadata": {},
   "source": [
    "## Field Conditionals\n",
    "\n",
    "Another common use-case of conditionals is when the condition is on a field, for example when writing an upwind scheme or writing a limiter to make sure no negative tracer values are encountered.\n",
    "\n",
    "Here a simple example which computes the absolute value using a function being called from a stencil."
   ]
  },
  {
   "cell_type": "code",
   "execution_count": null,
   "metadata": {},
   "outputs": [],
   "source": [
    "@gtscript.function\n",
    "def absolute_value(field):\n",
    "    return field if field > 0. else -field\n",
    "\n",
    "@gtscript.stencil(backend=\"numpy\")\n",
    "def compute_absolute_value(in_field: gtscript.Field[float], out_field: gtscript.Field[float]):\n",
    "    with computation(PARALLEL), interval(...):\n",
    "        out_field = absolute_value(in_field)\n",
    "\n",
    "set_box_to_checkerboard_pattern(in_field, value=1.)\n",
    "compute_absolute_value(in_field, out_field)\n",
    "\n",
    "print('Are all values equal?', np.all(out_field == np.abs(in_field)))\n",
    "plot_two_ij_slices(in_field, out_field)"
   ]
  },
  {
   "cell_type": "code",
   "execution_count": null,
   "metadata": {
    "tags": []
   },
   "outputs": [],
   "source": [
    "@gtscript.stencil(backend=\"numpy\")\n",
    "def field_conditional_stencil(\n",
    "    in_field: gtscript.Field[float], out_field: gtscript.Field[float], filter_field: gtscript.Field[float]\n",
    "):\n",
    "    with computation(PARALLEL), interval(...):\n",
    "        if filter_field[-1, 0, 0] > 0.:\n",
    "            out_field = 0.\n",
    "        else:\n",
    "            out_field = in_field\n",
    "\n",
    "# initialize fields\n",
    "set_box_to_gradient(in_field)\n",
    "out_field[:] = 0.\n",
    "set_box_to_checkerboard_pattern(filter_field, value=5.)\n",
    "\n",
    "# do the computation\n",
    "field_conditional_stencil(in_field, out_field, filter_field, origin=(nhalo-1, nhalo-1, 0), domain=(nx+1, ny+1, 1))\n",
    "plot_three_ij_slices(filter_field, in_field, out_field, titles=['filter', 'input', 'output'])"
   ]
  },
  {
   "cell_type": "markdown",
   "metadata": {},
   "source": [
    "<div class=\"alert alert-block alert-info\">\n",
    "    <b> Now it's your turn: </b><br>\n",
    "    <ol>\n",
    "        <li style=\"margin-bottom: 10px\">The code below implements a 4th order numerical diffusion operator. It corresponds to the Lap(Lap()) example we've looked at previously, except that the diffusive fluxes are explicitly calculated as temporaries in the code. Run it and make sure it's working.</li>\n",
    "        <li style=\"margin-bottom: 10px\">The diffusion has rather large over- and undershoots. Use conditionals to add a simple flux limiter which sets <code>flux_x</code> to zero in case <code>flux_x * (field[1, 0, 0] - field) > 0.</code> and likewise for the y-direction. Implement the limiters as <code>gtscript.function</code>s named <code>flux_limiter_x</code> and <code>flux_limiter_y</code>.</li>\n",
    "        <li style=\"margin-bottom: 10px\">Rerun and verify that the over- and undershoots have been improved.</li>\n",
    "    </ol>\n",
    "</div>"
   ]
  },
  {
   "cell_type": "code",
   "execution_count": null,
   "metadata": {},
   "outputs": [],
   "source": [
    "@gtscript.stencil(backend=\"numpy\")\n",
    "def diffusion(in_field: gtscript.Field[float], out_field: gtscript.Field[float], alpha: float):\n",
    "    with computation(PARALLEL), interval(...):\n",
    "        \n",
    "        # Laplacian\n",
    "        lap = (\n",
    "            -4.0 * in_field[0, 0, 0]\n",
    "            + in_field[1, 0, 0]\n",
    "            + in_field[-1, 0, 0]\n",
    "            + in_field[0, 1, 0]\n",
    "            + in_field[0, -1, 0]\n",
    "        )\n",
    "        \n",
    "        # diffusive fluxes\n",
    "        flux_x = lap[1, 0, 0] - lap[0, 0, 0]\n",
    "        flux_y = lap[0, 1, 0] - lap[0, 0, 0]\n",
    "        \n",
    "        # flux divergence and timestep\n",
    "        out_field = in_field - alpha * (flux_x[0, 0, 0] - flux_x[-1, 0, 0] + flux_y[0, 0, 0] - flux_y[0, -1, 0])\n",
    "        \n",
    "        # swap time levels\n",
    "        in_field = out_field\n",
    "        \n",
    "alpha = 1./32.\n",
    "set_box_to_value(in_field)\n",
    "orig_field = in_field.copy()\n",
    "\n",
    "for i in range(500):\n",
    "    diffusion(in_field, out_field, alpha, origin=(nhalo-1, nhalo-1, 0), domain=(nx+1, ny+1, 1))\n",
    "plot_two_ij_slices(orig_field, out_field, titles=[\n",
    "    f\"input (min={np.min(orig_field):.3f}, max={np.max(orig_field):.3f})\", \n",
    "    f\"output (min={np.min(out_field):.3f}, max={np.max(out_field):.3f})\"\n",
    "])"
   ]
  },
  {
   "cell_type": "code",
   "execution_count": null,
   "metadata": {},
   "outputs": [],
   "source": [
    "#TODO: add your code here"
   ]
  },
  {
   "cell_type": "markdown",
   "metadata": {},
   "source": [
    "## Externals and Inlining Conditionals\n",
    "\n",
    "Any stencil arguments are either fields or scalars and are associated with storages at runtime. Anything else, however, is an external and treated as a compile-time constant. Externals are read when the stencil is decorated with `gtscript.stencil`, and the compiled code will have the value substituted. For stencils decorated with `@gtscript.stencl` compile time is when the file is read by the Python interpreter (for example when it is imported).\n",
    "\n",
    "A simple example is shown in the code below."
   ]
  },
  {
   "cell_type": "code",
   "execution_count": null,
   "metadata": {},
   "outputs": [],
   "source": [
    "FLIP = 1\n",
    "\n",
    "@gtscript.stencil(backend=\"numpy\")\n",
    "def flip_values(\n",
    "    in_field: gtscript.Field[float], out_field: gtscript.Field[float]\n",
    "):\n",
    "    with computation(PARALLEL), interval(...):\n",
    "        if FLIP == 1:\n",
    "            out_field = -in_field\n",
    "        else:\n",
    "            out_field = in_field\n",
    "\n",
    "set_box_to_checkerboard_pattern(in_field)\n",
    "out_field[:] = 0.\n",
    "\n",
    "flip_values(in_field, out_field, origin=(nhalo, nhalo, 0), domain=(nx, ny, 1))\n",
    "plot_two_ij_slices(in_field, out_field)"
   ]
  },
  {
   "cell_type": "markdown",
   "metadata": {},
   "source": [
    "<div class=\"alert alert-block alert-info\">\n",
    "    <b> Now it's your turn: </b><br>\n",
    "    <ol>\n",
    "        <li style=\"margin-bottom: 10px\">Try setting <code>FLIP</code> to zero to validate that the code is working as expected./li>\n",
    "        <li style=\"margin-bottom: 10px\">Use the <code>print_generate_code(flip_values)</code> method to inspect the generated Python code and find the conditional. Can you find the <code>FLIP</code> variable?</li>\n",
    "        <li style=\"margin-bottom: 10px\">Reset <code>FLIP=1</code> at the beginning of the code. Just before actually running the stencil (the <code>flip_values(...)</code> call), insert the statement <code>FLIP = 0</code>. Inspect the visualization and the generated code and check which value is actually being used. Remove the statement again.</li>\n",
    "        <li style=\"margin-bottom: 10px\">Since <code>FLIP</code> is a compile-time constant here (for example from a configuration file), we can inline it. Use the <code>__INLINED()</code> statement around the condition. Re-run the example with flipping on and off and check the generated code.</li>\n",
    "        <li style=\"margin-bottom: 10px\">Sometimes a value is not known at compile time but only at runtime. We can still use inlining to some degree, if we instead of using a decorator explicitly compile the stencil. Remove the decorator in the code above and insert code to compile the stencil. Now try moving the <code>FLIP=0/1</code> statement around in the code and check what happens.</li>\n",
    "        <li style=\"margin-bottom: 10px\">Using this strategy, it is possible to generate multiple stencils. Compile a stencil that flips (<code>flip_values</code>) and one that does not flip (<code>noflip_values</code>) by setting <code>FLIP</code> correspondingly before compling each stencil separately.</li>\n",
    "    </ol>\n",
    "</div>"
   ]
  },
  {
   "cell_type": "code",
   "execution_count": null,
   "metadata": {},
   "outputs": [],
   "source": [
    "#TODO: add your code here"
   ]
  },
  {
   "cell_type": "markdown",
   "metadata": {},
   "source": [
    "The main reason of inlining externals at compile-time is performance. Inlining often significantly simplifies the code and allows for much more aggressive inlining and fusion. Since Python effective shifts compile-time inlining to just-in-time, this strategy of compiling stencils with different externals is an efficient way of achieving good performance while being able to write re-usable code which can serve multiple purposes.\n",
    "\n",
    "It should be noted that in principle GT4Py could automatically inline conditionals if the values can be evaluated at compile-time and the `__INLINED()` construct is not strictly necessary. But automatic inlining can be slightly dangerous in a dynamic language such as Python and we have thus - for the time being - decided to make inlining explicit in the DSL language.\n",
    "\n",
    "GT4Py also provides an `externals` dictionary through which externals can be passed. This has the advantage of being a more explicit interface (making the import of the external apparent in the code) and also providing the possibility of renaming.\n",
    "\n",
    "Let's re-use the diffusion code from above (reproduced below including the flux limiter for convenience)."
   ]
  },
  {
   "cell_type": "markdown",
   "metadata": {},
   "source": [
    "<div class=\"alert alert-block alert-info\">\n",
    "    <b> Now it's your turn: </b><br>\n",
    "    <ol>\n",
    "        <li style=\"margin-bottom: 10px\">Remove the decorator from <code>diffusion</code> and explictly compile the stencil using <code>gtscript.stencil()</code>. Check that everything still runs ok.</li>\n",
    "        <li style=\"margin-bottom: 10px\">Before compilation, define an variable <code>flux_limiter_on = True</code>. Then add an extra keyword argument to the <code>gtscript.stencil(..., externals={\"FLUX_LIMITER_ON\": flux_limiter_on})</code> call. You can now <code>from __externals__ import FLUX_LIMITER_ON</code> in the stencil definition and add a conditional statement <code>if __INLINED(FLUX_LIMITER_ON):</code> around the call of the x- and y-flux limiters. Run your code and try switching the flux limiters on and off.</li>\n",
    "        <li style=\"margin-bottom: 10px\">Externals can also be used to write more modular code and remove switch/case statements in performance critical parts of the code. Just before compiling the stencil, define <code>limiter_x = flux_limiter_x</code> and <code>limiter_y = flux_limiter_y</code> and add these to the externals dictionary without changing their names. Now import them inside the stencil and replace the explicit function calls to <code>flux_limiter_x</code> and <code>flux_limiter_y</code> with the generic versions. Implement a <code>gtscript.function</code> named <code>no_limiter(flux, field)</code> which simply does a <code>return flux</code>. You can now swap out the different flux limiters. For fun, you can also try switching the x- and y-direction limiters to see what happens.</li>\n",
    "        <li style=\"margin-bottom: 10px\"></li>\n",
    "    </ol>\n",
    "</div>"
   ]
  },
  {
   "cell_type": "code",
   "execution_count": null,
   "metadata": {},
   "outputs": [],
   "source": [
    "#TODO: add your code here"
   ]
  },
  {
   "cell_type": "markdown",
   "metadata": {},
   "source": [
    "To finish this section on externals and inlining, we measure performance of a simple code example with and without externals and inlining to demonstrate the performance impact. It should be noted that while the performance difference observed below using the CPU backend may not seem very significant, the picture may change significantly for more complex code examples as well as on GPUs, which have much less complex logic for branch prediction, prefetching and integer computations."
   ]
  },
  {
   "cell_type": "code",
   "execution_count": null,
   "metadata": {},
   "outputs": [],
   "source": [
    "C = 1.0\n",
    "\n",
    "@gtscript.stencil(backend=\"gtx86\")\n",
    "def inlined_conditional_stencil(in_field: gtscript.Field[float], out_field: gtscript.Field[float]):\n",
    "    with computation(PARALLEL), interval(...):\n",
    "        if __INLINED(C > 0.):\n",
    "            out_field = in_field + in_field[1, 0, 0]\n",
    "        else:\n",
    "            out_field = 0.0\n",
    "\n",
    "@gtscript.stencil(backend=\"gtx86\")\n",
    "def conditional_stencil(in_field: gtscript.Field[float], out_field: gtscript.Field[float], c: float):\n",
    "    with computation(PARALLEL), interval(...):\n",
    "        if c > 0.:\n",
    "            out_field = in_field + in_field[1, 0, 0]\n",
    "        else:\n",
    "            out_field = 0\n",
    "\n",
    "# Setting up the domain\n",
    "ni = nj = 32\n",
    "nk = 1\n",
    "nhalo = 3\n",
    "\n",
    "# and the storages\n",
    "in_field = gt4py.storage.zeros(\n",
    "    shape = (ni + 2*nhalo, nj + 2*nhalo, nk),\n",
    "    default_origin = (0, 0, 0),\n",
    "    dtype = float,\n",
    "    backend = \"gtx86\",\n",
    ")\n",
    "out_field = in_field.copy()\n",
    "\n",
    "#Timing the regular stencil:\n",
    "print(\"Runtime conditional:\")\n",
    "%timeit conditional_stencil(in_field, out_field, C, origin=(nhalo, nhalo, 0), domain=(ni, nj, nk))\n",
    "print(\"Inlined conditional:\")\n",
    "%timeit inlined_conditional_stencil(in_field, out_field, origin=(nhalo, nhalo, 0), domain=(ni, nj, nk))"
   ]
  },
  {
   "cell_type": "markdown",
   "metadata": {},
   "source": [
    "## Wrapping Up (Bonus)\n",
    "\n",
    "This notebook introduced conditionals and externals as additional GT4Py concepts. The following problems serve as a wrap-up exercise where many of the concepts have to be applied."
   ]
  },
  {
   "cell_type": "markdown",
   "metadata": {},
   "source": [
    "<div class=\"alert alert-block alert-info\">\n",
    "    <b> Bonus example: </b><br>\n",
    "    <ol>\n",
    "        <li style=\"margin-bottom: 10px\">Write a <code>fill_horizontal</code> stencil function to fill sparse, small negative values in the input fields using neighboring values along the i-direction. Does your solution work if the first or last value is negative?</li>\n",
    "        <li style=\"margin-bottom: 10px\">Starting from <code>fill_horizontal</code>, write a <code>fill_horizontal_direction</code> stencil function that can fill along the i or j directions based on a run-time conditional.\n",
    "        <li style=\"margin-bottom: 10px\">Adapt the <code>fill_horizontal_direction</code> stencil function into <code>fill_horizontal_inlined</code> so that the direction is specified at compiletime\n",
    "        <li style=\"margin-bottom: 10px\">Use <code>print_generated_code()</code> to inspect the generated code.</li>\n",
    "    </ol>\n",
    "</div>"
   ]
  },
  {
   "cell_type": "code",
   "execution_count": null,
   "metadata": {},
   "outputs": [],
   "source": []
  }
 ],
 "metadata": {
  "kernelspec": {
   "display_name": "Python 3",
   "language": "python",
   "name": "python3"
  },
  "language_info": {
   "codemirror_mode": {
    "name": "ipython",
    "version": 3
   },
   "file_extension": ".py",
   "mimetype": "text/x-python",
   "name": "python",
   "nbconvert_exporter": "python",
   "pygments_lexer": "ipython3",
   "version": "3.7.8"
  }
 },
 "nbformat": 4,
 "nbformat_minor": 4
}
