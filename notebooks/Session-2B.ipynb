{
 "cells": [
  {
   "cell_type": "markdown",
   "metadata": {},
   "source": [
    "# Workshop on Domain-Specific Lanugages for Performance-Portable Weather and Climate Models\n",
    "\n",
    "## Session 2B: Advanced Concepts II"
   ]
  },
  {
   "cell_type": "markdown",
   "metadata": {},
   "source": [
    "### 1. Python Decorators"
   ]
  },
  {
   "cell_type": "code",
   "execution_count": null,
   "metadata": {},
   "outputs": [],
   "source": [
    "import time\n",
    "\n",
    "def timeit(func):\n",
    "    def wrapper(*args, **kwargs):\n",
    "        start = time.perf_counter()\n",
    "        func(*args, **kwargs)\n",
    "        print(\"Time: \" + str(time.perf_counter() - start))\n",
    "    return wrapper\n",
    "\n",
    "@timeit\n",
    "def say_whee():\n",
    "    time.sleep(0.5)\n",
    "    print(\"Whee!\")\n",
    "\n",
    "say_whee()"
   ]
  },
  {
   "cell_type": "markdown",
   "metadata": {},
   "source": [
    "This is identical to the following"
   ]
  },
  {
   "cell_type": "code",
   "execution_count": null,
   "metadata": {
    "scrolled": false
   },
   "outputs": [],
   "source": [
    "def say_whee():\n",
    "    time.sleep(0.5)\n",
    "    print(\"Whee!\")\n",
    "\n",
    "print(repr(say_whee))\n",
    "say_whee = timeit(say_whee)\n",
    "\n",
    "# say_whee()"
   ]
  },
  {
   "cell_type": "markdown",
   "metadata": {},
   "source": [
    "<div class=\"alert alert-block alert-info\">\n",
    "    <b> Now it's your turn: </b><br>\n",
    "    <ul>\n",
    "        <li style=\"margin-bottom: 10px\">Extend the example above to aggregate call time to the functions decorated by <code>timeit</code>, then print a list at the end of the program.</li>\n",
    "        <li style=\"margin-bottom: 10px\">If you want a challenge, try applying it to a stencil. Note that when chaining decorators, the top decorator is the outer one.</li>\n",
    "    </ul>\n",
    "    Hints: You can still reference outer scope variables inside wrapper, and the following snippet may be useful to get you started\n",
    "</div>"
   ]
  },
  {
   "cell_type": "code",
   "execution_count": null,
   "metadata": {},
   "outputs": [],
   "source": [
    "import types\n",
    "\n",
    "import numpy as np\n",
    "\n",
    "import gt4py\n",
    "import gt4py.storage as gt_storage\n",
    "from gt4py import gtscript\n",
    "\n",
    "backend = \"numpy\"\n",
    "dtype = np.float64\n",
    "\n",
    "N = 10\n",
    "shape = (N, N, N)\n",
    "\n",
    "def make_zeros(backend, shape, dtype=np.float64, default_origin=(0, 0, 0)):\n",
    "    \"\"\"Return a zero'd gt4py storage for the given backend and shape\"\"\"\n",
    "    return gt_storage.zeros(backend=backend, shape=shape, dtype=dtype, default_origin=default_origin)\n",
    "\n",
    "def get_repr(func) -> str:\n",
    "    if isinstance(func, types.FunctionType):\n",
    "        return func.__name__\n",
    "    elif isinstance(func, gt4py.StencilObject):\n",
    "        return func.definition_func.__name__ + \"_\" + func._gt_id_\n",
    "    else:\n",
    "        raise TypeError(\"Unrecognized type\")"
   ]
  },
  {
   "cell_type": "markdown",
   "metadata": {},
   "source": [
    "### 2. Transient diffusion"
   ]
  },
  {
   "cell_type": "markdown",
   "metadata": {},
   "source": [
    "In this example we will discretize and solve a time-dependent diffusion problem:\n",
    "\n",
    "$$\n",
    "\\begin{align}\n",
    "\\mathrm{Domain}: \\qquad&\\Omega = [0, 1]^2&\\\\\n",
    "\\mathrm{PDE}: \\qquad&\\frac{\\partial u(\\mathbf{x},t)}{\\partial t} = \\nabla \\cdot \\nabla u, \\quad&&\\mathbf{x} \\in \\Omega\\\\\n",
    "\\mathrm{IC}:\\qquad &u(\\mathbf{x}, 0) = 0, &&\\mathbf{x} \\in \\Omega\\\\\n",
    "\\mathrm{BCs}:\\qquad &u(\\mathbf{x}, t) = 1 &&\\mathbf{x} \\in \\Omega^{\\mathrm{top}}\\\\\n",
    "&\\nabla u \\cdot \\mathbf{n} = 0, &&\\mathbf{x} \\in \\partial \\Omega \\backslash \\Omega^{\\mathrm{top}}\n",
    "\\end{align}\n",
    "$$\n",
    "\n",
    "We will use a uniform finite difference grid of $N$ points, where the outer points of the array are the bounds of $\\Omega$. Therefore $u[N-1, N-1, 0] = 1$ is a corner of the domain. We will employ a simple 5-point second-order acccurate stencil in space, and a simple first-order forward-Euler scheme in time.\n",
    "\n",
    "GT4Py (at the moment) is desiged to work only with 3D arrays, so we will allocate storages that are a single point in the $k$ direction.\n",
    "\n",
    "First, we start with importing packages, setting up the discretization, and defining a few helper functions."
   ]
  },
  {
   "cell_type": "code",
   "execution_count": null,
   "metadata": {},
   "outputs": [],
   "source": [
    "import numpy as np\n",
    "import matplotlib.pyplot as plt\n",
    "\n",
    "import gt4py.storage as gt_storage\n",
    "from gt4py import gtscript\n",
    "\n",
    "from tools import print_generated_code\n",
    "\n",
    "backend = \"numpy\"\n",
    "dtype = np.float64\n",
    "\n",
    "N = 128\n",
    "shape = (N, N, 1)\n",
    "\n",
    "DX = 1.0 / (N-1)\n",
    "DT = DX * DX / (2 * 1) * 0.9 # Valid timestep for stability\n",
    "\n",
    "def make_zeros(backend, shape, dtype=np.float64, default_origin=(0, 0, 0)):\n",
    "    \"\"\"Return a zero'd gt4py storage for the given backend and shape\"\"\"\n",
    "    return gt_storage.zeros(backend=backend, shape=shape, dtype=dtype, default_origin=default_origin)\n",
    "\n",
    "# Plotting\n",
    "coord = np.linspace(0, 1, N)\n",
    "X, Y = np.meshgrid(coord, coord)\n",
    "\n",
    "def plot_solution(u):\n",
    "    plt.contourf(X, Y, u.data[:, :, 0], 50)\n",
    "    plt.colorbar()\n",
    "    plt.show()\n",
    "    \n",
    "# GT4Py operator\n",
    "@gtscript.function\n",
    "def laplace(field):\n",
    "    \"\"\"Laplacian operator\"\"\"\n",
    "    xd2 = -2 * field[0, 0, 0] + field[-1, 0, 0] + field[1, 0, 0]\n",
    "    yd2 = -2 * field[0, 0, 0] + field[0, -1, 0] + field[0, 1, 0]\n",
    "    return (xd2 + yd2) / (DX * DX)"
   ]
  },
  {
   "cell_type": "markdown",
   "metadata": {},
   "source": [
    "a. First attempt: use GT4Py without regions"
   ]
  },
  {
   "cell_type": "code",
   "execution_count": null,
   "metadata": {},
   "outputs": [],
   "source": [
    "@gtscript.stencil(backend=backend)\n",
    "def take_timestep(u: gtscript.Field[dtype]):\n",
    "    with computation(PARALLEL), interval(...):\n",
    "        u += DT * laplace(u)\n",
    "\n",
    "\n",
    "# Create storage (and set IC implicitly)\n",
    "u = make_zeros(backend, shape)\n",
    "for n in range(10):\n",
    "    # Left\n",
    "    u[0, :, :] = u[1, :, :]\n",
    "    # Right\n",
    "    u[-1, :, :] = u[-2, :, :]\n",
    "    # Bottom\n",
    "    u[:, 0, :] = u[:, 1, :]\n",
    "    # Top\n",
    "    u[:, N-1, :] = 1.0\n",
    "    \n",
    "    # Update approx. solution\n",
    "    take_timestep(u, origin=(1, 1, 0))\n",
    "\n",
    "plot_solution(u)"
   ]
  },
  {
   "cell_type": "markdown",
   "metadata": {},
   "source": [
    "**What went well:** we are able to solve the PDE!\n",
    "\n",
    "**What could be improved:** we are using numpy array operations outside stencil calls. This means code outside stencils, and will have greater latency (and probably reduced performance) than if they were part of the stencil. Consider the case of a GPU: API calls for memory copies will have to re-issue reads from global memory - which takes a long time."
   ]
  },
  {
   "cell_type": "markdown",
   "metadata": {},
   "source": [
    "<div class=\"alert alert-block alert-info\">\n",
    "    <b> Now it's your turn: </b><br>\n",
    "    <ul>\n",
    "        <li style=\"margin-bottom: 10px\">Can you take the simple stencil above and add regions for the boundary conditions?</li>\n",
    "        <li style=\"margin-bottom: 10px\">Use print_generated_code to look at the code. Can you spot the regions? It may be easier if you change the backend to \"debug\"</li>\n",
    "    </ul>\n",
    "</div>"
   ]
  },
  {
   "cell_type": "code",
   "execution_count": null,
   "metadata": {
    "scrolled": false
   },
   "outputs": [],
   "source": [
    "@gtscript.stencil(backend=backend)\n",
    "def take_timestep(u: gtscript.Field[dtype]):\n",
    "    with computation(PARALLEL), interval(...):\n",
    "        # HINT: Put boundary conditions here!\n",
    "        # with parallel(region[...]):\n",
    "        #     u[0, 0, 0] = u[...]\n",
    "\n",
    "        u += DT * laplace(u)\n",
    "\n",
    "# Create storage (and set IC implicitly)\n",
    "u = make_zeros(backend, shape)\n",
    "for n in range(100):\n",
    "    take_timestep(u, origin=(1, 1, 0))\n",
    "\n",
    "plot_solution(u)"
   ]
  },
  {
   "cell_type": "code",
   "execution_count": null,
   "metadata": {},
   "outputs": [],
   "source": [
    "print_generated_code(take_timestep)"
   ]
  },
  {
   "cell_type": "markdown",
   "metadata": {},
   "source": [
    "### 3. Bi-Laplacian operator on a cubed sphere grid"
   ]
  },
  {
   "cell_type": "markdown",
   "metadata": {},
   "source": [
    "Applying the Laplace operator once on a cubed sphere accesses one ring of halo points, but no special cases need to occur in the finite difference stencil to account for corner effects.\n",
    "\n",
    "However, on the second application of a Laplace operator (for the 4th order biharmonic operator), the operator is applied on a large domain, and indexes into the \"ghost\" points at the corners that do not exist. Therefore, the function that is called multiple times needs to include special conditions when including iteration over these points."
   ]
  },
  {
   "cell_type": "markdown",
   "metadata": {},
   "source": [
    "The code below sets up the operator with the corner conditions on the cubed sphere grid. The diagram below shows the operator on a corner of the grid avoiding the non-existent points. This requires a different stencil at these points, so regions need to be used!"
   ]
  },
  {
   "attachments": {
    "cubed%20sphere%20boundary.svg": {
     "image/svg+xml": [
      "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"
     ]
    }
   },
   "cell_type": "markdown",
   "metadata": {},
   "source": [
    "![cubed%20sphere%20boundary.svg](attachment:cubed%20sphere%20boundary.svg)"
   ]
  },
  {
   "cell_type": "code",
   "execution_count": null,
   "metadata": {},
   "outputs": [],
   "source": [
    "N = 128\n",
    "nhalo = 2\n",
    "shape = (N + 2 * nhalo, N + 2 * nhalo, 1)\n",
    "origin = (2, 2, 0)\n",
    "DX = 1.0 / (N-1)\n",
    "\n",
    "@gtscript.function\n",
    "def d2x(u):\n",
    "    return (-2 * u[0, 0, 0] + u[-1, 0, 0] + u[1, 0, 0]) / (DX * DX)\n",
    "\n",
    "\n",
    "@gtscript.function\n",
    "def d2y(u):\n",
    "    return (-2 * u[0, 0, 0] + u[0, -1, 0] + u[0, 1, 0]) / (DX * DX)\n",
    "\n",
    "@gtscript.function\n",
    "def lap_cube_cells(u):\n",
    "    u_next = d2x(u) + d2y(u)\n",
    "\n",
    "    # A practioner of numerical methods should rightly complain that these are committing finite difference crimes,\n",
    "    # but correcting those would be overly verbose for an example.\n",
    "    with parallel(region[I[0], J[0] - 1]):\n",
    "        u_next = d2y(u) + (-2 * u[0, 0, 0] + u[1, 0, 0] + u[-1, 1, 0]) / (DX * DX)\n",
    "    with parallel(region[I[-1], J[0] - 1]):\n",
    "        u_next = d2y(u) + (-2 * u[0, 0, 0] + u[1, 0, 0] + u[1, 1, 0]) / (DX * DX)\n",
    "    with parallel(region[I[0], J[-1] + 1]):\n",
    "        u_next = d2y(u) + (-2 * u[0, 0, 0] + u[1, 0, 0] + u[-1, -1, 0]) / (DX * DX)\n",
    "    with parallel(region[I[-1], J[-1] + 1]):\n",
    "        u_next = d2y(u) + (-2 * u[0, 0, 0] + u[1, 0, 0] + u[1, -1, 0]) / (DX * DX)\n",
    "\n",
    "    with parallel(region[I[0] - 1, J[0]]):\n",
    "        u_next = d2x(u) + (-2 * u[0, 0, 0] + u[0, 1, 0] + u[1, -1, 0]) / (DX * DX)\n",
    "    with parallel(region[I[-1] + 1, J[0]]):\n",
    "        u_next = d2x(u) + (-2 * u[0, 0, 0] + u[0, 1, 0] + u[-1, -1, 0]) / (DX * DX)\n",
    "    with parallel(region[I[0] - 1, J[-1]]):\n",
    "        u_next = d2x(u) + (-2 * u[0, 0, 0] + u[0, 1, 0] + u[1, 1, 0]) / (DX * DX)\n",
    "    with parallel(region[I[-1] + 1, J[-1]]):\n",
    "        u_next = d2x(u) + (-2 * u[0, 0, 0] + u[0, 1, 0] + u[-1, 1, 0]) / (DX * DX)\n",
    "\n",
    "    return u_next"
   ]
  },
  {
   "cell_type": "markdown",
   "metadata": {},
   "source": [
    "If this is called only once, the regions are not activated so the code for them is not even included in the generated output. We can illustrate that by generating and looking at the code for a single call to this function:"
   ]
  },
  {
   "cell_type": "code",
   "execution_count": null,
   "metadata": {},
   "outputs": [],
   "source": [
    "@gtscript.stencil(backend=backend)\n",
    "def lap_tmp(u: gtscript.Field[dtype]):\n",
    "    with computation(PARALLEL), interval(...):\n",
    "        u = lap_cube_cells(u)\n",
    "\n",
    "print_generated_code(lap_tmp)"
   ]
  },
  {
   "cell_type": "markdown",
   "metadata": {},
   "source": [
    "On the other hand, if the function is called twice, the values of `u_next` resulting from the first call are used in the second call, so the regions are used in the generated code:"
   ]
  },
  {
   "cell_type": "code",
   "execution_count": null,
   "metadata": {},
   "outputs": [],
   "source": [
    "@gtscript.stencil(backend=backend)\n",
    "def biharmonic(u: gtscript.Field[dtype]):\n",
    "    with computation(PARALLEL), interval(...):\n",
    "        u1 = lap_cube_cells(u)\n",
    "        u = lap_cube_cells(u1)\n",
    "\n",
    "print_generated_code(biharmonic)"
   ]
  },
  {
   "cell_type": "markdown",
   "metadata": {},
   "source": [
    "#### Distributed computation"
   ]
  },
  {
   "cell_type": "markdown",
   "metadata": {},
   "source": [
    "What we've seen so far is that regions can be used to express computation relative to the stencil compute domain boundaries, but it can also be used to restrict computation to certain MPI ranks. AxisOffsets like `I[0]` can be compile-time externals in a stencil. If these are set to `None` and used in a region, that region is automatically excluded."
   ]
  },
  {
   "cell_type": "markdown",
   "metadata": {},
   "source": [
    "<div class=\"alert alert-block alert-info\">\n",
    "    <b> Now it's your turn: </b><br>\n",
    "    Imagine you are editing <code>lap_cube_cells</code> for a 3x3 processor layout on each tile. How would it look? Familiarize yourself with the syntax for now. Tomorrow you will continue this example using fv3gfs-util to execute it on the cubed sphere.\n",
    "</div>"
   ]
  }
 ],
 "metadata": {
  "kernelspec": {
   "display_name": "Python 3",
   "language": "python",
   "name": "python3"
  },
  "language_info": {
   "codemirror_mode": {
    "name": "ipython",
    "version": 3
   },
   "file_extension": ".py",
   "mimetype": "text/x-python",
   "name": "python",
   "nbconvert_exporter": "python",
   "pygments_lexer": "ipython3",
   "version": "3.7.8"
  }
 },
 "nbformat": 4,
 "nbformat_minor": 4
}
