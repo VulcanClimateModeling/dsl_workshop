{
 "cells": [
  {
   "cell_type": "markdown",
   "metadata": {},
   "source": [
    "# Workshop on Domain-Specific Lanugages for Performance-Portable Weather and Climate Models\n",
    "\n",
    "## Session 2B: Advanced Concepts II"
   ]
  },
  {
   "cell_type": "markdown",
   "metadata": {},
   "source": [
    "### Python Decorators"
   ]
  },
  {
   "cell_type": "code",
   "execution_count": null,
   "metadata": {},
   "outputs": [],
   "source": [
    "def trace(func):\n",
    "    def wrapper():\n",
    "        print(f\"Calling {func.__name__}\")\n",
    "        func()\n",
    "        print(f\"Exiting {func.__name__}\")\n",
    "    return wrapper\n",
    "\n",
    "@trace\n",
    "def say_whee():\n",
    "    print(\"Whee!\")\n",
    "\n",
    "say_whee()"
   ]
  },
  {
   "cell_type": "markdown",
   "metadata": {},
   "source": [
    "This is identical to the following"
   ]
  },
  {
   "cell_type": "code",
   "execution_count": null,
   "metadata": {
    "scrolled": false
   },
   "outputs": [],
   "source": [
    "def say_whee():\n",
    "    print(\"Whee!\")\n",
    "\n",
    "say_whee = trace(say_whee)\n",
    "\n",
    "say_whee()"
   ]
  },
  {
   "cell_type": "markdown",
   "metadata": {},
   "source": [
    "### Transient diffusion"
   ]
  },
  {
   "cell_type": "markdown",
   "metadata": {},
   "source": [
    "In this example we will discretize and solve a time-dependent diffusion problem:\n",
    "\n",
    "$$\n",
    "\\begin{align}\n",
    "\\mathrm{Domain}: \\qquad&\\Omega = [0, 1]^2&\\\\\n",
    "\\mathrm{PDE}: \\qquad&\\frac{\\partial u(\\mathbf{x},t)}{\\partial t} = \\nabla \\cdot \\nabla u, \\quad&&\\mathbf{x} \\in \\Omega\\\\\n",
    "\\mathrm{IC}:\\qquad &u(\\mathbf{x}, 0) = 0, &&\\mathbf{x} \\in \\Omega\\\\\n",
    "\\mathrm{BCs}:\\qquad &u(\\mathbf{x}, t) = 1 &&\\mathbf{x} \\in \\Omega^{\\mathrm{top}}\\\\\n",
    "&\\nabla u \\cdot \\mathbf{n} = 0, &&\\mathbf{x} \\in \\partial \\Omega \\backslash \\Omega^{\\mathrm{top}}\n",
    "\\end{align}\n",
    "$$\n",
    "\n",
    "We will use a uniform finite difference grid of $N$ points, where the outer points of the array are the bounds of $\\Omega$. Therefore $u[N-1, N-1, 0] = 1$ is a corner of the domain. We will employ a simple 5-point second-order acccurate stencil in space, and a simple first-order forward-Euler scheme in time.\n",
    "\n",
    "GT4Py (at the moment) is desiged to work only with 3D arrays, so we will allocate storages that are a single point in the $k$ direction."
   ]
  },
  {
   "cell_type": "markdown",
   "metadata": {},
   "source": [
    "First, import the necessary modules and setup the domain."
   ]
  },
  {
   "cell_type": "code",
   "execution_count": null,
   "metadata": {},
   "outputs": [],
   "source": [
    "import numpy as np\n",
    "import matplotlib.pyplot as plt\n",
    "\n",
    "import gt4py.storage as gt_storage\n",
    "from gt4py import gtscript\n",
    "\n",
    "backend = \"debug\"\n",
    "dtype = np.float64\n",
    "\n",
    "N = 128\n",
    "shape = (N, N, 1)\n",
    "\n",
    "DX = 1.0 / (N-1)\n",
    "DT = DX * DX / (2 * 1) * 0.9 # Valid timestep for stability\n"
   ]
  },
  {
   "cell_type": "markdown",
   "metadata": {},
   "source": [
    "Define a few helper functions..."
   ]
  },
  {
   "cell_type": "code",
   "execution_count": null,
   "metadata": {},
   "outputs": [],
   "source": [
    "def make_zeros(backend, shape, dtype=np.float64, default_origin=(0, 0, 0)):\n",
    "    \"\"\"Return a zero'd gt4py storage for the given backend and shape\"\"\"\n",
    "    return gt_storage.zeros(backend=backend, shape=shape, dtype=dtype, default_origin=default_origin)"
   ]
  },
  {
   "cell_type": "code",
   "execution_count": 1,
   "metadata": {},
   "outputs": [],
   "source": [
    "from tools import print_generated_code"
   ]
  },
  {
   "cell_type": "code",
   "execution_count": null,
   "metadata": {},
   "outputs": [],
   "source": [
    "def print_ij(field):\n",
    "    \"\"\"Print only the first K level\"\"\"\n",
    "    print(field[:, :, 0])"
   ]
  },
  {
   "cell_type": "code",
   "execution_count": null,
   "metadata": {},
   "outputs": [],
   "source": [
    "@gtscript.function\n",
    "def laplace(field):\n",
    "    \"\"\"Laplacian operator\"\"\"\n",
    "    xd2 = -2 * field[0, 0, 0] + field[-1, 0, 0] + field[1, 0, 0]\n",
    "    yd2 = -2 * field[0, 0, 0] + field[0, -1, 0] + field[0, 1, 0]\n",
    "    return (xd2 + yd2) / (DX * DX)"
   ]
  },
  {
   "cell_type": "code",
   "execution_count": null,
   "metadata": {},
   "outputs": [],
   "source": [
    "coord = np.linspace(0, 1, N)\n",
    "X, Y = np.meshgrid(coord, coord)\n",
    "\n",
    "def plot_solution(u):\n",
    "    plt.contourf(X, Y, u.data[:, :, 0], 50)\n",
    "    plt.colorbar()\n",
    "    plt.show()"
   ]
  },
  {
   "cell_type": "markdown",
   "metadata": {},
   "source": [
    "1. First attempt: use GT4Py without regions"
   ]
  },
  {
   "cell_type": "code",
   "execution_count": null,
   "metadata": {},
   "outputs": [],
   "source": [
    "@gtscript.stencil(backend=backend)\n",
    "def take_timestep(u: gtscript.Field[dtype]):\n",
    "    with computation(PARALLEL), interval(...):\n",
    "        u += DT * laplace(u)\n",
    "\n",
    "\n",
    "# Create storage (and set IC implicitly)\n",
    "u = make_zeros(backend, shape)\n",
    "for n in range(10):\n",
    "    # Left\n",
    "    u[0, :, :] = u[1, :, :]\n",
    "    # Right\n",
    "    u[-1, :, :] = u[-2, :, :]\n",
    "    # Bottom\n",
    "    u[:, 0, :] = u[:, 1, :]\n",
    "    # Top\n",
    "    u[:, N-1, :] = 1.0\n",
    "    \n",
    "    # Update approx. solution\n",
    "    take_timestep(u, origin=(1, 1, 0))\n",
    "\n",
    "plot_solution(u)"
   ]
  },
  {
   "cell_type": "code",
   "execution_count": null,
   "metadata": {},
   "outputs": [],
   "source": [
    "print_generated_code(take_timestep)"
   ]
  },
  {
   "cell_type": "markdown",
   "metadata": {},
   "source": [
    "**What went well:** we are able to solve the PDE!\n",
    "\n",
    "**What could be improved:** we are using numpy array operations outside stencil calls. This means code outside stencils, and will have greater latency (and probably reduced performance) than if they were part of the stencil. Consider the case of a GPU: API calls for memory copies will have to re-issue reads from global memory - which takes a long time."
   ]
  },
  {
   "cell_type": "markdown",
   "metadata": {},
   "source": [
    "Can you take the simple stencil above and add regions for the boundary conditions?"
   ]
  },
  {
   "cell_type": "code",
   "execution_count": null,
   "metadata": {
    "scrolled": false
   },
   "outputs": [],
   "source": [
    "DX = 1.0 / (N-1)\n",
    "DT = DX * DX / (2 * 1) * 0.9 # Valid timestep for stability\n",
    "\n",
    "@gtscript.stencil(backend=backend)\n",
    "def take_timestep(u: gtscript.Field[dtype]):\n",
    "    with computation(PARALLEL), interval(...):\n",
    "        # HINT: Put boundary conditions here!\n",
    "        # with parallel(region[...]):\n",
    "        #     u[0, 0, 0] = u[...]\n",
    "\n",
    "        u += DT * laplace(u)\n",
    "\n",
    "# Create storage (and set IC implicitly)\n",
    "u = make_zeros(backend, shape)\n",
    "for n in range(100):\n",
    "    take_timestep(u, origin=(1, 1, 0))\n",
    "\n",
    "plot_solution(u)"
   ]
  },
  {
   "cell_type": "markdown",
   "metadata": {},
   "source": [
    "Solution:"
   ]
  },
  {
   "cell_type": "code",
   "execution_count": null,
   "metadata": {},
   "outputs": [],
   "source": [
    "DX = 1.0 / (N-1)\n",
    "DT = DX * DX / (2 * 1) * 0.9 # Valid timestep for stability\n",
    "\n",
    "@gtscript.stencil(backend=backend)\n",
    "def take_timestep(u: gtscript.Field[dtype]):\n",
    "    with computation(PARALLEL), interval(...):\n",
    "        # Left\n",
    "        with parallel(region[I[0]-1, :]):\n",
    "            u[0, 0, 0] = u[1, 0, 0]\n",
    "        \n",
    "        # Right\n",
    "        with parallel(region[I[-1] + 1, :]):\n",
    "            u[0, 0, 0] = u[-1, 0, 0]\n",
    "            \n",
    "        # Bottom\n",
    "        with parallel(region[:, J[0]-1]):\n",
    "            u[0, 0, 0] = 0.\n",
    "       \n",
    "        # Top: not strictly necessary, since the stencil never iterates there\n",
    "        with parallel(region[:, J[-1] + 1]):\n",
    "            u[0, 0, 0] = 1.\n",
    "\n",
    "        # Everywhere\n",
    "        u += DT * laplace(u)\n",
    "\n",
    "\n",
    "# Create storage (and set IC implicitly)\n",
    "u = make_zeros(backend, shape)\n",
    "for n in range(10):\n",
    "    take_timestep(u, origin=(1, 1, 0), domain=(N-2, N-2, 1))\n",
    "\n",
    "plot_solution(u)"
   ]
  },
  {
   "cell_type": "code",
   "execution_count": null,
   "metadata": {},
   "outputs": [],
   "source": [
    "print_generated_code(take_timestep)"
   ]
  },
  {
   "cell_type": "markdown",
   "metadata": {},
   "source": [
    "### Biharmonic equation on cubed sphere"
   ]
  },
  {
   "cell_type": "markdown",
   "metadata": {},
   "source": [
    "Applying the Laplace operator once on a cubed sphere accesses one ring of halo points, but no special cases need to occur in the finite difference stencil to account for corner effects.\n",
    "\n",
    "However, on the second application of a Laplace operator (for the 4th order biharmonic operator), the operator is applied on a large domain, and indexes into the \"ghost\" points at the corners that do not exist. Therefore, the function that is called multiple times needs to include special conditions when including iteration over these points."
   ]
  },
  {
   "cell_type": "code",
   "execution_count": null,
   "metadata": {},
   "outputs": [],
   "source": [
    "N = 128\n",
    "nhalo = 2\n",
    "shape = (N + 2 * nhalo, N + 2 * nhalo, 1)\n",
    "origin = (2, 2, 0)\n",
    "\n",
    "u = make_zeros(backend, shape, default_origin=origin)\n",
    "\n",
    "DX = 1.0 / (N-1)\n",
    "DT = DX * DX / (2 * 1) * 0.9 # Valid timestep for stability\n",
    "\n",
    "@gtscript.function\n",
    "def d2x(u):\n",
    "    return (-2 * u[0, 0, 0] + u[-1, 0, 0] + u[1, 0, 0]) / (DX * DX)\n",
    "\n",
    "\n",
    "@gtscript.function\n",
    "def d2y(u):\n",
    "    return (-2 * u[0, 0, 0] + u[0, -1, 0] + u[0, 1, 0]) / (DX * DX)\n"
   ]
  },
  {
   "cell_type": "code",
   "execution_count": null,
   "metadata": {},
   "outputs": [],
   "source": [
    "# TODO named offsets for only ranks on tile edges\n",
    "@gtscript.function\n",
    "def lap_cube_cells(u):\n",
    "    u_next = d2x(u) + d2y(u)\n",
    "\n",
    "    with parallel(region[I[0], J[0] - 1]):\n",
    "        u_next = d2y(u) + (-2 * u[0, 0, 0] + u[1, 0, 0] + u[-1, 1, 0]) / (DX * DX)\n",
    "    with parallel(region[I[-1], J[0] - 1]):\n",
    "        u_next = d2y(u) + (-2 * u[0, 0, 0] + u[1, 0, 0] + u[1, 1, 0]) / (DX * DX)\n",
    "    with parallel(region[I[0], J[-1] + 1]):\n",
    "        u_next = d2y(u) + (-2 * u[0, 0, 0] + u[1, 0, 0] + u[-1, -1, 0]) / (DX * DX)\n",
    "    with parallel(region[I[-1], J[-1] + 1]):\n",
    "        u_next = d2y(u) + (-2 * u[0, 0, 0] + u[1, 0, 0] + u[1, -1, 0]) / (DX * DX)\n",
    "\n",
    "    with parallel(region[I[0] - 1, J[0]]):\n",
    "        u_next = d2x(u) + (-2 * u[0, 0, 0] + u[0, 1, 0] + u[1, -1, 0]) / (DX * DX)\n",
    "    with parallel(region[I[-1] + 1, J[0]]):\n",
    "        u_next = d2x(u) + (-2 * u[0, 0, 0] + u[0, 1, 0] + u[-1, -1, 0]) / (DX * DX)\n",
    "    with parallel(region[I[0] - 1, J[-1]]):\n",
    "        u_next = d2x(u) + (-2 * u[0, 0, 0] + u[0, 1, 0] + u[1, 1, 0]) / (DX * DX)\n",
    "    with parallel(region[I[-1] + 1, J[-1]]):\n",
    "        u_next = d2x(u) + (-2 * u[0, 0, 0] + u[0, 1, 0] + u[-1, 1, 0]) / (DX * DX)\n",
    "\n",
    "    return u_next"
   ]
  },
  {
   "cell_type": "markdown",
   "metadata": {},
   "source": [
    "If this is called only once, the regions are not activated so the code for them is not even included in the generated output. We can illustrate that by generating and looking at the code for a single call to this function:"
   ]
  },
  {
   "cell_type": "code",
   "execution_count": null,
   "metadata": {},
   "outputs": [],
   "source": [
    "@gtscript.stencil(backend=backend)\n",
    "def lap_tmp(u: gtscript.Field[dtype]):\n",
    "    with computation(PARALLEL), interval(...):\n",
    "        u = lap_cube_cells(u)\n",
    "\n",
    "print_generated_code(lap_tmp)"
   ]
  },
  {
   "cell_type": "markdown",
   "metadata": {},
   "source": [
    "On the other hand, if the function is called twice, the values of `u_next` resulting from the first call are used in the second call, so the regions are used in the generated code:"
   ]
  },
  {
   "cell_type": "code",
   "execution_count": null,
   "metadata": {},
   "outputs": [],
   "source": [
    "@gtscript.stencil(backend=backend)\n",
    "def biharmonic(u: gtscript.Field[dtype]):\n",
    "    with computation(PARALLEL), interval(...):\n",
    "        u1 = lap_cube_cells(u)\n",
    "        u = lap_cube_cells(u1)\n",
    "\n",
    "print_generated_code(biharmonic)"
   ]
  },
  {
   "cell_type": "markdown",
   "metadata": {},
   "source": [
    "### Distributed computation"
   ]
  },
  {
   "cell_type": "markdown",
   "metadata": {},
   "source": [
    "What we've seen so far is that regions can be used to express computation relative to the stencil compute domain boundaries, but it can also be used to restrict computation to certain MPI ranks. AxisOffsets like `I[0]` can be compile-time externals in a stencil. If these are set to `None` and used in a region, that region is automatically excluded."
   ]
  },
  {
   "cell_type": "code",
   "execution_count": null,
   "metadata": {},
   "outputs": [],
   "source": []
  }
 ],
 "metadata": {
  "kernelspec": {
   "display_name": "Python 3",
   "language": "python",
   "name": "python3"
  },
  "language_info": {
   "codemirror_mode": {
    "name": "ipython",
    "version": 3
   },
   "file_extension": ".py",
   "mimetype": "text/x-python",
   "name": "python",
   "nbconvert_exporter": "python",
   "pygments_lexer": "ipython3",
   "version": "3.7.8"
  }
 },
 "nbformat": 4,
 "nbformat_minor": 4
}
