{
 "cells": [
  {
   "cell_type": "markdown",
   "metadata": {},
   "source": [
    "# Workshop on Domain-Specific Lanugages for Performance-Portable Weather and Climate Models"
   ]
  },
  {
   "cell_type": "markdown",
   "metadata": {},
   "source": [
    "## Session 2B: Advanced Concepts II - Solutions"
   ]
  },
  {
   "cell_type": "code",
   "execution_count": 1,
   "metadata": {},
   "outputs": [],
   "source": [
    "# Add prior directory to system path\n",
    "import sys\n",
    "sys.path.append(\"../\")"
   ]
  },
  {
   "cell_type": "markdown",
   "metadata": {},
   "source": [
    "### Python Decorators"
   ]
  },
  {
   "cell_type": "code",
   "execution_count": 2,
   "metadata": {},
   "outputs": [
    {
     "name": "stdout",
     "output_type": "stream",
     "text": [
      "Whee!\n",
      "Whee!\n",
      "This is neat\n",
      "This is neat\n",
      "say_whee called 2 times. Total time: 1.0059923809999987 secs\n",
      "something_else called 2 times. Total time: 0.5093580919999994 secs\n"
     ]
    }
   ],
   "source": [
    "import types\n",
    "import gt4py\n",
    "import time\n",
    "\n",
    "def get_repr(func) -> str:\n",
    "    if isinstance(func, types.FunctionType):\n",
    "        return func.__name__\n",
    "    elif isinstance(func, gt4py.StencilObject):\n",
    "        return func.definition_func.__name__ + \"_\" + func._gt_id_\n",
    "    else:\n",
    "        raise TypeError(\"Unrecognized type\")\n",
    "    \n",
    "def print_all_times():\n",
    "    for call in times:\n",
    "        print(f\"{call} called {ncalls[call]} times. Total time: {times[call]} secs\")\n",
    "        \n",
    "times = {}\n",
    "ncalls = {}\n",
    "\n",
    "def timeit(func):\n",
    "    def wrapper():\n",
    "        start = time.perf_counter()\n",
    "        func()\n",
    "        stop = time.perf_counter()\n",
    "        call = get_repr(func)\n",
    "        times[call] = times.get(call, 0.0) + stop - start\n",
    "        ncalls[call] = ncalls.get(call, 0) + 1\n",
    "    return wrapper\n",
    "\n",
    "@timeit\n",
    "def say_whee():\n",
    "    time.sleep(0.5)\n",
    "    print(\"Whee!\")\n",
    "\n",
    "@timeit\n",
    "def something_else():\n",
    "    time.sleep(0.25)\n",
    "    print(\"This is neat\")\n",
    "\n",
    "\n",
    "say_whee()\n",
    "say_whee()\n",
    "\n",
    "something_else()\n",
    "something_else()\n",
    "\n",
    "print_all_times()"
   ]
  },
  {
   "cell_type": "code",
   "execution_count": 3,
   "metadata": {},
   "outputs": [
    {
     "name": "stdout",
     "output_type": "stream",
     "text": [
      "do_something_2e5041ecfd called 1 times. Total time: 0.005260443999999254 secs\n"
     ]
    }
   ],
   "source": [
    "import numpy as np\n",
    "import gt4py.storage as gt_storage\n",
    "from gt4py import gtscript\n",
    "\n",
    "backend = \"debug\"\n",
    "dtype = np.float64\n",
    "\n",
    "N = 10\n",
    "shape = (N, N, N)\n",
    "\n",
    "def make_zeros(backend, shape, dtype=np.float64, default_origin=(0, 0, 0)):\n",
    "    \"\"\"Return a zero'd gt4py storage for the given backend and shape\"\"\"\n",
    "    return gt_storage.zeros(backend=backend, shape=shape, dtype=dtype, default_origin=default_origin)\n",
    "\n",
    "times = {}\n",
    "ncalls = {}\n",
    "\n",
    "def timeit(func):\n",
    "    def wrapper(*args, **kwargs):\n",
    "        start = time.perf_counter()\n",
    "        func(*args, **kwargs)\n",
    "        stop = time.perf_counter()\n",
    "        call = get_repr(func)\n",
    "        times[call] = times.get(call, 0.0) + stop - start\n",
    "        ncalls[call] = ncalls.get(call, 0) + 1\n",
    "    return wrapper\n",
    "\n",
    "def print_all_times():\n",
    "    for call in times:\n",
    "        print(f\"{call} called {ncalls[call]} times. Total time: {times[call]} secs\")\n",
    "\n",
    "\n",
    "@timeit\n",
    "@gtscript.stencil(backend=backend)\n",
    "def do_something(field_in: gtscript.Field[dtype], field_out: gtscript.Field[dtype]):\n",
    "    with computation(PARALLEL), interval(...):\n",
    "        field_out = field_in + 1\n",
    "\n",
    "u = make_zeros(backend, shape)\n",
    "v = make_zeros(backend, shape)\n",
    "\n",
    "do_something(u, v)\n",
    "\n",
    "print_all_times()"
   ]
  },
  {
   "cell_type": "markdown",
   "metadata": {},
   "source": [
    "### 2. Transient diffusion"
   ]
  },
  {
   "cell_type": "code",
   "execution_count": 4,
   "metadata": {},
   "outputs": [
    {
     "data": {
      "image/png": "[encoded data removed]",
      "text/plain": [
       "<Figure size 432x288 with 2 Axes>"
      ]
     },
     "metadata": {
      "needs_background": "light"
     },
     "output_type": "display_data"
    }
   ],
   "source": [
    "import numpy as np\n",
    "import matplotlib.pyplot as plt\n",
    "\n",
    "import gt4py.storage as gt_storage\n",
    "from gt4py import gtscript\n",
    "\n",
    "from tools import print_generated_code\n",
    "\n",
    "backend = \"numpy\"\n",
    "dtype = np.float64\n",
    "\n",
    "N = 128\n",
    "shape = (N, N, 1)\n",
    "\n",
    "DX = 1.0 / (N-1)\n",
    "DT = DX * DX / (2 * 1) * 0.9 # Valid timestep for stability\n",
    "\n",
    "def make_zeros(backend, shape, dtype=np.float64, default_origin=(0, 0, 0)):\n",
    "    \"\"\"Return a zero'd gt4py storage for the given backend and shape\"\"\"\n",
    "    return gt_storage.zeros(backend=backend, shape=shape, dtype=dtype, default_origin=default_origin)\n",
    "\n",
    "# Plotting\n",
    "coord = np.linspace(0, 1, N)\n",
    "X, Y = np.meshgrid(coord, coord)\n",
    "\n",
    "def plot_solution(u):\n",
    "    plt.contourf(X, Y, u.data[:, :, 0], 50)\n",
    "    plt.colorbar()\n",
    "    plt.show()\n",
    "    \n",
    "# GT4Py operator\n",
    "@gtscript.function\n",
    "def laplace(field):\n",
    "    \"\"\"Laplacian operator\"\"\"\n",
    "    xd2 = -2 * field[0, 0, 0] + field[-1, 0, 0] + field[1, 0, 0]\n",
    "    yd2 = -2 * field[0, 0, 0] + field[0, -1, 0] + field[0, 1, 0]\n",
    "    return (xd2 + yd2) / (DX * DX)\n",
    "\n",
    "@gtscript.stencil(backend=backend)\n",
    "def take_timestep(u: gtscript.Field[dtype]):\n",
    "    with computation(PARALLEL), interval(...):\n",
    "        # Left\n",
    "        with parallel(region[I[0]-1, :]):\n",
    "            u[0, 0, 0] = u[1, 0, 0]\n",
    "        \n",
    "        # Right\n",
    "        with parallel(region[I[-1] + 1, :]):\n",
    "            u[0, 0, 0] = u[-1, 0, 0]\n",
    "            \n",
    "        # Bottom\n",
    "        with parallel(region[:, J[0]-1]):\n",
    "            u[0, 0, 0] = 0.\n",
    "       \n",
    "        # Top: not strictly necessary, since the stencil never iterates there\n",
    "        with parallel(region[:, J[-1] + 1]):\n",
    "            u[0, 0, 0] = 1.\n",
    "\n",
    "        # Everywhere\n",
    "        u += DT * laplace(u)\n",
    "\n",
    "\n",
    "# Create storage (and set IC implicitly)\n",
    "u = make_zeros(backend, shape)\n",
    "for n in range(10):\n",
    "    take_timestep(u, origin=(1, 1, 0))\n",
    "\n",
    "plot_solution(u)"
   ]
  },
  {
   "cell_type": "markdown",
   "metadata": {},
   "source": [
    "### 3. Distributed Computing"
   ]
  },
  {
   "cell_type": "code",
   "execution_count": 5,
   "metadata": {},
   "outputs": [],
   "source": [
    "from gt4py import gtscript\n",
    "\n",
    "rank = 0\n",
    "\n",
    "south_edge = (0 <= rank <= 2)\n",
    "west_edge = rank % 3 == 0\n",
    "north_edge = (6 <= rank <= 8)\n",
    "east_edge = (rank + 1) % 3 == 0\n",
    "\n",
    "istart = gtscript.I[0] if west_edge else None\n",
    "iend = gtscript.I[-1] if east_edge else None\n",
    "jstart = gtscript.J[0] if south_edge else None\n",
    "jend = gtscript.J[-1] if north_edge else None\n",
    "\n",
    "@gtscript.function\n",
    "def d2x(u):\n",
    "    return (-2 * u[0, 0, 0] + u[-1, 0, 0] + u[1, 0, 0]) / (DX * DX)\n",
    "\n",
    "\n",
    "@gtscript.function\n",
    "def d2y(u):\n",
    "    return (-2 * u[0, 0, 0] + u[0, -1, 0] + u[0, 1, 0]) / (DX * DX)\n",
    "\n",
    "@gtscript.function\n",
    "def lap_cube_cells(u):\n",
    "    # Not necessary, but helps readability of the code\n",
    "    from __externals__ import istart, iend, jstart, jend\n",
    "\n",
    "    u_next = d2x(u) + d2y(u)\n",
    "\n",
    "    # A practioner of numerical methods should rightly complain that these are committing finite difference crimes,\n",
    "    # but correcting those would be overly verbose for an example.\n",
    "    with parallel(region[istart, jstart - 1]):\n",
    "        u_next = d2y(u) + (-2 * u[0, 0, 0] + u[1, 0, 0] + u[-1, 1, 0]) / (DX * DX)\n",
    "    with parallel(region[iend, jstart - 1]):\n",
    "        u_next = d2y(u) + (-2 * u[0, 0, 0] + u[1, 0, 0] + u[1, 1, 0]) / (DX * DX)\n",
    "    with parallel(region[istart, jend + 1]):\n",
    "        u_next = d2y(u) + (-2 * u[0, 0, 0] + u[1, 0, 0] + u[-1, -1, 0]) / (DX * DX)\n",
    "    with parallel(region[iend, jend + 1]):\n",
    "        u_next = d2y(u) + (-2 * u[0, 0, 0] + u[1, 0, 0] + u[1, -1, 0]) / (DX * DX)\n",
    "\n",
    "    with parallel(region[istart - 1, jstart]):\n",
    "        u_next = d2x(u) + (-2 * u[0, 0, 0] + u[0, 1, 0] + u[1, -1, 0]) / (DX * DX)\n",
    "    with parallel(region[iend + 1, jstart]):\n",
    "        u_next = d2x(u) + (-2 * u[0, 0, 0] + u[0, 1, 0] + u[-1, -1, 0]) / (DX * DX)\n",
    "    with parallel(region[istart - 1, jend]):\n",
    "        u_next = d2x(u) + (-2 * u[0, 0, 0] + u[0, 1, 0] + u[1, 1, 0]) / (DX * DX)\n",
    "    with parallel(region[iend + 1, jend]):\n",
    "        u_next = d2x(u) + (-2 * u[0, 0, 0] + u[0, 1, 0] + u[-1, 1, 0]) / (DX * DX)\n",
    "\n",
    "    return u_next"
   ]
  },
  {
   "cell_type": "code",
   "execution_count": null,
   "metadata": {},
   "outputs": [],
   "source": []
  }
 ],
 "metadata": {
  "kernelspec": {
   "display_name": "Python 3",
   "language": "python",
   "name": "python3"
  },
  "language_info": {
   "codemirror_mode": {
    "name": "ipython",
    "version": 3
   },
   "file_extension": ".py",
   "mimetype": "text/x-python",
   "name": "python",
   "nbconvert_exporter": "python",
   "pygments_lexer": "ipython3",
   "version": "3.7.8"
  }
 },
 "nbformat": 4,
 "nbformat_minor": 4
}
