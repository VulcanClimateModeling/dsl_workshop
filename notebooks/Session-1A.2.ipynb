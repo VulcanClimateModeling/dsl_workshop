{
 "cells": [
  {
   "cell_type": "markdown",
   "metadata": {},
   "source": [
    "# Workshop on Domain-Specific Lanugages for Performance-Portable Weather and Climate Models\n",
    "\n",
    "## Session A1.2: Basic Concepts II\n",
    "\n",
    "This notebook will introduce additional GT4Py concepts, such as the execution model, stage extents and temporaries. We will also take a closer look at the different backends and performance."
   ]
  },
  {
   "cell_type": "code",
   "execution_count": null,
   "metadata": {},
   "outputs": [],
   "source": [
    "# standard packages\n",
    "from pprint import pprint\n",
    "import numpy as np\n",
    "import matplotlib\n",
    "import matplotlib.pyplot as plt\n",
    "matplotlib.rcParams[\"font.size\"] = 12\n",
    "\n",
    "# import GT4Py\n",
    "import gt4py\n",
    "from gt4py import gtscript\n",
    "from gt4py.gtscript import Field, PARALLEL, computation, interval\n",
    "\n",
    "# some useful tools used in this notebook (mostly plotting)\n",
    "from tools import plot_two_ij_slices"
   ]
  },
  {
   "cell_type": "markdown",
   "metadata": {},
   "source": [
    "## Compute Extents\n",
    "In the previous section we've seen that we have the option to manually set the compute extent of stencils. This is required if we split stencils. Merged stencils have a way of automatically deducing the maximal extent in which computation needs to happen. We try to illustrate how automatic exentison of the compute domain happens"
   ]
  },
  {
   "cell_type": "code",
   "execution_count": null,
   "metadata": {},
   "outputs": [],
   "source": [
    "backend = \"numpy\"\n",
    "@gtscript.stencil(backend=backend)\n",
    "def set_const(output_field: Field[np.float64]):\n",
    "    with computation(PARALLEL), interval(...):\n",
    "        output_field = 10\n",
    "@gtscript.stencil(backend=backend)\n",
    "def read_off_center(input_field: Field[np.float64], output_field: Field[np.float64]):\n",
    "    with computation(PARALLEL), interval(...):\n",
    "        output_field = input_field[1, 0, 0]"
   ]
  },
  {
   "cell_type": "code",
   "execution_count": null,
   "metadata": {},
   "outputs": [],
   "source": [
    "@gtscript.stencil(backend=backend)\n",
    "def set_const_and_read(input_field: Field[np.float64], output_field: Field[np.float64]):\n",
    "    with computation(PARALLEL), interval(...):\n",
    "        input_field = 10\n",
    "        output_field = input_field[1, 0, 0]"
   ]
  },
  {
   "cell_type": "code",
   "execution_count": null,
   "metadata": {},
   "outputs": [],
   "source": [
    "# domain setup\n",
    "nhalo = 3\n",
    "nx, ny, nz = 4, 4, 1\n",
    "\n",
    "origin = (nhalo, nhalo, 0)\n",
    "domain = (nx, ny, nz)\n",
    "shape = (nx + 2*nhalo, ny + 2*nhalo, nz)\n",
    "\n",
    "# storage creation\n",
    "const_field_1 = gt4py.storage.from_array(np.zeros((shape[0], shape[1], shape[2]), dtype=float), backend, origin, shape, dtype=np.float64)\n",
    "const_field_2 = const_field_1.copy()\n",
    "out_field_1 = const_field_1.copy()\n",
    "out_field_2 = const_field_1.copy()\n",
    "\n",
    "\n",
    "# call the two individual stencils\n",
    "set_const(output_field=const_field_1, origin=origin,domain=domain)\n",
    "read_off_center(input_field=const_field_1, output_field=out_field_1, origin=origin, domain=domain)\n",
    "\n",
    "# call the merged stencil\n",
    "set_const_and_read(input_field=const_field_2, output_field=out_field_2, origin=origin, domain=domain)"
   ]
  },
  {
   "cell_type": "markdown",
   "metadata": {},
   "source": [
    "<div class=\"alert alert-block alert-info\">\n",
    "    <b> Now it's your turn: </b><br>\n",
    "    <ol>\n",
    "        <li style=\"margin-bottom: 10px\"> Make a guess what the result of the two stencils will look like.</li>\n",
    "        <li style=\"margin-bottom: 10px\"> Verify your guess by plotting the output fields.</li>\n",
    "    </ol>\n",
    "</div>"
   ]
  },
  {
   "cell_type": "code",
   "execution_count": null,
   "metadata": {
    "scrolled": true
   },
   "outputs": [],
   "source": [
    "# plot the two output fields"
   ]
  },
  {
   "cell_type": "markdown",
   "metadata": {},
   "source": [
    "<div class=\"alert alert-block alert-info\">\n",
    "    <b> Now it's your turn: </b><br>\n",
    "    <ol>\n",
    "        <li style=\"margin-bottom: 10px\"> Adapt the first example to ensure the results are the same.</li>\n",
    "    </ol>\n",
    "</div>"
   ]
  },
  {
   "cell_type": "code",
   "execution_count": null,
   "metadata": {},
   "outputs": [],
   "source": [
    "origin_shifted = None # TODO\n",
    "domain_extended = None # TODO\n",
    "\n",
    "# TODO replace domain and origin arguments\n",
    "# call the two individual stencils\n",
    "set_const(output_field=const_field_1, origin=None,domain=None)\n",
    "read_off_center(input_field=const_field_1, output_field=out_field_1, origin=None, domain=None)\n",
    "\n",
    "# call the merged stencil\n",
    "set_const_and_read(input_field=const_field_2, output_field=out_field_2, origin=None, domain=None)\n",
    "\n",
    "plot_two_ij_slices(out_field_1, out_field_2)"
   ]
  },
  {
   "cell_type": "markdown",
   "metadata": {},
   "source": [
    "## Stencil Program\n",
    "\n",
    "The previous notebook introduced the horizontal Laplacian as an example stencil. A Laplacian is sometimes used as a numerical filter, but has the downside of not being very scale selective. Because of this, some models choose to implement higher order filters (e.g. [Xue 2000, Monthly Weather Review](http://twister.ou.edu/papers/Xue2000Diffusion.pdf)).\n",
    "\n",
    "\\begin{eqnarray}\n",
    "\\frac{\\partial \\phi}{\\partial t} = S + (-1)^{n/2+1} \\alpha_n \\nabla^n \\phi \\\\\n",
    "\\end{eqnarray}\n",
    "\n",
    "where $S$ represents all other processes, $n$ is the order of the filter, and $\\alpha_n$ is the filter constant. Let's assume $S=0$ and take a closer look at the 2nd-order filter (n=2)\n",
    "\n",
    "\\begin{eqnarray}\n",
    "\\frac{\\partial \\phi}{\\partial t} & = & + \\alpha_2 \\nabla^2 \\phi \\\\\n",
    "& = & + \\alpha_2 \\Delta \\phi \\\\[2ex]\n",
    "\\end{eqnarray}\n",
    "\n",
    "and the 4th-order filter (n=4)\n",
    "\n",
    "\\begin{eqnarray}\n",
    "\\frac{\\partial \\phi}{\\partial t} & = & - \\alpha_4 \\nabla^4 \\phi \\\\\n",
    "& = & - \\alpha_4 \\Delta \\left( \\Delta \\phi \\right) \\\\\n",
    "\\end{eqnarray}\n",
    "\n",
    "where $\\alpha_2$ and $\\alpha_4$ are the diffusion coefficients. This corresponds to a double application of a simple horizontal Laplacian where we choose the coefficient correspondingly. So we can potentially re-use the stencil we have already coded in the previous session, which is reproduced below for convenience, but using a different initialization of the input field."
   ]
  },
  {
   "cell_type": "code",
   "execution_count": null,
   "metadata": {},
   "outputs": [],
   "source": [
    "# setup\n",
    "nhalo = 3\n",
    "nx, ny, nz = 8, 8, 1\n",
    "backend = \"numpy\"\n",
    "\n",
    "# stencils\n",
    "@gtscript.stencil(backend=backend)\n",
    "def laplacian(in_field: Field[np.float64], out_field: Field[np.float64]):\n",
    "    with computation(PARALLEL), interval(...):\n",
    "        out_field = (-4. * in_field +\n",
    "            in_field[1, 0, 0] + in_field[-1, 0, 0] + \n",
    "            in_field[0, 1, 0] + in_field[0, -1, 0])\n",
    "        \n",
    "# define storages\n",
    "origin = (nhalo, nhalo, 0)\n",
    "shape = (nx + 2*nhalo, ny + 2*nhalo, nz)\n",
    "in_field = gt4py.storage.zeros(backend, origin, shape, dtype=np.float64)\n",
    "for k in range(nz):\n",
    "    for j in range(nhalo, ny + nhalo):\n",
    "        for i in range(nhalo, nx + nhalo):\n",
    "            in_field[i, j, k] = (i + j + k) % 4        \n",
    "out_field = gt4py.storage.zeros(backend, origin, shape, dtype=np.float64)\n",
    "\n",
    "# apply stencil\n",
    "laplacian(in_field=in_field, out_field=out_field, origin=(nhalo, nhalo, 0), domain=(nx, ny, nz))\n",
    "\n",
    "# visualize results\n",
    "plot_two_ij_slices(in_field, out_field)"
   ]
  },
  {
   "cell_type": "markdown",
   "metadata": {},
   "source": [
    "<div class=\"alert alert-block alert-info\">\n",
    "    <b> Now it's your turn: </b><br>\n",
    "    We are going to extend the above program to a full stencil program applying multiple iterations of the 4th-order numerical diffusion filter to an input field using an Euler forward step.\n",
    "    <ol>\n",
    "        <li style=\"margin-bottom: 10px\"> Implement a second stencil <code>euler_step(in_field, out_field, alpha)</code> which computes the time update $\\mathrm{out\\_field} = \\mathrm{in\\_field} + \\alpha \\,\\, \\mathrm{out\\_field}$.</li>\n",
    "        <li style=\"margin-bottom: 10px\"> Implement a thrid stencil <code>time_swap(in_field, out_field)</code> which does the time swap $\\mathrm{in\\_field} = \\mathrm{out\\_field}$.</li>\n",
    "        <li style=\"margin-bottom: 10px\"> Implement a timeloop which does 20 iterations of calling <code>laplacian(in_field, out_field)</code>, <code>euler_step(in_field, out_field, alpha)</code> and a finally does a timeswap <code>time_swap(in_field, out_field)</code> at the end of each iteration.</li>\n",
    "        <li style=\"margin-bottom: 10px\"> Run the program and check your results by visually inspection. Note that if $\\alpha_2 > 1/8$ you filter will be unstable.</li>\n",
    "        <li style=\"margin-bottom: 10px\"> Imlement a 4th-order filter by calling the <code>laplacian</code> stencil twice. It is easiest to create an additional storage <code>tmp_field</code> to carry the intermediate result from the first invocation to the second. Make sure you adapt the <code>origin</code> and <code>domain</code> for the first invocation of <code>laplacian</code> to compute on an extended domain. Also, don't forget to flip the sign in front of the diffusion coefficient in <code>euler_step</code>.</li>\n",
    "        <li style=\"margin-bottom: 10px\"> Run you program and check your results by visually inspection. Note that if $\\alpha_4 > 1/32$ you filter will be unstable.</li>\n",
    "    </ol>\n",
    "</div>"
   ]
  },
  {
   "cell_type": "code",
   "execution_count": null,
   "metadata": {},
   "outputs": [],
   "source": [
    "# setup\n",
    "nhalo = 3\n",
    "nx, ny, nz = 8, 8, 1\n",
    "backend = \"numpy\"\n",
    "\n",
    "# stencils\n",
    "@gtscript.stencil(backend=backend)\n",
    "def laplacian(in_field: Field[np.float64], out_field: Field[np.float64]):\n",
    "    with computation(PARALLEL), interval(...):\n",
    "        out_field = (-4. * in_field +\n",
    "            in_field[1, 0, 0] + in_field[-1, 0, 0] + \n",
    "            in_field[0, 1, 0] + in_field[0, -1, 0])\n",
    "        \n",
    "@gtscript.stencil(backend=backend)\n",
    "def euler_step(in_field: Field[np.float64], out_field: Field[np.float64], *, alpha: np.float64):\n",
    "    # TODO: Implementation\n",
    "    pass\n",
    "        \n",
    "@gtscript.stencil(backend=backend)\n",
    "def time_swap(in_field: Field[np.float64], out_field: Field[np.float64]):\n",
    "    # TODO: Implementation\n",
    "    pass\n",
    "        \n",
    "# define storages\n",
    "origin = (nhalo, nhalo, 0)\n",
    "shape = (nx + 2*nhalo, ny + 2*nhalo, nz)\n",
    "in_field = gt4py.storage.zeros(backend, origin, shape, dtype=np.float64)\n",
    "for k in range(nz):\n",
    "    for j in range(nhalo, ny + nhalo):\n",
    "        for i in range(nhalo, nx + nhalo):\n",
    "            in_field[i, j, k] = (i + j + k) % 4        \n",
    "orig_field = in_field.copy()\n",
    "out_field = gt4py.storage.zeros(backend, origin, shape, dtype=np.float64)\n",
    "tmp_field = out_field.copy()\n",
    "\n",
    "# apply stencil\n",
    "alpha = 1./10.\n",
    "for n in range(20):\n",
    "    # TODO: call the stencils\n",
    "    pass\n",
    "\n",
    "\n",
    "# visualize results\n",
    "plot_two_ij_slices(orig_field, out_field)"
   ]
  },
  {
   "cell_type": "markdown",
   "metadata": {},
   "source": [
    "<div class=\"alert alert-block alert-info\">\n",
    "    <b> Now it's your turn: </b><br>\n",
    "    <ol>\n",
    "        <li style=\"margin-bottom: 10px\"> Copy the above program into a cell below. Replace the two stencils <code>laplacian</code> and <code>euler_step</code> with a single stencil <code>numerical_filter(in_field, tmp_field, out_field, alpha)</code> which implements the two laplacians, the Euler forward integration as well as the time swap as individual stages.</li>\n",
    "        <li style=\"margin-bottom: 10px\"> Check your results against the reference above.</li>\n",
    "    </ol>\n",
    "</div>"
   ]
  },
  {
   "cell_type": "code",
   "execution_count": null,
   "metadata": {
    "tags": []
   },
   "outputs": [],
   "source": [
    "# setup\n",
    "nhalo = 3\n",
    "nx, ny, nz = 8, 8, 1\n",
    "backend = \"numpy\"\n",
    "\n",
    "# stencils\n",
    "@gtscript.stencil(backend=backend)\n",
    "def numerical_filter(in_field: Field[np.float64], tmp_field: Field[np.float64], out_field: Field[np.float64], *, alpha: np.float64):\n",
    "    # TODO: Implementation\n",
    "    pass\n",
    "        \n",
    "# define storages\n",
    "origin = (nhalo, nhalo, 0)\n",
    "shape = (nx + 2*nhalo, ny + 2*nhalo, nz)\n",
    "in_field = gt4py.storage.zeros(backend, origin, shape, dtype=np.float64)\n",
    "for k in range(nz):\n",
    "    for j in range(nhalo, ny + nhalo):\n",
    "        for i in range(nhalo, nx + nhalo):\n",
    "            in_field[i, j, k] = (i + j + k) % 4        \n",
    "orig_field = in_field.copy()\n",
    "out_field = gt4py.storage.zeros(backend, origin, shape, dtype=np.float64)\n",
    "tmp_field = out_field.copy()\n",
    "\n",
    "# apply stencil\n",
    "alpha = 1./32.\n",
    "for n in range(20):\n",
    "    # TODO: execute the time-loop\n",
    "    pass\n",
    "\n",
    "# visualize results\n",
    "plot_two_ij_slices(orig_field, out_field)"
   ]
  },
  {
   "cell_type": "markdown",
   "metadata": {},
   "source": [
    "<div class=\"alert alert-block alert-info\">\n",
    "    <b> Now it's your turn: </b><br>\n",
    "    The temporary field is not required output. You can adapt the stencil to not require it as an argument\n",
    "    <ol>\n",
    "        <li style=\"margin-bottom: 10px\"> Implement a second version of <code>numerical_filter(in_field, out_field, alpha)</code> that allocates the temporary varibale on the fly.</li>\n",
    "        <li style=\"margin-bottom: 10px\">  Run the program and check your results by visually inspection. Note that if $\\alpha_2 > 1/32$ you filter will be unstable</li>\n",
    "    </ol>\n",
    "</div>"
   ]
  },
  {
   "cell_type": "code",
   "execution_count": null,
   "metadata": {},
   "outputs": [],
   "source": [
    "# REMOVE - Solution\n",
    "\n",
    "# setup\n",
    "nhalo = 3\n",
    "nx, ny, nz = 8, 8, 1\n",
    "backend = \"numpy\"\n",
    "\n",
    "# stencils\n",
    "@gtscript.stencil(backend=backend)\n",
    "def numerical_filter(in_field: Field[np.float64], out_field: Field[np.float64], *, alpha: np.float64):\n",
    "    # TODO: Implementation\n",
    "    pass\n",
    "        \n",
    "# define storages\n",
    "origin = (nhalo, nhalo, 0)\n",
    "shape = (nx + 2*nhalo, ny + 2*nhalo, nz)\n",
    "in_field = gt4py.storage.zeros(backend, origin, shape, dtype=np.float64)\n",
    "for k in range(nz):\n",
    "    for j in range(nhalo, ny + nhalo):\n",
    "        for i in range(nhalo, nx + nhalo):\n",
    "            in_field[i, j, k] = (i + j + k) % 4        \n",
    "orig_field = in_field.copy()\n",
    "out_field = gt4py.storage.zeros(backend, origin, shape, dtype=np.float64)\n",
    "\n",
    "# apply stencil\n",
    "alpha = 1./32.\n",
    "for n in range(20):\n",
    "    # TODO: execute the time-loop\n",
    "    pass\n",
    "\n",
    "# visualize results\n",
    "plot_two_ij_slices(orig_field, out_field)"
   ]
  },
  {
   "cell_type": "markdown",
   "metadata": {},
   "source": [
    "## Timing temporary variables\n",
    "\n",
    "As the next part of this exercise we want to investigate how temporaries affect performance of the code. Compare the solutions of `numerical_filter` with and without temporaries to see how they perform"
   ]
  },
  {
   "cell_type": "markdown",
   "metadata": {},
   "source": [
    "<div class=\"alert alert-block alert-info\">\n",
    "    <b> Now it's your turn: </b><br>\n",
    "    <ol>\n",
    "        <li style=\"margin-bottom: 10px\"> Use the definition of the two versions of the numerical filter from the exercise above to check the performance difference </li>\n",
    "        <li style=\"margin-bottom: 10px\"> What do the results tell us?</li>\n",
    "        <li style=\"margin-bottom: 10px\"> Try how other backends perform </li>\n",
    "    </ol>\n",
    "</div>"
   ]
  },
  {
   "cell_type": "code",
   "execution_count": null,
   "metadata": {},
   "outputs": [],
   "source": [
    "import timeit"
   ]
  },
  {
   "cell_type": "code",
   "execution_count": null,
   "metadata": {},
   "outputs": [],
   "source": [
    "# define stencil with temporary\n",
    "def numerical_filter_with(in_field: Field[float], out_field: Field[float], tmp_field:Field[np.float64], alpha: np.float64 ):\n",
    "    # TODO: use the implementation from above\n",
    "    pass\n",
    "# define stencil with temporary\n",
    "def numerical_filter_without(in_field: Field[float], out_field: Field[float], alpha: np.float64):\n",
    "    # TODO: use the implementation from above"
   ]
  },
  {
   "cell_type": "code",
   "execution_count": null,
   "metadata": {},
   "outputs": [],
   "source": [
    "def run_experiment_with(backend, size):\n",
    "    # domain setup\n",
    "    nx = 100*(size+1)\n",
    "    nz = 79\n",
    "    halo = 3\n",
    "    shape = (nx + 2 * halo, nx + 2 * halo, nz)\n",
    "    \n",
    "    # input setup\n",
    "    in_field = gt4py.storage.zeros(\n",
    "        shape=shape,\n",
    "        default_origin=(0, 0, 0),\n",
    "        dtype=float,\n",
    "        backend=backend,\n",
    "    )\n",
    "    for k in range(nz):\n",
    "        for j in range(nhalo, ny + nhalo):\n",
    "            for i in range(nhalo, nx + nhalo):\n",
    "                in_field[i, j, k] = (i + j + k) % 4        \n",
    "    out_field = gt4py.storage.zeros(backend, origin, shape, dtype=np.float64)\n",
    "    tmp_field = out_field.copy()\n",
    "    alpha = 1./32.\n",
    "    \n",
    "    # stencil setup\n",
    "    numerical_filter = None #TODO: compile the stencil\n",
    "    # computation\n",
    "    tic = timeit.default_timer()\n",
    "    for i in range(20):\n",
    "        #TODO: call the stencil here\n",
    "        pass \n",
    "    toc = timeit.default_timer()\n",
    "    return toc - tic"
   ]
  },
  {
   "cell_type": "code",
   "execution_count": null,
   "metadata": {},
   "outputs": [],
   "source": [
    "def run_experiment_without(backend, size):\n",
    "    # domain setup\n",
    "    nx = 100*(size+1)\n",
    "    nz = 79\n",
    "    halo = 3\n",
    "    shape = (nx + 2 * halo, nx + 2 * halo, nz)\n",
    "    \n",
    "    # input setup\n",
    "    in_field = gt4py.storage.zeros(\n",
    "        shape=shape,\n",
    "        default_origin=(0, 0, 0),\n",
    "        dtype=float,\n",
    "        backend=backend,\n",
    "    )\n",
    "    for k in range(nz):\n",
    "        for j in range(nhalo, ny + nhalo):\n",
    "            for i in range(nhalo, nx + nhalo):\n",
    "                in_field[i, j, k] = (i + j + k) % 4        \n",
    "    out_field = gt4py.storage.zeros(backend, origin, shape, dtype=np.float64)\n",
    "    alpha = 1./32.\n",
    "    \n",
    "    # stencil setup\n",
    "    numerical_filter = None #TODO: compile the stencil\n",
    "    \n",
    "    # computation\n",
    "    tic = timeit.default_timer()\n",
    "    for i in range(20):\n",
    "        #TODO: call the stencil here\n",
    "        pass\n",
    "    toc = timeit.default_timer()\n",
    "    return toc - tic"
   ]
  },
  {
   "cell_type": "code",
   "execution_count": null,
   "metadata": {},
   "outputs": [],
   "source": [
    "temp_times = np.zeros(5)\n",
    "no_temp_times = np.zeros(5)\n",
    "\n",
    "for j in range(5):\n",
    "    no_temp_times[j] = run_experiment_without(\"gtx86\", j)\n",
    "    temp_times[j] = run_experiment_with(\"gtx86\", j)\n",
    "\n",
    "#plotting the results\n",
    "plt.plot(range(5), no_temp_times, \"-o\", label=\"no temporary\")\n",
    "plt.plot(range(5), temp_times, \"-o\", label=\"temporary\")\n",
    "plt.title(\"Strong Scaling\")\n",
    "plt.grid(color=\"gray\", linestyle='-')\n",
    "plt.legend()\n",
    "plt.xlabel(\"relative domain size\")\n",
    "plt.ylabel(\"execution time\")\n",
    "\n",
    "plt.show()"
   ]
  },
  {
   "cell_type": "markdown",
   "metadata": {},
   "source": [
    "## Generate Scalability Data\n",
    "\n",
    "The main goal of using a domain-specific language instead of \"just\" Python is to find a better balance between performance, portability and productivity. Several other Python frameworks exists which translate Python fucntions to optimized machine code at runtime, for example [Cython](https://cython.org), [Numba](https://numba.pydata.org), or [Devito](https://www.devitoproject.org). All of these frameworks make provide a different subset of domain-specific or Python features and make a unique compromise between generality, optimization and speed.\n",
    "\n"
   ]
  },
  {
   "cell_type": "markdown",
   "metadata": {},
   "source": [
    "<div class=\"alert alert-block alert-info\">\n",
    "    <b> Now it's your turn: </b><br>\n",
    "    (Hint: Make sure that when you modify code you retain the original code by commenting it out so that you undo any of the modifications you do.)\n",
    "    <ol>\n",
    "        <li style=\"margin-bottom: 10px\"> Run the scalabiliy experiments outlined below on the laplacian stencil</li>\n",
    "        <li style=\"margin-bottom: 10px\"> Analyze the plot</li>\n",
    "    </ol>\n",
    "</div>"
   ]
  },
  {
   "cell_type": "code",
   "execution_count": null,
   "metadata": {},
   "outputs": [],
   "source": [
    "def laplacian_def(in_field: Field[np.float], out_field: Field[np.float], coeff: np.float):\n",
    "    with computation(PARALLEL), interval(...):\n",
    "        out_field = coeff * (-4. * in_field +\n",
    "            in_field[1, 0, 0] + in_field[-1, 0, 0] + \n",
    "            in_field[0, 1, 0] + in_field[0, -1, 0])"
   ]
  },
  {
   "cell_type": "code",
   "execution_count": null,
   "metadata": {},
   "outputs": [],
   "source": [
    "ni, nj, nk = 24, 24, 80\n",
    "nhalo = 3"
   ]
  },
  {
   "cell_type": "code",
   "execution_count": null,
   "metadata": {},
   "outputs": [],
   "source": [
    "def run_laplacian_scaling(stencil_def, backends, domain, origin, nruns = 5, factor = 2, dtype=np.float64):\n",
    "    ni, nj, nk = domain\n",
    "    init_ni = ni\n",
    "    init_nj = nj\n",
    "\n",
    "    timings = dict()\n",
    "    sizes = dict()\n",
    "    \n",
    "    for backend in backends:\n",
    "        ni = init_ni\n",
    "        nj = init_nj\n",
    "\n",
    "        sizes[backend] = []\n",
    "        timings[backend] = []\n",
    "\n",
    "        for n in range(0, nruns):\n",
    "            print(f\"Running with {backend} backend ({n})...\")\n",
    "\n",
    "            domain = (ni, nj, nk)\n",
    "            shape = (ni + 2 * nhalo, nj + 2 * nhalo, nk)\n",
    "\n",
    "            rand_data = np.random.randn(*shape)        \n",
    "            in_field = gt4py.storage.from_array(rand_data, backend, origin, shape, dtype=dtype)        \n",
    "            out_field = gt4py.storage.zeros(backend, origin, shape, dtype)        \n",
    "            exec_info = {}\n",
    "\n",
    "            stencil = gtscript.stencil(backend, stencil_def)\n",
    "            stencil(in_field, out_field, coeff=0.125, origin=origin, domain=domain, exec_info=exec_info)  # , validate_args=False)\n",
    "\n",
    "            call_time = (exec_info['call_end_time'] - exec_info['call_start_time']) * 1000.\n",
    "            run_time = (exec_info['run_end_time'] - exec_info['run_start_time']) * 1000.        \n",
    "\n",
    "            timings[backend].append(run_time)\n",
    "            sizes[backend].append(ni)\n",
    "\n",
    "            ni *= factor\n",
    "            nj *= factor\n",
    "            \n",
    "    return timings, sizes\n",
    "            \n",
    "timings, sizes = run_laplacian_scaling(\n",
    "    laplacian_def, [\"numpy\", \"gtmc\", \"gtx86\"], (ni, nj, nk), (nhalo, nhalo, 0)\n",
    ")"
   ]
  },
  {
   "cell_type": "code",
   "execution_count": null,
   "metadata": {},
   "outputs": [],
   "source": [
    "def plot_scaling_data(timings, sizes):    \n",
    "    for backend in timings.keys():\n",
    "        plt.plot(sizes[backend], timings[backend], \"-o\", label=backend)\n",
    "    \n",
    "    plt.title(\"Backend Scaling\")\n",
    "    plt.grid(color=\"gray\", linestyle='-')\n",
    "    plt.legend()\n",
    "    plt.xlabel(\"domain size\")\n",
    "    plt.ylabel(\"execution time (ms)\")\n",
    "    plt.yscale(\"log\")\n",
    "    plt.show()\n",
    "    \n",
    "plot_scaling_data(timings, sizes)"
   ]
  },
  {
   "cell_type": "markdown",
   "metadata": {},
   "source": [
    "## Execution model\n",
    "\n",
    "The iteration domain in GT4Py is a 3-dimensional domain: `I` and `J` axes live on the horizontal spatial plane, and axis `K` represents the vertical spatial dimension. Computations on the horizontal plane are always executed in parallel and thus `I` and `J` are called parallel axes, while computations on `K` are executed sequentially or in parallel.\n",
    "\n",
    "A `gtscript.stencil` is composed of one or more computation. Each computation defines an iteration policy (PARALLEL, FORWARD, BACKWARD) and isn, something itself composed of one or more non-overlapping vertical interval specifications, each one of them representing a vertical loop over the `K` axis with the iteration policy of the computation. Intervals are specified in their order of execution with each interval containing one or more statements. We will look into execution policies in the `K` axis more in the next session.\n",
    "\n",
    "The effect of a GTScript stencil program is as if statements are executed as follows:\n",
    "1. Computations are executed sequentially in the order they appear in the code,\n",
    "2. Vertical intervals are executed sequentially in the order defined by the iteration policy of the computation\n",
    "3. Every vertical interval is executed as a sequential for-loop over the K-range following the order defined by the iteration policy,\n",
    "4. For every assignment inside the interval, first, the right hand side is evaluated in a parallel for-loop over the horizontal dimension(s), then, the resulting horizontal slice is assigned to the left hand side.\n",
    "5. For if-else statements, the condition is evaluated first, then the if and else bodies are evaluated with the same rule as above. Some restrictions apply to offset reads, see Conditionals.\n",
    "\n",
    "We will look into if-else conditionals in a later session. You can refer back to these rules during the workshop."
   ]
  },
  {
   "cell_type": "markdown",
   "metadata": {},
   "source": [
    "We start by setting up a parallel environment"
   ]
  },
  {
   "cell_type": "code",
   "execution_count": null,
   "metadata": {},
   "outputs": [],
   "source": [
    "%env OMP_PLACES=threads\n",
    "%env OMP_PROC_BIND=true\n",
    "%env OMP_NUM_THREADS=40"
   ]
  },
  {
   "cell_type": "markdown",
   "metadata": {},
   "source": [
    "In order to investigate what various backends do without investigating the code we look at the **illegal** shift stencil `a[0, 0, 0] = a[1, 0, 0]` in all four parallel horizontal dimensions. The result is not deterministic since each computation happens on every ij-level in parallel and we have a race condition here. The visualization of the results can give us insights into what happens nevertheless. For this session choose either `gtmc` or `gtx86` as the backend to look at"
   ]
  },
  {
   "cell_type": "code",
   "execution_count": null,
   "metadata": {},
   "outputs": [],
   "source": [
    "#backend = \"gtx86\"\n",
    "backend = \"gtmc\""
   ]
  },
  {
   "cell_type": "code",
   "execution_count": null,
   "metadata": {},
   "outputs": [],
   "source": [
    "@gtscript.stencil(backend=backend)\n",
    "def shift_i_plus_one(a: Field[np.float64]):\n",
    "    with computation(PARALLEL), interval(...):\n",
    "        a = a[1, 0, 0]\n",
    "@gtscript.stencil(backend=backend)\n",
    "def shift_i_minus_one(a: Field[np.float64]):\n",
    "    with computation(PARALLEL), interval(...):\n",
    "        a = a[-1, 0, 0]\n",
    "@gtscript.stencil(backend=backend)\n",
    "def shift_j_plus_one(a: Field[np.float64]):\n",
    "    with computation(PARALLEL), interval(...):\n",
    "        a = a[0, 1, 0]\n",
    "@gtscript.stencil(backend=backend)\n",
    "def shift_j_minus_one(a: Field[np.float64]):\n",
    "    with computation(PARALLEL), interval(...):\n",
    "        a = a[0, -1, 0]"
   ]
  },
  {
   "cell_type": "code",
   "execution_count": null,
   "metadata": {},
   "outputs": [],
   "source": [
    "# domain setup\n",
    "nhalo = 3\n",
    "nx, ny, nz = 54, 54, 1\n",
    "\n",
    "origin = (nhalo, nhalo, 0)\n",
    "domain = (nx, ny, nz)\n",
    "shape = (nx + 2*nhalo, ny + 2*nhalo, nz)\n",
    "\n",
    "# storage creation\n",
    "in_field = gt4py.storage.from_array(np.random.randn(shape[0], shape[1], shape[2]), backend, origin, shape, dtype=np.float64)\n",
    "out_field_i = in_field.copy()\n",
    "out_field_i_minus = in_field.copy()\n",
    "out_field_j = in_field.copy()\n",
    "out_field_j_minus = in_field.copy()"
   ]
  },
  {
   "cell_type": "code",
   "execution_count": null,
   "metadata": {},
   "outputs": [],
   "source": [
    "# run stencil i+1\n",
    "shift_i_plus_one(a=out_field_i, origin=origin, domain=domain)\n",
    "# visualize results\n",
    "plot_two_ij_slices(in_field, out_field_i)"
   ]
  },
  {
   "cell_type": "markdown",
   "metadata": {},
   "source": [
    "<div class=\"alert alert-block alert-info\">\n",
    "    <b> Now it's your turn: </b><br>\n",
    "    <ol>\n",
    "        <li style=\"margin-bottom: 10px\"> Is this the expected result?</li>\n",
    "        <li style=\"margin-bottom: 10px\"> Run the same experiment for the other three offsets.</li>\n",
    "    </ol>\n",
    "</div>"
   ]
  },
  {
   "cell_type": "code",
   "execution_count": null,
   "metadata": {},
   "outputs": [],
   "source": [
    "# run stencil i-1\n",
    "# TODO: add stencil call here\n",
    "# visualize results\n",
    "# TODO: add visualization here"
   ]
  },
  {
   "cell_type": "code",
   "execution_count": null,
   "metadata": {},
   "outputs": [],
   "source": [
    "# run stencil j+1\n",
    "# TODO: add stencil call here\n",
    "# visualize results\n",
    "# TODO: add visualization here"
   ]
  },
  {
   "cell_type": "code",
   "execution_count": null,
   "metadata": {},
   "outputs": [],
   "source": [
    "# run stencil j-1\n",
    "# TODO: add stencil call here\n",
    "# visualize results\n",
    "# TODO: add visualization here"
   ]
  },
  {
   "cell_type": "markdown",
   "metadata": {},
   "source": [
    "<div class=\"alert alert-block alert-info\">\n",
    "    <b> Now it's your turn: Discuss what these results tell you</b><br>\n",
    "    <ol>\n",
    "        <li style=\"margin-bottom: 10px\">How are the loops traversed?</li>\n",
    "        <li style=\"margin-bottom: 10px\">Is there blocking?</li>\n",
    "        <li style=\"margin-bottom: 10px\">Are the horizontal dimensions treated differently?</li>\n",
    "        <li style=\"margin-bottom: 10px\">Is it clear why the example is illegal?</li>\n",
    "        <li style=\"margin-bottom: 10px\"> (optional:) Compare your results to the other backend.</li>\n",
    "    </ol>\n",
    "</div>"
   ]
  },
  {
   "cell_type": "markdown",
   "metadata": {},
   "source": [
    "## Storage Layouts\n",
    "\n",
    "GT4Py optimizes performance not only with the code it generates, but also with the way it structures data for the target backend."
   ]
  },
  {
   "cell_type": "markdown",
   "metadata": {},
   "source": [
    "<div class=\"alert alert-block alert-info\">\n",
    "    <b> Now it's your turn: </b><br>\n",
    "    <ol>\n",
    "        <li style=\"margin-bottom: 10px\"> By analyzing the strides of the different backends, can you see in what order the loops are generated?</li>\n",
    "    </ol>\n",
    "</div>"
   ]
  },
  {
   "cell_type": "code",
   "execution_count": null,
   "metadata": {
    "scrolled": true
   },
   "outputs": [],
   "source": [
    "numpy_field = gt4py.storage.zeros(\"numpy\", (0, 0, 0), (64, 64, 64), np.float)\n",
    "print(\"numpy type: \", type(numpy_field))\n",
    "print(\"numpy strides: \", numpy_field.strides)\n",
    "\n",
    "gtmc_field = gt4py.storage.zeros(\"gtmc\", (0, 0, 0), (64, 64, 64), np.float)\n",
    "print(\"gtmc type: \", type(gtmc_field))\n",
    "print(\"gtmc strides: \", gtmc_field.strides)\n",
    "\n",
    "gtx86_field = gt4py.storage.zeros(\"gtx86\", (0, 0, 0), (64, 64, 64), np.float)\n",
    "print(\"gtx86 type: \", type(gtx86_field))\n",
    "print(\"gtx86 strides: \", gtx86_field.strides)"
   ]
  }
 ],
 "metadata": {
  "kernelspec": {
   "display_name": "NOAA-kernel",
   "language": "python",
   "name": "noaa-kernel"
  },
  "language_info": {
   "codemirror_mode": {
    "name": "ipython",
    "version": 3
   },
   "file_extension": ".py",
   "mimetype": "text/x-python",
   "name": "python",
   "nbconvert_exporter": "python",
   "pygments_lexer": "ipython3",
   "version": "3.7.3"
  }
 },
 "nbformat": 4,
 "nbformat_minor": 4
}
