{
 "cells": [
  {
   "cell_type": "markdown",
   "metadata": {
    "slideshow": {
     "slide_type": "slide"
    }
   },
   "source": [
    "# Jupyter Notebook Tutorial\n",
    "\n",
    "*Credits: This notebook has been inspired from a similar notebook from Tim Robinson (CSCS).*\n",
    "\n",
    "For more in-depth documentation for Jupyter Notebooks take a look at the [Jupyter Notebook Documentation](https://jupyter-notebook.readthedocs.io/en/stable/index.html). This tutorial covers the basics that are required to survive the High Performance Computing for Weather and Climate Course. "
   ]
  },
  {
   "cell_type": "markdown",
   "metadata": {},
   "source": [
    "## Working with Notebooks\n",
    "\n",
    "Jupyter Notebooks provide a interactive development environment for programming languages such as Python, bash, R, Julia, ... . They are inspired from the \"notebook\" concept where documentation is mixed with computations and results.\n",
    "\n",
    "This Jupyter notebook is setup to work with Python. So let's get started..."
   ]
  },
  {
   "cell_type": "markdown",
   "metadata": {},
   "source": [
    "## Cells\n",
    "\n",
    "Jupyter notebooks are structured into cells. Cells can be text / documentation (markdown) or code (in the programming language of the notebook). Markdown cells serve as documentation and highlight in <font color=\"blue\">blue</font> when clicked on. In fact, this text here is part of a Markdown cell. Code cells can be executed and are marked with an `In [ ]:` on the left of cell and highlight in <font color=\"green\">green</font> when clicked on. The cell below is a code cell.\n",
    "\n",
    "<font color=\"red\">Try it out now, click on it and press `Shift-Enter` to execute it.</font>"
   ]
  },
  {
   "cell_type": "code",
   "execution_count": null,
   "metadata": {},
   "outputs": [],
   "source": [
    "print(\"Hello world!\")"
   ]
  },
  {
   "cell_type": "markdown",
   "metadata": {},
   "source": [
    "Command cells can be modified simply by clicking inside them and editing the text.\n",
    "\n",
    "<font color=\"red\">Try modifying the `Hello world!` string in the command cell above and press `Shift-Enter` again.</font>"
   ]
  },
  {
   "cell_type": "markdown",
   "metadata": {},
   "source": [
    "## Navigation\n",
    "\n",
    "You can select a specific cell by clicking with your mouse. You can also navigate using the up and down arrows on your keyboard. See [this notebook](https://nbviewer.jupyter.org/github/jupyter/notebook/blob/master/docs/source/examples/Notebook/Notebook%20Basics.ipynb) for more information about navigation.\n",
    "\n",
    "<font color=\"red\">Try moving cell focus up and down using the arrow keys.</font>"
   ]
  },
  {
   "cell_type": "markdown",
   "metadata": {},
   "source": [
    "## Markdown\n",
    "\n",
    "Markdown cells can be edited by double-clicking them. If you double-click a Markdown cell, it will change in appearance (you will see the actual Markdown code). To stop editing and to render the Markdown into nice looking text, simply press `Shift-Enter` again.\n",
    "\n",
    "Markdown is pretty cool. It can contain lists...\n",
    "- First item\n",
    "- Second item\n",
    "- Third item\n",
    "\n",
    "...$\\LaTeX$ equations and formulas (see [this notebook](https://nbviewer.jupyter.org/github/jupyter/notebook/blob/master/docs/source/examples/Notebook/Typesetting%20Equations.ipynb) for more examples...\n",
    "\n",
    "$$\\exp(i \\pi ) = -1$$\n",
    "\n",
    "...and graphics...\n",
    "\n",
    "![lobster telephone](https://a.wattpad.com/useravatar/LobsterTelephone831.128.197356.jpg)\n",
    "\n",
    "...and much more. If you want to learn more about Markdown, take a look at the [documentation](https://jupyter-notebook.readthedocs.io/en/stable/examples/Notebook/Working%20With%20Markdown%20Cells.html).\n",
    "\n",
    "<font color=\"red\">Double-click on this cell and inspect the Markdown. The press `Shift Enter` again to render it!</font>"
   ]
  },
  {
   "cell_type": "markdown",
   "metadata": {},
   "source": [
    "## Cell input and output\n",
    "\n",
    "By default the output from the last line evaluated is printed to the screen. Also take a look at [this notebook](https://nbviewer.jupyter.org/github/jupyter/notebook/blob/master/docs/source/examples/Notebook/Running%20Code.ipynb) for some more information about cell input and output.\n",
    "\n",
    "<font color=\"red\">Work through the cells below using `Shift-Enter` to execute them.</font>"
   ]
  },
  {
   "cell_type": "code",
   "execution_count": null,
   "metadata": {},
   "outputs": [],
   "source": [
    "1 + 2"
   ]
  },
  {
   "cell_type": "code",
   "execution_count": null,
   "metadata": {},
   "outputs": [],
   "source": [
    "1 + 1\n",
    "2 + 2"
   ]
  },
  {
   "cell_type": "markdown",
   "metadata": {},
   "source": [
    "You can refer to output of previous cell with `_` or the output of a specific cell using `_N` or `Out[N]`"
   ]
  },
  {
   "cell_type": "code",
   "execution_count": null,
   "metadata": {},
   "outputs": [],
   "source": [
    "_ + 2"
   ]
  },
  {
   "cell_type": "markdown",
   "metadata": {},
   "source": [
    "Similar to running a Python program line-by-line, variables defined in a previous cell execution are available for the following cell executions."
   ]
  },
  {
   "cell_type": "code",
   "execution_count": null,
   "metadata": {},
   "outputs": [],
   "source": [
    "print(a)"
   ]
  },
  {
   "cell_type": "code",
   "execution_count": null,
   "metadata": {},
   "outputs": [],
   "source": [
    "a = 42"
   ]
  },
  {
   "cell_type": "markdown",
   "metadata": {},
   "source": [
    "Now go back to the first cell and execute it again. `a` is now defined."
   ]
  },
  {
   "cell_type": "markdown",
   "metadata": {},
   "source": [
    "We can import Python packages and use them in the familiar way."
   ]
  },
  {
   "cell_type": "code",
   "execution_count": null,
   "metadata": {},
   "outputs": [],
   "source": [
    "import numpy\n",
    "numpy.random.random([4,4])"
   ]
  },
  {
   "cell_type": "code",
   "execution_count": null,
   "metadata": {},
   "outputs": [],
   "source": [
    "import matplotlib.pyplot as plt\n",
    "plt.plot( numpy.random.random([4,4]) )"
   ]
  },
  {
   "cell_type": "markdown",
   "metadata": {},
   "source": [
    "You can suppress storage and rendering of output with `;` (useful for large results like figures or pandas dataframes).\n",
    "\n",
    "<font color=\"red\">Try adding a `;` to the `plot` command above and re-execute the cell by pressing `Shift-Enter`</font>"
   ]
  },
  {
   "cell_type": "code",
   "execution_count": null,
   "metadata": {},
   "outputs": [],
   "source": [
    "1 + 2;"
   ]
  },
  {
   "cell_type": "markdown",
   "metadata": {},
   "source": [
    "A rich history is available with the `%history` magic. Documentation with `%history?`\n"
   ]
  },
  {
   "cell_type": "code",
   "execution_count": null,
   "metadata": {},
   "outputs": [],
   "source": [
    "%history -n 1-10"
   ]
  },
  {
   "cell_type": "markdown",
   "metadata": {},
   "source": [
    "## Modes\n",
    "\n",
    "There are two \"modes\" in Jupyter: \n",
    "- **command** mode \n",
    "- **edit** mode\n",
    "\n",
    "`Esc` puts you in command mode, where you can add or delete cells. etc.\n",
    "\n",
    "`Enter` puts you into edit mode, where you can edit the cells. \n",
    "\n",
    "It takes some getting used to, since pressing `Enter` twice may have unexpted effect of starting to modify the contents of cells. Regardless of the mode, `Shift-Enter` runs the current cell and focus changes to the next cell.\n",
    "\n",
    "<font color=\"red\">Try entering edit mode by pressing `Enter` and exiting edit mode by pressing `Shift-Enter`.</font>"
   ]
  },
  {
   "cell_type": "markdown",
   "metadata": {},
   "source": [
    "## Keyboard shortcuts\n",
    "\n",
    "`Esc` puts you in command mode, where you can navigate around your notebook with arrow keys.\n",
    "    \n",
    "While in command mode:\n",
    "        \n",
    "`a` to insert a new cell above the current cell \n",
    "\n",
    "`b` to insert a new cell below.\n",
    "\n",
    "`m` to change the current cell to Markdown \n",
    "\n",
    "`y` to change the current cell to code\n",
    "\n",
    "`dd`  (press the key twice) to delete the current cell\n",
    "\n",
    "`Enter` will take you into edit mode for the given cell.\n",
    "\n",
    "While in edit mode:\n",
    "\n",
    "`Ctrl-Shift -` will split the current cell into two from where your cursor is.    \n",
    "\n",
    "`Shift-Enter` runs the current cell and focus changes to next cell\n",
    "\n",
    "`Ctrl-Enter` runs the current cell without advancing\n",
    "\n",
    "`Option-Enter` runs the current cell and inserts a new cell below \n",
    "\n",
    "Other:\n",
    "\n",
    "`ii` (two i's) Interrupts the kernel\n",
    "\n",
    "`00` (two zeroes) Restarts the kernel\n",
    "\n",
    "`Command-Shift-C` brings you to the Command Palette, from where you can search for  commands."
   ]
  },
  {
   "cell_type": "markdown",
   "metadata": {},
   "source": [
    "<font color=\"red\">Try it out now. Suppose you wrote the following cell and then realized you forgot to define the `compute_sum` method. Click on the cell below and press `Ctrl-Enter` to execute it without advancing. Then press `Esc` to enter command mode and `a` to create a new cell above. Press `Enter` to enter edit mode and define the `compute_sum` method.</font>\n",
    "\n",
    "    def compute_sum(a, b):\n",
    "        return a + b\n",
    "    \n",
    "<font color=\"red\">Then press `Shift-Enter` twice to execute the two cells.</font>"
   ]
  },
  {
   "cell_type": "code",
   "execution_count": null,
   "metadata": {},
   "outputs": [],
   "source": [
    "a = 1.0\n",
    "b = 3.0\n",
    "compute_sum(a, b)"
   ]
  },
  {
   "cell_type": "markdown",
   "metadata": {},
   "source": [
    "## Variable namespaces\n",
    "You can look at variables that are in the current namespace with `%who`. More details with `%whos`."
   ]
  },
  {
   "cell_type": "code",
   "execution_count": null,
   "metadata": {},
   "outputs": [],
   "source": [
    "%who"
   ]
  },
  {
   "cell_type": "code",
   "execution_count": null,
   "metadata": {},
   "outputs": [],
   "source": [
    "%whos"
   ]
  },
  {
   "cell_type": "markdown",
   "metadata": {},
   "source": [
    "## Kernels\n",
    "\n",
    "A notebook kernel is a “computational engine” that executes the code contained in a Notebook document. The kernel associated with this notebook (ipython kernel), executes python code. Kernels for many other languages exist (official kernels).\n",
    "\n",
    "When you open a Notebook document, the associated kernel is automatically launched. When the notebook is executed (either cell-by-cell or with menu Cell -> Run All), the kernel performs the computation and produces the results.\n",
    "\n",
    "The kernel maintains state of your Jupyter notebook. In case you load a big chunk of data into a variable, the kernels maintains this data (and may consume considerable amounts of memory).\n",
    "\n",
    "In case you are trying to execute something that is taking too long, you may need to interrupt the kernel. You can do this using the `Kernel` &rarr; `Interrupt` menu option or by going to command mode with `Esc` and typing `i` twice.\n",
    "\n",
    "<font color=\"red\">Execute the code cell below which does an infinite loop. Then interrupt the kernel.</font>"
   ]
  },
  {
   "cell_type": "code",
   "execution_count": null,
   "metadata": {},
   "outputs": [],
   "source": [
    "while True:\n",
    "    pass"
   ]
  },
  {
   "cell_type": "markdown",
   "metadata": {},
   "source": [
    "Interrupting the kernel only stop the execution of the current cell. Previously defined variables or data is not lost."
   ]
  },
  {
   "cell_type": "code",
   "execution_count": null,
   "metadata": {},
   "outputs": [],
   "source": [
    "print(a)"
   ]
  },
  {
   "cell_type": "markdown",
   "metadata": {},
   "source": [
    "The state of your kernel may become corrupt or undefined and you may want to have a fresh start. This can be done by restarting the kernel using the `Kernel` &rarr; `Restart` or by typing `Esc` and then `0` twice.\n",
    "\n",
    "<font color=\"red\">Restart the kernel now. Check that `a` is no longer defined by re-excuting the cell above.</font>"
   ]
  },
  {
   "cell_type": "markdown",
   "metadata": {},
   "source": [
    "## JupyterLab specific features\n",
    "There are some new things you can do with JupyterLab that you can't do with Classic Notebook.\n",
    "- Drag and drop cells within a notebook to rearrange the notebook\n",
    "- Multiple views of a single notebook\n",
    "- Drag cells between notebooks to copy content\n",
    "- Collapse and expand code and output (blue collapser button on left of each cell)\n",
    "- Enable scrolling for long outputs (right click on a cell and select \"Enable Scrolling for Outputs\")\n",
    "- Create a new synchronized view of a cell's output\n",
    "- Improved tab completion\n",
    "\n",
    "<font color=\"red\">Try out tab completion by placing the cursor after `np.ra` pressing `Tab` in the cell below.</font>"
   ]
  },
  {
   "cell_type": "code",
   "execution_count": null,
   "metadata": {},
   "outputs": [],
   "source": [
    "import numpy as np\n",
    "np.ra"
   ]
  },
  {
   "cell_type": "markdown",
   "metadata": {},
   "source": [
    "## IPython Magics\n",
    "\n",
    "Magics are special built-in commands that begin with percentages signs `%`.\n",
    "- line magics (`%`): the arguments are all on one line \n",
    "- cell magics (`%%`): the entire cell are the arguments to the command  "
   ]
  },
  {
   "cell_type": "code",
   "execution_count": null,
   "metadata": {},
   "outputs": [],
   "source": [
    "%lsmagic #list available magics"
   ]
  },
  {
   "cell_type": "markdown",
   "metadata": {},
   "source": [
    "### Magics for timing code snippets\n",
    "Use `%time`, `%timeit`, `%%time`, and `%%timeit` magics to benchmark snippets of your code."
   ]
  },
  {
   "cell_type": "code",
   "execution_count": null,
   "metadata": {},
   "outputs": [],
   "source": [
    "# A function to simulate a million dice throws.\n",
    "import numpy as np\n",
    "from numpy.random import randint\n",
    "def one_million_dice():\n",
    "    return randint(low=1, high=7, size=1000000)"
   ]
  },
  {
   "cell_type": "code",
   "execution_count": null,
   "metadata": {},
   "outputs": [],
   "source": [
    "%time throws = one_million_dice()\n",
    "%time mean = np.mean(throws)\n",
    "mean"
   ]
  },
  {
   "cell_type": "code",
   "execution_count": null,
   "metadata": {},
   "outputs": [],
   "source": [
    "%timeit throws = one_million_dice()\n",
    "%timeit mean = np.mean(throws)"
   ]
  },
  {
   "cell_type": "code",
   "execution_count": null,
   "metadata": {},
   "outputs": [],
   "source": [
    "%%timeit\n",
    "throws = one_million_dice()\n",
    "mean = np.mean(throws)"
   ]
  },
  {
   "cell_type": "markdown",
   "metadata": {},
   "source": [
    "### Writing files\n",
    "Write the contents of the cell to a file with the `%%writefile` cell magic.\n",
    "\n",
    "The file will be overwritten unless the -a (–append) flag is specified."
   ]
  },
  {
   "cell_type": "code",
   "execution_count": null,
   "metadata": {},
   "outputs": [],
   "source": [
    "%%writefile code_snippet.py\n",
    "\n",
    "def some_code():\n",
    "    print('The quick brown fox jumps over the lazy hog')\n",
    "    return 42\n",
    "\n",
    "some_code()"
   ]
  },
  {
   "cell_type": "markdown",
   "metadata": {},
   "source": [
    "### Printing files\n",
    "Examine the contents of a file with the `%pycat` line magic. Similar to the cat utility, but will show Python syntax highlighting."
   ]
  },
  {
   "cell_type": "code",
   "execution_count": null,
   "metadata": {},
   "outputs": [],
   "source": [
    "%pycat code_snippet.py"
   ]
  },
  {
   "cell_type": "markdown",
   "metadata": {},
   "source": [
    "### Loading files \n",
    "The `%load` line magic will replace the contents of the cell with an external script. Run a second time to execute. "
   ]
  },
  {
   "cell_type": "code",
   "execution_count": null,
   "metadata": {},
   "outputs": [],
   "source": [
    "# %load code_snippet.py\n",
    "\n",
    "def some_code():\n",
    "    print('The quick brown fox jumps over the lazy hog')\n",
    "    return 42\n",
    "\n",
    "some_code()\n"
   ]
  },
  {
   "cell_type": "markdown",
   "metadata": {},
   "source": [
    "### Execute a file directly from the notebook\n",
    "Run a Python script or notebook with **%run** magic "
   ]
  },
  {
   "cell_type": "code",
   "execution_count": null,
   "metadata": {},
   "outputs": [],
   "source": [
    "%run code_snippet.py"
   ]
  },
  {
   "cell_type": "markdown",
   "metadata": {},
   "source": [
    "## Help\n",
    "### Help menu\n",
    "Inside the **Help** menu you’ll find handy links to the online documentation for common libraries including NumPy, SciPy, pandas, and Matplotlib."
   ]
  },
  {
   "cell_type": "markdown",
   "metadata": {},
   "source": [
    "### Question mark operator \n",
    "Global help from question mark itself: "
   ]
  },
  {
   "cell_type": "code",
   "execution_count": null,
   "metadata": {},
   "outputs": [],
   "source": [
    "?"
   ]
  },
  {
   "cell_type": "markdown",
   "metadata": {},
   "source": [
    "Typing `object_name?` will print details about objects including docstrings, function definitions..."
   ]
  },
  {
   "cell_type": "code",
   "execution_count": null,
   "metadata": {},
   "outputs": [],
   "source": [
    "import numpy as np\n",
    "np?"
   ]
  },
  {
   "cell_type": "markdown",
   "metadata": {},
   "source": [
    "### While you are typing...\n",
    "`Shift Tab` will show you the Docstring for the the object you have just typed in a code cell."
   ]
  },
  {
   "cell_type": "code",
   "execution_count": null,
   "metadata": {
    "scrolled": true
   },
   "outputs": [],
   "source": [
    "np."
   ]
  },
  {
   "cell_type": "markdown",
   "metadata": {},
   "source": [
    "### Wildcards\n",
    "If you remember that there was a function but you can't remember the exact name, you can use question mark and it will look through your namespace to find something that matches. "
   ]
  },
  {
   "cell_type": "code",
   "execution_count": null,
   "metadata": {},
   "outputs": [],
   "source": [
    "*int*?"
   ]
  },
  {
   "cell_type": "markdown",
   "metadata": {},
   "source": [
    "### Quickref"
   ]
  },
  {
   "cell_type": "code",
   "execution_count": null,
   "metadata": {},
   "outputs": [],
   "source": [
    "%quickref"
   ]
  },
  {
   "cell_type": "code",
   "execution_count": null,
   "metadata": {},
   "outputs": [],
   "source": []
  }
 ],
 "metadata": {
  "kernelspec": {
   "display_name": "Python 3",
   "language": "python",
   "name": "python3"
  },
  "language_info": {
   "codemirror_mode": {
    "name": "ipython",
    "version": 3
   },
   "file_extension": ".py",
   "mimetype": "text/x-python",
   "name": "python",
   "nbconvert_exporter": "python",
   "pygments_lexer": "ipython3",
   "version": "3.7.5"
  }
 },
 "nbformat": 4,
 "nbformat_minor": 4
}
